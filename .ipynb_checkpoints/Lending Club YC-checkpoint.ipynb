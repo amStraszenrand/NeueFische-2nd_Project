{
 "cells": [
  {
   "cell_type": "code",
   "execution_count": 356,
   "id": "664e2c54",
   "metadata": {},
   "outputs": [],
   "source": [
    "import pandas as pd\n",
    "import numpy as np\n",
    "import matplotlib.pyplot as plt\n",
    "import seaborn as sns\n",
    "#import sweetviz as vs"
   ]
  },
  {
   "cell_type": "code",
   "execution_count": 357,
   "id": "e25b2de6",
   "metadata": {},
   "outputs": [
    {
     "name": "stderr",
     "output_type": "stream",
     "text": [
      "/Users/yusufcan/.pyenv/versions/3.8.5/lib/python3.8/site-packages/IPython/core/interactiveshell.py:3169: DtypeWarning: Columns (0) have mixed types.Specify dtype option on import or set low_memory=False.\n",
      "  has_raised = await self.run_ast_nodes(code_ast.body, cell_name,\n"
     ]
    }
   ],
   "source": [
    "df_compl = pd.read_csv(\"Lending Club/loans_2007.csv\")"
   ]
  },
  {
   "cell_type": "code",
   "execution_count": 358,
   "id": "3c448ab7",
   "metadata": {},
   "outputs": [
    {
     "data": {
      "text/plain": [
       "id                               0\n",
       "member_id                        3\n",
       "loan_amnt                        3\n",
       "funded_amnt                      3\n",
       "funded_amnt_inv                  3\n",
       "term                             3\n",
       "int_rate                         3\n",
       "installment                      3\n",
       "grade                            3\n",
       "sub_grade                        3\n",
       "emp_title                     2629\n",
       "emp_length                    1115\n",
       "home_ownership                   3\n",
       "annual_inc                       7\n",
       "verification_status              3\n",
       "issue_d                          3\n",
       "loan_status                      3\n",
       "pymnt_plan                       3\n",
       "purpose                          3\n",
       "title                           16\n",
       "zip_code                         3\n",
       "addr_state                       3\n",
       "dti                              3\n",
       "delinq_2yrs                     32\n",
       "earliest_cr_line                32\n",
       "inq_last_6mths                  32\n",
       "open_acc                        32\n",
       "pub_rec                         32\n",
       "revol_bal                        3\n",
       "revol_util                      93\n",
       "total_acc                       32\n",
       "initial_list_status              3\n",
       "out_prncp                        3\n",
       "out_prncp_inv                    3\n",
       "total_pymnt                      3\n",
       "total_pymnt_inv                  3\n",
       "total_rec_prncp                  3\n",
       "total_rec_int                    3\n",
       "total_rec_late_fee               3\n",
       "recoveries                       3\n",
       "collection_recovery_fee          3\n",
       "last_pymnt_d                    86\n",
       "last_pymnt_amnt                  3\n",
       "last_credit_pull_d               7\n",
       "collections_12_mths_ex_med     148\n",
       "policy_code                      3\n",
       "application_type                 3\n",
       "acc_now_delinq                  32\n",
       "chargeoff_within_12_mths       148\n",
       "delinq_amnt                     32\n",
       "pub_rec_bankruptcies          1368\n",
       "tax_liens                      108\n",
       "dtype: int64"
      ]
     },
     "execution_count": 358,
     "metadata": {},
     "output_type": "execute_result"
    }
   ],
   "source": [
    "df_compl.isnull().sum()"
   ]
  },
  {
   "cell_type": "code",
   "execution_count": 359,
   "id": "b9a635f9",
   "metadata": {},
   "outputs": [
    {
     "name": "stdout",
     "output_type": "stream",
     "text": [
      "<class 'pandas.core.frame.DataFrame'>\n",
      "RangeIndex: 42538 entries, 0 to 42537\n",
      "Data columns (total 52 columns):\n",
      " #   Column                      Non-Null Count  Dtype  \n",
      "---  ------                      --------------  -----  \n",
      " 0   id                          42538 non-null  object \n",
      " 1   member_id                   42535 non-null  float64\n",
      " 2   loan_amnt                   42535 non-null  float64\n",
      " 3   funded_amnt                 42535 non-null  float64\n",
      " 4   funded_amnt_inv             42535 non-null  float64\n",
      " 5   term                        42535 non-null  object \n",
      " 6   int_rate                    42535 non-null  object \n",
      " 7   installment                 42535 non-null  float64\n",
      " 8   grade                       42535 non-null  object \n",
      " 9   sub_grade                   42535 non-null  object \n",
      " 10  emp_title                   39909 non-null  object \n",
      " 11  emp_length                  41423 non-null  object \n",
      " 12  home_ownership              42535 non-null  object \n",
      " 13  annual_inc                  42531 non-null  float64\n",
      " 14  verification_status         42535 non-null  object \n",
      " 15  issue_d                     42535 non-null  object \n",
      " 16  loan_status                 42535 non-null  object \n",
      " 17  pymnt_plan                  42535 non-null  object \n",
      " 18  purpose                     42535 non-null  object \n",
      " 19  title                       42522 non-null  object \n",
      " 20  zip_code                    42535 non-null  object \n",
      " 21  addr_state                  42535 non-null  object \n",
      " 22  dti                         42535 non-null  float64\n",
      " 23  delinq_2yrs                 42506 non-null  float64\n",
      " 24  earliest_cr_line            42506 non-null  object \n",
      " 25  inq_last_6mths              42506 non-null  float64\n",
      " 26  open_acc                    42506 non-null  float64\n",
      " 27  pub_rec                     42506 non-null  float64\n",
      " 28  revol_bal                   42535 non-null  float64\n",
      " 29  revol_util                  42445 non-null  object \n",
      " 30  total_acc                   42506 non-null  float64\n",
      " 31  initial_list_status         42535 non-null  object \n",
      " 32  out_prncp                   42535 non-null  float64\n",
      " 33  out_prncp_inv               42535 non-null  float64\n",
      " 34  total_pymnt                 42535 non-null  float64\n",
      " 35  total_pymnt_inv             42535 non-null  float64\n",
      " 36  total_rec_prncp             42535 non-null  float64\n",
      " 37  total_rec_int               42535 non-null  float64\n",
      " 38  total_rec_late_fee          42535 non-null  float64\n",
      " 39  recoveries                  42535 non-null  float64\n",
      " 40  collection_recovery_fee     42535 non-null  float64\n",
      " 41  last_pymnt_d                42452 non-null  object \n",
      " 42  last_pymnt_amnt             42535 non-null  float64\n",
      " 43  last_credit_pull_d          42531 non-null  object \n",
      " 44  collections_12_mths_ex_med  42390 non-null  float64\n",
      " 45  policy_code                 42535 non-null  float64\n",
      " 46  application_type            42535 non-null  object \n",
      " 47  acc_now_delinq              42506 non-null  float64\n",
      " 48  chargeoff_within_12_mths    42390 non-null  float64\n",
      " 49  delinq_amnt                 42506 non-null  float64\n",
      " 50  pub_rec_bankruptcies        41170 non-null  float64\n",
      " 51  tax_liens                   42430 non-null  float64\n",
      "dtypes: float64(30), object(22)\n",
      "memory usage: 16.9+ MB\n"
     ]
    }
   ],
   "source": [
    "df_compl.info()"
   ]
  },
  {
   "cell_type": "code",
   "execution_count": 360,
   "id": "faf888ea",
   "metadata": {},
   "outputs": [],
   "source": [
    "# wir elimierniern drei übeltäter die voll mit nans sind in der zeile\n",
    "rows_delete=df_compl[df_compl[\"loan_amnt\"].isnull()].index\n",
    "\n",
    "\n",
    "df_compl= df_compl.drop(rows_delete, axis=0)"
   ]
  },
  {
   "cell_type": "code",
   "execution_count": 392,
   "id": "0ac3385b",
   "metadata": {},
   "outputs": [
    {
     "data": {
      "text/plain": [
       "0        0\n",
       "1        1\n",
       "2        0\n",
       "3        0\n",
       "4        0\n",
       "        ..\n",
       "42531    0\n",
       "42532    0\n",
       "42533    0\n",
       "42534    0\n",
       "42535    0\n",
       "Name: loan_status, Length: 42535, dtype: int64"
      ]
     },
     "execution_count": 392,
     "metadata": {},
     "output_type": "execute_result"
    }
   ],
   "source": [
    "####################################### Data cleaning\n",
    "# emp_legth,home_ownership verdummien\n",
    "# interaktionterm von annual income und verifications_status\n",
    "# untersuchen ob zwischen 2007 und 2009 kreditausfälle stattgefunden haben durch die krise, varibale issue_d untersuchen\n",
    "# loan_status zu einer neuen kategorievariable machen mit : 0 = gezahlt, 1= ausstehend, 2= nicht in der lage\n",
    "# die, die wir rausgeschmissen haben, haben wir entweder nicht verstanden oder waren unbalancierte variablen \n",
    "# emp_length verdummien, da ca. 1100 fehlen\n",
    "\n",
    "\n",
    "columns_delete=[\"id\", \"member_id\", \"grade\", \"emp_title\",\"pymnt_plan\",\"title\",\"zip_code\", \"addr_state\",\"delinq_2yrs\",\"earliest_cr_line\",\"inq_last_6mths\",\"pub_rec\",\"revol_util\",\"total_acc\",\"initial_list_status\",\"out_prncp\",\"out_prncp_inv\",\"total_pymnt\",\"last_pymnt_amnt\",\"last_pymnt_d\",\"last_credit_pull_d\",\"collections_12_mths_ex_med\",\"policy_code\",\"application_type\",\"acc_now_delinq\",\"chargeoff_within_12_mths\",\"delinq_amnt\",\"tax_liens\"]\n",
    "\n",
    "y_columns=[\"loan_status\",\"sub_grade\"]\n",
    "\n",
    "\n"
   ]
  },
  {
   "cell_type": "code",
   "execution_count": 393,
   "id": "69482967",
   "metadata": {},
   "outputs": [
    {
     "data": {
      "text/plain": [
       "0                                               Fully Paid\n",
       "1                                              Charged Off\n",
       "2                                               Fully Paid\n",
       "3                                               Fully Paid\n",
       "4                                                  Current\n",
       "                               ...                        \n",
       "42531    Does not meet the credit policy. Status:Fully ...\n",
       "42532    Does not meet the credit policy. Status:Fully ...\n",
       "42533    Does not meet the credit policy. Status:Fully ...\n",
       "42534    Does not meet the credit policy. Status:Fully ...\n",
       "42535    Does not meet the credit policy. Status:Fully ...\n",
       "Name: loan_status, Length: 42535, dtype: object"
      ]
     },
     "execution_count": 393,
     "metadata": {},
     "output_type": "execute_result"
    }
   ],
   "source": []
  },
  {
   "cell_type": "code",
   "execution_count": 397,
   "id": "e445b34f",
   "metadata": {},
   "outputs": [
    {
     "data": {
      "text/plain": [
       "1    33136\n",
       "0     9399\n",
       "Name: loan_status, dtype: int64"
      ]
     },
     "execution_count": 397,
     "metadata": {},
     "output_type": "execute_result"
    }
   ],
   "source": [
    "# hier wird das y, also unser target bestimmt\n",
    "y_columns=[\"loan_status\",\"sub_grade\"]\n",
    "y_target=df_compl[y_columns]\n",
    "\n",
    "y_app= y_target[\"loan_status\"].apply(lambda y: 1 if y == y_01[0] else 0)\n",
    "\n",
    "\n",
    "\n"
   ]
  },
  {
   "cell_type": "code",
   "execution_count": 363,
   "id": "8e78625c",
   "metadata": {},
   "outputs": [
    {
     "data": {
      "text/plain": [
       "id                               0\n",
       "member_id                        0\n",
       "loan_amnt                        0\n",
       "funded_amnt                      0\n",
       "funded_amnt_inv                  0\n",
       "term                             0\n",
       "int_rate                         0\n",
       "installment                      0\n",
       "grade                            0\n",
       "sub_grade                        0\n",
       "emp_title                     2626\n",
       "emp_length                    1112\n",
       "home_ownership                   0\n",
       "annual_inc                       4\n",
       "verification_status              0\n",
       "issue_d                          0\n",
       "loan_status                      0\n",
       "pymnt_plan                       0\n",
       "purpose                          0\n",
       "title                           13\n",
       "zip_code                         0\n",
       "addr_state                       0\n",
       "dti                              0\n",
       "delinq_2yrs                     29\n",
       "earliest_cr_line                29\n",
       "inq_last_6mths                  29\n",
       "open_acc                        29\n",
       "pub_rec                         29\n",
       "revol_bal                        0\n",
       "revol_util                      90\n",
       "total_acc                       29\n",
       "initial_list_status              0\n",
       "out_prncp                        0\n",
       "out_prncp_inv                    0\n",
       "total_pymnt                      0\n",
       "total_pymnt_inv                  0\n",
       "total_rec_prncp                  0\n",
       "total_rec_int                    0\n",
       "total_rec_late_fee               0\n",
       "recoveries                       0\n",
       "collection_recovery_fee          0\n",
       "last_pymnt_d                    83\n",
       "last_pymnt_amnt                  0\n",
       "last_credit_pull_d               4\n",
       "collections_12_mths_ex_med     145\n",
       "policy_code                      0\n",
       "application_type                 0\n",
       "acc_now_delinq                  29\n",
       "chargeoff_within_12_mths       145\n",
       "delinq_amnt                     29\n",
       "pub_rec_bankruptcies          1365\n",
       "tax_liens                      105\n",
       "dtype: int64"
      ]
     },
     "execution_count": 363,
     "metadata": {},
     "output_type": "execute_result"
    }
   ],
   "source": [
    "df_compl.isnull().sum()"
   ]
  },
  {
   "cell_type": "code",
   "execution_count": 364,
   "id": "acb9ec50",
   "metadata": {},
   "outputs": [],
   "source": [
    "# weitere features werden gelöscht aufgrund correlations\n",
    "columns_corr=[\"funded_amnt\",\"funded_amnt_inv\",\"total_pymnt_inv\"]\n"
   ]
  },
  {
   "cell_type": "code",
   "execution_count": 365,
   "id": "345a91cb",
   "metadata": {},
   "outputs": [],
   "source": [
    "# weitere features werden gelöscht, da sie die selben infos tragen bzw. daraus werden unsere anderen variablen bestimmt\n",
    "columns_sameinfo=[\"total_rec_int\",\"total_rec_prncp\",\"total_rec_late_fee\", \"recoveries\",\"collection_recovery_fee\"]"
   ]
  },
  {
   "cell_type": "code",
   "execution_count": 366,
   "id": "799da2cb",
   "metadata": {},
   "outputs": [],
   "source": [
    "#spalten löschen\n",
    "df= df_compl.drop(columns_delete, axis=1).drop(y_colmuns, axis=1).drop(columns_corr, axis=1).drop(columns_sameinfo, axis=1)"
   ]
  },
  {
   "cell_type": "code",
   "execution_count": 367,
   "id": "05b14e43",
   "metadata": {},
   "outputs": [],
   "source": [
    "#### Hier werden die dateintypen, welche falsch sind korrigiert\n",
    "if type(df[\"int_rate\"][0])== type(\"str\"): \n",
    "    df[\"int_rate\"]=df[\"int_rate\"].str.strip(\"%\").astype(\"float\")\n",
    "else:\n",
    "    print(\"Already a float\")\n",
    "\n",
    "    \n",
    "\n",
    "    \n",
    "if type(df[\"term\"][0]) == type(\"str\"): \n",
    "    df[\"term\"]=df[\"term\"].str.strip(\"months\").astype(\"float\")\n",
    "else:\n",
    "    print(\"Already a float\")\n"
   ]
  },
  {
   "cell_type": "code",
   "execution_count": 368,
   "id": "0345c4de",
   "metadata": {},
   "outputs": [],
   "source": [
    "#### hier wird eine dateityp zum zeitdatentyp geändert\n",
    "df[\"issue_d\"]= pd.to_datetime(df[\"issue_d\"])"
   ]
  },
  {
   "cell_type": "code",
   "execution_count": 369,
   "id": "d98c8a00",
   "metadata": {},
   "outputs": [
    {
     "data": {
      "text/plain": [
       "0       2011-12-01\n",
       "1       2011-12-01\n",
       "2       2011-12-01\n",
       "3       2011-12-01\n",
       "4       2011-12-01\n",
       "           ...    \n",
       "42531   2007-06-01\n",
       "42532   2007-06-01\n",
       "42533   2007-06-01\n",
       "42534   2007-06-01\n",
       "42535   2007-06-01\n",
       "Name: issue_d, Length: 42535, dtype: datetime64[ns]"
      ]
     },
     "execution_count": 369,
     "metadata": {},
     "output_type": "execute_result"
    }
   ],
   "source": [
    "df[\"issue_d\"]"
   ]
  },
  {
   "cell_type": "code",
   "execution_count": 370,
   "id": "6c427de1",
   "metadata": {},
   "outputs": [],
   "source": [
    "import datetime\n",
    "\n",
    "df['issue_d'] = pd.to_datetime(df[\"issue_d\"], format=\"%Y-%M-%D\")\n",
    "df['issue_d'] = df['issue_d'].map(datetime.datetime.toordinal)\n"
   ]
  },
  {
   "cell_type": "code",
   "execution_count": 371,
   "id": "04d66e99",
   "metadata": {},
   "outputs": [],
   "source": [
    "# hier werden die fehlenden daten durch wahrscheinliche daten ersetzt (mean,median,blaa)\n",
    "\n",
    "df[\"open_acc\"].fillna(df[\"open_acc\"].median(),inplace=True)\n",
    "df[\"annual_inc\"].fillna(df[\"annual_inc\"].median().round(2),inplace=True)\n",
    "df[\"emp_length\"].fillna(\"no info at all\", inplace=True)\n",
    "df[\"pub_rec_bankruptcies\"].fillna(0.0, inplace=True)\n",
    "\n"
   ]
  },
  {
   "cell_type": "code",
   "execution_count": 372,
   "id": "b19f73bf",
   "metadata": {},
   "outputs": [
    {
     "data": {
      "text/plain": [
       "loan_amnt               0.176513\n",
       "term                    0.045604\n",
       "int_rate                0.024668\n",
       "installment             0.175336\n",
       "annual_inc              0.168078\n",
       "issue_d                 0.003994\n",
       "dti                     0.297877\n",
       "open_acc                1.000000\n",
       "revol_bal               0.257767\n",
       "pub_rec_bankruptcies    0.009570\n",
       "dtype: float64"
      ]
     },
     "execution_count": 372,
     "metadata": {},
     "output_type": "execute_result"
    }
   ],
   "source": [
    "df.corrwith(df[\"open_acc\"])"
   ]
  },
  {
   "cell_type": "code",
   "execution_count": 373,
   "id": "0071935d",
   "metadata": {},
   "outputs": [
    {
     "name": "stdout",
     "output_type": "stream",
     "text": [
      "(10, 10)\n"
     ]
    },
    {
     "data": {
      "text/plain": [
       "<AxesSubplot:>"
      ]
     },
     "execution_count": 373,
     "metadata": {},
     "output_type": "execute_result"
    },
    {
     "data": {
      "image/png": "[encoded data removed]",
      "text/plain": [
       "<Figure size 1440x1440 with 2 Axes>"
      ]
     },
     "metadata": {
      "needs_background": "light"
     },
     "output_type": "display_data"
    }
   ],
   "source": [
    "print(df.corr().shape)\n",
    "fig= plt.figure(figsize=(20,20))\n",
    "sns.heatmap(df.corr())"
   ]
  },
  {
   "cell_type": "code",
   "execution_count": 374,
   "id": "7d253757",
   "metadata": {},
   "outputs": [],
   "source": [
    "### hier werden dummies erstellt\n",
    "\n",
    "df_dummie=pd.get_dummies(df, drop_first=True)\n",
    "\n",
    "\n",
    "df_y_sub_grade= pd.get_dummies(y_target[\"sub_grade\"], drop_first=True)"
   ]
  },
  {
   "cell_type": "code",
   "execution_count": 386,
   "id": "c02c5802",
   "metadata": {},
   "outputs": [
    {
     "data": {
      "text/plain": [
       "0        0\n",
       "1        1\n",
       "2        0\n",
       "3        0\n",
       "4        0\n",
       "        ..\n",
       "42531    0\n",
       "42532    0\n",
       "42533    0\n",
       "42534    0\n",
       "42535    0\n",
       "Name: loan_status, Length: 42535, dtype: int64"
      ]
     },
     "execution_count": 386,
     "metadata": {},
     "output_type": "execute_result"
    }
   ],
   "source": [
    "y"
   ]
  },
  {
   "cell_type": "code",
   "execution_count": null,
   "id": "f1120e5c",
   "metadata": {},
   "outputs": [],
   "source": [
    "#########"
   ]
  },
  {
   "cell_type": "code",
   "execution_count": 408,
   "id": "3391f1c8",
   "metadata": {},
   "outputs": [],
   "source": [
    "######### Modell\n",
    "yy=y_target[\"loan_status\"]\n",
    "X= df_y_sub_grade\n",
    "\n",
    "y_01= [\"Fully Paid\", \"Charged Off\"]\n",
    "#y=y.apply(lambda y: 1 if y == y_01[1] else 0)\n",
    "y= yy.apply(lambda y: 1 if y == y_01[0] else 0)"
   ]
  },
  {
   "cell_type": "code",
   "execution_count": 409,
   "id": "85f6f95f",
   "metadata": {},
   "outputs": [
    {
     "data": {
      "text/plain": [
       "1    33136\n",
       "0     9399\n",
       "Name: loan_status, dtype: int64"
      ]
     },
     "execution_count": 409,
     "metadata": {},
     "output_type": "execute_result"
    }
   ],
   "source": [
    "y.value_counts()"
   ]
  },
  {
   "cell_type": "code",
   "execution_count": 391,
   "id": "e656877d",
   "metadata": {},
   "outputs": [],
   "source": [
    "from sklearn.ensemble import RandomForestClassifier\n",
    "from sklearn.tree import DecisionTreeClassifier\n",
    "from sklearn.svm import LinearSVC\n",
    "from sklearn.neighbors import KNeighborsClassifier\n",
    "from sklearn.linear_model import LogisticRegression\n",
    "from sklearn.preprocessing import StandardScaler\n",
    "from sklearn.model_selection import train_test_split\n",
    "from sklearn.metrics import confusion_matrix, accuracy_score, precision_score, recall_score, classification_report\n"
   ]
  },
  {
   "cell_type": "code",
   "execution_count": 424,
   "id": "bc50e965",
   "metadata": {},
   "outputs": [
    {
     "name": "stdout",
     "output_type": "stream",
     "text": [
      "Total number of records: 42535\n",
      "Individuals has paid her credit fully: 33136\n",
      "Individuals hasn't paid her credit: 9399\n",
      "Percentage of individuals that paid ther credit: 77.90%\n"
     ]
    }
   ],
   "source": [
    "###### Naiv-estimator\n",
    "\n",
    "\n",
    "# TODO: Total number of records\n",
    "n_records = len(X)\n",
    "\n",
    "# TODO: Number of records where individual's income is more than $50,000\n",
    "fully_paid = y.sum()\n",
    "\n",
    "# TODO: Number of records where individual's income is at most $50,000\n",
    "charged_off = n_records - fully_paid\n",
    "\n",
    "# TODO: Percentage of individuals whose income is more than $50,000\n",
    "greater_percent = 100 * fully_paid / n_records\n",
    "\n",
    "# Print the results\n",
    "print (\"Total number of records: {}\".format(n_records))\n",
    "print (\"Individuals has paid her credit fully: {}\".format(fully_paid))\n",
    "print (\"Individuals hasn't paid her credit: {}\".format(charged_off))\n",
    "print (\"Percentage of individuals that paid ther credit: {:.2f}%\".format(greater_percent))"
   ]
  },
  {
   "cell_type": "code",
   "execution_count": 422,
   "id": "8985171c",
   "metadata": {},
   "outputs": [
    {
     "data": {
      "text/plain": [
       "33136"
      ]
     },
     "execution_count": 422,
     "metadata": {},
     "output_type": "execute_result"
    }
   ],
   "source": [
    "y.sum()"
   ]
  },
  {
   "cell_type": "code",
   "execution_count": 410,
   "id": "16c4dd8b",
   "metadata": {},
   "outputs": [],
   "source": [
    "#Split into train and test\n",
    "\n",
    "X_train, X_test, y_train, y_test= train_test_split(X, y, test_size = 0.4, random_state = 70, stratify= y)"
   ]
  },
  {
   "cell_type": "code",
   "execution_count": 411,
   "id": "d904756e",
   "metadata": {},
   "outputs": [
    {
     "data": {
      "text/plain": [
       "LogisticRegression(max_iter=10000)"
      ]
     },
     "execution_count": 411,
     "metadata": {},
     "output_type": "execute_result"
    }
   ],
   "source": [
    "####fit von log reg\n",
    "\n",
    "lr = LogisticRegression(max_iter=10000)\n",
    "lr.fit(X_train, y_train)"
   ]
  },
  {
   "cell_type": "code",
   "execution_count": 327,
   "id": "b770252f",
   "metadata": {},
   "outputs": [],
   "source": [
    "#print(lr.coef_);\n",
    "#print(lr.intercept_);"
   ]
  },
  {
   "cell_type": "code",
   "execution_count": 412,
   "id": "a6c207cd",
   "metadata": {},
   "outputs": [],
   "source": [
    "### predic\n",
    "\n",
    "y_pred = lr.predict(X_test)"
   ]
  },
  {
   "cell_type": "code",
   "execution_count": 413,
   "id": "f48d5ba6",
   "metadata": {},
   "outputs": [
    {
     "name": "stdout",
     "output_type": "stream",
     "text": [
      "[[  134  3626]\n",
      " [   93 13161]]\n",
      "              precision    recall  f1-score   support\n",
      "\n",
      "           0       0.59      0.04      0.07      3760\n",
      "           1       0.78      0.99      0.88     13254\n",
      "\n",
      "    accuracy                           0.78     17014\n",
      "   macro avg       0.69      0.51      0.47     17014\n",
      "weighted avg       0.74      0.78      0.70     17014\n",
      "\n"
     ]
    },
    {
     "ename": "TypeError",
     "evalue": "accuracy_score() missing 1 required positional argument: 'y_pred'",
     "output_type": "error",
     "traceback": [
      "\u001b[0;31m---------------------------------------------------------------------------\u001b[0m",
      "\u001b[0;31mTypeError\u001b[0m                                 Traceback (most recent call last)",
      "\u001b[0;32m<ipython-input-413-032530678c22>\u001b[0m in \u001b[0;36m<module>\u001b[0;34m\u001b[0m\n\u001b[1;32m      3\u001b[0m \u001b[0mcp\u001b[0m\u001b[0;34m=\u001b[0m \u001b[0mclassification_report\u001b[0m\u001b[0;34m(\u001b[0m\u001b[0my_test\u001b[0m\u001b[0;34m,\u001b[0m\u001b[0my_pred\u001b[0m\u001b[0;34m)\u001b[0m\u001b[0;34m\u001b[0m\u001b[0;34m\u001b[0m\u001b[0m\n\u001b[1;32m      4\u001b[0m \u001b[0mprint\u001b[0m\u001b[0;34m(\u001b[0m\u001b[0mcp\u001b[0m\u001b[0;34m)\u001b[0m\u001b[0;34m\u001b[0m\u001b[0;34m\u001b[0m\u001b[0m\n\u001b[0;32m----> 5\u001b[0;31m \u001b[0macs\u001b[0m\u001b[0;34m=\u001b[0m\u001b[0maccuracy_score\u001b[0m\u001b[0;34m(\u001b[0m\u001b[0;34m(\u001b[0m\u001b[0my_test\u001b[0m\u001b[0;34m,\u001b[0m\u001b[0my_pred\u001b[0m\u001b[0;34m)\u001b[0m\u001b[0;34m)\u001b[0m\u001b[0;34m\u001b[0m\u001b[0;34m\u001b[0m\u001b[0m\n\u001b[0m\u001b[1;32m      6\u001b[0m \u001b[0mprint\u001b[0m\u001b[0;34m(\u001b[0m\u001b[0macs\u001b[0m\u001b[0;34m)\u001b[0m\u001b[0;34m\u001b[0m\u001b[0;34m\u001b[0m\u001b[0m\n",
      "\u001b[0;32m~/.pyenv/versions/3.8.5/lib/python3.8/site-packages/sklearn/utils/validation.py\u001b[0m in \u001b[0;36minner_f\u001b[0;34m(*args, **kwargs)\u001b[0m\n\u001b[1;32m     61\u001b[0m             \u001b[0mextra_args\u001b[0m \u001b[0;34m=\u001b[0m \u001b[0mlen\u001b[0m\u001b[0;34m(\u001b[0m\u001b[0margs\u001b[0m\u001b[0;34m)\u001b[0m \u001b[0;34m-\u001b[0m \u001b[0mlen\u001b[0m\u001b[0;34m(\u001b[0m\u001b[0mall_args\u001b[0m\u001b[0;34m)\u001b[0m\u001b[0;34m\u001b[0m\u001b[0;34m\u001b[0m\u001b[0m\n\u001b[1;32m     62\u001b[0m             \u001b[0;32mif\u001b[0m \u001b[0mextra_args\u001b[0m \u001b[0;34m<=\u001b[0m \u001b[0;36m0\u001b[0m\u001b[0;34m:\u001b[0m\u001b[0;34m\u001b[0m\u001b[0;34m\u001b[0m\u001b[0m\n\u001b[0;32m---> 63\u001b[0;31m                 \u001b[0;32mreturn\u001b[0m \u001b[0mf\u001b[0m\u001b[0;34m(\u001b[0m\u001b[0;34m*\u001b[0m\u001b[0margs\u001b[0m\u001b[0;34m,\u001b[0m \u001b[0;34m**\u001b[0m\u001b[0mkwargs\u001b[0m\u001b[0;34m)\u001b[0m\u001b[0;34m\u001b[0m\u001b[0;34m\u001b[0m\u001b[0m\n\u001b[0m\u001b[1;32m     64\u001b[0m \u001b[0;34m\u001b[0m\u001b[0m\n\u001b[1;32m     65\u001b[0m             \u001b[0;31m# extra_args > 0\u001b[0m\u001b[0;34m\u001b[0m\u001b[0;34m\u001b[0m\u001b[0;34m\u001b[0m\u001b[0m\n",
      "\u001b[0;31mTypeError\u001b[0m: accuracy_score() missing 1 required positional argument: 'y_pred'"
     ]
    }
   ],
   "source": [
    "cm = confusion_matrix(y_test,y_pred)\n",
    "print(cm)\n",
    "cp= classification_report(y_test,y_pred)\n",
    "print(cp)\n",
    "acs=accuracy_score((y_test,y_pred))\n",
    "print(acs)"
   ]
  },
  {
   "cell_type": "code",
   "execution_count": 311,
   "id": "98df33b9",
   "metadata": {},
   "outputs": [
    {
     "data": {
      "text/plain": [
       "<function print>"
      ]
     },
     "execution_count": 311,
     "metadata": {},
     "output_type": "execute_result"
    }
   ],
   "source": []
  },
  {
   "cell_type": "code",
   "execution_count": null,
   "id": "6f13bf3a",
   "metadata": {},
   "outputs": [],
   "source": []
  }
 ],
 "metadata": {
  "kernelspec": {
   "display_name": "Python 3",
   "language": "python",
   "name": "python3"
  },
  "language_info": {
   "codemirror_mode": {
    "name": "ipython",
    "version": 3
   },
   "file_extension": ".py",
   "mimetype": "text/x-python",
   "name": "python",
   "nbconvert_exporter": "python",
   "pygments_lexer": "ipython3",
   "version": "3.8.5"
  }
 },
 "nbformat": 4,
 "nbformat_minor": 5
}
