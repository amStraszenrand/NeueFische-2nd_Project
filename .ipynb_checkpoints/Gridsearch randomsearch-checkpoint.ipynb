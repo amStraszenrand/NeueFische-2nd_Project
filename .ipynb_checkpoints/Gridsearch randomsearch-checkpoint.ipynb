{
 "cells": [
  {
   "cell_type": "code",
   "execution_count": 8,
   "id": "7dd9afd3",
   "metadata": {},
   "outputs": [
    {
     "name": "stdout",
     "output_type": "stream",
     "text": [
      "no stored variable or alias score_print\n"
     ]
    }
   ],
   "source": [
    "import pandas as pd\n",
    "import numpy as np\n",
    "import matplotlib.pyplot as plt\n",
    "import seaborn as sns\n",
    "from sklearn import svm\n",
    "from sklearn.model_selection import GridSearchCV, RandomizedSearchCV\n",
    "\n",
    "%store -r X_train X_test y_test y_train score_print\n",
    "\n",
    "from sklearn import svm\n",
    "\n",
    "\n",
    "\n",
    "from sklearn.ensemble import RandomForestClassifier\n",
    "from sklearn.tree import DecisionTreeClassifier\n",
    "from sklearn.svm import LinearSVC\n",
    "from sklearn.neighbors import KNeighborsClassifier\n",
    "from sklearn.linear_model import LogisticRegression\n",
    "from sklearn.preprocessing import StandardScaler\n",
    "from sklearn.model_selection import train_test_split\n",
    "from sklearn.metrics import confusion_matrix, accuracy_score, precision_score, recall_score, classification_report"
   ]
  },
  {
   "cell_type": "code",
   "execution_count": 11,
   "id": "d1f71c41",
   "metadata": {},
   "outputs": [],
   "source": [
    "def score_print(y,y_pred):\n",
    "    \n",
    "    cm = confusion_matrix(y,y_pred)\n",
    "    print(cm)\n",
    "    cp= classification_report(y,y_pred)\n",
    "    print(cp)"
   ]
  },
  {
   "cell_type": "code",
   "execution_count": 4,
   "id": "c16708c6",
   "metadata": {},
   "outputs": [],
   "source": [
    "##########GridSearchCV\n"
   ]
  },
  {
   "cell_type": "code",
   "execution_count": null,
   "id": "9db8426a",
   "metadata": {},
   "outputs": [
    {
     "name": "stdout",
     "output_type": "stream",
     "text": [
      "Fitting 5 folds for each of 5 candidates, totalling 25 fits\n"
     ]
    }
   ],
   "source": [
    "# Defining parameter grid (as dictionary)\n",
    "param_grid = {\"n_neighbors\" : range(5,15,2)\n",
    "              \n",
    "              \n",
    "             }\n",
    "knn=KNeighborsClassifier()\n",
    "# Instantiate gridsearch and define the metric to optimize \n",
    "gs = GridSearchCV(knn,param_grid,\n",
    "                  cv=5, verbose=5, n_jobs=-1)\n",
    "\n",
    "gs.fit(X_train,y_train)\n"
   ]
  },
  {
   "cell_type": "code",
   "execution_count": null,
   "id": "05219edb",
   "metadata": {},
   "outputs": [],
   "source": [
    "y_pred_gs=gs.predict(X_test)\n",
    "score_print(y_test,y_pred_gs)\n",
    "best_param=gs.best_params_"
   ]
  },
  {
   "cell_type": "code",
   "execution_count": null,
   "id": "d537b029",
   "metadata": {},
   "outputs": [],
   "source": [
    "best_param"
   ]
  },
  {
   "cell_type": "code",
   "execution_count": null,
   "id": "ab383223",
   "metadata": {},
   "outputs": [],
   "source": [
    "#### log reg"
   ]
  },
  {
   "cell_type": "code",
   "execution_count": 26,
   "id": "f613e2f3",
   "metadata": {},
   "outputs": [
    {
     "name": "stdout",
     "output_type": "stream",
     "text": [
      "Fitting 5 folds for each of 210 candidates, totalling 1050 fits\n"
     ]
    },
    {
     "name": "stderr",
     "output_type": "stream",
     "text": [
      "/Users/yusufcan/.pyenv/versions/3.8.5/lib/python3.8/site-packages/sklearn/model_selection/_search.py:922: UserWarning: One or more of the test scores are non-finite: [nan nan nan nan nan nan nan nan nan nan nan nan nan nan nan nan nan nan\n",
      " nan nan nan nan nan nan nan nan nan nan nan nan nan nan nan nan nan nan\n",
      " nan nan nan nan nan nan nan nan nan nan nan nan nan nan nan nan nan nan\n",
      " nan nan nan nan nan nan nan nan nan nan nan nan nan nan nan nan nan nan\n",
      " nan nan nan nan nan nan nan nan nan nan nan nan nan nan nan nan nan nan\n",
      " nan nan nan nan nan nan nan nan nan nan nan nan nan nan nan nan nan nan\n",
      " nan nan nan nan nan nan nan nan nan nan nan nan nan nan nan nan nan nan\n",
      " nan nan nan nan nan nan nan nan nan nan nan nan nan nan nan nan nan nan\n",
      " nan nan nan nan nan nan nan nan nan nan nan nan nan nan nan nan nan nan\n",
      " nan nan nan nan nan nan nan nan nan nan nan nan nan nan nan nan nan nan\n",
      " nan nan nan nan nan nan nan nan nan nan nan nan nan nan nan nan nan nan\n",
      " nan nan nan nan nan nan nan nan nan nan nan nan]\n",
      "  warnings.warn(\n"
     ]
    },
    {
     "ename": "ValueError",
     "evalue": "Solver lbfgs supports only 'l2' or 'none' penalties, got l1 penalty.",
     "output_type": "error",
     "traceback": [
      "\u001b[0;31m---------------------------------------------------------------------------\u001b[0m",
      "\u001b[0;31mValueError\u001b[0m                                Traceback (most recent call last)",
      "\u001b[0;32m<ipython-input-26-a12e0e48096e>\u001b[0m in \u001b[0;36m<module>\u001b[0;34m\u001b[0m\n\u001b[1;32m     12\u001b[0m                   cv=5, verbose=5, n_jobs=-1)\n\u001b[1;32m     13\u001b[0m \u001b[0;34m\u001b[0m\u001b[0m\n\u001b[0;32m---> 14\u001b[0;31m \u001b[0mgs\u001b[0m\u001b[0;34m.\u001b[0m\u001b[0mfit\u001b[0m\u001b[0;34m(\u001b[0m\u001b[0mX_train\u001b[0m\u001b[0;34m,\u001b[0m\u001b[0my_train\u001b[0m\u001b[0;34m)\u001b[0m\u001b[0;34m\u001b[0m\u001b[0;34m\u001b[0m\u001b[0m\n\u001b[0m",
      "\u001b[0;32m~/.pyenv/versions/3.8.5/lib/python3.8/site-packages/sklearn/utils/validation.py\u001b[0m in \u001b[0;36minner_f\u001b[0;34m(*args, **kwargs)\u001b[0m\n\u001b[1;32m     61\u001b[0m             \u001b[0mextra_args\u001b[0m \u001b[0;34m=\u001b[0m \u001b[0mlen\u001b[0m\u001b[0;34m(\u001b[0m\u001b[0margs\u001b[0m\u001b[0;34m)\u001b[0m \u001b[0;34m-\u001b[0m \u001b[0mlen\u001b[0m\u001b[0;34m(\u001b[0m\u001b[0mall_args\u001b[0m\u001b[0;34m)\u001b[0m\u001b[0;34m\u001b[0m\u001b[0;34m\u001b[0m\u001b[0m\n\u001b[1;32m     62\u001b[0m             \u001b[0;32mif\u001b[0m \u001b[0mextra_args\u001b[0m \u001b[0;34m<=\u001b[0m \u001b[0;36m0\u001b[0m\u001b[0;34m:\u001b[0m\u001b[0;34m\u001b[0m\u001b[0;34m\u001b[0m\u001b[0m\n\u001b[0;32m---> 63\u001b[0;31m                 \u001b[0;32mreturn\u001b[0m \u001b[0mf\u001b[0m\u001b[0;34m(\u001b[0m\u001b[0;34m*\u001b[0m\u001b[0margs\u001b[0m\u001b[0;34m,\u001b[0m \u001b[0;34m**\u001b[0m\u001b[0mkwargs\u001b[0m\u001b[0;34m)\u001b[0m\u001b[0;34m\u001b[0m\u001b[0;34m\u001b[0m\u001b[0m\n\u001b[0m\u001b[1;32m     64\u001b[0m \u001b[0;34m\u001b[0m\u001b[0m\n\u001b[1;32m     65\u001b[0m             \u001b[0;31m# extra_args > 0\u001b[0m\u001b[0;34m\u001b[0m\u001b[0;34m\u001b[0m\u001b[0;34m\u001b[0m\u001b[0m\n",
      "\u001b[0;32m~/.pyenv/versions/3.8.5/lib/python3.8/site-packages/sklearn/model_selection/_search.py\u001b[0m in \u001b[0;36mfit\u001b[0;34m(self, X, y, groups, **fit_params)\u001b[0m\n\u001b[1;32m    878\u001b[0m             \u001b[0mrefit_start_time\u001b[0m \u001b[0;34m=\u001b[0m \u001b[0mtime\u001b[0m\u001b[0;34m.\u001b[0m\u001b[0mtime\u001b[0m\u001b[0;34m(\u001b[0m\u001b[0;34m)\u001b[0m\u001b[0;34m\u001b[0m\u001b[0;34m\u001b[0m\u001b[0m\n\u001b[1;32m    879\u001b[0m             \u001b[0;32mif\u001b[0m \u001b[0my\u001b[0m \u001b[0;32mis\u001b[0m \u001b[0;32mnot\u001b[0m \u001b[0;32mNone\u001b[0m\u001b[0;34m:\u001b[0m\u001b[0;34m\u001b[0m\u001b[0;34m\u001b[0m\u001b[0m\n\u001b[0;32m--> 880\u001b[0;31m                 \u001b[0mself\u001b[0m\u001b[0;34m.\u001b[0m\u001b[0mbest_estimator_\u001b[0m\u001b[0;34m.\u001b[0m\u001b[0mfit\u001b[0m\u001b[0;34m(\u001b[0m\u001b[0mX\u001b[0m\u001b[0;34m,\u001b[0m \u001b[0my\u001b[0m\u001b[0;34m,\u001b[0m \u001b[0;34m**\u001b[0m\u001b[0mfit_params\u001b[0m\u001b[0;34m)\u001b[0m\u001b[0;34m\u001b[0m\u001b[0;34m\u001b[0m\u001b[0m\n\u001b[0m\u001b[1;32m    881\u001b[0m             \u001b[0;32melse\u001b[0m\u001b[0;34m:\u001b[0m\u001b[0;34m\u001b[0m\u001b[0;34m\u001b[0m\u001b[0m\n\u001b[1;32m    882\u001b[0m                 \u001b[0mself\u001b[0m\u001b[0;34m.\u001b[0m\u001b[0mbest_estimator_\u001b[0m\u001b[0;34m.\u001b[0m\u001b[0mfit\u001b[0m\u001b[0;34m(\u001b[0m\u001b[0mX\u001b[0m\u001b[0;34m,\u001b[0m \u001b[0;34m**\u001b[0m\u001b[0mfit_params\u001b[0m\u001b[0;34m)\u001b[0m\u001b[0;34m\u001b[0m\u001b[0;34m\u001b[0m\u001b[0m\n",
      "\u001b[0;32m~/.pyenv/versions/3.8.5/lib/python3.8/site-packages/sklearn/linear_model/_logistic.py\u001b[0m in \u001b[0;36mfit\u001b[0;34m(self, X, y, sample_weight)\u001b[0m\n\u001b[1;32m   1304\u001b[0m         \u001b[0mThe\u001b[0m \u001b[0mSAGA\u001b[0m \u001b[0msolver\u001b[0m \u001b[0msupports\u001b[0m \u001b[0mboth\u001b[0m \u001b[0mfloat64\u001b[0m \u001b[0;32mand\u001b[0m \u001b[0mfloat32\u001b[0m \u001b[0mbit\u001b[0m \u001b[0marrays\u001b[0m\u001b[0;34m.\u001b[0m\u001b[0;34m\u001b[0m\u001b[0;34m\u001b[0m\u001b[0m\n\u001b[1;32m   1305\u001b[0m         \"\"\"\n\u001b[0;32m-> 1306\u001b[0;31m         \u001b[0msolver\u001b[0m \u001b[0;34m=\u001b[0m \u001b[0m_check_solver\u001b[0m\u001b[0;34m(\u001b[0m\u001b[0mself\u001b[0m\u001b[0;34m.\u001b[0m\u001b[0msolver\u001b[0m\u001b[0;34m,\u001b[0m \u001b[0mself\u001b[0m\u001b[0;34m.\u001b[0m\u001b[0mpenalty\u001b[0m\u001b[0;34m,\u001b[0m \u001b[0mself\u001b[0m\u001b[0;34m.\u001b[0m\u001b[0mdual\u001b[0m\u001b[0;34m)\u001b[0m\u001b[0;34m\u001b[0m\u001b[0;34m\u001b[0m\u001b[0m\n\u001b[0m\u001b[1;32m   1307\u001b[0m \u001b[0;34m\u001b[0m\u001b[0m\n\u001b[1;32m   1308\u001b[0m         \u001b[0;32mif\u001b[0m \u001b[0;32mnot\u001b[0m \u001b[0misinstance\u001b[0m\u001b[0;34m(\u001b[0m\u001b[0mself\u001b[0m\u001b[0;34m.\u001b[0m\u001b[0mC\u001b[0m\u001b[0;34m,\u001b[0m \u001b[0mnumbers\u001b[0m\u001b[0;34m.\u001b[0m\u001b[0mNumber\u001b[0m\u001b[0;34m)\u001b[0m \u001b[0;32mor\u001b[0m \u001b[0mself\u001b[0m\u001b[0;34m.\u001b[0m\u001b[0mC\u001b[0m \u001b[0;34m<\u001b[0m \u001b[0;36m0\u001b[0m\u001b[0;34m:\u001b[0m\u001b[0;34m\u001b[0m\u001b[0;34m\u001b[0m\u001b[0m\n",
      "\u001b[0;32m~/.pyenv/versions/3.8.5/lib/python3.8/site-packages/sklearn/linear_model/_logistic.py\u001b[0m in \u001b[0;36m_check_solver\u001b[0;34m(solver, penalty, dual)\u001b[0m\n\u001b[1;32m    441\u001b[0m \u001b[0;34m\u001b[0m\u001b[0m\n\u001b[1;32m    442\u001b[0m     \u001b[0;32mif\u001b[0m \u001b[0msolver\u001b[0m \u001b[0;32mnot\u001b[0m \u001b[0;32min\u001b[0m \u001b[0;34m[\u001b[0m\u001b[0;34m'liblinear'\u001b[0m\u001b[0;34m,\u001b[0m \u001b[0;34m'saga'\u001b[0m\u001b[0;34m]\u001b[0m \u001b[0;32mand\u001b[0m \u001b[0mpenalty\u001b[0m \u001b[0;32mnot\u001b[0m \u001b[0;32min\u001b[0m \u001b[0;34m(\u001b[0m\u001b[0;34m'l2'\u001b[0m\u001b[0;34m,\u001b[0m \u001b[0;34m'none'\u001b[0m\u001b[0;34m)\u001b[0m\u001b[0;34m:\u001b[0m\u001b[0;34m\u001b[0m\u001b[0;34m\u001b[0m\u001b[0m\n\u001b[0;32m--> 443\u001b[0;31m         raise ValueError(\"Solver %s supports only 'l2' or 'none' penalties, \"\n\u001b[0m\u001b[1;32m    444\u001b[0m                          \"got %s penalty.\" % (solver, penalty))\n\u001b[1;32m    445\u001b[0m     \u001b[0;32mif\u001b[0m \u001b[0msolver\u001b[0m \u001b[0;34m!=\u001b[0m \u001b[0;34m'liblinear'\u001b[0m \u001b[0;32mand\u001b[0m \u001b[0mdual\u001b[0m\u001b[0;34m:\u001b[0m\u001b[0;34m\u001b[0m\u001b[0;34m\u001b[0m\u001b[0m\n",
      "\u001b[0;31mValueError\u001b[0m: Solver lbfgs supports only 'l2' or 'none' penalties, got l1 penalty."
     ]
    }
   ],
   "source": [
    "# Defining parameter grid (as dictionary)\n",
    "param_grid = {\"max_iter\" : [500, 1000,1500 ,2000,3000],\n",
    "              \"penalty\": [\"l1\", \"l2\", \"elasticnet\"],\n",
    "              \"solver\":['lbfgs',\"liblinear\"],\n",
    "              \"C\": [1,2,3,4,5,10,15]\n",
    "              \n",
    "              \n",
    "             }\n",
    "lr=LogisticRegression()\n",
    "# Instantiate gridsearch and define the metric to optimize \n",
    "gs = GridSearchCV(lr,param_grid,scoring=\"f1\",\n",
    "                  cv=5, verbose=5, n_jobs=-1)\n",
    "\n",
    "gs.fit(X_train,y_train)"
   ]
  },
  {
   "cell_type": "code",
   "execution_count": 19,
   "id": "0651b869",
   "metadata": {},
   "outputs": [
    {
     "name": "stdout",
     "output_type": "stream",
     "text": [
      "[[  523  3237]\n",
      " [  384 12870]]\n",
      "              precision    recall  f1-score   support\n",
      "\n",
      "           0       0.58      0.14      0.22      3760\n",
      "           1       0.80      0.97      0.88     13254\n",
      "\n",
      "    accuracy                           0.79     17014\n",
      "   macro avg       0.69      0.56      0.55     17014\n",
      "weighted avg       0.75      0.79      0.73     17014\n",
      "\n"
     ]
    },
    {
     "data": {
      "text/plain": [
       "{'max_iter': 1000, 'penalty': 'l2'}"
      ]
     },
     "execution_count": 19,
     "metadata": {},
     "output_type": "execute_result"
    }
   ],
   "source": [
    "y_pred_gs=gs.predict(X_test)\n",
    "score_print(y_test,y_pred_gs)\n",
    "best_param=gs.best_params_\n",
    "best_param"
   ]
  },
  {
   "cell_type": "code",
   "execution_count": 16,
   "id": "b5536ecb",
   "metadata": {},
   "outputs": [
    {
     "data": {
      "text/plain": [
       "GridSearchCV(cv=5, estimator=LogisticRegression(), n_jobs=-1,\n",
       "             param_grid={'max_iter': [1000, 5000, 10000, 15000],\n",
       "                         'penalty': ['l1', 'l2', 'elasticnet']},\n",
       "             verbose=5)"
      ]
     },
     "execution_count": 16,
     "metadata": {},
     "output_type": "execute_result"
    }
   ],
   "source": []
  },
  {
   "cell_type": "code",
   "execution_count": 31,
   "id": "41569916",
   "metadata": {},
   "outputs": [
    {
     "name": "stdout",
     "output_type": "stream",
     "text": [
      "Fitting 5 folds for each of 50 candidates, totalling 250 fits\n"
     ]
    },
    {
     "name": "stderr",
     "output_type": "stream",
     "text": [
      "/Users/yusufcan/.pyenv/versions/3.8.5/lib/python3.8/site-packages/sklearn/model_selection/_search.py:922: UserWarning: One or more of the test scores are non-finite: [nan nan nan nan nan nan nan nan nan nan nan nan nan nan nan nan nan nan\n",
      " nan nan nan nan nan nan nan nan nan nan nan nan nan nan nan nan nan nan\n",
      " nan nan nan nan nan nan nan nan nan nan nan nan nan nan]\n",
      "  warnings.warn(\n"
     ]
    },
    {
     "data": {
      "text/plain": [
       "GridSearchCV(cv=5, estimator=RandomForestClassifier(), n_jobs=-1,\n",
       "             param_grid={'criterion': ['gini', 'entropy'],\n",
       "                         'max_depth': [1, 5, 10, 15, 20],\n",
       "                         'min_samples_split': [5, 6, 7, 8, 9]},\n",
       "             scoring='f1', verbose=5)"
      ]
     },
     "execution_count": 31,
     "metadata": {},
     "output_type": "execute_result"
    }
   ],
   "source": [
    "######RandomForestClassifier\n",
    "# Defining parameter grid (as dictionary)\n",
    "param_grid = {\"max_depth\" : [1, 5, 10, 15, 20],\n",
    "              \"min_samples_split\": [5,6,7,8,9],\n",
    "              \"criterion\": [\"gini\", \"entropy\"]\n",
    "              \n",
    "              \n",
    "             }\n",
    "rfc=RandomForestClassifier()\n",
    "# Instantiate gridsearch and define the metric to optimize \n",
    "gs = GridSearchCV(rfc,param_grid,scoring=\"f1\",\n",
    "                  cv=5, verbose=5, n_jobs=-1)\n",
    "\n",
    "gs.fit(X_train,y_train)"
   ]
  },
  {
   "cell_type": "code",
   "execution_count": 32,
   "id": "e5633b8e",
   "metadata": {},
   "outputs": [
    {
     "name": "stdout",
     "output_type": "stream",
     "text": [
      "[[2490   42    4    0    0    0    9]\n",
      " [ 111 1590  249    0  260  249  639]\n",
      " [   2 1087  228    0  218  250  401]\n",
      " [   3  574  181    0  248  220  278]\n",
      " [   2  140  153    0  180  262  112]\n",
      " [   1   27   35    0   70  139   53]\n",
      " [   3   13    6    0   15   54   36]]\n",
      "              precision    recall  f1-score   support\n",
      "\n",
      "           A       0.95      0.98      0.97      2545\n",
      "           B       0.46      0.51      0.48      3098\n",
      "           C       0.27      0.10      0.15      2186\n",
      "           D       0.00      0.00      0.00      1504\n",
      "           E       0.18      0.21      0.20       849\n",
      "           F       0.12      0.43      0.19       325\n",
      "           G       0.02      0.28      0.04       127\n",
      "\n",
      "    accuracy                           0.44     10634\n",
      "   macro avg       0.29      0.36      0.29     10634\n",
      "weighted avg       0.43      0.44      0.42     10634\n",
      "\n"
     ]
    },
    {
     "name": "stderr",
     "output_type": "stream",
     "text": [
      "/Users/yusufcan/.pyenv/versions/3.8.5/lib/python3.8/site-packages/sklearn/metrics/_classification.py:1248: UndefinedMetricWarning: Precision and F-score are ill-defined and being set to 0.0 in labels with no predicted samples. Use `zero_division` parameter to control this behavior.\n",
      "  _warn_prf(average, modifier, msg_start, len(result))\n",
      "/Users/yusufcan/.pyenv/versions/3.8.5/lib/python3.8/site-packages/sklearn/metrics/_classification.py:1248: UndefinedMetricWarning: Precision and F-score are ill-defined and being set to 0.0 in labels with no predicted samples. Use `zero_division` parameter to control this behavior.\n",
      "  _warn_prf(average, modifier, msg_start, len(result))\n",
      "/Users/yusufcan/.pyenv/versions/3.8.5/lib/python3.8/site-packages/sklearn/metrics/_classification.py:1248: UndefinedMetricWarning: Precision and F-score are ill-defined and being set to 0.0 in labels with no predicted samples. Use `zero_division` parameter to control this behavior.\n",
      "  _warn_prf(average, modifier, msg_start, len(result))\n"
     ]
    },
    {
     "data": {
      "text/plain": [
       "{'criterion': 'gini', 'max_depth': 1, 'min_samples_split': 5}"
      ]
     },
     "execution_count": 32,
     "metadata": {},
     "output_type": "execute_result"
    }
   ],
   "source": [
    "y_pred_gs=gs.predict(X_test)\n",
    "score_print(y_test,y_pred_gs)\n",
    "best_param=gs.best_params_\n",
    "best_param"
   ]
  },
  {
   "cell_type": "code",
   "execution_count": null,
   "id": "6134afdb",
   "metadata": {},
   "outputs": [],
   "source": [
    "###DecisionTreeClassifier"
   ]
  },
  {
   "cell_type": "code",
   "execution_count": 27,
   "id": "c1d80c4b",
   "metadata": {},
   "outputs": [
    {
     "name": "stdout",
     "output_type": "stream",
     "text": [
      "Fitting 5 folds for each of 588 candidates, totalling 2940 fits\n"
     ]
    },
    {
     "name": "stderr",
     "output_type": "stream",
     "text": [
      "/Users/yusufcan/.pyenv/versions/3.8.5/lib/python3.8/site-packages/sklearn/model_selection/_search.py:922: UserWarning: One or more of the test scores are non-finite: [       nan 0.87580116 0.87580116 0.87580116 0.87580116 0.87580116\n",
      " 0.87580116        nan 0.87580116 0.87580116 0.87580116 0.87580116\n",
      " 0.87580116 0.87580116        nan 0.87580116 0.87580116 0.87580116\n",
      " 0.87580116 0.87580116 0.87580116        nan 0.87580116 0.87580116\n",
      " 0.87580116 0.87580116 0.87580116 0.87580116        nan 0.87580116\n",
      " 0.87580116 0.87580116 0.87580116 0.87580116 0.87580116        nan\n",
      " 0.87580116 0.87580116 0.87580116 0.87580116 0.87580116 0.87580116\n",
      "        nan 0.87580116 0.87580116 0.87580116 0.87580116 0.87580116\n",
      " 0.87580116        nan 0.88160581 0.88158558 0.88158007 0.88155984\n",
      " 0.88160581 0.88160581        nan 0.88155984 0.88158007 0.88155984\n",
      " 0.88155984 0.88160581 0.88155984        nan 0.88155444 0.88155444\n",
      " 0.88153421 0.88158017 0.88153421 0.88155994        nan 0.88151396\n",
      " 0.88151396 0.88151396 0.88149373 0.88151396 0.88149373        nan\n",
      " 0.88148818 0.88150841 0.88148818 0.88150841 0.88148818 0.88150841\n",
      "        nan 0.88142919 0.88142919 0.88142919 0.88142919 0.88142919\n",
      " 0.88142919        nan 0.88149803 0.88149803 0.88149803 0.88149803\n",
      " 0.88149803 0.88149803        nan 0.87413687 0.87446658 0.87410581\n",
      " 0.87385682 0.87356254 0.87387877        nan 0.87404776 0.87382932\n",
      " 0.87431283 0.87404485 0.87387794 0.87391589        nan 0.87411115\n",
      " 0.8739533  0.87393642 0.87402607 0.87368939 0.87359248        nan\n",
      " 0.87296823 0.8727451  0.87299809 0.87287505 0.87319292 0.8733395\n",
      "        nan 0.87242804 0.87232932 0.87246876 0.87236731 0.87257641\n",
      " 0.87232348        nan 0.87319563 0.87325488 0.87318355 0.87333681\n",
      " 0.87317535 0.87340408        nan 0.87393337 0.8739072  0.87381032\n",
      " 0.87386024 0.87389508 0.87384831        nan 0.85325189 0.85252186\n",
      " 0.8528661  0.85237441 0.85144342 0.85242209        nan 0.84944131\n",
      " 0.84946418 0.84860755 0.84870901 0.84885283 0.85153437        nan\n",
      " 0.84933289 0.84925689 0.85006113 0.84995159 0.84957771 0.85127814\n",
      "        nan 0.8465242  0.84705218 0.84714285 0.84711188 0.84942897\n",
      " 0.85050035        nan 0.85040658 0.85036798 0.85110419 0.85044547\n",
      " 0.84998666 0.84997282        nan 0.85457093 0.85436271 0.85439532\n",
      " 0.8540639  0.8542162  0.85372423        nan 0.86231071 0.8617597\n",
      " 0.86207904 0.86238577 0.86215436 0.86199059        nan 0.83442888\n",
      " 0.83219923 0.83075695 0.83303092 0.8310401  0.83514147        nan\n",
      " 0.82299973 0.82429048 0.8236881  0.82198709 0.82698677 0.83368446\n",
      "        nan 0.83030939 0.82940374 0.82826422 0.82989869 0.83126311\n",
      " 0.83565248        nan 0.82622466 0.82719635 0.8269727  0.82658564\n",
      " 0.83139123 0.83673088        nan 0.83442584 0.83410009 0.83431801\n",
      " 0.83476006 0.83385458 0.83707168        nan 0.84533888 0.8453092\n",
      " 0.84497926 0.84516781 0.84541381 0.84524843        nan 0.85745071\n",
      " 0.85781543 0.85777316 0.85765801 0.85747177 0.85761597        nan\n",
      " 0.82158844 0.8209697  0.81875397 0.81885067 0.81958971 0.824221\n",
      "        nan 0.81158635 0.81155466 0.8135964  0.811106   0.81595151\n",
      " 0.82510695        nan 0.81916396 0.81851923 0.82018635 0.81869135\n",
      " 0.82134421 0.82737352        nan 0.81771771 0.8180855  0.8182322\n",
      " 0.81791286 0.82339832 0.82919634        nan 0.82833697 0.82845759\n",
      " 0.8284323  0.82818655 0.82841518 0.83166456        nan 0.84309141\n",
      " 0.84380452 0.84350795 0.84348072 0.84357716 0.84368157        nan\n",
      " 0.85766974 0.85707765 0.85712491 0.85740751 0.85781463 0.85708392\n",
      "        nan 0.87580116 0.87580116 0.87580116 0.87580116 0.87580116\n",
      " 0.87580116        nan 0.87580116 0.87580116 0.87580116 0.87580116\n",
      " 0.87580116 0.87580116        nan 0.87580116 0.87580116 0.87580116\n",
      " 0.87580116 0.87580116 0.87580116        nan 0.87580116 0.87580116\n",
      " 0.87580116 0.87580116 0.87580116 0.87580116        nan 0.87580116\n",
      " 0.87580116 0.87580116 0.87580116 0.87580116 0.87580116        nan\n",
      " 0.87580116 0.87580116 0.87580116 0.87580116 0.87580116 0.87580116\n",
      "        nan 0.87580116 0.87580116 0.87580116 0.87580116 0.87580116\n",
      " 0.87580116        nan 0.8820997  0.88205381 0.88215091 0.88210503\n",
      " 0.88205381 0.88215091        nan 0.8820997  0.88205381 0.88210503\n",
      " 0.88215091 0.88205381 0.88215091        nan 0.88204835 0.88200246\n",
      " 0.88200246 0.88205367 0.88209956 0.88205367        nan 0.88203347\n",
      " 0.88207935 0.88207935 0.88203347 0.88203347 0.88203347        nan\n",
      " 0.88207935 0.88203347 0.88207935 0.88203347 0.88203347 0.88203347\n",
      "        nan 0.88205382 0.88205382 0.88205382 0.88205382 0.88205382\n",
      " 0.88205382        nan 0.88193029 0.88193029 0.88193029 0.88193029\n",
      " 0.88193029 0.88193029        nan 0.8743794  0.87381716 0.87457261\n",
      " 0.8737514  0.87423501 0.87426244        nan 0.87369662 0.87440785\n",
      " 0.87448027 0.87397189 0.87385134 0.87369414        nan 0.87469512\n",
      " 0.87429577 0.87471683 0.87465949 0.87492683 0.8738005         nan\n",
      " 0.87336226 0.87387791 0.87303539 0.8732363  0.87328876 0.87288461\n",
      "        nan 0.87194481 0.87192301 0.87211203 0.87189403 0.8720289\n",
      " 0.87283426        nan 0.87173484 0.8717436  0.87163035 0.8717645\n",
      " 0.87151804 0.87168408        nan 0.87317427 0.87329759 0.87324742\n",
      " 0.87319451 0.87326172 0.87318872        nan 0.85404716 0.85355172\n",
      " 0.85368989 0.853453   0.85291492 0.85446698        nan 0.85136864\n",
      " 0.85154537 0.85152357 0.85085513 0.85295863 0.85465316        nan\n",
      " 0.8523563  0.85216222 0.85266378 0.85260954 0.85276286 0.85373506\n",
      "        nan 0.85014712 0.85007426 0.850341   0.84980785 0.85094411\n",
      " 0.85184917        nan 0.85077169 0.8509195  0.85008299 0.85114305\n",
      " 0.85133857 0.85191945        nan 0.85310002 0.85303775 0.85340497\n",
      " 0.85323934 0.85305148 0.8530085         nan 0.86054763 0.86032179\n",
      " 0.86042431 0.86008514 0.86046621 0.86058234        nan 0.83631442\n",
      " 0.83473594 0.83438338 0.83393388 0.8317163  0.83600183        nan\n",
      " 0.82814887 0.82703736 0.82725162 0.82859656 0.83028417 0.83483694\n",
      "        nan 0.83317711 0.83326889 0.83381096 0.83255692 0.83221651\n",
      " 0.83691604        nan 0.82856088 0.82896882 0.82891491 0.82828904\n",
      " 0.83126267 0.83527198        nan 0.83159768 0.8303118  0.83030716\n",
      " 0.83016545 0.83075391 0.8332859         nan 0.84064086 0.84098602\n",
      " 0.84125716 0.84104137 0.84154248 0.84103219        nan 0.85493055\n",
      " 0.85484857 0.85470248 0.85459534 0.8548744  0.85492256        nan\n",
      " 0.82639976 0.82333892 0.82114876 0.81947841 0.82069167 0.82333873\n",
      "        nan 0.81392988 0.81523825 0.81609078 0.81419661 0.81938403\n",
      " 0.82458208        nan 0.82170641 0.8207818  0.82196752 0.82089155\n",
      " 0.82168237 0.82520085        nan 0.81680448 0.81711581 0.81644282\n",
      " 0.81705569 0.82028096 0.82485133        nan 0.82099369 0.82155151\n",
      " 0.82225322 0.82224074 0.82137747 0.82329578        nan 0.83742148\n",
      " 0.83694441 0.8378673  0.83701586 0.83728248 0.83690314        nan\n",
      " 0.85363429 0.85342113 0.85374098 0.85387047 0.85374493 0.85364722]\n",
      "  warnings.warn(\n"
     ]
    },
    {
     "data": {
      "text/plain": [
       "GridSearchCV(cv=5, estimator=DecisionTreeClassifier(), n_jobs=-1,\n",
       "             param_grid={'criterion': ['gini', 'entropy'],\n",
       "                         'max_depth': [1, 5, 10, 15, 20, 25],\n",
       "                         'min_samples_leaf': [1, 2, 3, 4, 5, 10, 15],\n",
       "                         'min_samples_split': [1, 2, 3, 4, 5, 10, 15]},\n",
       "             scoring='f1', verbose=5)"
      ]
     },
     "execution_count": 27,
     "metadata": {},
     "output_type": "execute_result"
    }
   ],
   "source": [
    "# Defining parameter grid (as dictionary)\n",
    "param_grid = {\"max_depth\" : [1, 5, 10, 15, 20, 25],\n",
    "              \"min_samples_split\": [1,2,3,4,5,10,15],\n",
    "              \"min_samples_leaf\": [1,2,3,4,5,10,15],\n",
    "              \"criterion\": [\"gini\", \"entropy\"]\n",
    "              \n",
    "              \n",
    "             }\n",
    "dtc=DecisionTreeClassifier()\n",
    "# Instantiate gridsearch and define the metric to optimize \n",
    "gs = GridSearchCV(dtc,param_grid,scoring=\"f1\",\n",
    "                  cv=5, verbose=5, n_jobs=-1)\n",
    "\n",
    "gs.fit(X_train,y_train)"
   ]
  },
  {
   "cell_type": "code",
   "execution_count": 28,
   "id": "007ed546",
   "metadata": {},
   "outputs": [
    {
     "name": "stdout",
     "output_type": "stream",
     "text": [
      "[[  731  3029]\n",
      " [  422 12832]]\n",
      "              precision    recall  f1-score   support\n",
      "\n",
      "           0       0.63      0.19      0.30      3760\n",
      "           1       0.81      0.97      0.88     13254\n",
      "\n",
      "    accuracy                           0.80     17014\n",
      "   macro avg       0.72      0.58      0.59     17014\n",
      "weighted avg       0.77      0.80      0.75     17014\n",
      "\n"
     ]
    },
    {
     "data": {
      "text/plain": [
       "{'criterion': 'entropy',\n",
       " 'max_depth': 5,\n",
       " 'min_samples_leaf': 1,\n",
       " 'min_samples_split': 4}"
      ]
     },
     "execution_count": 28,
     "metadata": {},
     "output_type": "execute_result"
    }
   ],
   "source": [
    "y_pred_gs=gs.predict(X_test)\n",
    "score_print(y_test,y_pred_gs)\n",
    "best_param=gs.best_params_\n",
    "best_param"
   ]
  },
  {
   "cell_type": "code",
   "execution_count": null,
   "id": "483133ec",
   "metadata": {},
   "outputs": [],
   "source": []
  },
  {
   "cell_type": "code",
   "execution_count": null,
   "id": "ae307c27",
   "metadata": {},
   "outputs": [],
   "source": []
  },
  {
   "cell_type": "code",
   "execution_count": null,
   "id": "d27d92d6",
   "metadata": {},
   "outputs": [],
   "source": [
    "###LinearSVC"
   ]
  },
  {
   "cell_type": "code",
   "execution_count": 40,
   "id": "5437f549",
   "metadata": {},
   "outputs": [
    {
     "name": "stdout",
     "output_type": "stream",
     "text": [
      "Fitting 5 folds for each of 72 candidates, totalling 360 fits\n"
     ]
    },
    {
     "name": "stderr",
     "output_type": "stream",
     "text": [
      "/Users/yusufcan/.pyenv/versions/3.8.5/lib/python3.8/site-packages/sklearn/model_selection/_search.py:922: UserWarning: One or more of the test scores are non-finite: [       nan 0.87590599        nan        nan 0.87577092        nan\n",
      "        nan 0.87577092        nan        nan 0.87577092        nan\n",
      "        nan 0.87577092        nan        nan 0.87577092        nan\n",
      "        nan        nan        nan        nan        nan        nan\n",
      "        nan        nan        nan        nan        nan        nan\n",
      "        nan        nan        nan        nan        nan        nan\n",
      "        nan 0.86878261        nan        nan 0.87858419        nan\n",
      "        nan 0.87655446        nan        nan 0.87832172        nan\n",
      "        nan 0.87827385        nan        nan 0.87840404        nan\n",
      "        nan        nan        nan        nan        nan        nan\n",
      "        nan        nan        nan        nan        nan        nan\n",
      "        nan        nan        nan        nan        nan        nan]\n",
      "  warnings.warn(\n",
      "/Users/yusufcan/.pyenv/versions/3.8.5/lib/python3.8/site-packages/sklearn/svm/_base.py:985: ConvergenceWarning: Liblinear failed to converge, increase the number of iterations.\n",
      "  warnings.warn(\"Liblinear failed to converge, increase \"\n"
     ]
    },
    {
     "data": {
      "text/plain": [
       "GridSearchCV(cv=5, estimator=LinearSVC(), n_jobs=-1,\n",
       "             param_grid={'loss': ['hinge', 'log', 'squared_hinge',\n",
       "                                  'modified_huber'],\n",
       "                         'max_iter': [10, 20, 30, 50, 60, 100],\n",
       "                         'penalty': ['l1', 'l2', 'elasticnet']},\n",
       "             scoring='f1', verbose=5)"
      ]
     },
     "execution_count": 40,
     "metadata": {},
     "output_type": "execute_result"
    }
   ],
   "source": [
    "# Defining parameter grid (as dictionary)\n",
    "param_grid = {\"loss\" : [\"hinge\", \"log\", \"squared_hinge\", \"modified_huber\"],\n",
    "              \"max_iter\": [10,20,30, 50, 60,100,],\n",
    "              \"penalty\": [\"l1\", \"l2\", \"elasticnet\"]\n",
    "              \n",
    "              \n",
    "             }\n",
    "svc=LinearSVC()\n",
    "# Instantiate gridsearch and define the metric to optimize \n",
    "gs = GridSearchCV(svc,param_grid,scoring=\"f1\",\n",
    "                  cv=5, verbose=5, n_jobs=-1)\n",
    "\n",
    "gs.fit(X_train,y_train)"
   ]
  },
  {
   "cell_type": "code",
   "execution_count": 41,
   "id": "b5882ad6",
   "metadata": {},
   "outputs": [
    {
     "name": "stdout",
     "output_type": "stream",
     "text": [
      "[[  103  3657]\n",
      " [   19 13235]]\n",
      "              precision    recall  f1-score   support\n",
      "\n",
      "           0       0.84      0.03      0.05      3760\n",
      "           1       0.78      1.00      0.88     13254\n",
      "\n",
      "    accuracy                           0.78     17014\n",
      "   macro avg       0.81      0.51      0.47     17014\n",
      "weighted avg       0.80      0.78      0.70     17014\n",
      "\n"
     ]
    },
    {
     "data": {
      "text/plain": [
       "{'loss': 'squared_hinge', 'max_iter': 20, 'penalty': 'l2'}"
      ]
     },
     "execution_count": 41,
     "metadata": {},
     "output_type": "execute_result"
    }
   ],
   "source": [
    "y_pred_gs=gs.predict(X_test)\n",
    "score_print(y_test,y_pred_gs)\n",
    "best_param=gs.best_params_\n",
    "best_param"
   ]
  },
  {
   "cell_type": "code",
   "execution_count": null,
   "id": "2ddd2b2b",
   "metadata": {},
   "outputs": [],
   "source": [
    "######svm\n"
   ]
  },
  {
   "cell_type": "code",
   "execution_count": 43,
   "id": "0021b1d0",
   "metadata": {},
   "outputs": [
    {
     "name": "stdout",
     "output_type": "stream",
     "text": [
      "Fitting 5 folds for each of 8 candidates, totalling 40 fits\n"
     ]
    },
    {
     "data": {
      "text/plain": [
       "GridSearchCV(cv=5, estimator=SVC(), n_jobs=-1,\n",
       "             param_grid={'decision_function_shape': ['ovo', 'ovr'],\n",
       "                         'kernel': ['rbf', 'linear', 'poly', 'sigmoid']},\n",
       "             scoring='f1', verbose=5)"
      ]
     },
     "execution_count": 43,
     "metadata": {},
     "output_type": "execute_result"
    }
   ],
   "source": [
    "# Defining parameter grid (as dictionary)\n",
    "param_grid = {\n",
    "              \"kernel\": [\"rbf\", \"linear\", \"poly\",\"sigmoid\"],\n",
    "                \"decision_function_shape\" : ['ovo', 'ovr']\n",
    "              \n",
    "              \n",
    "             }\n",
    "clf = svm.SVC()\n",
    "# Instantiate gridsearch and define the metric to optimize \n",
    "gs = GridSearchCV(clf,param_grid,scoring=\"f1\",\n",
    "                  cv=5, verbose=5, n_jobs=-1)\n",
    "\n",
    "gs.fit(X_train,y_train)"
   ]
  },
  {
   "cell_type": "code",
   "execution_count": 44,
   "id": "fb79ef47",
   "metadata": {},
   "outputs": [
    {
     "name": "stdout",
     "output_type": "stream",
     "text": [
      "[[  142  3618]\n",
      " [   24 13230]]\n",
      "              precision    recall  f1-score   support\n",
      "\n",
      "           0       0.86      0.04      0.07      3760\n",
      "           1       0.79      1.00      0.88     13254\n",
      "\n",
      "    accuracy                           0.79     17014\n",
      "   macro avg       0.82      0.52      0.48     17014\n",
      "weighted avg       0.80      0.79      0.70     17014\n",
      "\n"
     ]
    },
    {
     "data": {
      "text/plain": [
       "{'decision_function_shape': 'ovo', 'kernel': 'rbf'}"
      ]
     },
     "execution_count": 44,
     "metadata": {},
     "output_type": "execute_result"
    }
   ],
   "source": [
    "y_pred_gs=gs.predict(X_test)\n",
    "score_print(y_test,y_pred_gs)\n",
    "best_param=gs.best_params_\n",
    "best_param"
   ]
  },
  {
   "cell_type": "code",
   "execution_count": null,
   "id": "df0c3ffb",
   "metadata": {},
   "outputs": [],
   "source": [
    "#### info fpr den näachetn tag: unser y spinnt: 0 und 1 für die ereignisse tauschen und sehen was passiert\n",
    "#### 2. featureselektion >> bessere untersuchung wäre anfällig\n",
    "#### 3. "
   ]
  },
  {
   "cell_type": "code",
   "execution_count": null,
   "id": "6671893e",
   "metadata": {},
   "outputs": [],
   "source": [
    "#RandomSearchCV"
   ]
  },
  {
   "cell_type": "code",
   "execution_count": null,
   "id": "252159a3",
   "metadata": {},
   "outputs": [],
   "source": [
    "#KNN"
   ]
  },
  {
   "cell_type": "code",
   "execution_count": 3,
   "id": "dd53f083",
   "metadata": {},
   "outputs": [
    {
     "name": "stdout",
     "output_type": "stream",
     "text": [
      "Fitting 5 folds for each of 5 candidates, totalling 25 fits\n"
     ]
    },
    {
     "data": {
      "text/plain": [
       "RandomizedSearchCV(cv=5, estimator=KNeighborsClassifier(), n_iter=5, n_jobs=-1,\n",
       "                   param_distributions={'n_neighbors': [2, 4, 6, 8, 10, 12,\n",
       "                                                        14]},\n",
       "                   scoring='f1', verbose=5)"
      ]
     },
     "execution_count": 3,
     "metadata": {},
     "output_type": "execute_result"
    }
   ],
   "source": [
    "# Defining parameter grid (as dictionary)\n",
    "param_grid = {\"n_neighbors\" : [2,4,6,8,10,12,14]\n",
    "              \n",
    "              \n",
    "             }\n",
    "knn=KNeighborsClassifier()\n",
    "# Instantiate randomsearch and define the metric to optimize \n",
    "rs = RandomizedSearchCV(knn, param_grid, scoring='f1',\n",
    "                  cv=5, verbose=5, n_jobs=-1, n_iter=5)\n",
    "\n",
    "rs.fit(X_train,y_train)"
   ]
  },
  {
   "cell_type": "code",
   "execution_count": 6,
   "id": "beb9f42c",
   "metadata": {},
   "outputs": [
    {
     "name": "stdout",
     "output_type": "stream",
     "text": [
      "[[  514  3246]\n",
      " [  604 12650]]\n",
      "              precision    recall  f1-score   support\n",
      "\n",
      "           0       0.46      0.14      0.21      3760\n",
      "           1       0.80      0.95      0.87     13254\n",
      "\n",
      "    accuracy                           0.77     17014\n",
      "   macro avg       0.63      0.55      0.54     17014\n",
      "weighted avg       0.72      0.77      0.72     17014\n",
      "\n"
     ]
    },
    {
     "data": {
      "text/plain": [
       "{'n_neighbors': 14}"
      ]
     },
     "execution_count": 6,
     "metadata": {},
     "output_type": "execute_result"
    }
   ],
   "source": [
    "y_pred_rs=rs.predict(X_test)\n",
    "score_print(y_test,y_pred_rs)\n",
    "best_param=rs.best_params_\n",
    "best_param"
   ]
  },
  {
   "cell_type": "code",
   "execution_count": null,
   "id": "87f62e48",
   "metadata": {},
   "outputs": [],
   "source": [
    "### log reg"
   ]
  },
  {
   "cell_type": "code",
   "execution_count": 23,
   "id": "12f12e43",
   "metadata": {},
   "outputs": [
    {
     "name": "stdout",
     "output_type": "stream",
     "text": [
      "Fitting 5 folds for each of 5 candidates, totalling 25 fits\n"
     ]
    },
    {
     "name": "stderr",
     "output_type": "stream",
     "text": [
      "/Users/yusufcan/.pyenv/versions/3.8.5/lib/python3.8/site-packages/sklearn/model_selection/_search.py:922: UserWarning: One or more of the test scores are non-finite: [nan nan nan nan nan]\n",
      "  warnings.warn(\n"
     ]
    },
    {
     "data": {
      "text/plain": [
       "RandomizedSearchCV(cv=5, estimator=LogisticRegression(), n_iter=5, n_jobs=-1,\n",
       "                   param_distributions={'C': [1, 2, 3, 4, 5, 10, 15],\n",
       "                                        'max_iter': [1000, 5000, 10000, 15000],\n",
       "                                        'penalty': ['l1', 'l2', 'elasticnet'],\n",
       "                                        'solver': ['lbfgs', 'liblinear']},\n",
       "                   scoring='f1', verbose=5)"
      ]
     },
     "execution_count": 23,
     "metadata": {},
     "output_type": "execute_result"
    }
   ],
   "source": [
    "# Defining parameter grid (as dictionary)\n",
    "param_grid = {\"max_iter\" : [1000, 5000, 10000, 15000],\n",
    "              \"penalty\": [\"l1\", \"l2\", \"elasticnet\"],\n",
    "              \"C\": [1,2,3,4,5,10,15],\n",
    "              \"solver\":['lbfgs',\"liblinear\"]\n",
    "\n",
    "             }\n",
    "lr=LogisticRegression()\n",
    "rs = RandomizedSearchCV(lr, param_grid, scoring='f1',\n",
    "                  cv=5, verbose=5, n_jobs=-1, n_iter=5)\n",
    "\n",
    "rs.fit(X_train,y_train)"
   ]
  },
  {
   "cell_type": "code",
   "execution_count": 24,
   "id": "f5b06e04",
   "metadata": {},
   "outputs": [
    {
     "name": "stdout",
     "output_type": "stream",
     "text": [
      "[[2470   75    0    0    0    0    0]\n",
      " [  68 2837  193    0    0    0    0]\n",
      " [   1  117 1860  208    0    0    0]\n",
      " [   2    0  145 1181  176    0    0]\n",
      " [   1    0    0  118  625  105    0]\n",
      " [   0    0    0    0   45  243   37]\n",
      " [   0    0    0    0    0   22  105]]\n",
      "              precision    recall  f1-score   support\n",
      "\n",
      "           A       0.97      0.97      0.97      2545\n",
      "           B       0.94      0.92      0.93      3098\n",
      "           C       0.85      0.85      0.85      2186\n",
      "           D       0.78      0.79      0.78      1504\n",
      "           E       0.74      0.74      0.74       849\n",
      "           F       0.66      0.75      0.70       325\n",
      "           G       0.74      0.83      0.78       127\n",
      "\n",
      "    accuracy                           0.88     10634\n",
      "   macro avg       0.81      0.83      0.82     10634\n",
      "weighted avg       0.88      0.88      0.88     10634\n",
      "\n"
     ]
    },
    {
     "data": {
      "text/plain": [
       "{'solver': 'lbfgs', 'penalty': 'l2', 'max_iter': 1000, 'C': 2}"
      ]
     },
     "execution_count": 24,
     "metadata": {},
     "output_type": "execute_result"
    }
   ],
   "source": [
    "y_pred_rs=rs.predict(X_test)\n",
    "score_print(y_test,y_pred_rs)\n",
    "best_param=rs.best_params_\n",
    "best_param"
   ]
  },
  {
   "cell_type": "code",
   "execution_count": null,
   "id": "4b1d731a",
   "metadata": {},
   "outputs": [],
   "source": [
    "######RandomForestClassifier"
   ]
  },
  {
   "cell_type": "code",
   "execution_count": 27,
   "id": "554864af",
   "metadata": {},
   "outputs": [
    {
     "name": "stdout",
     "output_type": "stream",
     "text": [
      "Fitting 5 folds for each of 5 candidates, totalling 25 fits\n"
     ]
    },
    {
     "name": "stderr",
     "output_type": "stream",
     "text": [
      "/Users/yusufcan/.pyenv/versions/3.8.5/lib/python3.8/site-packages/sklearn/model_selection/_search.py:922: UserWarning: One or more of the test scores are non-finite: [nan nan nan nan nan]\n",
      "  warnings.warn(\n"
     ]
    },
    {
     "data": {
      "text/plain": [
       "RandomizedSearchCV(cv=5, estimator=RandomForestClassifier(), n_iter=5,\n",
       "                   n_jobs=-1,\n",
       "                   param_distributions={'criterion': ['gini', 'entropy'],\n",
       "                                        'max_depth': [1, 5, 10, 15, 20, 25, 30,\n",
       "                                                      35],\n",
       "                                        'min_samples_split': [1, 2, 3, 4, 5, 6,\n",
       "                                                              7, 8, 9, 15,\n",
       "                                                              20]},\n",
       "                   scoring='f1', verbose=5)"
      ]
     },
     "execution_count": 27,
     "metadata": {},
     "output_type": "execute_result"
    }
   ],
   "source": [
    "# Defining parameter grid (as dictionary)\n",
    "param_grid = {\"max_depth\" : [1, 5, 10, 15, 20,25,30,35],\n",
    "              \"min_samples_split\": [1,2,3,4,5,6,7,8,9,15,20],\n",
    "              \"criterion\": [\"gini\", \"entropy\"]\n",
    "              \n",
    "              \n",
    "             }\n",
    "rfc=RandomForestClassifier()\n",
    "# Instantiate randomsearch and define the metric to optimize \n",
    "rs = RandomizedSearchCV(rfc, param_grid, scoring='f1',\n",
    "                  cv=5, verbose=5, n_jobs=-1, n_iter=5)\n",
    "\n",
    "rs.fit(X_train,y_train)"
   ]
  },
  {
   "cell_type": "code",
   "execution_count": 28,
   "id": "c5b73ebf",
   "metadata": {},
   "outputs": [
    {
     "name": "stdout",
     "output_type": "stream",
     "text": [
      "[[2293  188    0    0    0    3   61]\n",
      " [2217  538    0    0    0  196  147]\n",
      " [1429  136  167    5   41  229  179]\n",
      " [ 629   11    0   42  299  238  285]\n",
      " [ 191    0    0    9  252  269  128]\n",
      " [  33    0    0    6   86  140   60]\n",
      " [  15    0    0    1   18   54   39]]\n",
      "              precision    recall  f1-score   support\n",
      "\n",
      "           A       0.34      0.90      0.49      2545\n",
      "           B       0.62      0.17      0.27      3098\n",
      "           C       1.00      0.08      0.14      2186\n",
      "           D       0.67      0.03      0.05      1504\n",
      "           E       0.36      0.30      0.33       849\n",
      "           F       0.12      0.43      0.19       325\n",
      "           G       0.04      0.31      0.08       127\n",
      "\n",
      "    accuracy                           0.33     10634\n",
      "   macro avg       0.45      0.32      0.22     10634\n",
      "weighted avg       0.59      0.33      0.27     10634\n",
      "\n"
     ]
    },
    {
     "data": {
      "text/plain": [
       "{'min_samples_split': 15, 'max_depth': 1, 'criterion': 'entropy'}"
      ]
     },
     "execution_count": 28,
     "metadata": {},
     "output_type": "execute_result"
    }
   ],
   "source": [
    "y_pred_rs=rs.predict(X_test)\n",
    "score_print(y_test,y_pred_rs)\n",
    "best_param=rs.best_params_\n",
    "best_param"
   ]
  },
  {
   "cell_type": "code",
   "execution_count": null,
   "id": "b138f828",
   "metadata": {},
   "outputs": [],
   "source": [
    "###DecisionTreeClassifier"
   ]
  },
  {
   "cell_type": "code",
   "execution_count": 11,
   "id": "237577d5",
   "metadata": {},
   "outputs": [
    {
     "name": "stdout",
     "output_type": "stream",
     "text": [
      "Fitting 5 folds for each of 5 candidates, totalling 25 fits\n"
     ]
    },
    {
     "data": {
      "text/plain": [
       "RandomizedSearchCV(cv=5, estimator=DecisionTreeClassifier(), n_iter=5,\n",
       "                   n_jobs=-1,\n",
       "                   param_distributions={'criterion': ['gini', 'entropy'],\n",
       "                                        'max_depth': [1, 5, 10, 15, 20, 25],\n",
       "                                        'min_samples_leaf': [1, 2, 3, 4, 5, 10,\n",
       "                                                             15],\n",
       "                                        'min_samples_split': [1, 2, 3, 4, 5, 10,\n",
       "                                                              15]},\n",
       "                   scoring='f1', verbose=5)"
      ]
     },
     "execution_count": 11,
     "metadata": {},
     "output_type": "execute_result"
    }
   ],
   "source": [
    "# Defining parameter grid (as dictionary)\n",
    "param_grid = {\"max_depth\" : [1, 5, 10, 15, 20, 25],\n",
    "              \"min_samples_split\": [1,2,3,4,5,10,15],\n",
    "              \"min_samples_leaf\": [1,2,3,4,5,10,15],\n",
    "              \"criterion\": [\"gini\", \"entropy\"]\n",
    "              \n",
    "              \n",
    "             }\n",
    "dtc=DecisionTreeClassifier()\n",
    "# Instantiate randomsearch and define the metric to optimize \n",
    "rs = RandomizedSearchCV(dtc, param_grid, scoring='f1',\n",
    "                  cv=5, verbose=5, n_jobs=-1, n_iter=5)\n",
    "\n",
    "rs.fit(X_train,y_train)"
   ]
  },
  {
   "cell_type": "code",
   "execution_count": 12,
   "id": "01e7dc05",
   "metadata": {},
   "outputs": [
    {
     "name": "stdout",
     "output_type": "stream",
     "text": [
      "[[  749  3011]\n",
      " [  401 12853]]\n",
      "              precision    recall  f1-score   support\n",
      "\n",
      "           0       0.65      0.20      0.31      3760\n",
      "           1       0.81      0.97      0.88     13254\n",
      "\n",
      "    accuracy                           0.80     17014\n",
      "   macro avg       0.73      0.58      0.59     17014\n",
      "weighted avg       0.78      0.80      0.76     17014\n",
      "\n"
     ]
    },
    {
     "data": {
      "text/plain": [
       "{'min_samples_split': 2,\n",
       " 'min_samples_leaf': 3,\n",
       " 'max_depth': 5,\n",
       " 'criterion': 'gini'}"
      ]
     },
     "execution_count": 12,
     "metadata": {},
     "output_type": "execute_result"
    }
   ],
   "source": [
    "y_pred_rs=rs.predict(X_test)\n",
    "score_print(y_test,y_pred_rs)\n",
    "best_param=rs.best_params_\n",
    "best_param"
   ]
  },
  {
   "cell_type": "code",
   "execution_count": null,
   "id": "c515285e",
   "metadata": {},
   "outputs": [],
   "source": [
    "###LinearSVC"
   ]
  },
  {
   "cell_type": "code",
   "execution_count": 17,
   "id": "6ae2361f",
   "metadata": {},
   "outputs": [
    {
     "name": "stdout",
     "output_type": "stream",
     "text": [
      "Fitting 5 folds for each of 5 candidates, totalling 25 fits\n"
     ]
    },
    {
     "name": "stderr",
     "output_type": "stream",
     "text": [
      "/Users/yusufcan/.pyenv/versions/3.8.5/lib/python3.8/site-packages/sklearn/model_selection/_search.py:922: UserWarning: One or more of the test scores are non-finite: [0.87577092        nan        nan        nan        nan]\n",
      "  warnings.warn(\n",
      "/Users/yusufcan/.pyenv/versions/3.8.5/lib/python3.8/site-packages/sklearn/svm/_base.py:985: ConvergenceWarning: Liblinear failed to converge, increase the number of iterations.\n",
      "  warnings.warn(\"Liblinear failed to converge, increase \"\n"
     ]
    },
    {
     "data": {
      "text/plain": [
       "RandomizedSearchCV(cv=5, estimator=LinearSVC(), n_iter=5, n_jobs=-1,\n",
       "                   param_distributions={'loss': ['hinge', 'log',\n",
       "                                                 'squared_hinge'],\n",
       "                                        'max_iter': [10, 20, 30, 50, 60, 100],\n",
       "                                        'penalty': ['l1', 'l2']},\n",
       "                   scoring='f1', verbose=5)"
      ]
     },
     "execution_count": 17,
     "metadata": {},
     "output_type": "execute_result"
    }
   ],
   "source": [
    "# Defining parameter grid (as dictionary)\n",
    "param_grid = {\"loss\" : [\"hinge\", \"log\", \"squared_hinge\", \"modified_huber\"],\n",
    "              \"max_iter\": [10,20,30, 50, 60,100,],\n",
    "              \"penalty\": [\"l1\", \"l2\", \"elasticnet\"]\n",
    "              \n",
    "              \n",
    "             }\n",
    "svc=LinearSVC()\n",
    "# Instantiate randomsearch and define the metric to optimize \n",
    "rs = RandomizedSearchCV(svc, param_grid, scoring='f1',\n",
    "                  cv=5, verbose=5, n_jobs=-1, n_iter=5)\n",
    "\n",
    "rs.fit(X_train,y_train)"
   ]
  },
  {
   "cell_type": "code",
   "execution_count": 19,
   "id": "3a4948ad",
   "metadata": {},
   "outputs": [
    {
     "name": "stdout",
     "output_type": "stream",
     "text": [
      "[[    0  3760]\n",
      " [    0 13254]]\n",
      "              precision    recall  f1-score   support\n",
      "\n",
      "           0       0.00      0.00      0.00      3760\n",
      "           1       0.78      1.00      0.88     13254\n",
      "\n",
      "    accuracy                           0.78     17014\n",
      "   macro avg       0.39      0.50      0.44     17014\n",
      "weighted avg       0.61      0.78      0.68     17014\n",
      "\n"
     ]
    },
    {
     "name": "stderr",
     "output_type": "stream",
     "text": [
      "/Users/yusufcan/.pyenv/versions/3.8.5/lib/python3.8/site-packages/sklearn/metrics/_classification.py:1248: UndefinedMetricWarning: Precision and F-score are ill-defined and being set to 0.0 in labels with no predicted samples. Use `zero_division` parameter to control this behavior.\n",
      "  _warn_prf(average, modifier, msg_start, len(result))\n",
      "/Users/yusufcan/.pyenv/versions/3.8.5/lib/python3.8/site-packages/sklearn/metrics/_classification.py:1248: UndefinedMetricWarning: Precision and F-score are ill-defined and being set to 0.0 in labels with no predicted samples. Use `zero_division` parameter to control this behavior.\n",
      "  _warn_prf(average, modifier, msg_start, len(result))\n",
      "/Users/yusufcan/.pyenv/versions/3.8.5/lib/python3.8/site-packages/sklearn/metrics/_classification.py:1248: UndefinedMetricWarning: Precision and F-score are ill-defined and being set to 0.0 in labels with no predicted samples. Use `zero_division` parameter to control this behavior.\n",
      "  _warn_prf(average, modifier, msg_start, len(result))\n"
     ]
    },
    {
     "data": {
      "text/plain": [
       "{'penalty': 'l2', 'max_iter': 20, 'loss': 'hinge'}"
      ]
     },
     "execution_count": 19,
     "metadata": {},
     "output_type": "execute_result"
    }
   ],
   "source": [
    "y_pred_rs=rs.predict(X_test)\n",
    "score_print(y_test,y_pred_rs)\n",
    "best_param=rs.best_params_\n",
    "best_param"
   ]
  },
  {
   "cell_type": "code",
   "execution_count": null,
   "id": "c4f50e04",
   "metadata": {},
   "outputs": [],
   "source": [
    "######svm"
   ]
  },
  {
   "cell_type": "code",
   "execution_count": 16,
   "id": "57652747",
   "metadata": {},
   "outputs": [
    {
     "name": "stdout",
     "output_type": "stream",
     "text": [
      "Fitting 5 folds for each of 5 candidates, totalling 25 fits\n"
     ]
    },
    {
     "data": {
      "text/plain": [
       "RandomizedSearchCV(cv=5, estimator=SVC(), n_iter=5, n_jobs=-1,\n",
       "                   param_distributions={'decision_function_shape': ['ovo',\n",
       "                                                                    'ovr'],\n",
       "                                        'kernel': ['rbf', 'linear', 'poly',\n",
       "                                                   'sigmoid']},\n",
       "                   scoring='f1', verbose=5)"
      ]
     },
     "execution_count": 16,
     "metadata": {},
     "output_type": "execute_result"
    }
   ],
   "source": [
    "param_grid = {\n",
    "              \"kernel\": [\"rbf\", \"linear\", \"poly\",\"sigmoid\"],\n",
    "                \"decision_function_shape\" : ['ovo', 'ovr']\n",
    "              \n",
    "              \n",
    "             }\n",
    "clf = svm.SVC()\n",
    "# Instantiate randomsearch and define the metric to optimize \n",
    "rs = RandomizedSearchCV(clf, param_grid, scoring='f1',\n",
    "                  cv=5, verbose=5, n_jobs=-1, n_iter=5)\n",
    "\n",
    "rs.fit(X_train,y_train)"
   ]
  },
  {
   "cell_type": "code",
   "execution_count": 18,
   "id": "e3568dc5",
   "metadata": {},
   "outputs": [
    {
     "name": "stdout",
     "output_type": "stream",
     "text": [
      "[[    0  3760]\n",
      " [    0 13254]]\n",
      "              precision    recall  f1-score   support\n",
      "\n",
      "           0       0.00      0.00      0.00      3760\n",
      "           1       0.78      1.00      0.88     13254\n",
      "\n",
      "    accuracy                           0.78     17014\n",
      "   macro avg       0.39      0.50      0.44     17014\n",
      "weighted avg       0.61      0.78      0.68     17014\n",
      "\n"
     ]
    },
    {
     "name": "stderr",
     "output_type": "stream",
     "text": [
      "/Users/yusufcan/.pyenv/versions/3.8.5/lib/python3.8/site-packages/sklearn/metrics/_classification.py:1248: UndefinedMetricWarning: Precision and F-score are ill-defined and being set to 0.0 in labels with no predicted samples. Use `zero_division` parameter to control this behavior.\n",
      "  _warn_prf(average, modifier, msg_start, len(result))\n",
      "/Users/yusufcan/.pyenv/versions/3.8.5/lib/python3.8/site-packages/sklearn/metrics/_classification.py:1248: UndefinedMetricWarning: Precision and F-score are ill-defined and being set to 0.0 in labels with no predicted samples. Use `zero_division` parameter to control this behavior.\n",
      "  _warn_prf(average, modifier, msg_start, len(result))\n",
      "/Users/yusufcan/.pyenv/versions/3.8.5/lib/python3.8/site-packages/sklearn/metrics/_classification.py:1248: UndefinedMetricWarning: Precision and F-score are ill-defined and being set to 0.0 in labels with no predicted samples. Use `zero_division` parameter to control this behavior.\n",
      "  _warn_prf(average, modifier, msg_start, len(result))\n"
     ]
    },
    {
     "data": {
      "text/plain": [
       "{'penalty': 'l2', 'max_iter': 20, 'loss': 'hinge'}"
      ]
     },
     "execution_count": 18,
     "metadata": {},
     "output_type": "execute_result"
    }
   ],
   "source": [
    "y_pred_rs=rs.predict(X_test)\n",
    "score_print(y_test,y_pred_rs)\n",
    "best_param=rs.best_params_\n",
    "best_param"
   ]
  },
  {
   "cell_type": "code",
   "execution_count": null,
   "id": "2b059300",
   "metadata": {},
   "outputs": [],
   "source": []
  }
 ],
 "metadata": {
  "kernelspec": {
   "display_name": "Python 3",
   "language": "python",
   "name": "python3"
  },
  "language_info": {
   "codemirror_mode": {
    "name": "ipython",
    "version": 3
   },
   "file_extension": ".py",
   "mimetype": "text/x-python",
   "name": "python",
   "nbconvert_exporter": "python",
   "pygments_lexer": "ipython3",
   "version": "3.8.5"
  }
 },
 "nbformat": 4,
 "nbformat_minor": 5
}
