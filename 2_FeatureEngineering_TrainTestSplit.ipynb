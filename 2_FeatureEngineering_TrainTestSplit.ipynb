{
 "cells": [
  {
   "cell_type": "code",
<<<<<<< HEAD:3_FeatureEngineering_TrainTestSplit.ipynb
   "execution_count": 1,
=======
   "execution_count": 38,
>>>>>>> main:2_FeatureEngineering_TrainTestSplit.ipynb
   "metadata": {},
   "outputs": [],
   "source": [
    "%store -r df y_target"
   ]
  },
  {
   "cell_type": "code",
<<<<<<< HEAD:3_FeatureEngineering_TrainTestSplit.ipynb
   "execution_count": 8,
=======
   "execution_count": 39,
>>>>>>> main:2_FeatureEngineering_TrainTestSplit.ipynb
   "metadata": {},
   "outputs": [],
   "source": [
    "import pandas as pd\n",
    "import numpy as np\n",
    "import matplotlib.pyplot as plt\n",
    "import seaborn as sns\n",
    "import plotly.express as plx\n",
    "\n",
    "\n",
    "from sklearn.model_selection import train_test_split"
   ]
  },
  {
   "cell_type": "code",
<<<<<<< HEAD:3_FeatureEngineering_TrainTestSplit.ipynb
   "execution_count": 17,
=======
   "execution_count": null,
   "metadata": {},
   "outputs": [],
   "source": []
  },
  {
   "cell_type": "code",
   "execution_count": 40,
>>>>>>> main:2_FeatureEngineering_TrainTestSplit.ipynb
   "metadata": {},
   "outputs": [
    {
     "name": "stdout",
     "output_type": "stream",
     "text": [
      "Collecting imblearn\n",
      "  Downloading imblearn-0.0-py2.py3-none-any.whl (1.9 kB)\n",
      "Collecting imbalanced-learn\n",
      "  Downloading imbalanced_learn-0.8.0-py3-none-any.whl (206 kB)\n",
      "\u001b[K     |████████████████████████████████| 206 kB 3.4 MB/s eta 0:00:01\n",
      "\u001b[?25hRequirement already satisfied: scikit-learn>=0.24 in /Users/yusufcan/.pyenv/versions/3.8.5/lib/python3.8/site-packages (from imbalanced-learn->imblearn) (0.24.2)\n",
      "Requirement already satisfied: numpy>=1.13.3 in /Users/yusufcan/.pyenv/versions/3.8.5/lib/python3.8/site-packages (from imbalanced-learn->imblearn) (1.20.1)\n",
      "Requirement already satisfied: joblib>=0.11 in /Users/yusufcan/.pyenv/versions/3.8.5/lib/python3.8/site-packages (from imbalanced-learn->imblearn) (1.0.1)\n",
      "Requirement already satisfied: scipy>=0.19.1 in /Users/yusufcan/.pyenv/versions/3.8.5/lib/python3.8/site-packages (from imbalanced-learn->imblearn) (1.6.0)\n",
      "Requirement already satisfied: threadpoolctl>=2.0.0 in /Users/yusufcan/.pyenv/versions/3.8.5/lib/python3.8/site-packages (from scikit-learn>=0.24->imbalanced-learn->imblearn) (2.1.0)\n",
      "Installing collected packages: imbalanced-learn, imblearn\n",
      "Successfully installed imbalanced-learn-0.8.0 imblearn-0.0\n",
      "\u001b[33mWARNING: You are using pip version 21.1.2; however, version 21.1.3 is available.\n",
      "You should consider upgrading via the '/Users/yusufcan/.pyenv/versions/3.8.5/bin/python3.8 -m pip install --upgrade pip' command.\u001b[0m\n",
      "Note: you may need to restart the kernel to use updated packages.\n"
     ]
    }
   ],
   "source": [
    "pip install imblearn"
   ]
  },
  {
   "cell_type": "code",
   "execution_count": 10,
   "metadata": {},
   "outputs": [
    {
     "output_type": "stream",
     "name": "stdout",
     "text": [
      "Stored 'y_target_compl' (DataFrame)\n"
     ]
    }
   ],
   "source": [
    "# Prepare y to be good predictable\n",
    "\n",
    "y_values = y_target[\"loan_status\"].value_counts()\n",
    "y_fully_paid, fully_paid_val, fully_paid_str = list(y_values.index[[0,2,3,6,7]]), 0, \"Fully Paid\"\n",
    "y_current, current_val, current_str = list(y_values.index[[4]]), 2, \"current\"\n",
    "y_charged_off, charged_off_val, charged_off_str = list(y_values.index[[1,4,5,8]]), 1, \"Charged Off\"\n",
    "\n",
    "y_target[\"loan_status_int\"] = y_target[\"loan_status\"]\n",
    "y_target[\"loan_status_str\"] = y_target[\"loan_status\"]\n",
    "\n",
    "y_target[\"loan_status_int\"] = y_target[\"loan_status_int\"].apply(lambda x : fully_paid_val if x in y_fully_paid else x)\n",
    "y_target[\"loan_status_str\"] = y_target[\"loan_status_str\"].apply(lambda x : fully_paid_str if x in y_fully_paid else x)\n",
    "\n",
    "y_target[\"loan_status_int\"] = y_target[\"loan_status_int\"].apply(lambda x : current_val if x in y_current else x)\n",
    "y_target[\"loan_status_str\"] = y_target[\"loan_status_str\"].apply(lambda x : current_str if x in y_current else x)\n",
    "\n",
    "y_target[\"loan_status_int\"] = y_target[\"loan_status_int\"].apply(lambda x : charged_off_val if x in y_charged_off else x)\n",
    "y_target[\"loan_status_str\"] = y_target[\"loan_status_str\"].apply(lambda x : charged_off_str if x in y_charged_off else x)\n",
    "\n",
    "\n",
    "\n",
    "y_values = y_target[\"grade\"].value_counts()\n",
    "\n",
    "y_grade_AB, grade_AB_val = list(y_values.index[[0,1]]), 0\n",
    "y_grade_CDEFG, grade_CDEFG_val = list(y_values.index[[2,3,4,5,6]]), 1\n",
    "\n",
    "y_target[\"grade_int\"] = y_target[\"grade\"]\n",
    "y_target[\"grade_int\"] = y_target[\"grade_int\"].apply(lambda x : grade_AB_val if x in y_grade_AB else x)\n",
    "y_target[\"grade_int\"] = y_target[\"grade_int\"].apply(lambda x : grade_CDEFG_val if x in y_grade_CDEFG else x)\n",
    "\n",
    "y_int_10, int_10_val = [5,6,7,8,9,10], 10\n",
    "y_int_15, int_15_val = [11,12,13,14,15], 15\n",
    "y_int_20, int_20_val = [16,17,18,19,20], 20\n",
    "y_int_25, int_25_val = [21,22,23,24,25], 25\n",
    "\n",
    "\n",
    "y_target[\"int_rate_int\"] = df[\"int_rate\"].astype(\"int\")\n",
    "y_target[\"int_rate_int\"] = y_target[\"int_rate_int\"].apply(lambda x : int_10_val if x in y_int_10 else x)\n",
    "y_target[\"int_rate_int\"] = y_target[\"int_rate_int\"].apply(lambda x : int_15_val if x in y_int_15 else x)\n",
    "y_target[\"int_rate_int\"] = y_target[\"int_rate_int\"].apply(lambda x : int_20_val if x in y_int_20 else x)\n",
    "y_target[\"int_rate_int\"] = y_target[\"int_rate_int\"].apply(lambda x : int_25_val if x in y_int_25 else x)\n",
    "\n",
    "y_target_compl = y_target\n",
    "%store y_target_compl"
   ]
  },
  {
   "cell_type": "code",
<<<<<<< HEAD:3_FeatureEngineering_TrainTestSplit.ipynb
   "execution_count": 12,
=======
   "execution_count": 30,
   "metadata": {},
   "outputs": [],
   "source": [
    "mask_train = y_target[\"loan_status_int\"].isin([0,1])\n",
    "X = X[mask_train]\n",
    "y_target = y_target[mask_train]"
   ]
  },
  {
   "cell_type": "code",
   "execution_count": 31,
>>>>>>> main:2_FeatureEngineering_TrainTestSplit.ipynb
   "metadata": {},
   "outputs": [
    {
     "name": "stdout",
     "output_type": "stream",
     "text": [
<<<<<<< HEAD:3_FeatureEngineering_TrainTestSplit.ipynb
      "Training set has 31901 samples.\n",
      "Testing set has 10634 samples.\n",
      "\n",
      "Training set has values:\n",
      " 0B    8153\n",
      "0A    7180\n",
      "0C    5428\n",
      "0D    3518\n",
      "0E    1886\n",
      "1B    1138\n",
      "1C    1126\n",
      "1D     994\n",
      "0F     665\n",
      "1E     659\n",
      "1A     458\n",
      "1F     311\n",
      "0G     254\n",
      "1G     131\n",
      "dtype: int64\n",
      "Testing set has values:\n",
      " 0B    2718\n",
      "0A    2393\n",
      "0C    1810\n",
      "0D    1173\n",
      "0E     629\n",
      "1B     380\n",
      "1C     376\n",
      "1D     331\n",
      "0F     222\n",
      "1E     220\n",
      "1A     152\n",
      "1F     103\n",
      "0G      84\n",
      "1G      43\n",
      "dtype: int64\n"
=======
      "Training set has 31328 samples.\nTesting set has 10443 samples.\n\nTraining set has values:\n 0B    8152\n0A    7180\n0C    5427\n0D    3518\n0E    1886\n1B    1075\n1C    1015\n1D     846\n0F     665\n1E     541\n1A     451\n0G     254\n1F     241\n1G      77\ndtype: int64\nTesting set has values:\n 0B    2718\n0A    2393\n0C    1809\n0D    1173\n0E     629\n1B     358\n1C     339\n1D     282\n0F     222\n1E     180\n1A     151\n0G      84\n1F      80\n1G      25\ndtype: int64\n"
>>>>>>> main:2_FeatureEngineering_TrainTestSplit.ipynb
     ]
    }
   ],
   "source": [
    "#Split into train and test\n",
    "\n",
    "y_stratify = y_target[\"loan_status_int\"].astype(str) + y_target[\"grade\"]\n",
    "\n",
    "X_train, X_test, y_stratify_train, y_stratify_test = train_test_split(X, y_stratify, test_size = 0.25, random_state = 70, stratify= y_stratify)\n",
    "\n",
    "# Show the results of the split\n",
    "print (\"Training set has {} samples.\".format(X_train.shape[0]))\n",
    "print (\"Testing set has {} samples.\".format(X_test.shape[0]))\n",
    "print()\n",
    "print (f\"Training set has values:\\n {format(y_stratify_train.value_counts())}\")\n",
    "print (f\"Testing set has values:\\n {format(y_stratify_test.value_counts())}\")"
   ]
  },
  {
   "cell_type": "code",
<<<<<<< HEAD:3_FeatureEngineering_TrainTestSplit.ipynb
   "execution_count": 13,
=======
   "execution_count": 32,
>>>>>>> main:2_FeatureEngineering_TrainTestSplit.ipynb
   "metadata": {},
   "outputs": [
    {
     "data": {
      "text/plain": [
       "0        0B\n",
       "1        1C\n",
       "2        0C\n",
       "3        0C\n",
       "4        0B\n",
       "         ..\n",
       "42531    0C\n",
       "42532    0B\n",
       "42533    0B\n",
       "42534    0A\n",
       "42535    0A\n",
       "Length: 41771, dtype: object"
      ]
     },
     "execution_count": 13,
     "metadata": {},
<<<<<<< HEAD:3_FeatureEngineering_TrainTestSplit.ipynb
     "output_type": "execute_result"
=======
     "execution_count": 32
>>>>>>> main:2_FeatureEngineering_TrainTestSplit.ipynb
    }
   ],
   "source": [
    "y_stratify"
   ]
  },
  {
   "cell_type": "code",
<<<<<<< HEAD:3_FeatureEngineering_TrainTestSplit.ipynb
   "execution_count": 14,
=======
   "execution_count": 33,
>>>>>>> main:2_FeatureEngineering_TrainTestSplit.ipynb
   "metadata": {},
   "outputs": [
    {
     "name": "stderr",
     "output_type": "stream",
     "text": [
      "/Users/yusufcan/.pyenv/versions/3.8.5/lib/python3.8/site-packages/pandas/core/series.py:4433: SettingWithCopyWarning: \n",
      "A value is trying to be set on a copy of a slice from a DataFrame\n",
      "\n",
      "See the caveats in the documentation: https://pandas.pydata.org/pandas-docs/stable/user_guide/indexing.html#returning-a-view-versus-a-copy\n",
      "  return super().fillna(\n",
      "/Users/yusufcan/.pyenv/versions/3.8.5/lib/python3.8/site-packages/pandas/core/series.py:4433: SettingWithCopyWarning: \n",
      "A value is trying to be set on a copy of a slice from a DataFrame\n",
      "\n",
      "See the caveats in the documentation: https://pandas.pydata.org/pandas-docs/stable/user_guide/indexing.html#returning-a-view-versus-a-copy\n",
      "  return super().fillna(\n",
      "/Users/yusufcan/.pyenv/versions/3.8.5/lib/python3.8/site-packages/pandas/core/series.py:4433: SettingWithCopyWarning: \n",
      "A value is trying to be set on a copy of a slice from a DataFrame\n",
      "\n",
      "See the caveats in the documentation: https://pandas.pydata.org/pandas-docs/stable/user_guide/indexing.html#returning-a-view-versus-a-copy\n",
      "  return super().fillna(\n",
      "/Users/yusufcan/.pyenv/versions/3.8.5/lib/python3.8/site-packages/pandas/core/series.py:4433: SettingWithCopyWarning: \n",
      "A value is trying to be set on a copy of a slice from a DataFrame\n",
      "\n",
      "See the caveats in the documentation: https://pandas.pydata.org/pandas-docs/stable/user_guide/indexing.html#returning-a-view-versus-a-copy\n",
      "  return super().fillna(\n"
     ]
    }
   ],
   "source": [
    "# hier werden fehlende daten durch wahrscheinliche daten ersetzt (mean,median,blaa)\n",
    "# Attention: X_train und X_test sepparat behandeln\n",
    "\n",
    "X_train[\"open_acc\"].fillna(X_train[\"open_acc\"].median(),inplace=True)\n",
    "X_train[\"annual_inc\"].fillna(X_train[\"annual_inc\"].median().round(2),inplace=True)\n",
    "\n",
    "X_test[\"open_acc\"].fillna(X_test[\"open_acc\"].median(),inplace=True)\n",
    "X_test[\"annual_inc\"].fillna(X_test[\"annual_inc\"].median().round(2),inplace=True)\n"
   ]
  },
  {
   "cell_type": "code",
<<<<<<< HEAD:3_FeatureEngineering_TrainTestSplit.ipynb
   "execution_count": 15,
=======
   "execution_count": 34,
>>>>>>> main:2_FeatureEngineering_TrainTestSplit.ipynb
   "metadata": {},
   "outputs": [
    {
     "name": "stderr",
     "output_type": "stream",
     "text": [
      "/Users/yusufcan/.pyenv/versions/3.8.5/lib/python3.8/site-packages/pandas/core/indexing.py:1738: SettingWithCopyWarning: \n",
      "A value is trying to be set on a copy of a slice from a DataFrame.\n",
      "Try using .loc[row_indexer,col_indexer] = value instead\n",
      "\n",
      "See the caveats in the documentation: https://pandas.pydata.org/pandas-docs/stable/user_guide/indexing.html#returning-a-view-versus-a-copy\n",
      "  self._setitem_single_column(loc, value[:, i].tolist(), pi)\n",
      "/Users/yusufcan/.pyenv/versions/3.8.5/lib/python3.8/site-packages/pandas/core/indexing.py:1738: SettingWithCopyWarning: \n",
      "A value is trying to be set on a copy of a slice from a DataFrame.\n",
      "Try using .loc[row_indexer,col_indexer] = value instead\n",
      "\n",
      "See the caveats in the documentation: https://pandas.pydata.org/pandas-docs/stable/user_guide/indexing.html#returning-a-view-versus-a-copy\n",
      "  self._setitem_single_column(loc, value[:, i].tolist(), pi)\n"
     ]
    }
   ],
   "source": [
    "#### skalieren\n",
    "from sklearn.preprocessing import MinMaxScaler\n",
    "\n",
    "# Initialize a scaler, then apply it to the features\n",
    "scaler = MinMaxScaler()\n",
    "\n",
    "numerical = [col for col in X if X.dtypes[col] == \"float64\"]\n",
    "X_train.loc[:,numerical] = scaler.fit_transform(X_train[numerical])\n",
    "X_test.loc[:,numerical] = scaler.transform(X_test[numerical])"
   ]
  },
  {
   "cell_type": "code",
<<<<<<< HEAD:3_FeatureEngineering_TrainTestSplit.ipynb
   "execution_count": 18,
=======
   "execution_count": 35,
>>>>>>> main:2_FeatureEngineering_TrainTestSplit.ipynb
   "metadata": {},
   "outputs": [],
   "source": [
    "# Handle imbalanced classes\n",
    "from imblearn.over_sampling import SMOTE\n",
    "\n",
    "smote = SMOTE()\n",
    "\n",
    "# fit predictor and target variable\n",
    "X_train, y_stratify_train = smote.fit_resample(X_train, y_stratify_train)\n"
   ]
  },
  {
   "cell_type": "code",
<<<<<<< HEAD:3_FeatureEngineering_TrainTestSplit.ipynb
   "execution_count": 19,
   "metadata": {},
   "outputs": [],
   "source": [
    "y_stratify_train = y_stratify_train.sample(frac=0.5)\n",
    "mask = y_stratify_train.index\n",
    "X_train = X_train.iloc[mask]"
   ]
  },
  {
   "cell_type": "code",
   "execution_count": 20,
=======
   "execution_count": 36,
>>>>>>> main:2_FeatureEngineering_TrainTestSplit.ipynb
   "metadata": {},
   "outputs": [],
   "source": [
    "y_loan_status_train = y_stratify_train.apply(lambda x: int(x[0]))\n",
    "y_grade_train = y_stratify_train.apply(lambda x: x[1])\n",
    "\n",
    "y_loan_status_test = y_stratify_test.apply(lambda x: int(x[0]))\n",
    "y_grade_test = y_stratify_test.apply(lambda x: x[1])\n",
    "\n",
    "y_loan_status_str_train = y_loan_status_train.apply(lambda x : fully_paid_str if x == fully_paid_val else charged_off_str)\n",
    "y_loan_status_str_test = y_loan_status_test.apply(lambda x : fully_paid_str if x == fully_paid_val else charged_off_str)"
   ]
  },
  {
   "cell_type": "code",
<<<<<<< HEAD:3_FeatureEngineering_TrainTestSplit.ipynb
   "execution_count": 21,
=======
   "execution_count": 37,
>>>>>>> main:2_FeatureEngineering_TrainTestSplit.ipynb
   "metadata": {},
   "outputs": [
    {
     "name": "stdout",
     "output_type": "stream",
     "text": [
      "Stored 'X_train' (DataFrame)\n",
      "Stored 'X_test' (DataFrame)\n",
      "Stored 'y_loan_status_train' (Series)\n",
      "Stored 'y_loan_status_test' (Series)\n",
      "Stored 'y_loan_status_str_train' (Series)\n",
      "Stored 'y_loan_status_str_test' (Series)\n",
      "Stored 'y_grade_train' (Series)\n",
      "Stored 'y_grade_test' (Series)\n"
     ]
    }
   ],
   "source": [
    "%store X_train X_test y_loan_status_train y_loan_status_test y_loan_status_str_train y_loan_status_str_test y_grade_train y_grade_test\n"
   ]
  },
  {
   "cell_type": "code",
   "execution_count": null,
   "metadata": {},
   "outputs": [],
   "source": []
<<<<<<< HEAD:3_FeatureEngineering_TrainTestSplit.ipynb
  }
 ],
 "metadata": {
  "interpreter": {
   "hash": "f65652939e43b240251679cd6b44d012c40ee3e672c80ac5c3588dc23d5ebd80"
  },
  "kernelspec": {
   "display_name": "Python 3",
   "language": "python",
   "name": "python3"
  },
  "language_info": {
   "codemirror_mode": {
    "name": "ipython",
    "version": 3
   },
   "file_extension": ".py",
   "mimetype": "text/x-python",
   "name": "python",
   "nbconvert_exporter": "python",
   "pygments_lexer": "ipython3",
   "version": "3.8.5"
=======
  },
  {
   "cell_type": "code",
   "execution_count": null,
   "metadata": {},
   "outputs": [],
   "source": []
>>>>>>> main:2_FeatureEngineering_TrainTestSplit.ipynb
  }
 },
 "nbformat": 4,
 "nbformat_minor": 4
}
