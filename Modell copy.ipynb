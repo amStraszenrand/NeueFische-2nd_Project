{
 "cells": [
  {
   "cell_type": "code",
   "execution_count": 2,
   "id": "343375cd",
   "metadata": {},
   "outputs": [
    {
     "output_type": "execute_result",
     "data": {
      "text/plain": [
       "       loan_amnt  term  int_rate  installment  annual_inc  issue_d    dti  \\\n",
       "0         5000.0  36.0     10.65       162.87     24000.0   734472  27.65   \n",
       "1         2500.0  60.0     15.27        59.83     30000.0   734472   1.00   \n",
       "2         2400.0  36.0     15.96        84.33     12252.0   734472   8.72   \n",
       "3        10000.0  36.0     13.49       339.31     49200.0   734472  20.00   \n",
       "4         3000.0  60.0     12.69        67.79     80000.0   734472  17.94   \n",
       "...          ...   ...       ...          ...         ...      ...    ...   \n",
       "42531     3500.0  36.0     10.28       113.39    180000.0   732828  10.00   \n",
       "42532     1000.0  36.0      9.64        32.11     12000.0   732828  10.00   \n",
       "42533     2525.0  36.0      9.33        80.69    110000.0   732828  10.00   \n",
       "42534     6500.0  36.0      8.38       204.84     59000.0   732828   4.00   \n",
       "42535     5000.0  36.0      7.75       156.11     70000.0   732828   8.81   \n",
       "\n",
       "       open_acc  revol_bal  pub_rec_bankruptcies  ...  \\\n",
       "0           3.0    13648.0                   0.0  ...   \n",
       "1           3.0     1687.0                   0.0  ...   \n",
       "2           2.0     2956.0                   0.0  ...   \n",
       "3          10.0     5598.0                   0.0  ...   \n",
       "4          15.0    27783.0                   0.0  ...   \n",
       "...         ...        ...                   ...  ...   \n",
       "42531       9.0        0.0                   0.0  ...   \n",
       "42532       9.0        0.0                   0.0  ...   \n",
       "42533       9.0        0.0                   0.0  ...   \n",
       "42534       9.0        0.0                   0.0  ...   \n",
       "42535       9.0        0.0                   0.0  ...   \n",
       "\n",
       "       purpose_home_improvement  purpose_house  purpose_major_purchase  \\\n",
       "0                             0              0                       0   \n",
       "1                             0              0                       0   \n",
       "2                             0              0                       0   \n",
       "3                             0              0                       0   \n",
       "4                             0              0                       0   \n",
       "...                         ...            ...                     ...   \n",
       "42531                         0              0                       0   \n",
       "42532                         0              0                       0   \n",
       "42533                         0              0                       0   \n",
       "42534                         0              0                       0   \n",
       "42535                         0              0                       0   \n",
       "\n",
       "       purpose_medical  purpose_moving  purpose_other  \\\n",
       "0                    0               0              0   \n",
       "1                    0               0              0   \n",
       "2                    0               0              0   \n",
       "3                    0               0              1   \n",
       "4                    0               0              1   \n",
       "...                ...             ...            ...   \n",
       "42531                0               0              1   \n",
       "42532                0               0              1   \n",
       "42533                0               0              1   \n",
       "42534                0               0              1   \n",
       "42535                0               0              1   \n",
       "\n",
       "       purpose_renewable_energy  purpose_small_business  purpose_vacation  \\\n",
       "0                             0                       0                 0   \n",
       "1                             0                       0                 0   \n",
       "2                             0                       1                 0   \n",
       "3                             0                       0                 0   \n",
       "4                             0                       0                 0   \n",
       "...                         ...                     ...               ...   \n",
       "42531                         0                       0                 0   \n",
       "42532                         0                       0                 0   \n",
       "42533                         0                       0                 0   \n",
       "42534                         0                       0                 0   \n",
       "42535                         0                       0                 0   \n",
       "\n",
       "       purpose_wedding  \n",
       "0                    0  \n",
       "1                    0  \n",
       "2                    0  \n",
       "3                    0  \n",
       "4                    0  \n",
       "...                ...  \n",
       "42531                0  \n",
       "42532                0  \n",
       "42533                0  \n",
       "42534                0  \n",
       "42535                0  \n",
       "\n",
       "[42535 rows x 40 columns]"
      ],
      "text/html": "<div>\n<style scoped>\n    .dataframe tbody tr th:only-of-type {\n        vertical-align: middle;\n    }\n\n    .dataframe tbody tr th {\n        vertical-align: top;\n    }\n\n    .dataframe thead th {\n        text-align: right;\n    }\n</style>\n<table border=\"1\" class=\"dataframe\">\n  <thead>\n    <tr style=\"text-align: right;\">\n      <th></th>\n      <th>loan_amnt</th>\n      <th>term</th>\n      <th>int_rate</th>\n      <th>installment</th>\n      <th>annual_inc</th>\n      <th>issue_d</th>\n      <th>dti</th>\n      <th>open_acc</th>\n      <th>revol_bal</th>\n      <th>pub_rec_bankruptcies</th>\n      <th>...</th>\n      <th>purpose_home_improvement</th>\n      <th>purpose_house</th>\n      <th>purpose_major_purchase</th>\n      <th>purpose_medical</th>\n      <th>purpose_moving</th>\n      <th>purpose_other</th>\n      <th>purpose_renewable_energy</th>\n      <th>purpose_small_business</th>\n      <th>purpose_vacation</th>\n      <th>purpose_wedding</th>\n    </tr>\n  </thead>\n  <tbody>\n    <tr>\n      <th>0</th>\n      <td>5000.0</td>\n      <td>36.0</td>\n      <td>10.65</td>\n      <td>162.87</td>\n      <td>24000.0</td>\n      <td>734472</td>\n      <td>27.65</td>\n      <td>3.0</td>\n      <td>13648.0</td>\n      <td>0.0</td>\n      <td>...</td>\n      <td>0</td>\n      <td>0</td>\n      <td>0</td>\n      <td>0</td>\n      <td>0</td>\n      <td>0</td>\n      <td>0</td>\n      <td>0</td>\n      <td>0</td>\n      <td>0</td>\n    </tr>\n    <tr>\n      <th>1</th>\n      <td>2500.0</td>\n      <td>60.0</td>\n      <td>15.27</td>\n      <td>59.83</td>\n      <td>30000.0</td>\n      <td>734472</td>\n      <td>1.00</td>\n      <td>3.0</td>\n      <td>1687.0</td>\n      <td>0.0</td>\n      <td>...</td>\n      <td>0</td>\n      <td>0</td>\n      <td>0</td>\n      <td>0</td>\n      <td>0</td>\n      <td>0</td>\n      <td>0</td>\n      <td>0</td>\n      <td>0</td>\n      <td>0</td>\n    </tr>\n    <tr>\n      <th>2</th>\n      <td>2400.0</td>\n      <td>36.0</td>\n      <td>15.96</td>\n      <td>84.33</td>\n      <td>12252.0</td>\n      <td>734472</td>\n      <td>8.72</td>\n      <td>2.0</td>\n      <td>2956.0</td>\n      <td>0.0</td>\n      <td>...</td>\n      <td>0</td>\n      <td>0</td>\n      <td>0</td>\n      <td>0</td>\n      <td>0</td>\n      <td>0</td>\n      <td>0</td>\n      <td>1</td>\n      <td>0</td>\n      <td>0</td>\n    </tr>\n    <tr>\n      <th>3</th>\n      <td>10000.0</td>\n      <td>36.0</td>\n      <td>13.49</td>\n      <td>339.31</td>\n      <td>49200.0</td>\n      <td>734472</td>\n      <td>20.00</td>\n      <td>10.0</td>\n      <td>5598.0</td>\n      <td>0.0</td>\n      <td>...</td>\n      <td>0</td>\n      <td>0</td>\n      <td>0</td>\n      <td>0</td>\n      <td>0</td>\n      <td>1</td>\n      <td>0</td>\n      <td>0</td>\n      <td>0</td>\n      <td>0</td>\n    </tr>\n    <tr>\n      <th>4</th>\n      <td>3000.0</td>\n      <td>60.0</td>\n      <td>12.69</td>\n      <td>67.79</td>\n      <td>80000.0</td>\n      <td>734472</td>\n      <td>17.94</td>\n      <td>15.0</td>\n      <td>27783.0</td>\n      <td>0.0</td>\n      <td>...</td>\n      <td>0</td>\n      <td>0</td>\n      <td>0</td>\n      <td>0</td>\n      <td>0</td>\n      <td>1</td>\n      <td>0</td>\n      <td>0</td>\n      <td>0</td>\n      <td>0</td>\n    </tr>\n    <tr>\n      <th>...</th>\n      <td>...</td>\n      <td>...</td>\n      <td>...</td>\n      <td>...</td>\n      <td>...</td>\n      <td>...</td>\n      <td>...</td>\n      <td>...</td>\n      <td>...</td>\n      <td>...</td>\n      <td>...</td>\n      <td>...</td>\n      <td>...</td>\n      <td>...</td>\n      <td>...</td>\n      <td>...</td>\n      <td>...</td>\n      <td>...</td>\n      <td>...</td>\n      <td>...</td>\n      <td>...</td>\n    </tr>\n    <tr>\n      <th>42531</th>\n      <td>3500.0</td>\n      <td>36.0</td>\n      <td>10.28</td>\n      <td>113.39</td>\n      <td>180000.0</td>\n      <td>732828</td>\n      <td>10.00</td>\n      <td>9.0</td>\n      <td>0.0</td>\n      <td>0.0</td>\n      <td>...</td>\n      <td>0</td>\n      <td>0</td>\n      <td>0</td>\n      <td>0</td>\n      <td>0</td>\n      <td>1</td>\n      <td>0</td>\n      <td>0</td>\n      <td>0</td>\n      <td>0</td>\n    </tr>\n    <tr>\n      <th>42532</th>\n      <td>1000.0</td>\n      <td>36.0</td>\n      <td>9.64</td>\n      <td>32.11</td>\n      <td>12000.0</td>\n      <td>732828</td>\n      <td>10.00</td>\n      <td>9.0</td>\n      <td>0.0</td>\n      <td>0.0</td>\n      <td>...</td>\n      <td>0</td>\n      <td>0</td>\n      <td>0</td>\n      <td>0</td>\n      <td>0</td>\n      <td>1</td>\n      <td>0</td>\n      <td>0</td>\n      <td>0</td>\n      <td>0</td>\n    </tr>\n    <tr>\n      <th>42533</th>\n      <td>2525.0</td>\n      <td>36.0</td>\n      <td>9.33</td>\n      <td>80.69</td>\n      <td>110000.0</td>\n      <td>732828</td>\n      <td>10.00</td>\n      <td>9.0</td>\n      <td>0.0</td>\n      <td>0.0</td>\n      <td>...</td>\n      <td>0</td>\n      <td>0</td>\n      <td>0</td>\n      <td>0</td>\n      <td>0</td>\n      <td>1</td>\n      <td>0</td>\n      <td>0</td>\n      <td>0</td>\n      <td>0</td>\n    </tr>\n    <tr>\n      <th>42534</th>\n      <td>6500.0</td>\n      <td>36.0</td>\n      <td>8.38</td>\n      <td>204.84</td>\n      <td>59000.0</td>\n      <td>732828</td>\n      <td>4.00</td>\n      <td>9.0</td>\n      <td>0.0</td>\n      <td>0.0</td>\n      <td>...</td>\n      <td>0</td>\n      <td>0</td>\n      <td>0</td>\n      <td>0</td>\n      <td>0</td>\n      <td>1</td>\n      <td>0</td>\n      <td>0</td>\n      <td>0</td>\n      <td>0</td>\n    </tr>\n    <tr>\n      <th>42535</th>\n      <td>5000.0</td>\n      <td>36.0</td>\n      <td>7.75</td>\n      <td>156.11</td>\n      <td>70000.0</td>\n      <td>732828</td>\n      <td>8.81</td>\n      <td>9.0</td>\n      <td>0.0</td>\n      <td>0.0</td>\n      <td>...</td>\n      <td>0</td>\n      <td>0</td>\n      <td>0</td>\n      <td>0</td>\n      <td>0</td>\n      <td>1</td>\n      <td>0</td>\n      <td>0</td>\n      <td>0</td>\n      <td>0</td>\n    </tr>\n  </tbody>\n</table>\n<p>42535 rows × 40 columns</p>\n</div>"
     },
     "metadata": {},
     "execution_count": 2
    }
   ],
   "source": [
    "import pandas as pd\n",
    "import numpy as np\n",
    "\n",
    "import matplotlib.pyplot as plt\n",
    "import seaborn as sns\n",
    "from sklearn import svm\n",
    "\n",
    "\n",
    "\n",
    "from sklearn.ensemble import RandomForestClassifier\n",
    "from sklearn.tree import DecisionTreeClassifier\n",
    "from sklearn.svm import LinearSVC\n",
    "from sklearn.neighbors import KNeighborsClassifier\n",
    "from sklearn.linear_model import LogisticRegression\n",
    "from sklearn.preprocessing import StandardScaler\n",
    "from sklearn.model_selection import train_test_split\n",
    "from sklearn.metrics import confusion_matrix, accuracy_score, precision_score, recall_score, classification_report\n",
    "\n",
    "%store -r X y\n",
    "X"
   ]
  },
  {
   "cell_type": "code",
   "execution_count": 3,
   "id": "307f9ef1",
   "metadata": {},
   "outputs": [],
   "source": [
    "##### Funktion scor\n",
    "\n",
    "\n",
    "def score_print(y,y_pred):\n",
    "    \n",
    "    cm = confusion_matrix(y,y_pred)\n",
    "    print(cm)\n",
    "    cp= classification_report(y,y_pred)\n",
    "    print(cp)\n",
    "    "
   ]
  },
  {
   "cell_type": "code",
   "execution_count": 4,
   "id": "f7706530",
   "metadata": {},
   "outputs": [
    {
     "output_type": "stream",
     "name": "stdout",
     "text": [
      "Total number of records: 42535\nIndividuals has paid her credit fully: 6422\nIndividuals hasn't paid her credit: 36113\nPercentage of individuals that paid ther credit: 15.10%\n"
     ]
    }
   ],
   "source": [
    "###### Naiv-estimator\n",
    "\n",
    "\n",
    "# TODO: Total number of records\n",
    "n_records = len(X)\n",
    "\n",
    "# TODO: Number of records where individual's income is more than $50,000\n",
    "fully_paid = sum(y==1)\n",
    "\n",
    "# TODO: Number of records where individual's income is at most $50,000\n",
    "charged_off = n_records - fully_paid\n",
    "\n",
    "# TODO: Percentage of individuals whose income is more than $50,000\n",
    "greater_percent = 100 * fully_paid / n_records\n",
    "\n",
    "# Print the results\n",
    "print (\"Total number of records: {}\".format(n_records))\n",
    "print (\"Individuals has paid her credit fully: {}\".format(fully_paid))\n",
    "print (\"Individuals hasn't paid her credit: {}\".format(charged_off))\n",
    "print (\"Percentage of individuals that paid ther credit: {:.2f}%\".format(greater_percent))"
   ]
  },
  {
   "cell_type": "code",
   "execution_count": 5,
   "id": "060e0415",
   "metadata": {},
   "outputs": [
    {
     "output_type": "stream",
     "name": "stdout",
     "text": [
      "Training set has 25521 samples.\nTesting set has 17014 samples.\n"
     ]
    }
   ],
   "source": [
    "#Split into train and test\n",
    "\n",
    "X_train, X_test, y_train, y_test= train_test_split(X, y, test_size = 0.4, random_state = 70, stratify= y)\n",
    "\n",
    "# Show the results of the split\n",
    "print (\"Training set has {} samples.\".format(X_train.shape[0]))\n",
    "print (\"Testing set has {} samples.\".format(X_test.shape[0]))"
   ]
  },
  {
   "cell_type": "code",
   "execution_count": 6,
   "metadata": {},
   "outputs": [
    {
     "output_type": "execute_result",
     "data": {
      "text/plain": [
       "['loan_amnt',\n",
       " 'term',\n",
       " 'int_rate',\n",
       " 'installment',\n",
       " 'annual_inc',\n",
       " 'dti',\n",
       " 'open_acc',\n",
       " 'revol_bal',\n",
       " 'pub_rec_bankruptcies']"
      ]
     },
     "metadata": {},
     "execution_count": 6
    }
   ],
   "source": [
    "numerical = [col for col in X if X.dtypes[col] == \"float64\"]\n",
    "numerical"
   ]
  },
  {
   "cell_type": "code",
   "execution_count": 7,
   "id": "fb492da1",
   "metadata": {},
   "outputs": [
    {
     "output_type": "stream",
     "name": "stderr",
     "text": [
      "/Users/kli/neuefische/13_Decision_trees/ds-ensemble-methods/.venv/lib/python3.8/site-packages/pandas/core/indexing.py:1738: SettingWithCopyWarning: \nA value is trying to be set on a copy of a slice from a DataFrame.\nTry using .loc[row_indexer,col_indexer] = value instead\n\nSee the caveats in the documentation: https://pandas.pydata.org/pandas-docs/stable/user_guide/indexing.html#returning-a-view-versus-a-copy\n  self._setitem_single_column(loc, value[:, i].tolist(), pi)\n/Users/kli/neuefische/13_Decision_trees/ds-ensemble-methods/.venv/lib/python3.8/site-packages/pandas/core/indexing.py:1738: SettingWithCopyWarning: \nA value is trying to be set on a copy of a slice from a DataFrame.\nTry using .loc[row_indexer,col_indexer] = value instead\n\nSee the caveats in the documentation: https://pandas.pydata.org/pandas-docs/stable/user_guide/indexing.html#returning-a-view-versus-a-copy\n  self._setitem_single_column(loc, value[:, i].tolist(), pi)\n"
     ]
    }
   ],
   "source": [
    "#### skalieren\n",
    "from sklearn.preprocessing import MinMaxScaler\n",
    "\n",
    "\n",
    "# Initialize a scaler, then apply it to the features\n",
    "scaler = MinMaxScaler()\n",
    "#numerical = ['loan_amnt', 'term', 'int_rate', 'installment', 'annual_inc',\"issue_d\",\"dti\",\"open_acc\",\"revol_bal\",\"pub_rec_bankruptcies\" ]\n",
    "numerical = [col for col in X if X.dtypes[col] == \"float64\"]\n",
    "X_train.loc[:,numerical] = scaler.fit_transform(X_train[numerical])\n",
    "X_test.loc[:,numerical] = scaler.transform(X_test[numerical])\n",
    "\n"
   ]
  },
  {
   "cell_type": "code",
   "execution_count": 8,
   "metadata": {},
   "outputs": [
    {
     "output_type": "execute_result",
     "data": {
      "text/plain": [
       "loan_amnt                              0\n",
       "term                                   0\n",
       "int_rate                               0\n",
       "installment                            0\n",
       "annual_inc                             0\n",
       "issue_d                                0\n",
       "dti                                    0\n",
       "open_acc                               0\n",
       "revol_bal                              0\n",
       "pub_rec_bankruptcies                   0\n",
       "emp_length_10+ years                   0\n",
       "emp_length_2 years                     0\n",
       "emp_length_3 years                     0\n",
       "emp_length_4 years                     0\n",
       "emp_length_5 years                     0\n",
       "emp_length_6 years                     0\n",
       "emp_length_7 years                     0\n",
       "emp_length_8 years                     0\n",
       "emp_length_9 years                     0\n",
       "emp_length_< 1 year                    0\n",
       "emp_length_no info at all              0\n",
       "home_ownership_NONE                    0\n",
       "home_ownership_OTHER                   0\n",
       "home_ownership_OWN                     0\n",
       "home_ownership_RENT                    0\n",
       "verification_status_Source Verified    0\n",
       "verification_status_Verified           0\n",
       "purpose_credit_card                    0\n",
       "purpose_debt_consolidation             0\n",
       "purpose_educational                    0\n",
       "purpose_home_improvement               0\n",
       "purpose_house                          0\n",
       "purpose_major_purchase                 0\n",
       "purpose_medical                        0\n",
       "purpose_moving                         0\n",
       "purpose_other                          0\n",
       "purpose_renewable_energy               0\n",
       "purpose_small_business                 0\n",
       "purpose_vacation                       0\n",
       "purpose_wedding                        0\n",
       "dtype: int64"
      ]
     },
     "metadata": {},
     "execution_count": 8
    }
   ],
   "source": [
    "X_train.isna().sum()"
   ]
  },
  {
   "cell_type": "code",
   "execution_count": 9,
   "id": "428193f2",
   "metadata": {},
   "outputs": [
    {
     "output_type": "execute_result",
     "data": {
      "text/plain": [
       "0.8490262920731946"
      ]
     },
     "metadata": {},
     "execution_count": 9
    }
   ],
   "source": [
    "####fit von log reg\n",
    "\n",
    "lr = LogisticRegression(max_iter=10000,random_state=70)\n",
    "lr.fit(X_train, y_train)\n",
    "lr.score(X_train,y_train)"
   ]
  },
  {
   "cell_type": "code",
   "execution_count": 10,
   "id": "1c060d42",
   "metadata": {},
   "outputs": [],
   "source": [
    "### predic\n",
    "\n",
    "y_pred = lr.predict(X_test)"
   ]
  },
  {
   "cell_type": "code",
   "execution_count": 11,
   "id": "079011ae",
   "metadata": {},
   "outputs": [
    {
     "output_type": "stream",
     "name": "stdout",
     "text": [
      "[[21668     0]\n",
      " [ 3853     0]]\n",
      "              precision    recall  f1-score   support\n",
      "\n",
      "           0       0.85      1.00      0.92     21668\n",
      "           1       0.00      0.00      0.00      3853\n",
      "\n",
      "    accuracy                           0.85     25521\n",
      "   macro avg       0.42      0.50      0.46     25521\n",
      "weighted avg       0.72      0.85      0.78     25521\n",
      "\n",
      "/Users/kli/neuefische/13_Decision_trees/ds-ensemble-methods/.venv/lib/python3.8/site-packages/sklearn/metrics/_classification.py:1248: UndefinedMetricWarning: Precision and F-score are ill-defined and being set to 0.0 in labels with no predicted samples. Use `zero_division` parameter to control this behavior.\n",
      "  _warn_prf(average, modifier, msg_start, len(result))\n",
      "/Users/kli/neuefische/13_Decision_trees/ds-ensemble-methods/.venv/lib/python3.8/site-packages/sklearn/metrics/_classification.py:1248: UndefinedMetricWarning: Precision and F-score are ill-defined and being set to 0.0 in labels with no predicted samples. Use `zero_division` parameter to control this behavior.\n",
      "  _warn_prf(average, modifier, msg_start, len(result))\n",
      "/Users/kli/neuefische/13_Decision_trees/ds-ensemble-methods/.venv/lib/python3.8/site-packages/sklearn/metrics/_classification.py:1248: UndefinedMetricWarning: Precision and F-score are ill-defined and being set to 0.0 in labels with no predicted samples. Use `zero_division` parameter to control this behavior.\n",
      "  _warn_prf(average, modifier, msg_start, len(result))\n"
     ]
    }
   ],
   "source": [
    "### score für unsere trainingsdaten\n",
    "\n",
    "score_print(y_train,lr.predict(X_train))"
   ]
  },
  {
   "cell_type": "code",
   "execution_count": 12,
   "id": "e171b644",
   "metadata": {},
   "outputs": [
    {
     "output_type": "stream",
     "name": "stdout",
     "text": [
      "[[14445     0]\n",
      " [ 2569     0]]\n",
      "              precision    recall  f1-score   support\n",
      "\n",
      "           0       0.85      1.00      0.92     14445\n",
      "           1       0.00      0.00      0.00      2569\n",
      "\n",
      "    accuracy                           0.85     17014\n",
      "   macro avg       0.42      0.50      0.46     17014\n",
      "weighted avg       0.72      0.85      0.78     17014\n",
      "\n",
      "/Users/kli/neuefische/13_Decision_trees/ds-ensemble-methods/.venv/lib/python3.8/site-packages/sklearn/metrics/_classification.py:1248: UndefinedMetricWarning: Precision and F-score are ill-defined and being set to 0.0 in labels with no predicted samples. Use `zero_division` parameter to control this behavior.\n",
      "  _warn_prf(average, modifier, msg_start, len(result))\n",
      "/Users/kli/neuefische/13_Decision_trees/ds-ensemble-methods/.venv/lib/python3.8/site-packages/sklearn/metrics/_classification.py:1248: UndefinedMetricWarning: Precision and F-score are ill-defined and being set to 0.0 in labels with no predicted samples. Use `zero_division` parameter to control this behavior.\n",
      "  _warn_prf(average, modifier, msg_start, len(result))\n",
      "/Users/kli/neuefische/13_Decision_trees/ds-ensemble-methods/.venv/lib/python3.8/site-packages/sklearn/metrics/_classification.py:1248: UndefinedMetricWarning: Precision and F-score are ill-defined and being set to 0.0 in labels with no predicted samples. Use `zero_division` parameter to control this behavior.\n",
      "  _warn_prf(average, modifier, msg_start, len(result))\n"
     ]
    }
   ],
   "source": [
    "#####evu\n",
    "\n",
    "score_print(y_test,y_pred)"
   ]
  },
  {
   "cell_type": "code",
   "execution_count": 13,
   "id": "c98e157a",
   "metadata": {},
   "outputs": [
    {
     "output_type": "stream",
     "name": "stdout",
     "text": [
      "[[14109   336]\n [ 2433   136]]\n              precision    recall  f1-score   support\n\n           0       0.85      0.98      0.91     14445\n           1       0.29      0.05      0.09      2569\n\n    accuracy                           0.84     17014\n   macro avg       0.57      0.51      0.50     17014\nweighted avg       0.77      0.84      0.79     17014\n\n"
     ]
    }
   ],
   "source": [
    "######## DecisionTree\n",
    "dtc = DecisionTreeClassifier(max_depth=10, min_samples_split=5, random_state=70)\n",
    "dtc.fit(X_train,y_train)\n",
    "y_pred_dtc=dtc.predict(X_test)\n",
    "score_print(y_test,y_pred_dtc)"
   ]
  },
  {
   "cell_type": "code",
   "execution_count": 14,
   "id": "c4592ac9",
   "metadata": {},
   "outputs": [
    {
     "output_type": "stream",
     "name": "stdout",
     "text": [
      "[[21568   100]\n [ 3293   560]]\n              precision    recall  f1-score   support\n\n           0       0.87      1.00      0.93     21668\n           1       0.85      0.15      0.25      3853\n\n    accuracy                           0.87     25521\n   macro avg       0.86      0.57      0.59     25521\nweighted avg       0.86      0.87      0.82     25521\n\n"
     ]
    }
   ],
   "source": [
    "### score auf unsere trainingdaten\n",
    "\n",
    "\n",
    "score_print(y_train,dtc.predict(X_train))"
   ]
  },
  {
   "cell_type": "code",
   "execution_count": 15,
   "id": "0d5ac6e2",
   "metadata": {},
   "outputs": [
    {
     "output_type": "execute_result",
     "data": {
      "text/plain": [
       "(25521, 40)"
      ]
     },
     "metadata": {},
     "execution_count": 15
    }
   ],
   "source": [
    "X_train.shape"
   ]
  },
  {
   "cell_type": "code",
   "execution_count": 56,
   "id": "2423c8a5",
   "metadata": {},
   "outputs": [
    {
     "output_type": "execute_result",
     "data": {
      "text/plain": [
       "(25521,)"
      ]
     },
     "metadata": {},
     "execution_count": 56
    }
   ],
   "source": [
    "y_train.shape"
   ]
  },
  {
   "cell_type": "code",
   "execution_count": 57,
   "id": "3d5c4ccd",
   "metadata": {},
   "outputs": [],
   "source": [
    "####LinearSVC"
   ]
  },
  {
   "cell_type": "code",
   "execution_count": 58,
   "id": "9cba9b53",
   "metadata": {},
   "outputs": [
    {
     "output_type": "stream",
     "name": "stdout",
     "text": [
      "[[5408 1314   22    1]\n",
      " [2058 5343  207    0]\n",
      " [ 254  769 1448   27]\n",
      " [   7   21   51   84]]\n",
      "              precision    recall  f1-score   support\n",
      "\n",
      "          10       0.70      0.80      0.75      6745\n",
      "          15       0.72      0.70      0.71      7608\n",
      "          20       0.84      0.58      0.69      2498\n",
      "          25       0.75      0.52      0.61       163\n",
      "\n",
      "    accuracy                           0.72     17014\n",
      "   macro avg       0.75      0.65      0.69     17014\n",
      "weighted avg       0.73      0.72      0.72     17014\n",
      "\n",
      "/Users/kli/neuefische/13_Decision_trees/ds-ensemble-methods/.venv/lib/python3.8/site-packages/sklearn/svm/_base.py:985: ConvergenceWarning: Liblinear failed to converge, increase the number of iterations.\n",
      "  warnings.warn(\"Liblinear failed to converge, increase \"\n"
     ]
    }
   ],
   "source": [
    "svc= LinearSVC(random_state=70)\n",
    "svc.fit(X_train,y_train)\n",
    "y_pred_svc=dtc.predict(X_test)\n",
    "score_print(y_test,y_pred_svc)"
   ]
  },
  {
   "cell_type": "code",
   "execution_count": 59,
   "id": "b6495bc6",
   "metadata": {},
   "outputs": [
    {
     "output_type": "stream",
     "name": "stdout",
     "text": [
      "[[10116     0     0     0]\n",
      " [11413     0     0     0]\n",
      " [ 3747     0     0     0]\n",
      " [  245     0     0     0]]\n",
      "              precision    recall  f1-score   support\n",
      "\n",
      "          10       0.40      1.00      0.57     10116\n",
      "          15       0.00      0.00      0.00     11413\n",
      "          20       0.00      0.00      0.00      3747\n",
      "          25       0.00      0.00      0.00       245\n",
      "\n",
      "    accuracy                           0.40     25521\n",
      "   macro avg       0.10      0.25      0.14     25521\n",
      "weighted avg       0.16      0.40      0.23     25521\n",
      "\n",
      "/Users/kli/neuefische/13_Decision_trees/ds-ensemble-methods/.venv/lib/python3.8/site-packages/sklearn/metrics/_classification.py:1248: UndefinedMetricWarning: Precision and F-score are ill-defined and being set to 0.0 in labels with no predicted samples. Use `zero_division` parameter to control this behavior.\n",
      "  _warn_prf(average, modifier, msg_start, len(result))\n",
      "/Users/kli/neuefische/13_Decision_trees/ds-ensemble-methods/.venv/lib/python3.8/site-packages/sklearn/metrics/_classification.py:1248: UndefinedMetricWarning: Precision and F-score are ill-defined and being set to 0.0 in labels with no predicted samples. Use `zero_division` parameter to control this behavior.\n",
      "  _warn_prf(average, modifier, msg_start, len(result))\n",
      "/Users/kli/neuefische/13_Decision_trees/ds-ensemble-methods/.venv/lib/python3.8/site-packages/sklearn/metrics/_classification.py:1248: UndefinedMetricWarning: Precision and F-score are ill-defined and being set to 0.0 in labels with no predicted samples. Use `zero_division` parameter to control this behavior.\n",
      "  _warn_prf(average, modifier, msg_start, len(result))\n"
     ]
    }
   ],
   "source": [
    "########## score auf unsere trainingdaten\n",
    "\n",
    "\n",
    "score_print(y_train,svc.predict(X_train))"
   ]
  },
  {
   "cell_type": "code",
   "execution_count": 60,
   "id": "0b0805c6",
   "metadata": {},
   "outputs": [],
   "source": [
    "#######   KNeighborsClassifier"
   ]
  },
  {
   "cell_type": "code",
   "execution_count": 61,
   "id": "07d2914a",
   "metadata": {},
   "outputs": [
    {
     "output_type": "stream",
     "name": "stdout",
     "text": [
      "[[4279 2366   99    1]\n [3158 4021  425    4]\n [ 730 1291  464   13]\n [  28   77   57    1]]\n              precision    recall  f1-score   support\n\n          10       0.52      0.63      0.57      6745\n          15       0.52      0.53      0.52      7608\n          20       0.44      0.19      0.26      2498\n          25       0.05      0.01      0.01       163\n\n    accuracy                           0.52     17014\n   macro avg       0.38      0.34      0.34     17014\nweighted avg       0.50      0.52      0.50     17014\n\n"
     ]
    }
   ],
   "source": [
    "knn=KNeighborsClassifier(n_neighbors=5)\n",
    "\n",
    "knn.fit(X_train,y_train)\n",
    "y_pred_knn=knn.predict(X_test)\n",
    "score_print(y_test,y_pred_knn)"
   ]
  },
  {
   "cell_type": "code",
   "execution_count": 62,
   "id": "fdac6d9a",
   "metadata": {},
   "outputs": [
    {
     "output_type": "stream",
     "name": "stdout",
     "text": [
      "[[7809 2215   92    0]\n [3088 7943  377    5]\n [1072 1514 1155    6]\n [  38  119   70   18]]\n              precision    recall  f1-score   support\n\n          10       0.65      0.77      0.71     10116\n          15       0.67      0.70      0.68     11413\n          20       0.68      0.31      0.42      3747\n          25       0.62      0.07      0.13       245\n\n    accuracy                           0.66     25521\n   macro avg       0.66      0.46      0.49     25521\nweighted avg       0.67      0.66      0.65     25521\n\n"
     ]
    }
   ],
   "source": [
    "########## score auf unsere trainingdaten\n",
    "\n",
    "\n",
    "score_print(y_train,knn.predict(X_train))"
   ]
  },
  {
   "cell_type": "code",
   "execution_count": 63,
   "id": "3f0514a7",
   "metadata": {},
   "outputs": [],
   "source": [
    "###### svm\n",
    "\n",
    "clf = svm.SVC(kernel='rbf')\n",
    "#clf.fit(X_train,y_train)\n",
    "#y_pred_clf=clf.predict(X_test)\n",
    "#score_print(y_test,y_pred_clf)"
   ]
  },
  {
   "cell_type": "code",
   "execution_count": 64,
   "id": "94fa728c",
   "metadata": {},
   "outputs": [],
   "source": [
    "########## score auf unsere trainingdaten\n",
    "\n",
    "\n",
    "#score_print(y_train,clf.predict(X_train))"
   ]
  },
  {
   "cell_type": "code",
   "execution_count": 65,
   "id": "b70e75df",
   "metadata": {},
   "outputs": [
    {
     "output_type": "stream",
     "name": "stdout",
     "text": [
      "[[4334 2411    0    0]\n",
      " [2009 5594    5    0]\n",
      " [ 268 2144   86    0]\n",
      " [   4  133   26    0]]\n",
      "              precision    recall  f1-score   support\n",
      "\n",
      "          10       0.66      0.64      0.65      6745\n",
      "          15       0.54      0.74      0.63      7608\n",
      "          20       0.74      0.03      0.07      2498\n",
      "          25       0.00      0.00      0.00       163\n",
      "\n",
      "    accuracy                           0.59     17014\n",
      "   macro avg       0.48      0.35      0.33     17014\n",
      "weighted avg       0.61      0.59      0.55     17014\n",
      "\n",
      "/Users/kli/neuefische/13_Decision_trees/ds-ensemble-methods/.venv/lib/python3.8/site-packages/sklearn/metrics/_classification.py:1248: UndefinedMetricWarning: Precision and F-score are ill-defined and being set to 0.0 in labels with no predicted samples. Use `zero_division` parameter to control this behavior.\n",
      "  _warn_prf(average, modifier, msg_start, len(result))\n",
      "/Users/kli/neuefische/13_Decision_trees/ds-ensemble-methods/.venv/lib/python3.8/site-packages/sklearn/metrics/_classification.py:1248: UndefinedMetricWarning: Precision and F-score are ill-defined and being set to 0.0 in labels with no predicted samples. Use `zero_division` parameter to control this behavior.\n",
      "  _warn_prf(average, modifier, msg_start, len(result))\n",
      "/Users/kli/neuefische/13_Decision_trees/ds-ensemble-methods/.venv/lib/python3.8/site-packages/sklearn/metrics/_classification.py:1248: UndefinedMetricWarning: Precision and F-score are ill-defined and being set to 0.0 in labels with no predicted samples. Use `zero_division` parameter to control this behavior.\n",
      "  _warn_prf(average, modifier, msg_start, len(result))\n"
     ]
    }
   ],
   "source": [
    "##### RandomForestClassifier\n",
    "\n",
    "rfc= RandomForestClassifier(max_depth=5,min_samples_split=20)\n",
    "rfc.fit(X_train,y_train)\n",
    "y_pred_rfc=rfc.predict(X_test)\n",
    "score_print(y_test,y_pred_rfc)"
   ]
  },
  {
   "cell_type": "code",
   "execution_count": 66,
   "id": "fb71d4e6",
   "metadata": {},
   "outputs": [
    {
     "output_type": "stream",
     "name": "stdout",
     "text": [
      "[[6623 3493    0    0]\n",
      " [2906 8506    1    0]\n",
      " [ 447 3148  152    0]\n",
      " [   7  192   46    0]]\n",
      "              precision    recall  f1-score   support\n",
      "\n",
      "          10       0.66      0.65      0.66     10116\n",
      "          15       0.55      0.75      0.64     11413\n",
      "          20       0.76      0.04      0.08      3747\n",
      "          25       0.00      0.00      0.00       245\n",
      "\n",
      "    accuracy                           0.60     25521\n",
      "   macro avg       0.50      0.36      0.34     25521\n",
      "weighted avg       0.62      0.60      0.56     25521\n",
      "\n",
      "/Users/kli/neuefische/13_Decision_trees/ds-ensemble-methods/.venv/lib/python3.8/site-packages/sklearn/metrics/_classification.py:1248: UndefinedMetricWarning: Precision and F-score are ill-defined and being set to 0.0 in labels with no predicted samples. Use `zero_division` parameter to control this behavior.\n",
      "  _warn_prf(average, modifier, msg_start, len(result))\n",
      "/Users/kli/neuefische/13_Decision_trees/ds-ensemble-methods/.venv/lib/python3.8/site-packages/sklearn/metrics/_classification.py:1248: UndefinedMetricWarning: Precision and F-score are ill-defined and being set to 0.0 in labels with no predicted samples. Use `zero_division` parameter to control this behavior.\n",
      "  _warn_prf(average, modifier, msg_start, len(result))\n",
      "/Users/kli/neuefische/13_Decision_trees/ds-ensemble-methods/.venv/lib/python3.8/site-packages/sklearn/metrics/_classification.py:1248: UndefinedMetricWarning: Precision and F-score are ill-defined and being set to 0.0 in labels with no predicted samples. Use `zero_division` parameter to control this behavior.\n",
      "  _warn_prf(average, modifier, msg_start, len(result))\n"
     ]
    }
   ],
   "source": [
    "########## score auf unsere trainingdaten\n",
    "\n",
    "\n",
    "score_print(y_train,rfc.predict(X_train))"
   ]
  },
  {
   "cell_type": "code",
   "execution_count": 67,
   "id": "847d1a31",
   "metadata": {},
   "outputs": [
    {
     "output_type": "stream",
     "name": "stdout",
     "text": [
      "Stored 'X_train' (DataFrame)\nStored 'X_test' (DataFrame)\nStored 'y_test' (Series)\nStored 'y_train' (Series)\nWarning:score_print is <function score_print at 0x12dbe6f70>\nProper storage of interactively declared classes (or instances\nof those classes) is not possible! Only instances\nof classes in real modules on file system can be %store'd.\n\n"
     ]
    }
   ],
   "source": [
    "%store X_train X_test y_test y_train score_print"
   ]
  },
  {
   "cell_type": "code",
   "execution_count": null,
   "id": "f2eeafe3",
   "metadata": {},
   "outputs": [],
   "source": []
  },
  {
   "cell_type": "code",
   "execution_count": null,
   "metadata": {},
   "outputs": [],
   "source": []
  },
  {
   "cell_type": "code",
   "execution_count": null,
   "metadata": {},
   "outputs": [],
   "source": []
  },
  {
   "cell_type": "code",
   "execution_count": null,
   "metadata": {},
   "outputs": [],
   "source": []
  }
 ],
 "metadata": {
  "kernelspec": {
   "name": "python3",
   "display_name": "Python 3.8.5 64-bit"
  },
  "language_info": {
   "codemirror_mode": {
    "name": "ipython",
    "version": 3
   },
   "file_extension": ".py",
   "mimetype": "text/x-python",
   "name": "python",
   "nbconvert_exporter": "python",
   "pygments_lexer": "ipython3",
   "version": "3.8.5"
  },
  "interpreter": {
   "hash": "1e14aed01f57e2f30c4ad33bfe147e3add576437b8baa5fa8c8b958544bcab44"
  }
 },
 "nbformat": 4,
 "nbformat_minor": 5
}