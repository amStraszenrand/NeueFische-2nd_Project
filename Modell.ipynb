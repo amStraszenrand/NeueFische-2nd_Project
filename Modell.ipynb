{
 "cells": [
  {
   "cell_type": "code",
   "execution_count": 52,
   "id": "343375cd",
   "metadata": {},
   "outputs": [],
   "source": [
    "import pandas as pd\n",
    "import numpy as np\n",
    "import matplotlib.pyplot as plt\n",
    "import seaborn as sns\n",
    "from sklearn import svm\n",
    "\n",
    "\n",
    "\n",
    "from sklearn.ensemble import RandomForestClassifier\n",
    "from sklearn.tree import DecisionTreeClassifier\n",
    "from sklearn.svm import LinearSVC\n",
    "from sklearn.neighbors import KNeighborsClassifier\n",
    "from sklearn.linear_model import LogisticRegression\n",
    "from sklearn.preprocessing import StandardScaler\n",
    "from sklearn.model_selection import train_test_split\n",
    "from sklearn.metrics import confusion_matrix, accuracy_score, precision_score, recall_score, classification_report\n",
    "\n",
    "%store -r X y"
   ]
  },
  {
   "cell_type": "code",
   "execution_count": 27,
   "id": "307f9ef1",
   "metadata": {},
   "outputs": [],
   "source": [
    "##### Funktion scor\n",
    "\n",
    "\n",
    "def score_print(y,y_pred):\n",
    "    \n",
    "    cm = confusion_matrix(y,y_pred)\n",
    "    print(cm)\n",
    "    cp= classification_report(y,y_pred)\n",
    "    print(cp)\n",
    "    "
   ]
  },
  {
   "cell_type": "code",
   "execution_count": 28,
   "id": "f7706530",
   "metadata": {},
   "outputs": [
    {
     "name": "stdout",
     "output_type": "stream",
     "text": [
      "Total number of records: 42535\n",
      "Individuals has paid her credit fully: 33136\n",
      "Individuals hasn't paid her credit: 9399\n",
      "Percentage of individuals that paid ther credit: 77.90%\n"
     ]
    }
   ],
   "source": [
    "###### Naiv-estimator\n",
    "\n",
    "\n",
    "# TODO: Total number of records\n",
    "n_records = len(X)\n",
    "\n",
    "# TODO: Number of records where individual's income is more than $50,000\n",
    "fully_paid = y.sum()\n",
    "\n",
    "# TODO: Number of records where individual's income is at most $50,000\n",
    "charged_off = n_records - fully_paid\n",
    "\n",
    "# TODO: Percentage of individuals whose income is more than $50,000\n",
    "greater_percent = 100 * fully_paid / n_records\n",
    "\n",
    "# Print the results\n",
    "print (\"Total number of records: {}\".format(n_records))\n",
    "print (\"Individuals has paid her credit fully: {}\".format(fully_paid))\n",
    "print (\"Individuals hasn't paid her credit: {}\".format(charged_off))\n",
    "print (\"Percentage of individuals that paid ther credit: {:.2f}%\".format(greater_percent))"
   ]
  },
  {
   "cell_type": "code",
   "execution_count": 5,
   "id": "060e0415",
   "metadata": {},
   "outputs": [
    {
     "name": "stdout",
     "output_type": "stream",
     "text": [
      "Training set has 25521 samples.\n",
      "Testing set has 17014 samples.\n"
     ]
    }
   ],
   "source": [
    "#Split into train and test\n",
    "\n",
    "X_train, X_test, y_train, y_test= train_test_split(X, y, test_size = 0.4, random_state = 70, stratify= y)\n",
    "\n",
    "# Show the results of the split\n",
    "print (\"Training set has {} samples.\".format(X_train.shape[0]))\n",
    "print (\"Testing set has {} samples.\".format(X_test.shape[0]))"
   ]
  },
  {
   "cell_type": "code",
   "execution_count": 78,
   "id": "fb492da1",
   "metadata": {},
   "outputs": [
    {
     "name": "stderr",
     "output_type": "stream",
     "text": [
      "/Users/yusufcan/.pyenv/versions/3.8.5/lib/python3.8/site-packages/pandas/core/indexing.py:1738: SettingWithCopyWarning: \n",
      "A value is trying to be set on a copy of a slice from a DataFrame.\n",
      "Try using .loc[row_indexer,col_indexer] = value instead\n",
      "\n",
      "See the caveats in the documentation: https://pandas.pydata.org/pandas-docs/stable/user_guide/indexing.html#returning-a-view-versus-a-copy\n",
      "  self._setitem_single_column(loc, value[:, i].tolist(), pi)\n",
      "/Users/yusufcan/.pyenv/versions/3.8.5/lib/python3.8/site-packages/pandas/core/indexing.py:1738: SettingWithCopyWarning: \n",
      "A value is trying to be set on a copy of a slice from a DataFrame.\n",
      "Try using .loc[row_indexer,col_indexer] = value instead\n",
      "\n",
      "See the caveats in the documentation: https://pandas.pydata.org/pandas-docs/stable/user_guide/indexing.html#returning-a-view-versus-a-copy\n",
      "  self._setitem_single_column(loc, value[:, i].tolist(), pi)\n"
     ]
    }
   ],
   "source": [
    "#### skalieren\n",
    "from sklearn.preprocessing import MinMaxScaler\n",
    "\n",
    "\n",
    "# Initialize a scaler, then apply it to the features\n",
    "scaler = MinMaxScaler()\n",
    "numerical = ['loan_amnt', 'term', 'int_rate', 'installment', 'annual_inc',\"issue_d\",\"dti\",\"open_acc\",\"revol_bal\",\"pub_rec_bankruptcies\" ]\n",
    "X_train.loc[:,numerical] = scaler.fit_transform(X_train[numerical])\n",
    "X_test.loc[:,numerical] = scaler.transform(X_test[numerical])\n",
    "\n"
   ]
  },
  {
   "cell_type": "code",
   "execution_count": 79,
   "id": "428193f2",
   "metadata": {},
   "outputs": [
    {
     "data": {
      "text/plain": [
       "0.7888405626738764"
      ]
     },
     "execution_count": 79,
     "metadata": {},
     "output_type": "execute_result"
    }
   ],
   "source": [
    "####fit von log reg\n",
    "\n",
    "lr = LogisticRegression(max_iter=10000,random_state=70)\n",
    "lr.fit(X_train, y_train)\n",
    "lr.score(X_train,y_train)"
   ]
  },
  {
   "cell_type": "code",
   "execution_count": 9,
   "id": "1c060d42",
   "metadata": {},
   "outputs": [],
   "source": [
    "### predic\n",
    "\n",
    "y_pred = lr.predict(X_test)"
   ]
  },
  {
   "cell_type": "code",
   "execution_count": 32,
   "id": "079011ae",
   "metadata": {},
   "outputs": [
    {
     "name": "stdout",
     "output_type": "stream",
     "text": [
      "[[  796  4843]\n",
      " [  546 19336]]\n",
      "              precision    recall  f1-score   support\n",
      "\n",
      "           0       0.59      0.14      0.23      5639\n",
      "           1       0.80      0.97      0.88     19882\n",
      "\n",
      "    accuracy                           0.79     25521\n",
      "   macro avg       0.70      0.56      0.55     25521\n",
      "weighted avg       0.75      0.79      0.73     25521\n",
      "\n"
     ]
    }
   ],
   "source": [
    "### score für unsere trainingsdaten\n",
    "\n",
    "score_print(y_train,lr.predict(X_train))"
   ]
  },
  {
   "cell_type": "code",
   "execution_count": 29,
   "id": "e171b644",
   "metadata": {},
   "outputs": [
    {
     "name": "stdout",
     "output_type": "stream",
     "text": [
      "[[  523  3237]\n",
      " [  384 12870]]\n",
      "              precision    recall  f1-score   support\n",
      "\n",
      "           0       0.58      0.14      0.22      3760\n",
      "           1       0.80      0.97      0.88     13254\n",
      "\n",
      "    accuracy                           0.79     17014\n",
      "   macro avg       0.69      0.56      0.55     17014\n",
      "weighted avg       0.75      0.79      0.73     17014\n",
      "\n"
     ]
    }
   ],
   "source": [
    "#####evu\n",
    "\n",
    "score_print(y_test,y_pred)"
   ]
  },
  {
   "cell_type": "code",
   "execution_count": 30,
   "id": "c98e157a",
   "metadata": {},
   "outputs": [
    {
     "name": "stdout",
     "output_type": "stream",
     "text": [
      "[[  897  2863]\n",
      " [  702 12552]]\n",
      "              precision    recall  f1-score   support\n",
      "\n",
      "           0       0.56      0.24      0.33      3760\n",
      "           1       0.81      0.95      0.88     13254\n",
      "\n",
      "    accuracy                           0.79     17014\n",
      "   macro avg       0.69      0.59      0.61     17014\n",
      "weighted avg       0.76      0.79      0.76     17014\n",
      "\n"
     ]
    }
   ],
   "source": [
    "######## DecisionTree\n",
    "dtc = DecisionTreeClassifier(max_depth=10, min_samples_split=5, random_state=70)\n",
    "dtc.fit(X_train,y_train)\n",
    "y_pred_dtc=dtc.predict(X_test)\n",
    "score_print(y_test,y_pred_dtc)"
   ]
  },
  {
   "cell_type": "code",
   "execution_count": 31,
   "id": "c4592ac9",
   "metadata": {},
   "outputs": [
    {
     "name": "stdout",
     "output_type": "stream",
     "text": [
      "[[ 1843  3796]\n",
      " [  541 19341]]\n",
      "              precision    recall  f1-score   support\n",
      "\n",
      "           0       0.77      0.33      0.46      5639\n",
      "           1       0.84      0.97      0.90     19882\n",
      "\n",
      "    accuracy                           0.83     25521\n",
      "   macro avg       0.80      0.65      0.68     25521\n",
      "weighted avg       0.82      0.83      0.80     25521\n",
      "\n"
     ]
    }
   ],
   "source": [
    "### score auf unsere trainingdaten\n",
    "\n",
    "\n",
    "score_print(y_train,dtc.predict(X_train))"
   ]
  },
  {
   "cell_type": "code",
   "execution_count": 25,
   "id": "0d5ac6e2",
   "metadata": {},
   "outputs": [
    {
     "data": {
      "text/plain": [
       "(25521, 40)"
      ]
     },
     "execution_count": 25,
     "metadata": {},
     "output_type": "execute_result"
    }
   ],
   "source": [
    "X_train.shape"
   ]
  },
  {
   "cell_type": "code",
   "execution_count": 26,
   "id": "2423c8a5",
   "metadata": {},
   "outputs": [
    {
     "data": {
      "text/plain": [
       "(25521,)"
      ]
     },
     "execution_count": 26,
     "metadata": {},
     "output_type": "execute_result"
    }
   ],
   "source": [
    "y_train.shape"
   ]
  },
  {
   "cell_type": "code",
   "execution_count": null,
   "id": "3d5c4ccd",
   "metadata": {},
   "outputs": [],
   "source": [
    "####LinearSVC"
   ]
  },
  {
   "cell_type": "code",
   "execution_count": 42,
   "id": "9cba9b53",
   "metadata": {},
   "outputs": [
    {
     "name": "stdout",
     "output_type": "stream",
     "text": [
      "[[  897  2863]\n",
      " [  702 12552]]\n",
      "              precision    recall  f1-score   support\n",
      "\n",
      "           0       0.56      0.24      0.33      3760\n",
      "           1       0.81      0.95      0.88     13254\n",
      "\n",
      "    accuracy                           0.79     17014\n",
      "   macro avg       0.69      0.59      0.61     17014\n",
      "weighted avg       0.76      0.79      0.76     17014\n",
      "\n"
     ]
    }
   ],
   "source": [
    "svc= LinearSVC(random_state=70)\n",
    "svc.fit(X_train,y_train)\n",
    "y_pred_svc=dtc.predict(X_test)\n",
    "score_print(y_test,y_pred_svc)"
   ]
  },
  {
   "cell_type": "code",
   "execution_count": 35,
   "id": "b6495bc6",
   "metadata": {},
   "outputs": [
    {
     "name": "stdout",
     "output_type": "stream",
     "text": [
      "[[  425  5214]\n",
      " [  218 19664]]\n",
      "              precision    recall  f1-score   support\n",
      "\n",
      "           0       0.66      0.08      0.14      5639\n",
      "           1       0.79      0.99      0.88     19882\n",
      "\n",
      "    accuracy                           0.79     25521\n",
      "   macro avg       0.73      0.53      0.51     25521\n",
      "weighted avg       0.76      0.79      0.71     25521\n",
      "\n"
     ]
    }
   ],
   "source": [
    "########## score auf unsere trainingdaten\n",
    "\n",
    "\n",
    "score_print(y_train,svc.predict(X_train))"
   ]
  },
  {
   "cell_type": "code",
   "execution_count": null,
   "id": "0b0805c6",
   "metadata": {},
   "outputs": [],
   "source": [
    "#######   KNeighborsClassifier"
   ]
  },
  {
   "cell_type": "code",
   "execution_count": 66,
   "id": "07d2914a",
   "metadata": {},
   "outputs": [
    {
     "name": "stdout",
     "output_type": "stream",
     "text": [
      "[[  694  3066]\n",
      " [ 1018 12236]]\n",
      "              precision    recall  f1-score   support\n",
      "\n",
      "           0       0.41      0.18      0.25      3760\n",
      "           1       0.80      0.92      0.86     13254\n",
      "\n",
      "    accuracy                           0.76     17014\n",
      "   macro avg       0.60      0.55      0.56     17014\n",
      "weighted avg       0.71      0.76      0.72     17014\n",
      "\n"
     ]
    }
   ],
   "source": [
    "knn=KNeighborsClassifier(n_neighbors=5)\n",
    "\n",
    "knn.fit(X_train,y_train)\n",
    "y_pred_knn=knn.predict(X_test)\n",
    "score_print(y_test,y_pred_knn)"
   ]
  },
  {
   "cell_type": "code",
   "execution_count": 59,
   "id": "fdac6d9a",
   "metadata": {},
   "outputs": [
    {
     "name": "stdout",
     "output_type": "stream",
     "text": [
      "[[ 1960  3679]\n",
      " [  812 19070]]\n",
      "              precision    recall  f1-score   support\n",
      "\n",
      "           0       0.71      0.35      0.47      5639\n",
      "           1       0.84      0.96      0.89     19882\n",
      "\n",
      "    accuracy                           0.82     25521\n",
      "   macro avg       0.77      0.65      0.68     25521\n",
      "weighted avg       0.81      0.82      0.80     25521\n",
      "\n"
     ]
    }
   ],
   "source": [
    "########## score auf unsere trainingdaten\n",
    "\n",
    "\n",
    "score_print(y_train,knn.predict(X_train))"
   ]
  },
  {
   "cell_type": "code",
   "execution_count": 68,
   "id": "3f0514a7",
   "metadata": {},
   "outputs": [
    {
     "name": "stdout",
     "output_type": "stream",
     "text": [
      "[[  142  3618]\n",
      " [   24 13230]]\n",
      "              precision    recall  f1-score   support\n",
      "\n",
      "           0       0.86      0.04      0.07      3760\n",
      "           1       0.79      1.00      0.88     13254\n",
      "\n",
      "    accuracy                           0.79     17014\n",
      "   macro avg       0.82      0.52      0.48     17014\n",
      "weighted avg       0.80      0.79      0.70     17014\n",
      "\n"
     ]
    }
   ],
   "source": [
    "###### svm\n",
    "\n",
    "clf = svm.SVC(kernel='rbf')\n",
    "clf.fit(X_train,y_train)\n",
    "y_pred_clf=clf.predict(X_test)\n",
    "score_print(y_test,y_pred_clf)"
   ]
  },
  {
   "cell_type": "code",
   "execution_count": 60,
   "id": "94fa728c",
   "metadata": {},
   "outputs": [
    {
     "name": "stdout",
     "output_type": "stream",
     "text": [
      "[[  273  5366]\n",
      " [   19 19863]]\n",
      "              precision    recall  f1-score   support\n",
      "\n",
      "           0       0.93      0.05      0.09      5639\n",
      "           1       0.79      1.00      0.88     19882\n",
      "\n",
      "    accuracy                           0.79     25521\n",
      "   macro avg       0.86      0.52      0.49     25521\n",
      "weighted avg       0.82      0.79      0.71     25521\n",
      "\n"
     ]
    }
   ],
   "source": [
    "########## score auf unsere trainingdaten\n",
    "\n",
    "\n",
    "score_print(y_train,clf.predict(X_train))"
   ]
  },
  {
   "cell_type": "code",
   "execution_count": 73,
   "id": "b70e75df",
   "metadata": {},
   "outputs": [
    {
     "name": "stdout",
     "output_type": "stream",
     "text": [
      "[[  105  3655]\n",
      " [    4 13250]]\n",
      "              precision    recall  f1-score   support\n",
      "\n",
      "           0       0.96      0.03      0.05      3760\n",
      "           1       0.78      1.00      0.88     13254\n",
      "\n",
      "    accuracy                           0.78     17014\n",
      "   macro avg       0.87      0.51      0.47     17014\n",
      "weighted avg       0.82      0.78      0.70     17014\n",
      "\n"
     ]
    }
   ],
   "source": [
    "##### RandomForestClassifier\n",
    "\n",
    "rfc= RandomForestClassifier(max_depth=5,min_samples_split=20)\n",
    "rfc.fit(X_train,y_train)\n",
    "y_pred_rfc=rfc.predict(X_test)\n",
    "score_print(y_test,y_pred_rfc)"
   ]
  },
  {
   "cell_type": "code",
   "execution_count": 74,
   "id": "fb71d4e6",
   "metadata": {},
   "outputs": [
    {
     "name": "stdout",
     "output_type": "stream",
     "text": [
      "[[  193  5446]\n",
      " [    1 19881]]\n",
      "              precision    recall  f1-score   support\n",
      "\n",
      "           0       0.99      0.03      0.07      5639\n",
      "           1       0.78      1.00      0.88     19882\n",
      "\n",
      "    accuracy                           0.79     25521\n",
      "   macro avg       0.89      0.52      0.47     25521\n",
      "weighted avg       0.83      0.79      0.70     25521\n",
      "\n"
     ]
    }
   ],
   "source": [
    "########## score auf unsere trainingdaten\n",
    "\n",
    "\n",
    "score_print(y_train,rfc.predict(X_train))"
   ]
  },
  {
   "cell_type": "code",
   "execution_count": 84,
   "id": "847d1a31",
   "metadata": {},
   "outputs": [
    {
     "name": "stdout",
     "output_type": "stream",
     "text": [
      "Stored 'X_train' (DataFrame)\n",
      "Stored 'X_test' (DataFrame)\n",
      "Stored 'y_test' (Series)\n",
      "Stored 'y_train' (Series)\n",
      "Warning:score_print is <function score_print at 0x127388b80>\n",
      "Proper storage of interactively declared classes (or instances\n",
      "of those classes) is not possible! Only instances\n",
      "of classes in real modules on file system can be %store'd.\n",
      "\n"
     ]
    }
   ],
   "source": [
    "%store X_train X_test y_test y_train score_print"
   ]
  },
  {
   "cell_type": "code",
   "execution_count": null,
   "id": "f2eeafe3",
   "metadata": {},
   "outputs": [],
   "source": []
  }
 ],
 "metadata": {
  "kernelspec": {
   "display_name": "Python 3",
   "language": "python",
   "name": "python3"
  },
  "language_info": {
   "codemirror_mode": {
    "name": "ipython",
    "version": 3
   },
   "file_extension": ".py",
   "mimetype": "text/x-python",
   "name": "python",
   "nbconvert_exporter": "python",
   "pygments_lexer": "ipython3",
   "version": "3.8.5"
  }
 },
 "nbformat": 4,
 "nbformat_minor": 5
}
