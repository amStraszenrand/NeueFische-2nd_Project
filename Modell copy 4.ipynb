{
 "cells": [
  {
   "cell_type": "code",
   "execution_count": 43,
   "id": "343375cd",
   "metadata": {},
   "outputs": [
    {
     "output_type": "execute_result",
     "data": {
      "text/plain": [
       "0        0\n",
       "1        0\n",
       "2        1\n",
       "3        0\n",
       "4        0\n",
       "        ..\n",
       "21737    1\n",
       "21738    1\n",
       "21739    1\n",
       "21740    1\n",
       "21741    1\n",
       "Name: loan_status_int, Length: 21742, dtype: int64"
      ]
     },
     "metadata": {},
     "execution_count": 43
    }
   ],
   "source": [
    "import pandas as pd\n",
    "import numpy as np\n",
    "\n",
    "import matplotlib.pyplot as plt\n",
    "import seaborn as sns\n",
    "from sklearn import svm\n",
    "\n",
    "\n",
    "\n",
    "from sklearn.ensemble import RandomForestClassifier\n",
    "from sklearn.tree import DecisionTreeClassifier\n",
    "from sklearn.svm import LinearSVC\n",
    "from sklearn.neighbors import KNeighborsClassifier\n",
    "from sklearn.linear_model import LogisticRegression\n",
    "from sklearn.preprocessing import StandardScaler\n",
    "from sklearn.model_selection import train_test_split\n",
    "from sklearn.metrics import confusion_matrix, accuracy_score, precision_score, recall_score, classification_report\n",
    "\n",
    "%store -r X y\n",
    "y"
   ]
  },
  {
   "cell_type": "code",
   "execution_count": 44,
   "id": "307f9ef1",
   "metadata": {},
   "outputs": [],
   "source": [
    "##### Funktion scor\n",
    "\n",
    "\n",
    "def score_print(y,y_pred):\n",
    "    \n",
    "    cm = confusion_matrix(y,y_pred)\n",
    "    print(cm)\n",
    "    cp= classification_report(y,y_pred)\n",
    "    print(cp)\n",
    "    "
   ]
  },
  {
   "cell_type": "code",
   "execution_count": 45,
   "id": "f7706530",
   "metadata": {},
   "outputs": [
    {
     "output_type": "stream",
     "name": "stdout",
     "text": [
      "Total number of records: 21742\nIndividuals has paid her credit fully: 10871\nIndividuals hasn't paid her credit: 10871\nPercentage of individuals that paid ther credit: 50.00%\n"
     ]
    }
   ],
   "source": [
    "###### Naiv-estimator\n",
    "\n",
    "\n",
    "# TODO: Total number of records\n",
    "n_records = len(X)\n",
    "\n",
    "# TODO: Number of records where individual's income is more than $50,000\n",
    "fully_paid = sum(y==1)\n",
    "\n",
    "# TODO: Number of records where individual's income is at most $50,000\n",
    "charged_off = n_records - fully_paid\n",
    "\n",
    "# TODO: Percentage of individuals whose income is more than $50,000\n",
    "greater_percent = 100 * fully_paid / n_records\n",
    "\n",
    "# Print the results\n",
    "print (\"Total number of records: {}\".format(n_records))\n",
    "print (\"Individuals has paid her credit fully: {}\".format(fully_paid))\n",
    "print (\"Individuals hasn't paid her credit: {}\".format(charged_off))\n",
    "print (\"Percentage of individuals that paid ther credit: {:.2f}%\".format(greater_percent))"
   ]
  },
  {
   "cell_type": "code",
   "execution_count": 46,
   "id": "060e0415",
   "metadata": {},
   "outputs": [
    {
     "output_type": "stream",
     "name": "stdout",
     "text": [
      "Training set has 13045 samples.\nTesting set has 8697 samples.\n"
     ]
    }
   ],
   "source": [
    "#Split into train and test\n",
    "\n",
    "X_train, X_test, y_train, y_test= train_test_split(X, y, test_size = 0.4, random_state = 70, stratify= y)\n",
    "\n",
    "# Show the results of the split\n",
    "print (\"Training set has {} samples.\".format(X_train.shape[0]))\n",
    "print (\"Testing set has {} samples.\".format(X_test.shape[0]))"
   ]
  },
  {
   "cell_type": "code",
   "execution_count": 47,
   "metadata": {},
   "outputs": [
    {
     "output_type": "execute_result",
     "data": {
      "text/plain": [
       "['loan_amnt',\n",
       " 'term',\n",
       " 'int_rate',\n",
       " 'installment',\n",
       " 'annual_inc',\n",
       " 'dti',\n",
       " 'open_acc',\n",
       " 'revol_bal',\n",
       " 'pub_rec_bankruptcies']"
      ]
     },
     "metadata": {},
     "execution_count": 47
    }
   ],
   "source": [
    "numerical = [col for col in X if X.dtypes[col] == \"float64\"]\n",
    "numerical"
   ]
  },
  {
   "cell_type": "code",
   "execution_count": 48,
   "id": "fb492da1",
   "metadata": {},
   "outputs": [
    {
     "output_type": "stream",
     "name": "stderr",
     "text": [
      "/Users/kli/neuefische/13_Decision_trees/ds-ensemble-methods/.venv/lib/python3.8/site-packages/pandas/core/indexing.py:1738: SettingWithCopyWarning: \nA value is trying to be set on a copy of a slice from a DataFrame.\nTry using .loc[row_indexer,col_indexer] = value instead\n\nSee the caveats in the documentation: https://pandas.pydata.org/pandas-docs/stable/user_guide/indexing.html#returning-a-view-versus-a-copy\n  self._setitem_single_column(loc, value[:, i].tolist(), pi)\n/Users/kli/neuefische/13_Decision_trees/ds-ensemble-methods/.venv/lib/python3.8/site-packages/pandas/core/indexing.py:1738: SettingWithCopyWarning: \nA value is trying to be set on a copy of a slice from a DataFrame.\nTry using .loc[row_indexer,col_indexer] = value instead\n\nSee the caveats in the documentation: https://pandas.pydata.org/pandas-docs/stable/user_guide/indexing.html#returning-a-view-versus-a-copy\n  self._setitem_single_column(loc, value[:, i].tolist(), pi)\n"
     ]
    }
   ],
   "source": [
    "#### skalieren\n",
    "from sklearn.preprocessing import MinMaxScaler\n",
    "\n",
    "\n",
    "# Initialize a scaler, then apply it to the features\n",
    "scaler = MinMaxScaler()\n",
    "#numerical = ['loan_amnt', 'term', 'int_rate', 'installment', 'annual_inc',\"issue_d\",\"dti\",\"open_acc\",\"revol_bal\",\"pub_rec_bankruptcies\" ]\n",
    "numerical = [col for col in X if X.dtypes[col] == \"float64\"]\n",
    "X_train.loc[:,numerical] = scaler.fit_transform(X_train[numerical])\n",
    "X_test.loc[:,numerical] = scaler.transform(X_test[numerical])\n",
    "\n"
   ]
  },
  {
   "cell_type": "code",
   "execution_count": 49,
   "metadata": {},
   "outputs": [
    {
     "output_type": "execute_result",
     "data": {
      "text/plain": [
       "loan_amnt                              0\n",
       "term                                   0\n",
       "int_rate                               0\n",
       "installment                            0\n",
       "annual_inc                             0\n",
       "issue_d                                0\n",
       "dti                                    0\n",
       "open_acc                               0\n",
       "revol_bal                              0\n",
       "pub_rec_bankruptcies                   0\n",
       "emp_length_10+ years                   0\n",
       "emp_length_2 years                     0\n",
       "emp_length_3 years                     0\n",
       "emp_length_4 years                     0\n",
       "emp_length_5 years                     0\n",
       "emp_length_6 years                     0\n",
       "emp_length_7 years                     0\n",
       "emp_length_8 years                     0\n",
       "emp_length_9 years                     0\n",
       "emp_length_< 1 year                    0\n",
       "emp_length_no info at all              0\n",
       "home_ownership_NONE                    0\n",
       "home_ownership_OTHER                   0\n",
       "home_ownership_OWN                     0\n",
       "home_ownership_RENT                    0\n",
       "verification_status_Source Verified    0\n",
       "verification_status_Verified           0\n",
       "purpose_credit_card                    0\n",
       "purpose_debt_consolidation             0\n",
       "purpose_educational                    0\n",
       "purpose_home_improvement               0\n",
       "purpose_house                          0\n",
       "purpose_major_purchase                 0\n",
       "purpose_medical                        0\n",
       "purpose_moving                         0\n",
       "purpose_other                          0\n",
       "purpose_renewable_energy               0\n",
       "purpose_small_business                 0\n",
       "purpose_vacation                       0\n",
       "purpose_wedding                        0\n",
       "dtype: int64"
      ]
     },
     "metadata": {},
     "execution_count": 49
    }
   ],
   "source": [
    "# import library\n",
    "from imblearn.over_sampling import SMOTE\n",
    "\n",
    "smote = SMOTE()\n",
    "\n",
    "# fit predictor and target variable\n",
    "X_train, y_train = smote.fit_resample(X_train, y_train)\n",
    "\n",
    "print('Original dataset shape', y.sum())\n",
    "print('Resample dataset shape', y_smote.sum())"
   ]
  },
  {
   "cell_type": "code",
   "execution_count": 50,
   "id": "428193f2",
   "metadata": {},
   "outputs": [
    {
     "output_type": "execute_result",
     "data": {
      "text/plain": [
       "0.5000383288616328"
      ]
     },
     "metadata": {},
     "execution_count": 50
    }
   ],
   "source": [
    "####fit von log reg\n",
    "\n",
    "lr = LogisticRegression(max_iter=10000,random_state=70)\n",
    "lr.fit(X_train, y_train)\n",
    "lr.score(X_train,y_train)"
   ]
  },
  {
   "cell_type": "code",
   "execution_count": 51,
   "id": "1c060d42",
   "metadata": {},
   "outputs": [],
   "source": [
    "### predic\n",
    "\n",
    "y_pred = lr.predict(X_test)"
   ]
  },
  {
   "cell_type": "code",
   "execution_count": 52,
   "id": "079011ae",
   "metadata": {},
   "outputs": [
    {
     "output_type": "stream",
     "name": "stdout",
     "text": [
      "[[   0 6522]\n",
      " [   0 6523]]\n",
      "              precision    recall  f1-score   support\n",
      "\n",
      "           0       0.00      0.00      0.00      6522\n",
      "           1       0.50      1.00      0.67      6523\n",
      "\n",
      "    accuracy                           0.50     13045\n",
      "   macro avg       0.25      0.50      0.33     13045\n",
      "weighted avg       0.25      0.50      0.33     13045\n",
      "\n",
      "/Users/kli/neuefische/13_Decision_trees/ds-ensemble-methods/.venv/lib/python3.8/site-packages/sklearn/metrics/_classification.py:1248: UndefinedMetricWarning: Precision and F-score are ill-defined and being set to 0.0 in labels with no predicted samples. Use `zero_division` parameter to control this behavior.\n",
      "  _warn_prf(average, modifier, msg_start, len(result))\n",
      "/Users/kli/neuefische/13_Decision_trees/ds-ensemble-methods/.venv/lib/python3.8/site-packages/sklearn/metrics/_classification.py:1248: UndefinedMetricWarning: Precision and F-score are ill-defined and being set to 0.0 in labels with no predicted samples. Use `zero_division` parameter to control this behavior.\n",
      "  _warn_prf(average, modifier, msg_start, len(result))\n",
      "/Users/kli/neuefische/13_Decision_trees/ds-ensemble-methods/.venv/lib/python3.8/site-packages/sklearn/metrics/_classification.py:1248: UndefinedMetricWarning: Precision and F-score are ill-defined and being set to 0.0 in labels with no predicted samples. Use `zero_division` parameter to control this behavior.\n",
      "  _warn_prf(average, modifier, msg_start, len(result))\n"
     ]
    }
   ],
   "source": [
    "### score für unsere trainingsdaten\n",
    "\n",
    "score_print(y_train,lr.predict(X_train))"
   ]
  },
  {
   "cell_type": "code",
   "execution_count": 53,
   "id": "e171b644",
   "metadata": {},
   "outputs": [
    {
     "output_type": "stream",
     "name": "stdout",
     "text": [
      "[[   0 4349]\n",
      " [   0 4348]]\n",
      "              precision    recall  f1-score   support\n",
      "\n",
      "           0       0.00      0.00      0.00      4349\n",
      "           1       0.50      1.00      0.67      4348\n",
      "\n",
      "    accuracy                           0.50      8697\n",
      "   macro avg       0.25      0.50      0.33      8697\n",
      "weighted avg       0.25      0.50      0.33      8697\n",
      "\n",
      "/Users/kli/neuefische/13_Decision_trees/ds-ensemble-methods/.venv/lib/python3.8/site-packages/sklearn/metrics/_classification.py:1248: UndefinedMetricWarning: Precision and F-score are ill-defined and being set to 0.0 in labels with no predicted samples. Use `zero_division` parameter to control this behavior.\n",
      "  _warn_prf(average, modifier, msg_start, len(result))\n",
      "/Users/kli/neuefische/13_Decision_trees/ds-ensemble-methods/.venv/lib/python3.8/site-packages/sklearn/metrics/_classification.py:1248: UndefinedMetricWarning: Precision and F-score are ill-defined and being set to 0.0 in labels with no predicted samples. Use `zero_division` parameter to control this behavior.\n",
      "  _warn_prf(average, modifier, msg_start, len(result))\n",
      "/Users/kli/neuefische/13_Decision_trees/ds-ensemble-methods/.venv/lib/python3.8/site-packages/sklearn/metrics/_classification.py:1248: UndefinedMetricWarning: Precision and F-score are ill-defined and being set to 0.0 in labels with no predicted samples. Use `zero_division` parameter to control this behavior.\n",
      "  _warn_prf(average, modifier, msg_start, len(result))\n"
     ]
    }
   ],
   "source": [
    "#####evu\n",
    "\n",
    "score_print(y_test,y_pred)"
   ]
  },
  {
   "cell_type": "code",
   "execution_count": 54,
   "id": "c98e157a",
   "metadata": {},
   "outputs": [
    {
     "output_type": "stream",
     "name": "stdout",
     "text": [
      "[[3629  720]\n [ 672 3676]]\n              precision    recall  f1-score   support\n\n           0       0.84      0.83      0.84      4349\n           1       0.84      0.85      0.84      4348\n\n    accuracy                           0.84      8697\n   macro avg       0.84      0.84      0.84      8697\nweighted avg       0.84      0.84      0.84      8697\n\n"
     ]
    }
   ],
   "source": [
    "######## DecisionTree\n",
    "dtc = DecisionTreeClassifier(max_depth=10, min_samples_split=5, random_state=70)\n",
    "dtc.fit(X_train,y_train)\n",
    "y_pred_dtc=dtc.predict(X_test)\n",
    "score_print(y_test,y_pred_dtc)"
   ]
  },
  {
   "cell_type": "code",
   "execution_count": 55,
   "id": "c4592ac9",
   "metadata": {},
   "outputs": [
    {
     "output_type": "stream",
     "name": "stdout",
     "text": [
      "[[5688  834]\n [ 734 5789]]\n              precision    recall  f1-score   support\n\n           0       0.89      0.87      0.88      6522\n           1       0.87      0.89      0.88      6523\n\n    accuracy                           0.88     13045\n   macro avg       0.88      0.88      0.88     13045\nweighted avg       0.88      0.88      0.88     13045\n\n"
     ]
    }
   ],
   "source": [
    "### score auf unsere trainingdaten\n",
    "\n",
    "\n",
    "score_print(y_train,dtc.predict(X_train))"
   ]
  },
  {
   "cell_type": "code",
   "execution_count": 56,
   "id": "0d5ac6e2",
   "metadata": {},
   "outputs": [
    {
     "output_type": "execute_result",
     "data": {
      "text/plain": [
       "(13045, 40)"
      ]
     },
     "metadata": {},
     "execution_count": 56
    }
   ],
   "source": [
    "X_train.shape"
   ]
  },
  {
   "cell_type": "code",
   "execution_count": 42,
   "id": "2423c8a5",
   "metadata": {},
   "outputs": [
    {
     "output_type": "execute_result",
     "data": {
      "text/plain": [
       "(11487,)"
      ]
     },
     "metadata": {},
     "execution_count": 42
    }
   ],
   "source": [
    "y_train.shape"
   ]
  },
  {
   "cell_type": "code",
   "execution_count": 17,
   "id": "3d5c4ccd",
   "metadata": {},
   "outputs": [],
   "source": [
    "####LinearSVC"
   ]
  },
  {
   "cell_type": "code",
   "execution_count": 18,
   "id": "9cba9b53",
   "metadata": {},
   "outputs": [
    {
     "output_type": "stream",
     "name": "stdout",
     "text": [
      "[[2206  690]\n",
      " [ 570 2325]]\n",
      "              precision    recall  f1-score   support\n",
      "\n",
      "           0       0.79      0.76      0.78      2896\n",
      "           1       0.77      0.80      0.79      2895\n",
      "\n",
      "    accuracy                           0.78      5791\n",
      "   macro avg       0.78      0.78      0.78      5791\n",
      "weighted avg       0.78      0.78      0.78      5791\n",
      "\n",
      "/Users/kli/neuefische/13_Decision_trees/ds-ensemble-methods/.venv/lib/python3.8/site-packages/sklearn/svm/_base.py:985: ConvergenceWarning: Liblinear failed to converge, increase the number of iterations.\n",
      "  warnings.warn(\"Liblinear failed to converge, increase \"\n"
     ]
    }
   ],
   "source": [
    "svc= LinearSVC(random_state=70)\n",
    "svc.fit(X_train,y_train)\n",
    "y_pred_svc=dtc.predict(X_test)\n",
    "score_print(y_test,y_pred_svc)"
   ]
  },
  {
   "cell_type": "code",
   "execution_count": 19,
   "id": "b6495bc6",
   "metadata": {},
   "outputs": [
    {
     "output_type": "stream",
     "name": "stdout",
     "text": [
      "[[4342    0]\n",
      " [4343    0]]\n",
      "              precision    recall  f1-score   support\n",
      "\n",
      "           0       0.50      1.00      0.67      4342\n",
      "           1       0.00      0.00      0.00      4343\n",
      "\n",
      "    accuracy                           0.50      8685\n",
      "   macro avg       0.25      0.50      0.33      8685\n",
      "weighted avg       0.25      0.50      0.33      8685\n",
      "\n",
      "/Users/kli/neuefische/13_Decision_trees/ds-ensemble-methods/.venv/lib/python3.8/site-packages/sklearn/metrics/_classification.py:1248: UndefinedMetricWarning: Precision and F-score are ill-defined and being set to 0.0 in labels with no predicted samples. Use `zero_division` parameter to control this behavior.\n",
      "  _warn_prf(average, modifier, msg_start, len(result))\n",
      "/Users/kli/neuefische/13_Decision_trees/ds-ensemble-methods/.venv/lib/python3.8/site-packages/sklearn/metrics/_classification.py:1248: UndefinedMetricWarning: Precision and F-score are ill-defined and being set to 0.0 in labels with no predicted samples. Use `zero_division` parameter to control this behavior.\n",
      "  _warn_prf(average, modifier, msg_start, len(result))\n",
      "/Users/kli/neuefische/13_Decision_trees/ds-ensemble-methods/.venv/lib/python3.8/site-packages/sklearn/metrics/_classification.py:1248: UndefinedMetricWarning: Precision and F-score are ill-defined and being set to 0.0 in labels with no predicted samples. Use `zero_division` parameter to control this behavior.\n",
      "  _warn_prf(average, modifier, msg_start, len(result))\n"
     ]
    }
   ],
   "source": [
    "########## score auf unsere trainingdaten\n",
    "\n",
    "\n",
    "score_print(y_train,svc.predict(X_train))"
   ]
  },
  {
   "cell_type": "code",
   "execution_count": 20,
   "id": "0b0805c6",
   "metadata": {},
   "outputs": [],
   "source": [
    "#######   KNeighborsClassifier"
   ]
  },
  {
   "cell_type": "code",
   "execution_count": 21,
   "id": "07d2914a",
   "metadata": {},
   "outputs": [
    {
     "output_type": "stream",
     "name": "stdout",
     "text": [
      "[[2515  381]\n [ 562 2333]]\n              precision    recall  f1-score   support\n\n           0       0.82      0.87      0.84      2896\n           1       0.86      0.81      0.83      2895\n\n    accuracy                           0.84      5791\n   macro avg       0.84      0.84      0.84      5791\nweighted avg       0.84      0.84      0.84      5791\n\n"
     ]
    }
   ],
   "source": [
    "knn=KNeighborsClassifier(n_neighbors=5)\n",
    "\n",
    "knn.fit(X_train,y_train)\n",
    "y_pred_knn=knn.predict(X_test)\n",
    "score_print(y_test,y_pred_knn)"
   ]
  },
  {
   "cell_type": "code",
   "execution_count": 22,
   "id": "fdac6d9a",
   "metadata": {},
   "outputs": [
    {
     "output_type": "stream",
     "name": "stdout",
     "text": [
      "[[4023  319]\n [ 709 3634]]\n              precision    recall  f1-score   support\n\n           0       0.85      0.93      0.89      4342\n           1       0.92      0.84      0.88      4343\n\n    accuracy                           0.88      8685\n   macro avg       0.88      0.88      0.88      8685\nweighted avg       0.88      0.88      0.88      8685\n\n"
     ]
    }
   ],
   "source": [
    "########## score auf unsere trainingdaten\n",
    "\n",
    "\n",
    "score_print(y_train,knn.predict(X_train))"
   ]
  },
  {
   "cell_type": "code",
   "execution_count": 23,
   "id": "3f0514a7",
   "metadata": {},
   "outputs": [],
   "source": [
    "###### svm\n",
    "\n",
    "clf = svm.SVC(kernel='rbf')\n",
    "#clf.fit(X_train,y_train)\n",
    "#y_pred_clf=clf.predict(X_test)\n",
    "#score_print(y_test,y_pred_clf)"
   ]
  },
  {
   "cell_type": "code",
   "execution_count": 24,
   "id": "94fa728c",
   "metadata": {},
   "outputs": [],
   "source": [
    "########## score auf unsere trainingdaten\n",
    "\n",
    "\n",
    "#score_print(y_train,clf.predict(X_train))"
   ]
  },
  {
   "cell_type": "code",
   "execution_count": 25,
   "id": "b70e75df",
   "metadata": {},
   "outputs": [
    {
     "output_type": "stream",
     "name": "stdout",
     "text": [
      "[[2436  460]\n [ 678 2217]]\n              precision    recall  f1-score   support\n\n           0       0.78      0.84      0.81      2896\n           1       0.83      0.77      0.80      2895\n\n    accuracy                           0.80      5791\n   macro avg       0.81      0.80      0.80      5791\nweighted avg       0.81      0.80      0.80      5791\n\n"
     ]
    }
   ],
   "source": [
    "##### RandomForestClassifier\n",
    "\n",
    "rfc= RandomForestClassifier(max_depth=5,min_samples_split=20)\n",
    "rfc.fit(X_train,y_train)\n",
    "y_pred_rfc=rfc.predict(X_test)\n",
    "score_print(y_test,y_pred_rfc)"
   ]
  },
  {
   "cell_type": "code",
   "execution_count": 26,
   "id": "fb71d4e6",
   "metadata": {},
   "outputs": [
    {
     "output_type": "stream",
     "name": "stdout",
     "text": [
      "[[3688  654]\n [1021 3322]]\n              precision    recall  f1-score   support\n\n           0       0.78      0.85      0.81      4342\n           1       0.84      0.76      0.80      4343\n\n    accuracy                           0.81      8685\n   macro avg       0.81      0.81      0.81      8685\nweighted avg       0.81      0.81      0.81      8685\n\n"
     ]
    }
   ],
   "source": [
    "########## score auf unsere trainingdaten\n",
    "\n",
    "\n",
    "score_print(y_train,rfc.predict(X_train))"
   ]
  },
  {
   "cell_type": "code",
   "execution_count": 27,
   "id": "847d1a31",
   "metadata": {},
   "outputs": [
    {
     "output_type": "stream",
     "name": "stdout",
     "text": [
      "Stored 'X_train' (DataFrame)\nStored 'X_test' (DataFrame)\nStored 'y_test' (Series)\nStored 'y_train' (Series)\nWarning:score_print is <function score_print at 0x131a0b040>\nProper storage of interactively declared classes (or instances\nof those classes) is not possible! Only instances\nof classes in real modules on file system can be %store'd.\n\n"
     ]
    }
   ],
   "source": [
    "%store X_train X_test y_test y_train score_print"
   ]
  },
  {
   "cell_type": "code",
   "execution_count": null,
   "id": "f2eeafe3",
   "metadata": {},
   "outputs": [],
   "source": []
  },
  {
   "cell_type": "code",
   "execution_count": null,
   "metadata": {},
   "outputs": [],
   "source": []
  },
  {
   "cell_type": "code",
   "execution_count": null,
   "metadata": {},
   "outputs": [],
   "source": []
  },
  {
   "cell_type": "code",
   "execution_count": null,
   "metadata": {},
   "outputs": [],
   "source": []
  }
 ],
 "metadata": {
  "kernelspec": {
   "name": "python3",
   "display_name": "Python 3.8.5 64-bit"
  },
  "language_info": {
   "codemirror_mode": {
    "name": "ipython",
    "version": 3
   },
   "file_extension": ".py",
   "mimetype": "text/x-python",
   "name": "python",
   "nbconvert_exporter": "python",
   "pygments_lexer": "ipython3",
   "version": "3.8.5"
  },
  "interpreter": {
   "hash": "1e14aed01f57e2f30c4ad33bfe147e3add576437b8baa5fa8c8b958544bcab44"
  }
 },
 "nbformat": 4,
 "nbformat_minor": 5
}