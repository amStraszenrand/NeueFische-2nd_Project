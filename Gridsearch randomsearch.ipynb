{
 "cells": [
  {
   "cell_type": "code",
   "execution_count": 1,
   "id": "8e3910e5",
   "metadata": {},
   "outputs": [
    {
     "name": "stdout",
     "output_type": "stream",
     "text": [
      "no stored variable or alias score_print\n"
     ]
    }
   ],
   "source": [
    "import pandas as pd\n",
    "import numpy as np\n",
    "import matplotlib.pyplot as plt\n",
    "import seaborn as sns\n",
    "from sklearn import svm\n",
    "from sklearn.model_selection import GridSearchCV, RandomizedSearchCV\n",
    "\n",
    "%store -r X_train X_test y_test y_train score_print\n",
    "\n",
    "from sklearn import svm\n",
    "\n",
    "\n",
    "\n",
    "from sklearn.ensemble import RandomForestClassifier\n",
    "from sklearn.tree import DecisionTreeClassifier\n",
    "from sklearn.svm import LinearSVC\n",
    "from sklearn.neighbors import KNeighborsClassifier\n",
    "from sklearn.linear_model import LogisticRegression\n",
    "from sklearn.preprocessing import StandardScaler\n",
    "from sklearn.model_selection import train_test_split\n",
    "from sklearn.metrics import confusion_matrix, accuracy_score, precision_score, recall_score, classification_report"
   ]
  },
  {
   "cell_type": "code",
   "execution_count": 2,
   "id": "7033e4b3",
   "metadata": {},
   "outputs": [],
   "source": [
    "def score_print(y,y_pred):\n",
    "    \n",
    "    cm = confusion_matrix(y,y_pred)\n",
    "    print(cm)\n",
    "    cp= classification_report(y,y_pred)\n",
    "    print(cp)"
   ]
  },
  {
   "cell_type": "code",
   "execution_count": 4,
   "id": "65837516",
   "metadata": {},
   "outputs": [],
   "source": [
    "##########GridSearchCV\n"
   ]
  },
  {
   "cell_type": "code",
   "execution_count": null,
   "id": "06d7ecc8",
   "metadata": {},
   "outputs": [
    {
     "name": "stdout",
     "output_type": "stream",
     "text": [
      "Fitting 5 folds for each of 5 candidates, totalling 25 fits\n"
     ]
    }
   ],
   "source": [
    "# Defining parameter grid (as dictionary)\n",
    "param_grid = {\"n_neighbors\" : range(5,15,2)\n",
    "              \n",
    "              \n",
    "             }\n",
    "knn=KNeighborsClassifier()\n",
    "# Instantiate gridsearch and define the metric to optimize \n",
    "gs = GridSearchCV(knn,param_grid,\n",
    "                  cv=5, verbose=5, n_jobs=-1)\n",
    "\n",
    "gs.fit(X_train,y_train)\n"
   ]
  },
  {
   "cell_type": "code",
   "execution_count": null,
   "id": "14e9ca72",
   "metadata": {},
   "outputs": [],
   "source": [
    "y_pred_gs=gs.predict(X_test)\n",
    "score_print(y_test,y_pred_gs)\n",
    "best_param=gs.best_params_"
   ]
  },
  {
   "cell_type": "code",
   "execution_count": null,
   "id": "97926ce4",
   "metadata": {},
   "outputs": [],
   "source": [
    "best_param"
   ]
  },
  {
   "cell_type": "code",
   "execution_count": null,
   "id": "dcdacf03",
   "metadata": {},
   "outputs": [],
   "source": [
    "#### log reg"
   ]
  },
  {
   "cell_type": "code",
   "execution_count": 26,
   "id": "3a80cf2b",
   "metadata": {},
   "outputs": [
    {
     "name": "stdout",
     "output_type": "stream",
     "text": [
      "Fitting 5 folds for each of 210 candidates, totalling 1050 fits\n"
     ]
    },
    {
     "name": "stderr",
     "output_type": "stream",
     "text": [
      "/Users/yusufcan/.pyenv/versions/3.8.5/lib/python3.8/site-packages/sklearn/model_selection/_search.py:922: UserWarning: One or more of the test scores are non-finite: [nan nan nan nan nan nan nan nan nan nan nan nan nan nan nan nan nan nan\n",
      " nan nan nan nan nan nan nan nan nan nan nan nan nan nan nan nan nan nan\n",
      " nan nan nan nan nan nan nan nan nan nan nan nan nan nan nan nan nan nan\n",
      " nan nan nan nan nan nan nan nan nan nan nan nan nan nan nan nan nan nan\n",
      " nan nan nan nan nan nan nan nan nan nan nan nan nan nan nan nan nan nan\n",
      " nan nan nan nan nan nan nan nan nan nan nan nan nan nan nan nan nan nan\n",
      " nan nan nan nan nan nan nan nan nan nan nan nan nan nan nan nan nan nan\n",
      " nan nan nan nan nan nan nan nan nan nan nan nan nan nan nan nan nan nan\n",
      " nan nan nan nan nan nan nan nan nan nan nan nan nan nan nan nan nan nan\n",
      " nan nan nan nan nan nan nan nan nan nan nan nan nan nan nan nan nan nan\n",
      " nan nan nan nan nan nan nan nan nan nan nan nan nan nan nan nan nan nan\n",
      " nan nan nan nan nan nan nan nan nan nan nan nan]\n",
      "  warnings.warn(\n"
     ]
    },
    {
     "ename": "ValueError",
     "evalue": "Solver lbfgs supports only 'l2' or 'none' penalties, got l1 penalty.",
     "output_type": "error",
     "traceback": [
      "\u001b[0;31m---------------------------------------------------------------------------\u001b[0m",
      "\u001b[0;31mValueError\u001b[0m                                Traceback (most recent call last)",
      "\u001b[0;32m<ipython-input-26-a12e0e48096e>\u001b[0m in \u001b[0;36m<module>\u001b[0;34m\u001b[0m\n\u001b[1;32m     12\u001b[0m                   cv=5, verbose=5, n_jobs=-1)\n\u001b[1;32m     13\u001b[0m \u001b[0;34m\u001b[0m\u001b[0m\n\u001b[0;32m---> 14\u001b[0;31m \u001b[0mgs\u001b[0m\u001b[0;34m.\u001b[0m\u001b[0mfit\u001b[0m\u001b[0;34m(\u001b[0m\u001b[0mX_train\u001b[0m\u001b[0;34m,\u001b[0m\u001b[0my_train\u001b[0m\u001b[0;34m)\u001b[0m\u001b[0;34m\u001b[0m\u001b[0;34m\u001b[0m\u001b[0m\n\u001b[0m",
      "\u001b[0;32m~/.pyenv/versions/3.8.5/lib/python3.8/site-packages/sklearn/utils/validation.py\u001b[0m in \u001b[0;36minner_f\u001b[0;34m(*args, **kwargs)\u001b[0m\n\u001b[1;32m     61\u001b[0m             \u001b[0mextra_args\u001b[0m \u001b[0;34m=\u001b[0m \u001b[0mlen\u001b[0m\u001b[0;34m(\u001b[0m\u001b[0margs\u001b[0m\u001b[0;34m)\u001b[0m \u001b[0;34m-\u001b[0m \u001b[0mlen\u001b[0m\u001b[0;34m(\u001b[0m\u001b[0mall_args\u001b[0m\u001b[0;34m)\u001b[0m\u001b[0;34m\u001b[0m\u001b[0;34m\u001b[0m\u001b[0m\n\u001b[1;32m     62\u001b[0m             \u001b[0;32mif\u001b[0m \u001b[0mextra_args\u001b[0m \u001b[0;34m<=\u001b[0m \u001b[0;36m0\u001b[0m\u001b[0;34m:\u001b[0m\u001b[0;34m\u001b[0m\u001b[0;34m\u001b[0m\u001b[0m\n\u001b[0;32m---> 63\u001b[0;31m                 \u001b[0;32mreturn\u001b[0m \u001b[0mf\u001b[0m\u001b[0;34m(\u001b[0m\u001b[0;34m*\u001b[0m\u001b[0margs\u001b[0m\u001b[0;34m,\u001b[0m \u001b[0;34m**\u001b[0m\u001b[0mkwargs\u001b[0m\u001b[0;34m)\u001b[0m\u001b[0;34m\u001b[0m\u001b[0;34m\u001b[0m\u001b[0m\n\u001b[0m\u001b[1;32m     64\u001b[0m \u001b[0;34m\u001b[0m\u001b[0m\n\u001b[1;32m     65\u001b[0m             \u001b[0;31m# extra_args > 0\u001b[0m\u001b[0;34m\u001b[0m\u001b[0;34m\u001b[0m\u001b[0;34m\u001b[0m\u001b[0m\n",
      "\u001b[0;32m~/.pyenv/versions/3.8.5/lib/python3.8/site-packages/sklearn/model_selection/_search.py\u001b[0m in \u001b[0;36mfit\u001b[0;34m(self, X, y, groups, **fit_params)\u001b[0m\n\u001b[1;32m    878\u001b[0m             \u001b[0mrefit_start_time\u001b[0m \u001b[0;34m=\u001b[0m \u001b[0mtime\u001b[0m\u001b[0;34m.\u001b[0m\u001b[0mtime\u001b[0m\u001b[0;34m(\u001b[0m\u001b[0;34m)\u001b[0m\u001b[0;34m\u001b[0m\u001b[0;34m\u001b[0m\u001b[0m\n\u001b[1;32m    879\u001b[0m             \u001b[0;32mif\u001b[0m \u001b[0my\u001b[0m \u001b[0;32mis\u001b[0m \u001b[0;32mnot\u001b[0m \u001b[0;32mNone\u001b[0m\u001b[0;34m:\u001b[0m\u001b[0;34m\u001b[0m\u001b[0;34m\u001b[0m\u001b[0m\n\u001b[0;32m--> 880\u001b[0;31m                 \u001b[0mself\u001b[0m\u001b[0;34m.\u001b[0m\u001b[0mbest_estimator_\u001b[0m\u001b[0;34m.\u001b[0m\u001b[0mfit\u001b[0m\u001b[0;34m(\u001b[0m\u001b[0mX\u001b[0m\u001b[0;34m,\u001b[0m \u001b[0my\u001b[0m\u001b[0;34m,\u001b[0m \u001b[0;34m**\u001b[0m\u001b[0mfit_params\u001b[0m\u001b[0;34m)\u001b[0m\u001b[0;34m\u001b[0m\u001b[0;34m\u001b[0m\u001b[0m\n\u001b[0m\u001b[1;32m    881\u001b[0m             \u001b[0;32melse\u001b[0m\u001b[0;34m:\u001b[0m\u001b[0;34m\u001b[0m\u001b[0;34m\u001b[0m\u001b[0m\n\u001b[1;32m    882\u001b[0m                 \u001b[0mself\u001b[0m\u001b[0;34m.\u001b[0m\u001b[0mbest_estimator_\u001b[0m\u001b[0;34m.\u001b[0m\u001b[0mfit\u001b[0m\u001b[0;34m(\u001b[0m\u001b[0mX\u001b[0m\u001b[0;34m,\u001b[0m \u001b[0;34m**\u001b[0m\u001b[0mfit_params\u001b[0m\u001b[0;34m)\u001b[0m\u001b[0;34m\u001b[0m\u001b[0;34m\u001b[0m\u001b[0m\n",
      "\u001b[0;32m~/.pyenv/versions/3.8.5/lib/python3.8/site-packages/sklearn/linear_model/_logistic.py\u001b[0m in \u001b[0;36mfit\u001b[0;34m(self, X, y, sample_weight)\u001b[0m\n\u001b[1;32m   1304\u001b[0m         \u001b[0mThe\u001b[0m \u001b[0mSAGA\u001b[0m \u001b[0msolver\u001b[0m \u001b[0msupports\u001b[0m \u001b[0mboth\u001b[0m \u001b[0mfloat64\u001b[0m \u001b[0;32mand\u001b[0m \u001b[0mfloat32\u001b[0m \u001b[0mbit\u001b[0m \u001b[0marrays\u001b[0m\u001b[0;34m.\u001b[0m\u001b[0;34m\u001b[0m\u001b[0;34m\u001b[0m\u001b[0m\n\u001b[1;32m   1305\u001b[0m         \"\"\"\n\u001b[0;32m-> 1306\u001b[0;31m         \u001b[0msolver\u001b[0m \u001b[0;34m=\u001b[0m \u001b[0m_check_solver\u001b[0m\u001b[0;34m(\u001b[0m\u001b[0mself\u001b[0m\u001b[0;34m.\u001b[0m\u001b[0msolver\u001b[0m\u001b[0;34m,\u001b[0m \u001b[0mself\u001b[0m\u001b[0;34m.\u001b[0m\u001b[0mpenalty\u001b[0m\u001b[0;34m,\u001b[0m \u001b[0mself\u001b[0m\u001b[0;34m.\u001b[0m\u001b[0mdual\u001b[0m\u001b[0;34m)\u001b[0m\u001b[0;34m\u001b[0m\u001b[0;34m\u001b[0m\u001b[0m\n\u001b[0m\u001b[1;32m   1307\u001b[0m \u001b[0;34m\u001b[0m\u001b[0m\n\u001b[1;32m   1308\u001b[0m         \u001b[0;32mif\u001b[0m \u001b[0;32mnot\u001b[0m \u001b[0misinstance\u001b[0m\u001b[0;34m(\u001b[0m\u001b[0mself\u001b[0m\u001b[0;34m.\u001b[0m\u001b[0mC\u001b[0m\u001b[0;34m,\u001b[0m \u001b[0mnumbers\u001b[0m\u001b[0;34m.\u001b[0m\u001b[0mNumber\u001b[0m\u001b[0;34m)\u001b[0m \u001b[0;32mor\u001b[0m \u001b[0mself\u001b[0m\u001b[0;34m.\u001b[0m\u001b[0mC\u001b[0m \u001b[0;34m<\u001b[0m \u001b[0;36m0\u001b[0m\u001b[0;34m:\u001b[0m\u001b[0;34m\u001b[0m\u001b[0;34m\u001b[0m\u001b[0m\n",
      "\u001b[0;32m~/.pyenv/versions/3.8.5/lib/python3.8/site-packages/sklearn/linear_model/_logistic.py\u001b[0m in \u001b[0;36m_check_solver\u001b[0;34m(solver, penalty, dual)\u001b[0m\n\u001b[1;32m    441\u001b[0m \u001b[0;34m\u001b[0m\u001b[0m\n\u001b[1;32m    442\u001b[0m     \u001b[0;32mif\u001b[0m \u001b[0msolver\u001b[0m \u001b[0;32mnot\u001b[0m \u001b[0;32min\u001b[0m \u001b[0;34m[\u001b[0m\u001b[0;34m'liblinear'\u001b[0m\u001b[0;34m,\u001b[0m \u001b[0;34m'saga'\u001b[0m\u001b[0;34m]\u001b[0m \u001b[0;32mand\u001b[0m \u001b[0mpenalty\u001b[0m \u001b[0;32mnot\u001b[0m \u001b[0;32min\u001b[0m \u001b[0;34m(\u001b[0m\u001b[0;34m'l2'\u001b[0m\u001b[0;34m,\u001b[0m \u001b[0;34m'none'\u001b[0m\u001b[0;34m)\u001b[0m\u001b[0;34m:\u001b[0m\u001b[0;34m\u001b[0m\u001b[0;34m\u001b[0m\u001b[0m\n\u001b[0;32m--> 443\u001b[0;31m         raise ValueError(\"Solver %s supports only 'l2' or 'none' penalties, \"\n\u001b[0m\u001b[1;32m    444\u001b[0m                          \"got %s penalty.\" % (solver, penalty))\n\u001b[1;32m    445\u001b[0m     \u001b[0;32mif\u001b[0m \u001b[0msolver\u001b[0m \u001b[0;34m!=\u001b[0m \u001b[0;34m'liblinear'\u001b[0m \u001b[0;32mand\u001b[0m \u001b[0mdual\u001b[0m\u001b[0;34m:\u001b[0m\u001b[0;34m\u001b[0m\u001b[0;34m\u001b[0m\u001b[0m\n",
      "\u001b[0;31mValueError\u001b[0m: Solver lbfgs supports only 'l2' or 'none' penalties, got l1 penalty."
     ]
    }
   ],
   "source": [
    "# Defining parameter grid (as dictionary)\n",
    "param_grid = {\"max_iter\" : [500, 1000,1500 ,2000,3000],\n",
    "              \"penalty\": [\"l1\", \"l2\", \"elasticnet\"],\n",
    "              \"solver\":['lbfgs',\"liblinear\"],\n",
    "              \"C\": [1,2,3,4,5,10,15]\n",
    "              \n",
    "              \n",
    "             }\n",
    "lr=LogisticRegression()\n",
    "# Instantiate gridsearch and define the metric to optimize \n",
    "gs = GridSearchCV(lr,param_grid,scoring=\"f1\",\n",
    "                  cv=5, verbose=5, n_jobs=-1)\n",
    "\n",
    "gs.fit(X_train,y_train)"
   ]
  },
  {
   "cell_type": "code",
   "execution_count": 19,
   "id": "32405ebe",
   "metadata": {},
   "outputs": [
    {
     "name": "stdout",
     "output_type": "stream",
     "text": [
      "[[  523  3237]\n",
      " [  384 12870]]\n",
      "              precision    recall  f1-score   support\n",
      "\n",
      "           0       0.58      0.14      0.22      3760\n",
      "           1       0.80      0.97      0.88     13254\n",
      "\n",
      "    accuracy                           0.79     17014\n",
      "   macro avg       0.69      0.56      0.55     17014\n",
      "weighted avg       0.75      0.79      0.73     17014\n",
      "\n"
     ]
    },
    {
     "data": {
      "text/plain": [
       "{'max_iter': 1000, 'penalty': 'l2'}"
      ]
     },
     "execution_count": 19,
     "metadata": {},
     "output_type": "execute_result"
    }
   ],
   "source": [
    "y_pred_gs=gs.predict(X_test)\n",
    "score_print(y_test,y_pred_gs)\n",
    "best_param=gs.best_params_\n",
    "best_param"
   ]
  },
  {
   "cell_type": "code",
   "execution_count": 16,
   "id": "9cf4f772",
   "metadata": {},
   "outputs": [
    {
     "data": {
      "text/plain": [
       "GridSearchCV(cv=5, estimator=LogisticRegression(), n_jobs=-1,\n",
       "             param_grid={'max_iter': [1000, 5000, 10000, 15000],\n",
       "                         'penalty': ['l1', 'l2', 'elasticnet']},\n",
       "             verbose=5)"
      ]
     },
     "execution_count": 16,
     "metadata": {},
     "output_type": "execute_result"
    }
   ],
   "source": []
  },
  {
   "cell_type": "code",
   "execution_count": 31,
   "id": "e155c792",
   "metadata": {},
   "outputs": [
    {
     "name": "stdout",
     "output_type": "stream",
     "text": [
      "Fitting 5 folds for each of 50 candidates, totalling 250 fits\n"
     ]
    },
    {
     "name": "stderr",
     "output_type": "stream",
     "text": [
      "/Users/yusufcan/.pyenv/versions/3.8.5/lib/python3.8/site-packages/sklearn/model_selection/_search.py:922: UserWarning: One or more of the test scores are non-finite: [nan nan nan nan nan nan nan nan nan nan nan nan nan nan nan nan nan nan\n",
      " nan nan nan nan nan nan nan nan nan nan nan nan nan nan nan nan nan nan\n",
      " nan nan nan nan nan nan nan nan nan nan nan nan nan nan]\n",
      "  warnings.warn(\n"
     ]
    },
    {
     "data": {
      "text/plain": [
       "GridSearchCV(cv=5, estimator=RandomForestClassifier(), n_jobs=-1,\n",
       "             param_grid={'criterion': ['gini', 'entropy'],\n",
       "                         'max_depth': [1, 5, 10, 15, 20],\n",
       "                         'min_samples_split': [5, 6, 7, 8, 9]},\n",
       "             scoring='f1', verbose=5)"
      ]
     },
     "execution_count": 31,
     "metadata": {},
     "output_type": "execute_result"
    }
   ],
   "source": [
    "######RandomForestClassifier\n",
    "# Defining parameter grid (as dictionary)\n",
    "param_grid = {\"max_depth\" : [1, 5, 10, 15, 20],\n",
    "              \"min_samples_split\": [5,6,7,8,9],\n",
    "              \"criterion\": [\"gini\", \"entropy\"]\n",
    "              \n",
    "              \n",
    "             }\n",
    "rfc=RandomForestClassifier()\n",
    "# Instantiate gridsearch and define the metric to optimize \n",
    "gs = GridSearchCV(rfc,param_grid,scoring=\"f1\",\n",
    "                  cv=5, verbose=5, n_jobs=-1)\n",
    "\n",
    "gs.fit(X_train,y_train)"
   ]
  },
  {
   "cell_type": "code",
   "execution_count": 32,
   "id": "130e6610",
   "metadata": {},
   "outputs": [
    {
     "name": "stdout",
     "output_type": "stream",
     "text": [
      "[[2490   42    4    0    0    0    9]\n",
      " [ 111 1590  249    0  260  249  639]\n",
      " [   2 1087  228    0  218  250  401]\n",
      " [   3  574  181    0  248  220  278]\n",
      " [   2  140  153    0  180  262  112]\n",
      " [   1   27   35    0   70  139   53]\n",
      " [   3   13    6    0   15   54   36]]\n",
      "              precision    recall  f1-score   support\n",
      "\n",
      "           A       0.95      0.98      0.97      2545\n",
      "           B       0.46      0.51      0.48      3098\n",
      "           C       0.27      0.10      0.15      2186\n",
      "           D       0.00      0.00      0.00      1504\n",
      "           E       0.18      0.21      0.20       849\n",
      "           F       0.12      0.43      0.19       325\n",
      "           G       0.02      0.28      0.04       127\n",
      "\n",
      "    accuracy                           0.44     10634\n",
      "   macro avg       0.29      0.36      0.29     10634\n",
      "weighted avg       0.43      0.44      0.42     10634\n",
      "\n"
     ]
    },
    {
     "name": "stderr",
     "output_type": "stream",
     "text": [
      "/Users/yusufcan/.pyenv/versions/3.8.5/lib/python3.8/site-packages/sklearn/metrics/_classification.py:1248: UndefinedMetricWarning: Precision and F-score are ill-defined and being set to 0.0 in labels with no predicted samples. Use `zero_division` parameter to control this behavior.\n",
      "  _warn_prf(average, modifier, msg_start, len(result))\n",
      "/Users/yusufcan/.pyenv/versions/3.8.5/lib/python3.8/site-packages/sklearn/metrics/_classification.py:1248: UndefinedMetricWarning: Precision and F-score are ill-defined and being set to 0.0 in labels with no predicted samples. Use `zero_division` parameter to control this behavior.\n",
      "  _warn_prf(average, modifier, msg_start, len(result))\n",
      "/Users/yusufcan/.pyenv/versions/3.8.5/lib/python3.8/site-packages/sklearn/metrics/_classification.py:1248: UndefinedMetricWarning: Precision and F-score are ill-defined and being set to 0.0 in labels with no predicted samples. Use `zero_division` parameter to control this behavior.\n",
      "  _warn_prf(average, modifier, msg_start, len(result))\n"
     ]
    },
    {
     "data": {
      "text/plain": [
       "{'criterion': 'gini', 'max_depth': 1, 'min_samples_split': 5}"
      ]
     },
     "execution_count": 32,
     "metadata": {},
     "output_type": "execute_result"
    }
   ],
   "source": [
    "y_pred_gs=gs.predict(X_test)\n",
    "score_print(y_test,y_pred_gs)\n",
    "best_param=gs.best_params_\n",
    "best_param"
   ]
  },
  {
   "cell_type": "code",
   "execution_count": null,
   "id": "614fe500",
   "metadata": {},
   "outputs": [],
   "source": [
    "###DecisionTreeClassifier"
   ]
  },
  {
   "cell_type": "code",
   "execution_count": 34,
   "id": "24d5af1a",
   "metadata": {},
   "outputs": [
    {
     "name": "stdout",
     "output_type": "stream",
     "text": [
      "Fitting 5 folds for each of 588 candidates, totalling 2940 fits\n"
     ]
    },
    {
     "name": "stderr",
     "output_type": "stream",
     "text": [
      "/Users/yusufcan/.pyenv/versions/3.8.5/lib/python3.8/site-packages/sklearn/model_selection/_search.py:922: UserWarning: One or more of the test scores are non-finite: [nan nan nan nan nan nan nan nan nan nan nan nan nan nan nan nan nan nan\n",
      " nan nan nan nan nan nan nan nan nan nan nan nan nan nan nan nan nan nan\n",
      " nan nan nan nan nan nan nan nan nan nan nan nan nan nan nan nan nan nan\n",
      " nan nan nan nan nan nan nan nan nan nan nan nan nan nan nan nan nan nan\n",
      " nan nan nan nan nan nan nan nan nan nan nan nan nan nan nan nan nan nan\n",
      " nan nan nan nan nan nan nan nan nan nan nan nan nan nan nan nan nan nan\n",
      " nan nan nan nan nan nan nan nan nan nan nan nan nan nan nan nan nan nan\n",
      " nan nan nan nan nan nan nan nan nan nan nan nan nan nan nan nan nan nan\n",
      " nan nan nan nan nan nan nan nan nan nan nan nan nan nan nan nan nan nan\n",
      " nan nan nan nan nan nan nan nan nan nan nan nan nan nan nan nan nan nan\n",
      " nan nan nan nan nan nan nan nan nan nan nan nan nan nan nan nan nan nan\n",
      " nan nan nan nan nan nan nan nan nan nan nan nan nan nan nan nan nan nan\n",
      " nan nan nan nan nan nan nan nan nan nan nan nan nan nan nan nan nan nan\n",
      " nan nan nan nan nan nan nan nan nan nan nan nan nan nan nan nan nan nan\n",
      " nan nan nan nan nan nan nan nan nan nan nan nan nan nan nan nan nan nan\n",
      " nan nan nan nan nan nan nan nan nan nan nan nan nan nan nan nan nan nan\n",
      " nan nan nan nan nan nan nan nan nan nan nan nan nan nan nan nan nan nan\n",
      " nan nan nan nan nan nan nan nan nan nan nan nan nan nan nan nan nan nan\n",
      " nan nan nan nan nan nan nan nan nan nan nan nan nan nan nan nan nan nan\n",
      " nan nan nan nan nan nan nan nan nan nan nan nan nan nan nan nan nan nan\n",
      " nan nan nan nan nan nan nan nan nan nan nan nan nan nan nan nan nan nan\n",
      " nan nan nan nan nan nan nan nan nan nan nan nan nan nan nan nan nan nan\n",
      " nan nan nan nan nan nan nan nan nan nan nan nan nan nan nan nan nan nan\n",
      " nan nan nan nan nan nan nan nan nan nan nan nan nan nan nan nan nan nan\n",
      " nan nan nan nan nan nan nan nan nan nan nan nan nan nan nan nan nan nan\n",
      " nan nan nan nan nan nan nan nan nan nan nan nan nan nan nan nan nan nan\n",
      " nan nan nan nan nan nan nan nan nan nan nan nan nan nan nan nan nan nan\n",
      " nan nan nan nan nan nan nan nan nan nan nan nan nan nan nan nan nan nan\n",
      " nan nan nan nan nan nan nan nan nan nan nan nan nan nan nan nan nan nan\n",
      " nan nan nan nan nan nan nan nan nan nan nan nan nan nan nan nan nan nan\n",
      " nan nan nan nan nan nan nan nan nan nan nan nan nan nan nan nan nan nan\n",
      " nan nan nan nan nan nan nan nan nan nan nan nan nan nan nan nan nan nan\n",
      " nan nan nan nan nan nan nan nan nan nan nan nan]\n",
      "  warnings.warn(\n"
     ]
    },
    {
     "ename": "ValueError",
     "evalue": "min_samples_split must be an integer greater than 1 or a float in (0.0, 1.0]; got the integer 1",
     "output_type": "error",
     "traceback": [
      "\u001b[0;31m---------------------------------------------------------------------------\u001b[0m",
      "\u001b[0;31mValueError\u001b[0m                                Traceback (most recent call last)",
      "\u001b[0;32m<ipython-input-34-e43e7922105b>\u001b[0m in \u001b[0;36m<module>\u001b[0;34m\u001b[0m\n\u001b[1;32m     12\u001b[0m                   cv=5, verbose=5, n_jobs=-1)\n\u001b[1;32m     13\u001b[0m \u001b[0;34m\u001b[0m\u001b[0m\n\u001b[0;32m---> 14\u001b[0;31m \u001b[0mgs\u001b[0m\u001b[0;34m.\u001b[0m\u001b[0mfit\u001b[0m\u001b[0;34m(\u001b[0m\u001b[0mX_train\u001b[0m\u001b[0;34m,\u001b[0m\u001b[0my_train\u001b[0m\u001b[0;34m)\u001b[0m\u001b[0;34m\u001b[0m\u001b[0;34m\u001b[0m\u001b[0m\n\u001b[0m",
      "\u001b[0;32m~/.pyenv/versions/3.8.5/lib/python3.8/site-packages/sklearn/utils/validation.py\u001b[0m in \u001b[0;36minner_f\u001b[0;34m(*args, **kwargs)\u001b[0m\n\u001b[1;32m     61\u001b[0m             \u001b[0mextra_args\u001b[0m \u001b[0;34m=\u001b[0m \u001b[0mlen\u001b[0m\u001b[0;34m(\u001b[0m\u001b[0margs\u001b[0m\u001b[0;34m)\u001b[0m \u001b[0;34m-\u001b[0m \u001b[0mlen\u001b[0m\u001b[0;34m(\u001b[0m\u001b[0mall_args\u001b[0m\u001b[0;34m)\u001b[0m\u001b[0;34m\u001b[0m\u001b[0;34m\u001b[0m\u001b[0m\n\u001b[1;32m     62\u001b[0m             \u001b[0;32mif\u001b[0m \u001b[0mextra_args\u001b[0m \u001b[0;34m<=\u001b[0m \u001b[0;36m0\u001b[0m\u001b[0;34m:\u001b[0m\u001b[0;34m\u001b[0m\u001b[0;34m\u001b[0m\u001b[0m\n\u001b[0;32m---> 63\u001b[0;31m                 \u001b[0;32mreturn\u001b[0m \u001b[0mf\u001b[0m\u001b[0;34m(\u001b[0m\u001b[0;34m*\u001b[0m\u001b[0margs\u001b[0m\u001b[0;34m,\u001b[0m \u001b[0;34m**\u001b[0m\u001b[0mkwargs\u001b[0m\u001b[0;34m)\u001b[0m\u001b[0;34m\u001b[0m\u001b[0;34m\u001b[0m\u001b[0m\n\u001b[0m\u001b[1;32m     64\u001b[0m \u001b[0;34m\u001b[0m\u001b[0m\n\u001b[1;32m     65\u001b[0m             \u001b[0;31m# extra_args > 0\u001b[0m\u001b[0;34m\u001b[0m\u001b[0;34m\u001b[0m\u001b[0;34m\u001b[0m\u001b[0m\n",
      "\u001b[0;32m~/.pyenv/versions/3.8.5/lib/python3.8/site-packages/sklearn/model_selection/_search.py\u001b[0m in \u001b[0;36mfit\u001b[0;34m(self, X, y, groups, **fit_params)\u001b[0m\n\u001b[1;32m    878\u001b[0m             \u001b[0mrefit_start_time\u001b[0m \u001b[0;34m=\u001b[0m \u001b[0mtime\u001b[0m\u001b[0;34m.\u001b[0m\u001b[0mtime\u001b[0m\u001b[0;34m(\u001b[0m\u001b[0;34m)\u001b[0m\u001b[0;34m\u001b[0m\u001b[0;34m\u001b[0m\u001b[0m\n\u001b[1;32m    879\u001b[0m             \u001b[0;32mif\u001b[0m \u001b[0my\u001b[0m \u001b[0;32mis\u001b[0m \u001b[0;32mnot\u001b[0m \u001b[0;32mNone\u001b[0m\u001b[0;34m:\u001b[0m\u001b[0;34m\u001b[0m\u001b[0;34m\u001b[0m\u001b[0m\n\u001b[0;32m--> 880\u001b[0;31m                 \u001b[0mself\u001b[0m\u001b[0;34m.\u001b[0m\u001b[0mbest_estimator_\u001b[0m\u001b[0;34m.\u001b[0m\u001b[0mfit\u001b[0m\u001b[0;34m(\u001b[0m\u001b[0mX\u001b[0m\u001b[0;34m,\u001b[0m \u001b[0my\u001b[0m\u001b[0;34m,\u001b[0m \u001b[0;34m**\u001b[0m\u001b[0mfit_params\u001b[0m\u001b[0;34m)\u001b[0m\u001b[0;34m\u001b[0m\u001b[0;34m\u001b[0m\u001b[0m\n\u001b[0m\u001b[1;32m    881\u001b[0m             \u001b[0;32melse\u001b[0m\u001b[0;34m:\u001b[0m\u001b[0;34m\u001b[0m\u001b[0;34m\u001b[0m\u001b[0m\n\u001b[1;32m    882\u001b[0m                 \u001b[0mself\u001b[0m\u001b[0;34m.\u001b[0m\u001b[0mbest_estimator_\u001b[0m\u001b[0;34m.\u001b[0m\u001b[0mfit\u001b[0m\u001b[0;34m(\u001b[0m\u001b[0mX\u001b[0m\u001b[0;34m,\u001b[0m \u001b[0;34m**\u001b[0m\u001b[0mfit_params\u001b[0m\u001b[0;34m)\u001b[0m\u001b[0;34m\u001b[0m\u001b[0;34m\u001b[0m\u001b[0m\n",
      "\u001b[0;32m~/.pyenv/versions/3.8.5/lib/python3.8/site-packages/sklearn/tree/_classes.py\u001b[0m in \u001b[0;36mfit\u001b[0;34m(self, X, y, sample_weight, check_input, X_idx_sorted)\u001b[0m\n\u001b[1;32m    901\u001b[0m         \"\"\"\n\u001b[1;32m    902\u001b[0m \u001b[0;34m\u001b[0m\u001b[0m\n\u001b[0;32m--> 903\u001b[0;31m         super().fit(\n\u001b[0m\u001b[1;32m    904\u001b[0m             \u001b[0mX\u001b[0m\u001b[0;34m,\u001b[0m \u001b[0my\u001b[0m\u001b[0;34m,\u001b[0m\u001b[0;34m\u001b[0m\u001b[0;34m\u001b[0m\u001b[0m\n\u001b[1;32m    905\u001b[0m             \u001b[0msample_weight\u001b[0m\u001b[0;34m=\u001b[0m\u001b[0msample_weight\u001b[0m\u001b[0;34m,\u001b[0m\u001b[0;34m\u001b[0m\u001b[0;34m\u001b[0m\u001b[0m\n",
      "\u001b[0;32m~/.pyenv/versions/3.8.5/lib/python3.8/site-packages/sklearn/tree/_classes.py\u001b[0m in \u001b[0;36mfit\u001b[0;34m(self, X, y, sample_weight, check_input, X_idx_sorted)\u001b[0m\n\u001b[1;32m    236\u001b[0m         \u001b[0;32mif\u001b[0m \u001b[0misinstance\u001b[0m\u001b[0;34m(\u001b[0m\u001b[0mself\u001b[0m\u001b[0;34m.\u001b[0m\u001b[0mmin_samples_split\u001b[0m\u001b[0;34m,\u001b[0m \u001b[0mnumbers\u001b[0m\u001b[0;34m.\u001b[0m\u001b[0mIntegral\u001b[0m\u001b[0;34m)\u001b[0m\u001b[0;34m:\u001b[0m\u001b[0;34m\u001b[0m\u001b[0;34m\u001b[0m\u001b[0m\n\u001b[1;32m    237\u001b[0m             \u001b[0;32mif\u001b[0m \u001b[0;32mnot\u001b[0m \u001b[0;36m2\u001b[0m \u001b[0;34m<=\u001b[0m \u001b[0mself\u001b[0m\u001b[0;34m.\u001b[0m\u001b[0mmin_samples_split\u001b[0m\u001b[0;34m:\u001b[0m\u001b[0;34m\u001b[0m\u001b[0;34m\u001b[0m\u001b[0m\n\u001b[0;32m--> 238\u001b[0;31m                 raise ValueError(\"min_samples_split must be an integer \"\n\u001b[0m\u001b[1;32m    239\u001b[0m                                  \u001b[0;34m\"greater than 1 or a float in (0.0, 1.0]; \"\u001b[0m\u001b[0;34m\u001b[0m\u001b[0;34m\u001b[0m\u001b[0m\n\u001b[1;32m    240\u001b[0m                                  \u001b[0;34m\"got the integer %s\"\u001b[0m\u001b[0;34m\u001b[0m\u001b[0;34m\u001b[0m\u001b[0m\n",
      "\u001b[0;31mValueError\u001b[0m: min_samples_split must be an integer greater than 1 or a float in (0.0, 1.0]; got the integer 1"
     ]
    }
   ],
   "source": [
    "# Defining parameter grid (as dictionary)\n",
    "param_grid = {\"max_depth\" : [1, 5, 10, 15, 20, 25],\n",
    "              \"min_samples_split\": [1,2,3,4,5,10,15],\n",
    "              \"min_samples_leaf\": [1,2,3,4,5,10,15],\n",
    "              \"criterion\": [\"gini\", \"entropy\"]\n",
    "              \n",
    "              \n",
    "             }\n",
    "dtc=DecisionTreeClassifier()\n",
    "# Instantiate gridsearch and define the metric to optimize \n",
    "gs = GridSearchCV(dtc,param_grid,scoring=\"f1\",\n",
    "                  cv=5, verbose=5, n_jobs=-1)\n",
    "\n",
    "gs.fit(X_train,y_train)"
   ]
  },
  {
   "cell_type": "code",
   "execution_count": 28,
   "id": "ab8cfa1e",
   "metadata": {},
   "outputs": [
    {
     "name": "stdout",
     "output_type": "stream",
     "text": [
      "[[  731  3029]\n",
      " [  422 12832]]\n",
      "              precision    recall  f1-score   support\n",
      "\n",
      "           0       0.63      0.19      0.30      3760\n",
      "           1       0.81      0.97      0.88     13254\n",
      "\n",
      "    accuracy                           0.80     17014\n",
      "   macro avg       0.72      0.58      0.59     17014\n",
      "weighted avg       0.77      0.80      0.75     17014\n",
      "\n"
     ]
    },
    {
     "data": {
      "text/plain": [
       "{'criterion': 'entropy',\n",
       " 'max_depth': 5,\n",
       " 'min_samples_leaf': 1,\n",
       " 'min_samples_split': 4}"
      ]
     },
     "execution_count": 28,
     "metadata": {},
     "output_type": "execute_result"
    }
   ],
   "source": [
    "y_pred_gs=gs.predict(X_test)\n",
    "score_print(y_test,y_pred_gs)\n",
    "best_param=gs.best_params_\n",
    "best_param"
   ]
  },
  {
   "cell_type": "code",
   "execution_count": null,
   "id": "26e0f291",
   "metadata": {},
   "outputs": [],
   "source": []
  },
  {
   "cell_type": "code",
   "execution_count": null,
   "id": "59f8308a",
   "metadata": {},
   "outputs": [],
   "source": []
  },
  {
   "cell_type": "code",
   "execution_count": null,
   "id": "0f967086",
   "metadata": {},
   "outputs": [],
   "source": [
    "###LinearSVC"
   ]
  },
  {
   "cell_type": "code",
   "execution_count": 40,
   "id": "15102396",
   "metadata": {},
   "outputs": [
    {
     "name": "stdout",
     "output_type": "stream",
     "text": [
      "Fitting 5 folds for each of 72 candidates, totalling 360 fits\n"
     ]
    },
    {
     "name": "stderr",
     "output_type": "stream",
     "text": [
      "/Users/yusufcan/.pyenv/versions/3.8.5/lib/python3.8/site-packages/sklearn/model_selection/_search.py:922: UserWarning: One or more of the test scores are non-finite: [       nan 0.87590599        nan        nan 0.87577092        nan\n",
      "        nan 0.87577092        nan        nan 0.87577092        nan\n",
      "        nan 0.87577092        nan        nan 0.87577092        nan\n",
      "        nan        nan        nan        nan        nan        nan\n",
      "        nan        nan        nan        nan        nan        nan\n",
      "        nan        nan        nan        nan        nan        nan\n",
      "        nan 0.86878261        nan        nan 0.87858419        nan\n",
      "        nan 0.87655446        nan        nan 0.87832172        nan\n",
      "        nan 0.87827385        nan        nan 0.87840404        nan\n",
      "        nan        nan        nan        nan        nan        nan\n",
      "        nan        nan        nan        nan        nan        nan\n",
      "        nan        nan        nan        nan        nan        nan]\n",
      "  warnings.warn(\n",
      "/Users/yusufcan/.pyenv/versions/3.8.5/lib/python3.8/site-packages/sklearn/svm/_base.py:985: ConvergenceWarning: Liblinear failed to converge, increase the number of iterations.\n",
      "  warnings.warn(\"Liblinear failed to converge, increase \"\n"
     ]
    },
    {
     "data": {
      "text/plain": [
       "GridSearchCV(cv=5, estimator=LinearSVC(), n_jobs=-1,\n",
       "             param_grid={'loss': ['hinge', 'log', 'squared_hinge',\n",
       "                                  'modified_huber'],\n",
       "                         'max_iter': [10, 20, 30, 50, 60, 100],\n",
       "                         'penalty': ['l1', 'l2', 'elasticnet']},\n",
       "             scoring='f1', verbose=5)"
      ]
     },
     "execution_count": 40,
     "metadata": {},
     "output_type": "execute_result"
    }
   ],
   "source": [
    "# Defining parameter grid (as dictionary)\n",
    "param_grid = {\"loss\" : [\"hinge\", \"log\", \"squared_hinge\", \"modified_huber\"],\n",
    "              \"max_iter\": [10,20,30, 50, 60,100,],\n",
    "              \"penalty\": [\"l1\", \"l2\", \"elasticnet\"]\n",
    "              \n",
    "              \n",
    "             }\n",
    "svc=LinearSVC()\n",
    "# Instantiate gridsearch and define the metric to optimize \n",
    "gs = GridSearchCV(svc,param_grid,scoring=\"f1\",\n",
    "                  cv=5, verbose=5, n_jobs=-1)\n",
    "\n",
    "gs.fit(X_train,y_train)"
   ]
  },
  {
   "cell_type": "code",
   "execution_count": 41,
   "id": "d1a7288c",
   "metadata": {},
   "outputs": [
    {
     "name": "stdout",
     "output_type": "stream",
     "text": [
      "[[  103  3657]\n",
      " [   19 13235]]\n",
      "              precision    recall  f1-score   support\n",
      "\n",
      "           0       0.84      0.03      0.05      3760\n",
      "           1       0.78      1.00      0.88     13254\n",
      "\n",
      "    accuracy                           0.78     17014\n",
      "   macro avg       0.81      0.51      0.47     17014\n",
      "weighted avg       0.80      0.78      0.70     17014\n",
      "\n"
     ]
    },
    {
     "data": {
      "text/plain": [
       "{'loss': 'squared_hinge', 'max_iter': 20, 'penalty': 'l2'}"
      ]
     },
     "execution_count": 41,
     "metadata": {},
     "output_type": "execute_result"
    }
   ],
   "source": [
    "y_pred_gs=gs.predict(X_test)\n",
    "score_print(y_test,y_pred_gs)\n",
    "best_param=gs.best_params_\n",
    "best_param"
   ]
  },
  {
   "cell_type": "code",
   "execution_count": null,
   "id": "b9bd9a5b",
   "metadata": {},
   "outputs": [],
   "source": [
    "######svm\n"
   ]
  },
  {
   "cell_type": "code",
   "execution_count": 5,
   "id": "1283e872",
   "metadata": {},
   "outputs": [
    {
     "name": "stdout",
     "output_type": "stream",
     "text": [
      "Fitting 5 folds for each of 8 candidates, totalling 40 fits\n"
     ]
    },
    {
     "name": "stderr",
     "output_type": "stream",
     "text": [
      "/Users/yusufcan/.pyenv/versions/3.8.5/lib/python3.8/site-packages/sklearn/model_selection/_search.py:922: UserWarning: One or more of the test scores are non-finite: [nan nan nan nan nan nan nan nan]\n",
      "  warnings.warn(\n"
     ]
    },
    {
     "data": {
      "text/plain": [
       "GridSearchCV(cv=5, estimator=SVC(), n_jobs=-1,\n",
       "             param_grid={'decision_function_shape': ['ovo', 'ovr'],\n",
       "                         'kernel': ['rbf', 'linear', 'poly', 'sigmoid']},\n",
       "             scoring='f1', verbose=5)"
      ]
     },
     "execution_count": 5,
     "metadata": {},
     "output_type": "execute_result"
    }
   ],
   "source": [
    "# Defining parameter grid (as dictionary)\n",
    "param_grid = {\n",
    "              \"kernel\": [\"rbf\", \"linear\", \"poly\",\"sigmoid\"],\n",
    "                \"decision_function_shape\" : ['ovo', 'ovr']\n",
    "              \n",
    "              \n",
    "             }\n",
    "clf = svm.SVC()\n",
    "# Instantiate gridsearch and define the metric to optimize \n",
    "gs = GridSearchCV(clf,param_grid,scoring=\"f1\",\n",
    "                  cv=5, verbose=5, n_jobs=-1)\n",
    "\n",
    "gs.fit(X_train,y_train)"
   ]
  },
  {
   "cell_type": "code",
   "execution_count": 6,
   "id": "a7bf44f7",
   "metadata": {},
   "outputs": [
    {
     "name": "stdout",
     "output_type": "stream",
     "text": [
      "[[2458   87    0    0    0    0    0]\n",
      " [  66 2803  229    0    0    0    0]\n",
      " [   1  118 1854  213    0    0    0]\n",
      " [   2    0  143 1202  156    1    0]\n",
      " [   1    0    0  142  636   70    0]\n",
      " [   0    0    0    0   70  226   29]\n",
      " [   0    0    0    0    1   35   91]]\n",
      "              precision    recall  f1-score   support\n",
      "\n",
      "           A       0.97      0.97      0.97      2545\n",
      "           B       0.93      0.90      0.92      3098\n",
      "           C       0.83      0.85      0.84      2186\n",
      "           D       0.77      0.80      0.79      1504\n",
      "           E       0.74      0.75      0.74       849\n",
      "           F       0.68      0.70      0.69       325\n",
      "           G       0.76      0.72      0.74       127\n",
      "\n",
      "    accuracy                           0.87     10634\n",
      "   macro avg       0.81      0.81      0.81     10634\n",
      "weighted avg       0.87      0.87      0.87     10634\n",
      "\n"
     ]
    },
    {
     "data": {
      "text/plain": [
       "{'decision_function_shape': 'ovo', 'kernel': 'rbf'}"
      ]
     },
     "execution_count": 6,
     "metadata": {},
     "output_type": "execute_result"
    }
   ],
   "source": [
    "y_pred_gs=gs.predict(X_test)\n",
    "score_print(y_test,y_pred_gs)\n",
    "best_param=gs.best_params_\n",
    "best_param"
   ]
  },
  {
   "cell_type": "code",
   "execution_count": null,
   "id": "bb100f3e",
   "metadata": {},
   "outputs": [],
   "source": [
    "#### info fpr den näachetn tag: unser y spinnt: 0 und 1 für die ereignisse tauschen und sehen was passiert\n",
    "#### 2. featureselektion >> bessere untersuchung wäre anfällig\n",
    "#### 3. "
   ]
  },
  {
   "cell_type": "code",
   "execution_count": null,
   "id": "d04447af",
   "metadata": {},
   "outputs": [],
   "source": [
    "#RandomSearchCV"
   ]
  },
  {
   "cell_type": "code",
   "execution_count": null,
   "id": "c1839419",
   "metadata": {},
   "outputs": [],
   "source": [
    "#KNN"
   ]
  },
  {
   "cell_type": "code",
   "execution_count": 3,
   "id": "2a57803a",
   "metadata": {},
   "outputs": [
    {
     "name": "stdout",
     "output_type": "stream",
     "text": [
      "Fitting 5 folds for each of 5 candidates, totalling 25 fits\n"
     ]
    },
    {
     "data": {
      "text/plain": [
       "RandomizedSearchCV(cv=5, estimator=KNeighborsClassifier(), n_iter=5, n_jobs=-1,\n",
       "                   param_distributions={'n_neighbors': [2, 4, 6, 8, 10, 12,\n",
       "                                                        14]},\n",
       "                   scoring='f1', verbose=5)"
      ]
     },
     "execution_count": 3,
     "metadata": {},
     "output_type": "execute_result"
    }
   ],
   "source": [
    "# Defining parameter grid (as dictionary)\n",
    "param_grid = {\"n_neighbors\" : [2,4,6,8,10,12,14]\n",
    "              \n",
    "              \n",
    "             }\n",
    "knn=KNeighborsClassifier()\n",
    "# Instantiate randomsearch and define the metric to optimize \n",
    "rs = RandomizedSearchCV(knn, param_grid, scoring='f1',\n",
    "                  cv=5, verbose=5, n_jobs=-1, n_iter=5)\n",
    "\n",
    "rs.fit(X_train,y_train)"
   ]
  },
  {
   "cell_type": "code",
   "execution_count": 6,
   "id": "de8d3f8b",
   "metadata": {},
   "outputs": [
    {
     "name": "stdout",
     "output_type": "stream",
     "text": [
      "[[  514  3246]\n",
      " [  604 12650]]\n",
      "              precision    recall  f1-score   support\n",
      "\n",
      "           0       0.46      0.14      0.21      3760\n",
      "           1       0.80      0.95      0.87     13254\n",
      "\n",
      "    accuracy                           0.77     17014\n",
      "   macro avg       0.63      0.55      0.54     17014\n",
      "weighted avg       0.72      0.77      0.72     17014\n",
      "\n"
     ]
    },
    {
     "data": {
      "text/plain": [
       "{'n_neighbors': 14}"
      ]
     },
     "execution_count": 6,
     "metadata": {},
     "output_type": "execute_result"
    }
   ],
   "source": [
    "y_pred_rs=rs.predict(X_test)\n",
    "score_print(y_test,y_pred_rs)\n",
    "best_param=rs.best_params_\n",
    "best_param"
   ]
  },
  {
   "cell_type": "code",
   "execution_count": null,
   "id": "3b9a0038",
   "metadata": {},
   "outputs": [],
   "source": [
    "### log reg"
   ]
  },
  {
   "cell_type": "code",
   "execution_count": 23,
   "id": "747f5943",
   "metadata": {},
   "outputs": [
    {
     "name": "stdout",
     "output_type": "stream",
     "text": [
      "Fitting 5 folds for each of 5 candidates, totalling 25 fits\n"
     ]
    },
    {
     "name": "stderr",
     "output_type": "stream",
     "text": [
      "/Users/yusufcan/.pyenv/versions/3.8.5/lib/python3.8/site-packages/sklearn/model_selection/_search.py:922: UserWarning: One or more of the test scores are non-finite: [nan nan nan nan nan]\n",
      "  warnings.warn(\n"
     ]
    },
    {
     "data": {
      "text/plain": [
       "RandomizedSearchCV(cv=5, estimator=LogisticRegression(), n_iter=5, n_jobs=-1,\n",
       "                   param_distributions={'C': [1, 2, 3, 4, 5, 10, 15],\n",
       "                                        'max_iter': [1000, 5000, 10000, 15000],\n",
       "                                        'penalty': ['l1', 'l2', 'elasticnet'],\n",
       "                                        'solver': ['lbfgs', 'liblinear']},\n",
       "                   scoring='f1', verbose=5)"
      ]
     },
     "execution_count": 23,
     "metadata": {},
     "output_type": "execute_result"
    }
   ],
   "source": [
    "# Defining parameter grid (as dictionary)\n",
    "param_grid = {\"max_iter\" : [1000, 5000, 10000, 15000],\n",
    "              \"penalty\": [\"l1\", \"l2\", \"elasticnet\"],\n",
    "              \"C\": [1,2,3,4,5,10,15],\n",
    "              \"solver\":['lbfgs',\"liblinear\"]\n",
    "\n",
    "             }\n",
    "lr=LogisticRegression()\n",
    "rs = RandomizedSearchCV(lr, param_grid, scoring='f1',\n",
    "                  cv=5, verbose=5, n_jobs=-1, n_iter=5)\n",
    "\n",
    "rs.fit(X_train,y_train)"
   ]
  },
  {
   "cell_type": "code",
   "execution_count": 24,
   "id": "d5240812",
   "metadata": {},
   "outputs": [
    {
     "name": "stdout",
     "output_type": "stream",
     "text": [
      "[[2470   75    0    0    0    0    0]\n",
      " [  68 2837  193    0    0    0    0]\n",
      " [   1  117 1860  208    0    0    0]\n",
      " [   2    0  145 1181  176    0    0]\n",
      " [   1    0    0  118  625  105    0]\n",
      " [   0    0    0    0   45  243   37]\n",
      " [   0    0    0    0    0   22  105]]\n",
      "              precision    recall  f1-score   support\n",
      "\n",
      "           A       0.97      0.97      0.97      2545\n",
      "           B       0.94      0.92      0.93      3098\n",
      "           C       0.85      0.85      0.85      2186\n",
      "           D       0.78      0.79      0.78      1504\n",
      "           E       0.74      0.74      0.74       849\n",
      "           F       0.66      0.75      0.70       325\n",
      "           G       0.74      0.83      0.78       127\n",
      "\n",
      "    accuracy                           0.88     10634\n",
      "   macro avg       0.81      0.83      0.82     10634\n",
      "weighted avg       0.88      0.88      0.88     10634\n",
      "\n"
     ]
    },
    {
     "data": {
      "text/plain": [
       "{'solver': 'lbfgs', 'penalty': 'l2', 'max_iter': 1000, 'C': 2}"
      ]
     },
     "execution_count": 24,
     "metadata": {},
     "output_type": "execute_result"
    }
   ],
   "source": [
    "y_pred_rs=rs.predict(X_test)\n",
    "score_print(y_test,y_pred_rs)\n",
    "best_param=rs.best_params_\n",
    "best_param"
   ]
  },
  {
   "cell_type": "code",
   "execution_count": null,
   "id": "e46116bd",
   "metadata": {},
   "outputs": [],
   "source": [
    "######RandomForestClassifier"
   ]
  },
  {
   "cell_type": "code",
   "execution_count": 27,
   "id": "704b40fb",
   "metadata": {},
   "outputs": [
    {
     "name": "stdout",
     "output_type": "stream",
     "text": [
      "Fitting 5 folds for each of 5 candidates, totalling 25 fits\n"
     ]
    },
    {
     "name": "stderr",
     "output_type": "stream",
     "text": [
      "/Users/yusufcan/.pyenv/versions/3.8.5/lib/python3.8/site-packages/sklearn/model_selection/_search.py:922: UserWarning: One or more of the test scores are non-finite: [nan nan nan nan nan]\n",
      "  warnings.warn(\n"
     ]
    },
    {
     "data": {
      "text/plain": [
       "RandomizedSearchCV(cv=5, estimator=RandomForestClassifier(), n_iter=5,\n",
       "                   n_jobs=-1,\n",
       "                   param_distributions={'criterion': ['gini', 'entropy'],\n",
       "                                        'max_depth': [1, 5, 10, 15, 20, 25, 30,\n",
       "                                                      35],\n",
       "                                        'min_samples_split': [1, 2, 3, 4, 5, 6,\n",
       "                                                              7, 8, 9, 15,\n",
       "                                                              20]},\n",
       "                   scoring='f1', verbose=5)"
      ]
     },
     "execution_count": 27,
     "metadata": {},
     "output_type": "execute_result"
    }
   ],
   "source": [
    "# Defining parameter grid (as dictionary)\n",
    "param_grid = {\"max_depth\" : [1, 5, 10, 15, 20,25,30,35],\n",
    "              \"min_samples_split\": [1,2,3,4,5,6,7,8,9,15,20],\n",
    "              \"criterion\": [\"gini\", \"entropy\"]\n",
    "              \n",
    "              \n",
    "             }\n",
    "rfc=RandomForestClassifier()\n",
    "# Instantiate randomsearch and define the metric to optimize \n",
    "rs = RandomizedSearchCV(rfc, param_grid, scoring='f1',\n",
    "                  cv=5, verbose=5, n_jobs=-1, n_iter=5)\n",
    "\n",
    "rs.fit(X_train,y_train)"
   ]
  },
  {
   "cell_type": "code",
   "execution_count": 28,
   "id": "cbad944e",
   "metadata": {},
   "outputs": [
    {
     "name": "stdout",
     "output_type": "stream",
     "text": [
      "[[2293  188    0    0    0    3   61]\n",
      " [2217  538    0    0    0  196  147]\n",
      " [1429  136  167    5   41  229  179]\n",
      " [ 629   11    0   42  299  238  285]\n",
      " [ 191    0    0    9  252  269  128]\n",
      " [  33    0    0    6   86  140   60]\n",
      " [  15    0    0    1   18   54   39]]\n",
      "              precision    recall  f1-score   support\n",
      "\n",
      "           A       0.34      0.90      0.49      2545\n",
      "           B       0.62      0.17      0.27      3098\n",
      "           C       1.00      0.08      0.14      2186\n",
      "           D       0.67      0.03      0.05      1504\n",
      "           E       0.36      0.30      0.33       849\n",
      "           F       0.12      0.43      0.19       325\n",
      "           G       0.04      0.31      0.08       127\n",
      "\n",
      "    accuracy                           0.33     10634\n",
      "   macro avg       0.45      0.32      0.22     10634\n",
      "weighted avg       0.59      0.33      0.27     10634\n",
      "\n"
     ]
    },
    {
     "data": {
      "text/plain": [
       "{'min_samples_split': 15, 'max_depth': 1, 'criterion': 'entropy'}"
      ]
     },
     "execution_count": 28,
     "metadata": {},
     "output_type": "execute_result"
    }
   ],
   "source": [
    "y_pred_rs=rs.predict(X_test)\n",
    "score_print(y_test,y_pred_rs)\n",
    "best_param=rs.best_params_\n",
    "best_param"
   ]
  },
  {
   "cell_type": "code",
   "execution_count": null,
   "id": "4bc26824",
   "metadata": {},
   "outputs": [],
   "source": [
    "###DecisionTreeClassifier"
   ]
  },
  {
   "cell_type": "code",
   "execution_count": 11,
   "id": "f2fcc9f7",
   "metadata": {},
   "outputs": [
    {
     "name": "stdout",
     "output_type": "stream",
     "text": [
      "Fitting 5 folds for each of 5 candidates, totalling 25 fits\n"
     ]
    },
    {
     "data": {
      "text/plain": [
       "RandomizedSearchCV(cv=5, estimator=DecisionTreeClassifier(), n_iter=5,\n",
       "                   n_jobs=-1,\n",
       "                   param_distributions={'criterion': ['gini', 'entropy'],\n",
       "                                        'max_depth': [1, 5, 10, 15, 20, 25],\n",
       "                                        'min_samples_leaf': [1, 2, 3, 4, 5, 10,\n",
       "                                                             15],\n",
       "                                        'min_samples_split': [1, 2, 3, 4, 5, 10,\n",
       "                                                              15]},\n",
       "                   scoring='f1', verbose=5)"
      ]
     },
     "execution_count": 11,
     "metadata": {},
     "output_type": "execute_result"
    }
   ],
   "source": [
    "# Defining parameter grid (as dictionary)\n",
    "param_grid = {\"max_depth\" : [1, 5, 10, 15, 20, 25],\n",
    "              \"min_samples_split\": [1,2,3,4,5,10,15],\n",
    "              \"min_samples_leaf\": [1,2,3,4,5,10,15],\n",
    "              \"criterion\": [\"gini\", \"entropy\"]\n",
    "              \n",
    "              \n",
    "             }\n",
    "dtc=DecisionTreeClassifier()\n",
    "# Instantiate randomsearch and define the metric to optimize \n",
    "rs = RandomizedSearchCV(dtc, param_grid, scoring='f1',\n",
    "                  cv=5, verbose=5, n_jobs=-1, n_iter=5)\n",
    "\n",
    "rs.fit(X_train,y_train)"
   ]
  },
  {
   "cell_type": "code",
   "execution_count": 12,
   "id": "975d261d",
   "metadata": {},
   "outputs": [
    {
     "name": "stdout",
     "output_type": "stream",
     "text": [
      "[[  749  3011]\n",
      " [  401 12853]]\n",
      "              precision    recall  f1-score   support\n",
      "\n",
      "           0       0.65      0.20      0.31      3760\n",
      "           1       0.81      0.97      0.88     13254\n",
      "\n",
      "    accuracy                           0.80     17014\n",
      "   macro avg       0.73      0.58      0.59     17014\n",
      "weighted avg       0.78      0.80      0.76     17014\n",
      "\n"
     ]
    },
    {
     "data": {
      "text/plain": [
       "{'min_samples_split': 2,\n",
       " 'min_samples_leaf': 3,\n",
       " 'max_depth': 5,\n",
       " 'criterion': 'gini'}"
      ]
     },
     "execution_count": 12,
     "metadata": {},
     "output_type": "execute_result"
    }
   ],
   "source": [
    "y_pred_rs=rs.predict(X_test)\n",
    "score_print(y_test,y_pred_rs)\n",
    "best_param=rs.best_params_\n",
    "best_param"
   ]
  },
  {
   "cell_type": "code",
   "execution_count": null,
   "id": "008914b7",
   "metadata": {},
   "outputs": [],
   "source": [
    "###LinearSVC"
   ]
  },
  {
   "cell_type": "code",
   "execution_count": 17,
   "id": "2bc19655",
   "metadata": {},
   "outputs": [
    {
     "name": "stdout",
     "output_type": "stream",
     "text": [
      "Fitting 5 folds for each of 5 candidates, totalling 25 fits\n"
     ]
    },
    {
     "name": "stderr",
     "output_type": "stream",
     "text": [
      "/Users/yusufcan/.pyenv/versions/3.8.5/lib/python3.8/site-packages/sklearn/model_selection/_search.py:922: UserWarning: One or more of the test scores are non-finite: [0.87577092        nan        nan        nan        nan]\n",
      "  warnings.warn(\n",
      "/Users/yusufcan/.pyenv/versions/3.8.5/lib/python3.8/site-packages/sklearn/svm/_base.py:985: ConvergenceWarning: Liblinear failed to converge, increase the number of iterations.\n",
      "  warnings.warn(\"Liblinear failed to converge, increase \"\n"
     ]
    },
    {
     "data": {
      "text/plain": [
       "RandomizedSearchCV(cv=5, estimator=LinearSVC(), n_iter=5, n_jobs=-1,\n",
       "                   param_distributions={'loss': ['hinge', 'log',\n",
       "                                                 'squared_hinge'],\n",
       "                                        'max_iter': [10, 20, 30, 50, 60, 100],\n",
       "                                        'penalty': ['l1', 'l2']},\n",
       "                   scoring='f1', verbose=5)"
      ]
     },
     "execution_count": 17,
     "metadata": {},
     "output_type": "execute_result"
    }
   ],
   "source": [
    "# Defining parameter grid (as dictionary)\n",
    "param_grid = {\"loss\" : [\"hinge\", \"log\", \"squared_hinge\", \"modified_huber\"],\n",
    "              \"max_iter\": [10,20,30, 50, 60,100,],\n",
    "              \"penalty\": [\"l1\", \"l2\", \"elasticnet\"]\n",
    "              \n",
    "              \n",
    "             }\n",
    "svc=LinearSVC()\n",
    "# Instantiate randomsearch and define the metric to optimize \n",
    "rs = RandomizedSearchCV(svc, param_grid, scoring='f1',\n",
    "                  cv=5, verbose=5, n_jobs=-1, n_iter=5)\n",
    "\n",
    "rs.fit(X_train,y_train)"
   ]
  },
  {
   "cell_type": "code",
   "execution_count": 19,
   "id": "747be048",
   "metadata": {},
   "outputs": [
    {
     "name": "stdout",
     "output_type": "stream",
     "text": [
      "[[    0  3760]\n",
      " [    0 13254]]\n",
      "              precision    recall  f1-score   support\n",
      "\n",
      "           0       0.00      0.00      0.00      3760\n",
      "           1       0.78      1.00      0.88     13254\n",
      "\n",
      "    accuracy                           0.78     17014\n",
      "   macro avg       0.39      0.50      0.44     17014\n",
      "weighted avg       0.61      0.78      0.68     17014\n",
      "\n"
     ]
    },
    {
     "name": "stderr",
     "output_type": "stream",
     "text": [
      "/Users/yusufcan/.pyenv/versions/3.8.5/lib/python3.8/site-packages/sklearn/metrics/_classification.py:1248: UndefinedMetricWarning: Precision and F-score are ill-defined and being set to 0.0 in labels with no predicted samples. Use `zero_division` parameter to control this behavior.\n",
      "  _warn_prf(average, modifier, msg_start, len(result))\n",
      "/Users/yusufcan/.pyenv/versions/3.8.5/lib/python3.8/site-packages/sklearn/metrics/_classification.py:1248: UndefinedMetricWarning: Precision and F-score are ill-defined and being set to 0.0 in labels with no predicted samples. Use `zero_division` parameter to control this behavior.\n",
      "  _warn_prf(average, modifier, msg_start, len(result))\n",
      "/Users/yusufcan/.pyenv/versions/3.8.5/lib/python3.8/site-packages/sklearn/metrics/_classification.py:1248: UndefinedMetricWarning: Precision and F-score are ill-defined and being set to 0.0 in labels with no predicted samples. Use `zero_division` parameter to control this behavior.\n",
      "  _warn_prf(average, modifier, msg_start, len(result))\n"
     ]
    },
    {
     "data": {
      "text/plain": [
       "{'penalty': 'l2', 'max_iter': 20, 'loss': 'hinge'}"
      ]
     },
     "execution_count": 19,
     "metadata": {},
     "output_type": "execute_result"
    }
   ],
   "source": [
    "y_pred_rs=rs.predict(X_test)\n",
    "score_print(y_test,y_pred_rs)\n",
    "best_param=rs.best_params_\n",
    "best_param"
   ]
  },
  {
   "cell_type": "code",
   "execution_count": null,
   "id": "545e1d5d",
   "metadata": {},
   "outputs": [],
   "source": [
    "######svm"
   ]
  },
  {
   "cell_type": "code",
   "execution_count": 3,
   "id": "b2f09fd9",
   "metadata": {},
   "outputs": [
    {
     "name": "stdout",
     "output_type": "stream",
     "text": [
      "Fitting 5 folds for each of 5 candidates, totalling 25 fits\n"
     ]
    },
    {
     "name": "stderr",
     "output_type": "stream",
     "text": [
      "/Users/yusufcan/.pyenv/versions/3.8.5/lib/python3.8/site-packages/sklearn/model_selection/_search.py:922: UserWarning: One or more of the test scores are non-finite: [nan nan nan nan nan]\n",
      "  warnings.warn(\n"
     ]
    },
    {
     "data": {
      "text/plain": [
       "RandomizedSearchCV(cv=5, estimator=SVC(), n_iter=5, n_jobs=-1,\n",
       "                   param_distributions={'decision_function_shape': ['ovo',\n",
       "                                                                    'ovr'],\n",
       "                                        'kernel': ['rbf', 'linear', 'poly',\n",
       "                                                   'sigmoid']},\n",
       "                   scoring='f1', verbose=5)"
      ]
     },
     "execution_count": 3,
     "metadata": {},
     "output_type": "execute_result"
    }
   ],
   "source": [
    "param_grid = {\n",
    "              \"kernel\": [\"rbf\", \"linear\", \"poly\",\"sigmoid\"],\n",
    "                \"decision_function_shape\" : ['ovo', 'ovr']\n",
    "              \n",
    "              \n",
    "             }\n",
    "clf = svm.SVC()\n",
    "# Instantiate randomsearch and define the metric to optimize \n",
    "rs = RandomizedSearchCV(clf, param_grid, scoring='f1',\n",
    "                  cv=5, verbose=5, n_jobs=-1, n_iter=5)\n",
    "\n",
    "rs.fit(X_train,y_train)"
   ]
  },
  {
   "cell_type": "code",
   "execution_count": 4,
   "id": "4d58b768",
   "metadata": {},
   "outputs": [
    {
     "name": "stdout",
     "output_type": "stream",
     "text": [
      "[[2458   87    0    0    0    0    0]\n",
      " [  66 2803  229    0    0    0    0]\n",
      " [   1  118 1854  213    0    0    0]\n",
      " [   2    0  143 1202  156    1    0]\n",
      " [   1    0    0  142  636   70    0]\n",
      " [   0    0    0    0   70  226   29]\n",
      " [   0    0    0    0    1   35   91]]\n",
      "              precision    recall  f1-score   support\n",
      "\n",
      "           A       0.97      0.97      0.97      2545\n",
      "           B       0.93      0.90      0.92      3098\n",
      "           C       0.83      0.85      0.84      2186\n",
      "           D       0.77      0.80      0.79      1504\n",
      "           E       0.74      0.75      0.74       849\n",
      "           F       0.68      0.70      0.69       325\n",
      "           G       0.76      0.72      0.74       127\n",
      "\n",
      "    accuracy                           0.87     10634\n",
      "   macro avg       0.81      0.81      0.81     10634\n",
      "weighted avg       0.87      0.87      0.87     10634\n",
      "\n"
     ]
    },
    {
     "data": {
      "text/plain": [
       "{'kernel': 'rbf', 'decision_function_shape': 'ovo'}"
      ]
     },
     "execution_count": 4,
     "metadata": {},
     "output_type": "execute_result"
    }
   ],
   "source": [
    "y_pred_rs=rs.predict(X_test)\n",
    "score_print(y_test,y_pred_rs)\n",
    "best_param=rs.best_params_\n",
    "best_param"
   ]
  },
  {
   "cell_type": "code",
   "execution_count": null,
   "id": "2416ff64",
   "metadata": {},
   "outputs": [],
   "source": []
  }
 ],
 "metadata": {
  "kernelspec": {
   "display_name": "Python 3",
   "language": "python",
   "name": "python3"
  },
  "language_info": {
   "codemirror_mode": {
    "name": "ipython",
    "version": 3
   },
   "file_extension": ".py",
   "mimetype": "text/x-python",
   "name": "python",
   "nbconvert_exporter": "python",
   "pygments_lexer": "ipython3",
   "version": "3.8.5"
  }
 },
 "nbformat": 4,
 "nbformat_minor": 5
}
