{
 "cells": [
  {
   "cell_type": "code",
   "execution_count": 31,
   "id": "77572c8c",
   "metadata": {},
   "outputs": [
    {
     "name": "stdout",
     "output_type": "stream",
     "text": [
      "no stored variable or alias score_print\n"
     ]
    }
   ],
   "source": [
    "import pandas as pd\n",
    "import numpy as np\n",
    "import matplotlib.pyplot as plt\n",
    "import seaborn as sns\n",
    "from sklearn import svm\n",
    "from sklearn.model_selection import GridSearchCV\n",
    "\n",
    "%store -r X_train X_test y_test y_train score_print\n",
    "\n",
    "from sklearn import svm\n",
    "\n",
    "\n",
    "\n",
    "from sklearn.ensemble import RandomForestClassifier\n",
    "from sklearn.tree import DecisionTreeClassifier\n",
    "from sklearn.svm import LinearSVC\n",
    "from sklearn.neighbors import KNeighborsClassifier\n",
    "from sklearn.linear_model import LogisticRegression\n",
    "from sklearn.preprocessing import StandardScaler\n",
    "from sklearn.model_selection import train_test_split\n",
    "from sklearn.metrics import confusion_matrix, accuracy_score, precision_score, recall_score, classification_report"
   ]
  },
  {
   "cell_type": "code",
   "execution_count": 2,
   "id": "99179495",
   "metadata": {},
   "outputs": [],
   "source": [
    "def score_print(y,y_pred):\n",
    "    \n",
    "    cm = confusion_matrix(y,y_pred)\n",
    "    print(cm)\n",
    "    cp= classification_report(y,y_pred)\n",
    "    print(cp)"
   ]
  },
  {
   "cell_type": "code",
   "execution_count": 4,
   "id": "92417840",
   "metadata": {},
   "outputs": [],
   "source": [
    "##########GridSearchCV\n"
   ]
  },
  {
   "cell_type": "code",
   "execution_count": 7,
   "id": "02d47052",
   "metadata": {},
   "outputs": [
    {
     "name": "stdout",
     "output_type": "stream",
     "text": [
      "Fitting 5 folds for each of 5 candidates, totalling 25 fits\n"
     ]
    },
    {
     "data": {
      "text/plain": [
       "GridSearchCV(cv=5, estimator=KNeighborsClassifier(), n_jobs=-1,\n",
       "             param_grid={'n_neighbors': range(5, 15, 2)}, verbose=5)"
      ]
     },
     "execution_count": 7,
     "metadata": {},
     "output_type": "execute_result"
    }
   ],
   "source": [
    "# Defining parameter grid (as dictionary)\n",
    "param_grid = {\"n_neighbors\" : range(5,15,2)\n",
    "              \n",
    "              \n",
    "             }\n",
    "knn=KNeighborsClassifier()\n",
    "# Instantiate gridsearch and define the metric to optimize \n",
    "gs = GridSearchCV(knn,param_grid,\n",
    "                  cv=5, verbose=5, n_jobs=-1)\n",
    "\n",
    "gs.fit(X_train,y_train)\n"
   ]
  },
  {
   "cell_type": "code",
   "execution_count": 8,
   "id": "3c20af7b",
   "metadata": {},
   "outputs": [
    {
     "name": "stdout",
     "output_type": "stream",
     "text": [
      "[[  522  3238]\n",
      " [  607 12647]]\n",
      "              precision    recall  f1-score   support\n",
      "\n",
      "           0       0.46      0.14      0.21      3760\n",
      "           1       0.80      0.95      0.87     13254\n",
      "\n",
      "    accuracy                           0.77     17014\n",
      "   macro avg       0.63      0.55      0.54     17014\n",
      "weighted avg       0.72      0.77      0.72     17014\n",
      "\n"
     ]
    }
   ],
   "source": [
    "y_pred_gs=gs.predict(X_test)\n",
    "score_print(y_test,y_pred_gs)\n",
    "best_param=gs.best_params_"
   ]
  },
  {
   "cell_type": "code",
   "execution_count": 9,
   "id": "f23c1a6f",
   "metadata": {},
   "outputs": [
    {
     "data": {
      "text/plain": [
       "{'n_neighbors': 9}"
      ]
     },
     "execution_count": 9,
     "metadata": {},
     "output_type": "execute_result"
    }
   ],
   "source": [
    "best_param"
   ]
  },
  {
   "cell_type": "code",
   "execution_count": null,
   "id": "0c9a4963",
   "metadata": {},
   "outputs": [],
   "source": [
    "#### log reg"
   ]
  },
  {
   "cell_type": "code",
   "execution_count": 18,
   "id": "c3c3bcf6",
   "metadata": {},
   "outputs": [
    {
     "name": "stdout",
     "output_type": "stream",
     "text": [
      "Fitting 5 folds for each of 12 candidates, totalling 60 fits\n"
     ]
    },
    {
     "name": "stderr",
     "output_type": "stream",
     "text": [
      "/Users/yusufcan/.pyenv/versions/3.8.5/lib/python3.8/site-packages/sklearn/model_selection/_search.py:922: UserWarning: One or more of the test scores are non-finite: [       nan 0.87688252        nan        nan 0.87688252        nan\n",
      "        nan 0.87688252        nan        nan 0.87688252        nan]\n",
      "  warnings.warn(\n"
     ]
    },
    {
     "data": {
      "text/plain": [
       "GridSearchCV(cv=5, estimator=LogisticRegression(), n_jobs=-1,\n",
       "             param_grid={'max_iter': [1000, 5000, 10000, 15000],\n",
       "                         'penalty': ['l1', 'l2', 'elasticnet']},\n",
       "             scoring='f1', verbose=5)"
      ]
     },
     "execution_count": 18,
     "metadata": {},
     "output_type": "execute_result"
    }
   ],
   "source": [
    "# Defining parameter grid (as dictionary)\n",
    "param_grid = {\"max_iter\" : [1000, 5000, 10000, 15000],\n",
    "              \"penalty\": [\"l1\", \"l2\", \"elasticnet\"]\n",
    "              \n",
    "              \n",
    "             }\n",
    "lr=LogisticRegression()\n",
    "# Instantiate gridsearch and define the metric to optimize \n",
    "gs = GridSearchCV(lr,param_grid,scoring=\"f1\",\n",
    "                  cv=5, verbose=5, n_jobs=-1)\n",
    "\n",
    "gs.fit(X_train,y_train)"
   ]
  },
  {
   "cell_type": "code",
   "execution_count": 19,
   "id": "c249d6bd",
   "metadata": {},
   "outputs": [
    {
     "name": "stdout",
     "output_type": "stream",
     "text": [
      "[[  523  3237]\n",
      " [  384 12870]]\n",
      "              precision    recall  f1-score   support\n",
      "\n",
      "           0       0.58      0.14      0.22      3760\n",
      "           1       0.80      0.97      0.88     13254\n",
      "\n",
      "    accuracy                           0.79     17014\n",
      "   macro avg       0.69      0.56      0.55     17014\n",
      "weighted avg       0.75      0.79      0.73     17014\n",
      "\n"
     ]
    },
    {
     "data": {
      "text/plain": [
       "{'max_iter': 1000, 'penalty': 'l2'}"
      ]
     },
     "execution_count": 19,
     "metadata": {},
     "output_type": "execute_result"
    }
   ],
   "source": [
    "y_pred_gs=gs.predict(X_test)\n",
    "score_print(y_test,y_pred_gs)\n",
    "best_param=gs.best_params_\n",
    "best_param"
   ]
  },
  {
   "cell_type": "code",
   "execution_count": 16,
   "id": "a5c03baa",
   "metadata": {},
   "outputs": [
    {
     "data": {
      "text/plain": [
       "GridSearchCV(cv=5, estimator=LogisticRegression(), n_jobs=-1,\n",
       "             param_grid={'max_iter': [1000, 5000, 10000, 15000],\n",
       "                         'penalty': ['l1', 'l2', 'elasticnet']},\n",
       "             verbose=5)"
      ]
     },
     "execution_count": 16,
     "metadata": {},
     "output_type": "execute_result"
    }
   ],
   "source": []
  },
  {
   "cell_type": "code",
   "execution_count": 22,
   "id": "52cafbdd",
   "metadata": {},
   "outputs": [
    {
     "name": "stdout",
     "output_type": "stream",
     "text": [
      "Fitting 5 folds for each of 110 candidates, totalling 550 fits\n"
     ]
    },
    {
     "name": "stderr",
     "output_type": "stream",
     "text": [
      "/Users/yusufcan/.pyenv/versions/3.8.5/lib/python3.8/site-packages/sklearn/model_selection/_search.py:922: UserWarning: One or more of the test scores are non-finite: [       nan 0.87580116 0.87580116 0.87580116 0.87580116 0.87580116\n",
      " 0.87580116 0.87580116 0.87580116 0.87580116 0.87580116        nan\n",
      " 0.87962155 0.87989678 0.87934422 0.87976672 0.87953412 0.87917414\n",
      " 0.8796789  0.87972653 0.87968374 0.87976213        nan 0.88469426\n",
      " 0.88471509 0.88508233 0.88478406 0.88500274 0.88478268 0.88496217\n",
      " 0.88486876 0.88501262 0.88499876        nan 0.8848411  0.88515984\n",
      " 0.88482277 0.88512077 0.88440076 0.88569232 0.88524201 0.88487713\n",
      " 0.88550289 0.88540588        nan 0.88386416 0.88450702 0.88439856\n",
      " 0.884888   0.88505366 0.88488256 0.88464057 0.88553269 0.88504388\n",
      " 0.88472814        nan 0.87580116 0.87580116 0.87580116 0.87580116\n",
      " 0.87580116 0.87580116 0.87580116 0.87580116 0.87580116 0.87580116\n",
      "        nan 0.87906304 0.87925541 0.87989017 0.87928101 0.87872734\n",
      " 0.87998454 0.87981539 0.87925704 0.87934406 0.87927486        nan\n",
      " 0.8849222  0.88493723 0.88494076 0.88493698 0.88503408 0.8848425\n",
      " 0.88523514 0.88454075 0.88473258 0.884898          nan 0.88483054\n",
      " 0.88527878 0.88496466 0.88507111 0.88493485 0.88511679 0.8856519\n",
      " 0.88525027 0.88492644 0.88501038        nan 0.88490357 0.88449626\n",
      " 0.88474653 0.88544761 0.8853478  0.88442297 0.88474394 0.88511354\n",
      " 0.88488773 0.88491647]\n",
      "  warnings.warn(\n"
     ]
    },
    {
     "data": {
      "text/plain": [
       "GridSearchCV(cv=5, estimator=RandomForestClassifier(), n_jobs=-1,\n",
       "             param_grid={'criterion': ['gini', 'entropy'],\n",
       "                         'max_depth': [1, 5, 10, 15, 20],\n",
       "                         'min_samples_split': [1, 2, 3, 4, 5, 6, 7, 8, 9, 15,\n",
       "                                               20]},\n",
       "             scoring='f1', verbose=5)"
      ]
     },
     "execution_count": 22,
     "metadata": {},
     "output_type": "execute_result"
    }
   ],
   "source": [
    "######RandomForestClassifier\n",
    "# Defining parameter grid (as dictionary)\n",
    "param_grid = {\"max_depth\" : [1, 5, 10, 15, 20],\n",
    "              \"min_samples_split\": [1,2,3,4,5,6,7,8,9,15,20],\n",
    "              \"criterion\": [\"gini\", \"entropy\"]\n",
    "              \n",
    "              \n",
    "             }\n",
    "rfc=RandomForestClassifier()\n",
    "# Instantiate gridsearch and define the metric to optimize \n",
    "gs = GridSearchCV(rfc,param_grid,scoring=\"f1\",\n",
    "                  cv=5, verbose=5, n_jobs=-1)\n",
    "\n",
    "gs.fit(X_train,y_train)"
   ]
  },
  {
   "cell_type": "code",
   "execution_count": 23,
   "id": "32546655",
   "metadata": {},
   "outputs": [
    {
     "name": "stdout",
     "output_type": "stream",
     "text": [
      "[[  565  3195]\n",
      " [  178 13076]]\n",
      "              precision    recall  f1-score   support\n",
      "\n",
      "           0       0.76      0.15      0.25      3760\n",
      "           1       0.80      0.99      0.89     13254\n",
      "\n",
      "    accuracy                           0.80     17014\n",
      "   macro avg       0.78      0.57      0.57     17014\n",
      "weighted avg       0.79      0.80      0.75     17014\n",
      "\n"
     ]
    },
    {
     "data": {
      "text/plain": [
       "{'criterion': 'gini', 'max_depth': 15, 'min_samples_split': 7}"
      ]
     },
     "execution_count": 23,
     "metadata": {},
     "output_type": "execute_result"
    }
   ],
   "source": [
    "y_pred_gs=gs.predict(X_test)\n",
    "score_print(y_test,y_pred_gs)\n",
    "best_param=gs.best_params_\n",
    "best_param"
   ]
  },
  {
   "cell_type": "code",
   "execution_count": null,
   "id": "435372e1",
   "metadata": {},
   "outputs": [],
   "source": [
    "###DecisionTreeClassifier"
   ]
  },
  {
   "cell_type": "code",
   "execution_count": 27,
   "id": "a414c08e",
   "metadata": {},
   "outputs": [
    {
     "name": "stdout",
     "output_type": "stream",
     "text": [
      "Fitting 5 folds for each of 588 candidates, totalling 2940 fits\n"
     ]
    },
    {
     "name": "stderr",
     "output_type": "stream",
     "text": [
      "/Users/yusufcan/.pyenv/versions/3.8.5/lib/python3.8/site-packages/sklearn/model_selection/_search.py:922: UserWarning: One or more of the test scores are non-finite: [       nan 0.87580116 0.87580116 0.87580116 0.87580116 0.87580116\n",
      " 0.87580116        nan 0.87580116 0.87580116 0.87580116 0.87580116\n",
      " 0.87580116 0.87580116        nan 0.87580116 0.87580116 0.87580116\n",
      " 0.87580116 0.87580116 0.87580116        nan 0.87580116 0.87580116\n",
      " 0.87580116 0.87580116 0.87580116 0.87580116        nan 0.87580116\n",
      " 0.87580116 0.87580116 0.87580116 0.87580116 0.87580116        nan\n",
      " 0.87580116 0.87580116 0.87580116 0.87580116 0.87580116 0.87580116\n",
      "        nan 0.87580116 0.87580116 0.87580116 0.87580116 0.87580116\n",
      " 0.87580116        nan 0.88160581 0.88158558 0.88158007 0.88155984\n",
      " 0.88160581 0.88160581        nan 0.88155984 0.88158007 0.88155984\n",
      " 0.88155984 0.88160581 0.88155984        nan 0.88155444 0.88155444\n",
      " 0.88153421 0.88158017 0.88153421 0.88155994        nan 0.88151396\n",
      " 0.88151396 0.88151396 0.88149373 0.88151396 0.88149373        nan\n",
      " 0.88148818 0.88150841 0.88148818 0.88150841 0.88148818 0.88150841\n",
      "        nan 0.88142919 0.88142919 0.88142919 0.88142919 0.88142919\n",
      " 0.88142919        nan 0.88149803 0.88149803 0.88149803 0.88149803\n",
      " 0.88149803 0.88149803        nan 0.87413687 0.87446658 0.87410581\n",
      " 0.87385682 0.87356254 0.87387877        nan 0.87404776 0.87382932\n",
      " 0.87431283 0.87404485 0.87387794 0.87391589        nan 0.87411115\n",
      " 0.8739533  0.87393642 0.87402607 0.87368939 0.87359248        nan\n",
      " 0.87296823 0.8727451  0.87299809 0.87287505 0.87319292 0.8733395\n",
      "        nan 0.87242804 0.87232932 0.87246876 0.87236731 0.87257641\n",
      " 0.87232348        nan 0.87319563 0.87325488 0.87318355 0.87333681\n",
      " 0.87317535 0.87340408        nan 0.87393337 0.8739072  0.87381032\n",
      " 0.87386024 0.87389508 0.87384831        nan 0.85325189 0.85252186\n",
      " 0.8528661  0.85237441 0.85144342 0.85242209        nan 0.84944131\n",
      " 0.84946418 0.84860755 0.84870901 0.84885283 0.85153437        nan\n",
      " 0.84933289 0.84925689 0.85006113 0.84995159 0.84957771 0.85127814\n",
      "        nan 0.8465242  0.84705218 0.84714285 0.84711188 0.84942897\n",
      " 0.85050035        nan 0.85040658 0.85036798 0.85110419 0.85044547\n",
      " 0.84998666 0.84997282        nan 0.85457093 0.85436271 0.85439532\n",
      " 0.8540639  0.8542162  0.85372423        nan 0.86231071 0.8617597\n",
      " 0.86207904 0.86238577 0.86215436 0.86199059        nan 0.83442888\n",
      " 0.83219923 0.83075695 0.83303092 0.8310401  0.83514147        nan\n",
      " 0.82299973 0.82429048 0.8236881  0.82198709 0.82698677 0.83368446\n",
      "        nan 0.83030939 0.82940374 0.82826422 0.82989869 0.83126311\n",
      " 0.83565248        nan 0.82622466 0.82719635 0.8269727  0.82658564\n",
      " 0.83139123 0.83673088        nan 0.83442584 0.83410009 0.83431801\n",
      " 0.83476006 0.83385458 0.83707168        nan 0.84533888 0.8453092\n",
      " 0.84497926 0.84516781 0.84541381 0.84524843        nan 0.85745071\n",
      " 0.85781543 0.85777316 0.85765801 0.85747177 0.85761597        nan\n",
      " 0.82158844 0.8209697  0.81875397 0.81885067 0.81958971 0.824221\n",
      "        nan 0.81158635 0.81155466 0.8135964  0.811106   0.81595151\n",
      " 0.82510695        nan 0.81916396 0.81851923 0.82018635 0.81869135\n",
      " 0.82134421 0.82737352        nan 0.81771771 0.8180855  0.8182322\n",
      " 0.81791286 0.82339832 0.82919634        nan 0.82833697 0.82845759\n",
      " 0.8284323  0.82818655 0.82841518 0.83166456        nan 0.84309141\n",
      " 0.84380452 0.84350795 0.84348072 0.84357716 0.84368157        nan\n",
      " 0.85766974 0.85707765 0.85712491 0.85740751 0.85781463 0.85708392\n",
      "        nan 0.87580116 0.87580116 0.87580116 0.87580116 0.87580116\n",
      " 0.87580116        nan 0.87580116 0.87580116 0.87580116 0.87580116\n",
      " 0.87580116 0.87580116        nan 0.87580116 0.87580116 0.87580116\n",
      " 0.87580116 0.87580116 0.87580116        nan 0.87580116 0.87580116\n",
      " 0.87580116 0.87580116 0.87580116 0.87580116        nan 0.87580116\n",
      " 0.87580116 0.87580116 0.87580116 0.87580116 0.87580116        nan\n",
      " 0.87580116 0.87580116 0.87580116 0.87580116 0.87580116 0.87580116\n",
      "        nan 0.87580116 0.87580116 0.87580116 0.87580116 0.87580116\n",
      " 0.87580116        nan 0.8820997  0.88205381 0.88215091 0.88210503\n",
      " 0.88205381 0.88215091        nan 0.8820997  0.88205381 0.88210503\n",
      " 0.88215091 0.88205381 0.88215091        nan 0.88204835 0.88200246\n",
      " 0.88200246 0.88205367 0.88209956 0.88205367        nan 0.88203347\n",
      " 0.88207935 0.88207935 0.88203347 0.88203347 0.88203347        nan\n",
      " 0.88207935 0.88203347 0.88207935 0.88203347 0.88203347 0.88203347\n",
      "        nan 0.88205382 0.88205382 0.88205382 0.88205382 0.88205382\n",
      " 0.88205382        nan 0.88193029 0.88193029 0.88193029 0.88193029\n",
      " 0.88193029 0.88193029        nan 0.8743794  0.87381716 0.87457261\n",
      " 0.8737514  0.87423501 0.87426244        nan 0.87369662 0.87440785\n",
      " 0.87448027 0.87397189 0.87385134 0.87369414        nan 0.87469512\n",
      " 0.87429577 0.87471683 0.87465949 0.87492683 0.8738005         nan\n",
      " 0.87336226 0.87387791 0.87303539 0.8732363  0.87328876 0.87288461\n",
      "        nan 0.87194481 0.87192301 0.87211203 0.87189403 0.8720289\n",
      " 0.87283426        nan 0.87173484 0.8717436  0.87163035 0.8717645\n",
      " 0.87151804 0.87168408        nan 0.87317427 0.87329759 0.87324742\n",
      " 0.87319451 0.87326172 0.87318872        nan 0.85404716 0.85355172\n",
      " 0.85368989 0.853453   0.85291492 0.85446698        nan 0.85136864\n",
      " 0.85154537 0.85152357 0.85085513 0.85295863 0.85465316        nan\n",
      " 0.8523563  0.85216222 0.85266378 0.85260954 0.85276286 0.85373506\n",
      "        nan 0.85014712 0.85007426 0.850341   0.84980785 0.85094411\n",
      " 0.85184917        nan 0.85077169 0.8509195  0.85008299 0.85114305\n",
      " 0.85133857 0.85191945        nan 0.85310002 0.85303775 0.85340497\n",
      " 0.85323934 0.85305148 0.8530085         nan 0.86054763 0.86032179\n",
      " 0.86042431 0.86008514 0.86046621 0.86058234        nan 0.83631442\n",
      " 0.83473594 0.83438338 0.83393388 0.8317163  0.83600183        nan\n",
      " 0.82814887 0.82703736 0.82725162 0.82859656 0.83028417 0.83483694\n",
      "        nan 0.83317711 0.83326889 0.83381096 0.83255692 0.83221651\n",
      " 0.83691604        nan 0.82856088 0.82896882 0.82891491 0.82828904\n",
      " 0.83126267 0.83527198        nan 0.83159768 0.8303118  0.83030716\n",
      " 0.83016545 0.83075391 0.8332859         nan 0.84064086 0.84098602\n",
      " 0.84125716 0.84104137 0.84154248 0.84103219        nan 0.85493055\n",
      " 0.85484857 0.85470248 0.85459534 0.8548744  0.85492256        nan\n",
      " 0.82639976 0.82333892 0.82114876 0.81947841 0.82069167 0.82333873\n",
      "        nan 0.81392988 0.81523825 0.81609078 0.81419661 0.81938403\n",
      " 0.82458208        nan 0.82170641 0.8207818  0.82196752 0.82089155\n",
      " 0.82168237 0.82520085        nan 0.81680448 0.81711581 0.81644282\n",
      " 0.81705569 0.82028096 0.82485133        nan 0.82099369 0.82155151\n",
      " 0.82225322 0.82224074 0.82137747 0.82329578        nan 0.83742148\n",
      " 0.83694441 0.8378673  0.83701586 0.83728248 0.83690314        nan\n",
      " 0.85363429 0.85342113 0.85374098 0.85387047 0.85374493 0.85364722]\n",
      "  warnings.warn(\n"
     ]
    },
    {
     "data": {
      "text/plain": [
       "GridSearchCV(cv=5, estimator=DecisionTreeClassifier(), n_jobs=-1,\n",
       "             param_grid={'criterion': ['gini', 'entropy'],\n",
       "                         'max_depth': [1, 5, 10, 15, 20, 25],\n",
       "                         'min_samples_leaf': [1, 2, 3, 4, 5, 10, 15],\n",
       "                         'min_samples_split': [1, 2, 3, 4, 5, 10, 15]},\n",
       "             scoring='f1', verbose=5)"
      ]
     },
     "execution_count": 27,
     "metadata": {},
     "output_type": "execute_result"
    }
   ],
   "source": [
    "# Defining parameter grid (as dictionary)\n",
    "param_grid = {\"max_depth\" : [1, 5, 10, 15, 20, 25],\n",
    "              \"min_samples_split\": [1,2,3,4,5,10,15],\n",
    "              \"min_samples_leaf\": [1,2,3,4,5,10,15],\n",
    "              \"criterion\": [\"gini\", \"entropy\"]\n",
    "              \n",
    "              \n",
    "             }\n",
    "dtc=DecisionTreeClassifier()\n",
    "# Instantiate gridsearch and define the metric to optimize \n",
    "gs = GridSearchCV(dtc,param_grid,scoring=\"f1\",\n",
    "                  cv=5, verbose=5, n_jobs=-1)\n",
    "\n",
    "gs.fit(X_train,y_train)"
   ]
  },
  {
   "cell_type": "code",
   "execution_count": 28,
   "id": "72fa2eb6",
   "metadata": {},
   "outputs": [
    {
     "name": "stdout",
     "output_type": "stream",
     "text": [
      "[[  731  3029]\n",
      " [  422 12832]]\n",
      "              precision    recall  f1-score   support\n",
      "\n",
      "           0       0.63      0.19      0.30      3760\n",
      "           1       0.81      0.97      0.88     13254\n",
      "\n",
      "    accuracy                           0.80     17014\n",
      "   macro avg       0.72      0.58      0.59     17014\n",
      "weighted avg       0.77      0.80      0.75     17014\n",
      "\n"
     ]
    },
    {
     "data": {
      "text/plain": [
       "{'criterion': 'entropy',\n",
       " 'max_depth': 5,\n",
       " 'min_samples_leaf': 1,\n",
       " 'min_samples_split': 4}"
      ]
     },
     "execution_count": 28,
     "metadata": {},
     "output_type": "execute_result"
    }
   ],
   "source": [
    "y_pred_gs=gs.predict(X_test)\n",
    "score_print(y_test,y_pred_gs)\n",
    "best_param=gs.best_params_\n",
    "best_param"
   ]
  },
  {
   "cell_type": "code",
   "execution_count": null,
   "id": "4ed517d2",
   "metadata": {},
   "outputs": [],
   "source": []
  },
  {
   "cell_type": "code",
   "execution_count": null,
   "id": "9bd87119",
   "metadata": {},
   "outputs": [],
   "source": []
  },
  {
   "cell_type": "code",
   "execution_count": null,
   "id": "5ab68004",
   "metadata": {},
   "outputs": [],
   "source": [
    "###LinearSVC"
   ]
  },
  {
   "cell_type": "code",
   "execution_count": 40,
   "id": "d1fbc370",
   "metadata": {},
   "outputs": [
    {
     "name": "stdout",
     "output_type": "stream",
     "text": [
      "Fitting 5 folds for each of 72 candidates, totalling 360 fits\n"
     ]
    },
    {
     "name": "stderr",
     "output_type": "stream",
     "text": [
      "/Users/yusufcan/.pyenv/versions/3.8.5/lib/python3.8/site-packages/sklearn/model_selection/_search.py:922: UserWarning: One or more of the test scores are non-finite: [       nan 0.87590599        nan        nan 0.87577092        nan\n",
      "        nan 0.87577092        nan        nan 0.87577092        nan\n",
      "        nan 0.87577092        nan        nan 0.87577092        nan\n",
      "        nan        nan        nan        nan        nan        nan\n",
      "        nan        nan        nan        nan        nan        nan\n",
      "        nan        nan        nan        nan        nan        nan\n",
      "        nan 0.86878261        nan        nan 0.87858419        nan\n",
      "        nan 0.87655446        nan        nan 0.87832172        nan\n",
      "        nan 0.87827385        nan        nan 0.87840404        nan\n",
      "        nan        nan        nan        nan        nan        nan\n",
      "        nan        nan        nan        nan        nan        nan\n",
      "        nan        nan        nan        nan        nan        nan]\n",
      "  warnings.warn(\n",
      "/Users/yusufcan/.pyenv/versions/3.8.5/lib/python3.8/site-packages/sklearn/svm/_base.py:985: ConvergenceWarning: Liblinear failed to converge, increase the number of iterations.\n",
      "  warnings.warn(\"Liblinear failed to converge, increase \"\n"
     ]
    },
    {
     "data": {
      "text/plain": [
       "GridSearchCV(cv=5, estimator=LinearSVC(), n_jobs=-1,\n",
       "             param_grid={'loss': ['hinge', 'log', 'squared_hinge',\n",
       "                                  'modified_huber'],\n",
       "                         'max_iter': [10, 20, 30, 50, 60, 100],\n",
       "                         'penalty': ['l1', 'l2', 'elasticnet']},\n",
       "             scoring='f1', verbose=5)"
      ]
     },
     "execution_count": 40,
     "metadata": {},
     "output_type": "execute_result"
    }
   ],
   "source": [
    "# Defining parameter grid (as dictionary)\n",
    "param_grid = {\"loss\" : [\"hinge\", \"log\", \"squared_hinge\", \"modified_huber\"],\n",
    "              \"max_iter\": [10,20,30, 50, 60,100,],\n",
    "              \"penalty\": [\"l1\", \"l2\", \"elasticnet\"]\n",
    "              \n",
    "              \n",
    "             }\n",
    "svc=LinearSVC()\n",
    "# Instantiate gridsearch and define the metric to optimize \n",
    "gs = GridSearchCV(svc,param_grid,scoring=\"f1\",\n",
    "                  cv=5, verbose=5, n_jobs=-1)\n",
    "\n",
    "gs.fit(X_train,y_train)"
   ]
  },
  {
   "cell_type": "code",
   "execution_count": 41,
   "id": "6d06ae69",
   "metadata": {},
   "outputs": [
    {
     "name": "stdout",
     "output_type": "stream",
     "text": [
      "[[  103  3657]\n",
      " [   19 13235]]\n",
      "              precision    recall  f1-score   support\n",
      "\n",
      "           0       0.84      0.03      0.05      3760\n",
      "           1       0.78      1.00      0.88     13254\n",
      "\n",
      "    accuracy                           0.78     17014\n",
      "   macro avg       0.81      0.51      0.47     17014\n",
      "weighted avg       0.80      0.78      0.70     17014\n",
      "\n"
     ]
    },
    {
     "data": {
      "text/plain": [
       "{'loss': 'squared_hinge', 'max_iter': 20, 'penalty': 'l2'}"
      ]
     },
     "execution_count": 41,
     "metadata": {},
     "output_type": "execute_result"
    }
   ],
   "source": [
    "y_pred_gs=gs.predict(X_test)\n",
    "score_print(y_test,y_pred_gs)\n",
    "best_param=gs.best_params_\n",
    "best_param"
   ]
  },
  {
   "cell_type": "code",
   "execution_count": null,
   "id": "f6249c12",
   "metadata": {},
   "outputs": [],
   "source": [
    "######svm\n"
   ]
  },
  {
   "cell_type": "code",
   "execution_count": 43,
   "id": "83521876",
   "metadata": {},
   "outputs": [
    {
     "name": "stdout",
     "output_type": "stream",
     "text": [
      "Fitting 5 folds for each of 8 candidates, totalling 40 fits\n"
     ]
    },
    {
     "data": {
      "text/plain": [
       "GridSearchCV(cv=5, estimator=SVC(), n_jobs=-1,\n",
       "             param_grid={'decision_function_shape': ['ovo', 'ovr'],\n",
       "                         'kernel': ['rbf', 'linear', 'poly', 'sigmoid']},\n",
       "             scoring='f1', verbose=5)"
      ]
     },
     "execution_count": 43,
     "metadata": {},
     "output_type": "execute_result"
    }
   ],
   "source": [
    "# Defining parameter grid (as dictionary)\n",
    "param_grid = {\n",
    "              \"kernel\": [\"rbf\", \"linear\", \"poly\",\"sigmoid\"],\n",
    "                \"decision_function_shape\" : ['ovo', 'ovr']\n",
    "              \n",
    "              \n",
    "             }\n",
    "clf = svm.SVC()\n",
    "# Instantiate gridsearch and define the metric to optimize \n",
    "gs = GridSearchCV(clf,param_grid,scoring=\"f1\",\n",
    "                  cv=5, verbose=5, n_jobs=-1)\n",
    "\n",
    "gs.fit(X_train,y_train)"
   ]
  },
  {
   "cell_type": "code",
   "execution_count": 44,
   "id": "23767664",
   "metadata": {},
   "outputs": [
    {
     "name": "stdout",
     "output_type": "stream",
     "text": [
      "[[  142  3618]\n",
      " [   24 13230]]\n",
      "              precision    recall  f1-score   support\n",
      "\n",
      "           0       0.86      0.04      0.07      3760\n",
      "           1       0.79      1.00      0.88     13254\n",
      "\n",
      "    accuracy                           0.79     17014\n",
      "   macro avg       0.82      0.52      0.48     17014\n",
      "weighted avg       0.80      0.79      0.70     17014\n",
      "\n"
     ]
    },
    {
     "data": {
      "text/plain": [
       "{'decision_function_shape': 'ovo', 'kernel': 'rbf'}"
      ]
     },
     "execution_count": 44,
     "metadata": {},
     "output_type": "execute_result"
    }
   ],
   "source": [
    "y_pred_gs=gs.predict(X_test)\n",
    "score_print(y_test,y_pred_gs)\n",
    "best_param=gs.best_params_\n",
    "best_param"
   ]
  },
  {
   "cell_type": "code",
   "execution_count": null,
   "id": "d4c65685",
   "metadata": {},
   "outputs": [],
   "source": [
    "#### info fpr den näachetn tag: unser y spinnt: 0 und 1 für die ereignisse tauschen und sehen was passiert\n",
    "#### 2. featureselektion >> bessere untersuchung wäre anfällig\n",
    "#### 3. "
   ]
  }
 ],
 "metadata": {
  "kernelspec": {
   "display_name": "Python 3",
   "language": "python",
   "name": "python3"
  },
  "language_info": {
   "codemirror_mode": {
    "name": "ipython",
    "version": 3
   },
   "file_extension": ".py",
   "mimetype": "text/x-python",
   "name": "python",
   "nbconvert_exporter": "python",
   "pygments_lexer": "ipython3",
   "version": "3.8.5"
  }
 },
 "nbformat": 4,
 "nbformat_minor": 5
}
