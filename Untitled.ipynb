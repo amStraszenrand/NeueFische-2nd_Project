{
 "cells": [
  {
   "cell_type": "code",
   "execution_count": 1,
   "id": "15ccfc7d",
   "metadata": {},
   "outputs": [],
   "source": [
    "import pandas as pd\n",
    "import numpy as np\n",
    "import matplotlib.pyplot as plt\n",
    "import seaborn as sns"
   ]
  },
  {
   "cell_type": "code",
   "execution_count": 1,
   "id": "c9c36161",
   "metadata": {},
   "outputs": [],
   "source": [
    "%store -r df"
   ]
  },
  {
   "cell_type": "code",
   "execution_count": 2,
   "id": "aca8af3a",
   "metadata": {},
   "outputs": [
    {
     "name": "stderr",
     "output_type": "stream",
     "text": [
      "/Users/yusufcan/.pyenv/versions/3.8.5/lib/python3.8/site-packages/IPython/core/interactiveshell.py:3169: DtypeWarning: Columns (0) have mixed types.Specify dtype option on import or set low_memory=False.\n",
      "  has_raised = await self.run_ast_nodes(code_ast.body, cell_name,\n"
     ]
    }
   ],
   "source": [
    "df_compl = pd.read_csv(\"Lending Club/loans_2007.csv\")"
   ]
  },
  {
   "cell_type": "code",
   "execution_count": null,
   "id": "5e33f111",
   "metadata": {},
   "outputs": [],
   "source": []
  },
  {
   "cell_type": "code",
   "execution_count": null,
   "id": "9119b395",
   "metadata": {},
   "outputs": [],
   "source": []
  },
  {
   "cell_type": "code",
   "execution_count": null,
   "id": "70f8eae2",
   "metadata": {},
   "outputs": [],
   "source": []
  },
  {
   "cell_type": "code",
   "execution_count": 2,
   "id": "853d2cea",
   "metadata": {},
   "outputs": [
    {
     "name": "stdout",
     "output_type": "stream",
     "text": [
      "The history saving thread hit an unexpected error (OperationalError('database is locked')).History will not be written to the database.\n"
     ]
    },
    {
     "ename": "NameError",
     "evalue": "name 'plt' is not defined",
     "output_type": "error",
     "traceback": [
      "\u001b[0;31m---------------------------------------------------------------------------\u001b[0m",
      "\u001b[0;31mNameError\u001b[0m                                 Traceback (most recent call last)",
      "\u001b[0;32m<ipython-input-2-78b592bf44e2>\u001b[0m in \u001b[0;36m<module>\u001b[0;34m\u001b[0m\n\u001b[0;32m----> 1\u001b[0;31m \u001b[0mplt\u001b[0m\u001b[0;34m.\u001b[0m\u001b[0mfigure\u001b[0m\u001b[0;34m(\u001b[0m\u001b[0mfigsize\u001b[0m\u001b[0;34m=\u001b[0m\u001b[0;34m(\u001b[0m\u001b[0;36m10\u001b[0m\u001b[0;34m,\u001b[0m\u001b[0;36m6\u001b[0m\u001b[0;34m)\u001b[0m\u001b[0;34m)\u001b[0m\u001b[0;34m\u001b[0m\u001b[0;34m\u001b[0m\u001b[0m\n\u001b[0m\u001b[1;32m      2\u001b[0m df[df['loan_status']==1]['grade'].hist(alpha=0.5,color='blue',\n\u001b[1;32m      3\u001b[0m                                               bins=30,label='loan_status=1')\n\u001b[1;32m      4\u001b[0m df[df['loan_status']==0]['grade'].hist(alpha=0.5,color='red',\n\u001b[1;32m      5\u001b[0m                                               bins=30,label='loan_status=0')\n",
      "\u001b[0;31mNameError\u001b[0m: name 'plt' is not defined"
     ]
    }
   ],
   "source": [
    "plt.figure(figsize=(10,6))\n",
    "df[df['loan_status']==1]['grade'].hist(alpha=0.5,color='blue',\n",
    "                                              bins=30,label='loan_status=1')\n",
    "df[df['loan_status']==0]['grade'].hist(alpha=0.5,color='red',\n",
    "                                              bins=30,label='loan_status=0')\n",
    "plt.legend()\n",
    "plt.xlabel('Grade')"
   ]
  },
  {
   "cell_type": "code",
   "execution_count": null,
   "id": "116758e9",
   "metadata": {},
   "outputs": [],
   "source": [
    "sns.distplot(df['annual_inc'])\n"
   ]
  },
  {
   "cell_type": "code",
   "execution_count": null,
   "id": "0ec189f2",
   "metadata": {},
   "outputs": [],
   "source": [
    "sns.distplot(df['loan_amnt'])\n"
   ]
  },
  {
   "cell_type": "code",
   "execution_count": null,
   "id": "e96dc30e",
   "metadata": {},
   "outputs": [],
   "source": [
    "#loan.drop(loan[loan['home_ownership']== 'ANY'].index, inplace=True)\n",
    "#loan.drop(loan[loan['home_ownership']== 'NONE'].index, inplace=True)\n",
    "sns.countplot(loan['home_ownership'],hue=loan['good_loan'])"
   ]
  },
  {
   "cell_type": "code",
   "execution_count": null,
   "id": "5a98d34d",
   "metadata": {},
   "outputs": [],
   "source": [
    "# plotting default rates across grade of the loan\n",
    "sns.barplot(x='grade', y='loan_status', data=df)\n",
    "plt.show()"
   ]
  },
  {
   "cell_type": "code",
   "execution_count": null,
   "id": "8c889b23",
   "metadata": {},
   "outputs": [],
   "source": [
    "def plot_cat(cat_var):\n",
    "    sns.barplot(x=cat_var, y='loan_status', data=df)\n",
    "    plt.show()"
   ]
  },
  {
   "cell_type": "code",
   "execution_count": null,
   "id": "78fb670d",
   "metadata": {},
   "outputs": [],
   "source": [
    "# verification_status: surprisingly, verified loans default more than not verified\n",
    "plot_cat('verification_status')"
   ]
  },
  {
   "cell_type": "code",
   "execution_count": null,
   "id": "6b6a80fc",
   "metadata": {},
   "outputs": [],
   "source": [
    "# home ownership: not a great discriminator\n",
    "plot_cat('home_ownership')"
   ]
  },
  {
   "cell_type": "code",
   "execution_count": null,
   "id": "6e4bf75f",
   "metadata": {},
   "outputs": [],
   "source": [
    "# purpose: small business loans default the most, then renewable energy and education\n",
    "plt.figure(figsize=(16, 6))\n",
    "# Rotating the labels on X-axis to avoid overlapping\n",
    "plt.xticks(rotation=40) \n",
    "plot_cat('purpose')"
   ]
  },
  {
   "cell_type": "code",
   "execution_count": null,
   "id": "15ea9bd7",
   "metadata": {},
   "outputs": [],
   "source": [
    "plot_cat('year')# wir haben kein year\n"
   ]
  },
  {
   "cell_type": "code",
   "execution_count": null,
   "id": "cc05473e",
   "metadata": {},
   "outputs": [],
   "source": [
    "loanDF = loanDF.withColumn(\"loan_amnt\",loanDF[\"loan_amnt\"].cast('float'))\n",
    "loanDF = loanDF.withColumn(\"int_rate\",loanDF[\"int_rate\"].cast('float'))\n",
    "\n",
    "tmp = loanDF.select(\"loan_amnt\", \"int_rate\").toPandas()\n",
    "#loanDF.printSchema()\n",
    "\n",
    "fig, ax =plt.subplots(2,2, figsize=(18,12))\n",
    "plt.subplots_adjust(hspace = 0.4, top = 0.8)\n",
    "\n",
    "# Loan amount distribution plots\n",
    "sns.distplot(tmp.loan_amnt, fit=stats.gamma, axlabel=\"Loan Amount\", label=\"Loan Amount Frequency distribution\", ax=ax[0][0])\n",
    "sns.boxplot(x=tmp.loan_amnt, ax=ax[0][1])\n",
    "\n",
    "# Interest rates distribution plots\n",
    "sns.distplot(tmp.int_rate, fit=stats.gamma, axlabel=\"Interest Rate\", label=\"Interest Frequency distribution\", ax=ax[1][0])\n",
    "sns.boxplot(x=tmp.int_rate, ax=ax[1][1])\n",
    "\n",
    "fig.show()\n",
    "\n",
    "fig.savefig(\"LoanDistribution.pdf\")"
   ]
  },
  {
   "cell_type": "code",
   "execution_count": null,
   "id": "637aff9d",
   "metadata": {},
   "outputs": [],
   "source": [
    "df.groupby('grade')['int_rate'].mean().plot.line(color='blue')\n",
    "\n"
   ]
  },
  {
   "cell_type": "code",
   "execution_count": null,
   "id": "9a571488",
   "metadata": {},
   "outputs": [],
   "source": [
    "def plot_var(col_name, full_name, continuous):\n",
    "    \"\"\"\n",
    "    Visualize a variable with and without faceting on the loan status.\n",
    "    - col_name is the variable name in the dataframe\n",
    "    - full_name is the full variable name\n",
    "    - continuous is True if the variable is continuous, False otherwise\n",
    "    \"\"\"\n",
    "    f, (ax1, ax2) = plt.subplots(nrows=1, ncols=2, figsize=(12,3), dpi=90)\n",
    "    \n",
    "    # Plot without loan status\n",
    "    if continuous:\n",
    "        sns.distplot(loans.loc[loans[col_name].notnull(), col_name], kde=False, ax=ax1)\n",
    "    else:\n",
    "        sns.countplot(loans[col_name], order=sorted(loans[col_name].unique()), color='#5975A4', saturation=1, ax=ax1)\n",
    "    ax1.set_xlabel(full_name)\n",
    "    ax1.set_ylabel('Count')\n",
    "    ax1.set_title(full_name)\n",
    "\n",
    "    # Plot with loan status\n",
    "    if continuous:\n",
    "        sns.boxplot(x=col_name, y='loan_status', data=loans, ax=ax2)\n",
    "        ax2.set_ylabel('')\n",
    "        ax2.set_title(full_name + ' by Loan Status')\n",
    "    else:\n",
    "        charge_off_rates = loans.groupby(col_name)['loan_status'].value_counts(normalize=True).loc[:,'Charged Off']\n",
    "        sns.barplot(x=charge_off_rates.index, y=charge_off_rates.values, color='#5975A4', saturation=1, ax=ax2)\n",
    "        ax2.set_ylabel('Fraction of Loans Charged-off')\n",
    "        ax2.set_title('Charge-off Rate by ' + full_name)\n",
    "    ax2.set_xlabel(full_name)\n",
    "    \n",
    "    plt.tight_layout()"
   ]
  },
  {
   "cell_type": "code",
   "execution_count": null,
   "id": "daf8895f",
   "metadata": {},
   "outputs": [],
   "source": [
    "plot_var('int_rate', 'Interest Rate', continuous=True)"
   ]
  },
  {
   "cell_type": "code",
   "execution_count": null,
   "id": "2fe520e0",
   "metadata": {},
   "outputs": [],
   "source": [
    "plot_var('loan_amnt', 'Loan Amount', continuous=True)\n"
   ]
  },
  {
   "cell_type": "code",
   "execution_count": null,
   "id": "e2051ff8",
   "metadata": {},
   "outputs": [],
   "source": []
  },
  {
   "cell_type": "code",
   "execution_count": null,
   "id": "7b1eb537",
   "metadata": {},
   "outputs": [],
   "source": []
  },
  {
   "cell_type": "code",
   "execution_count": null,
   "id": "732904a9",
   "metadata": {},
   "outputs": [],
   "source": []
  },
  {
   "cell_type": "code",
   "execution_count": null,
   "id": "09633a78",
   "metadata": {},
   "outputs": [],
   "source": []
  },
  {
   "cell_type": "code",
   "execution_count": null,
   "id": "800f4cf5",
   "metadata": {},
   "outputs": [],
   "source": []
  },
  {
   "cell_type": "code",
   "execution_count": null,
   "id": "0512640e",
   "metadata": {},
   "outputs": [],
   "source": []
  },
  {
   "cell_type": "code",
   "execution_count": null,
   "id": "97ca092f",
   "metadata": {},
   "outputs": [],
   "source": []
  },
  {
   "cell_type": "code",
   "execution_count": null,
   "id": "101ba2fa",
   "metadata": {},
   "outputs": [],
   "source": [
    "with pd.option_context('display.max_rows',None):\n",
    "    display(df.describe(include=np.object).transpose())"
   ]
  },
  {
   "cell_type": "code",
   "execution_count": null,
   "id": "4cf41b54",
   "metadata": {},
   "outputs": [],
   "source": []
  },
  {
   "cell_type": "code",
   "execution_count": null,
   "id": "cd51148c",
   "metadata": {},
   "outputs": [],
   "source": [
    "#variable importance\n",
    "importances = rf.feature_importances_\n",
    "std = np.std([tree.feature_importances_ for tree in rf.estimators_],\n",
    "             axis=0)\n",
    "indices = np.argsort(importances)[::-1]"
   ]
  },
  {
   "cell_type": "code",
   "execution_count": null,
   "id": "7433f6c7",
   "metadata": {},
   "outputs": [],
   "source": [
    "\n",
    "print(\"Feature ranking:\")\n",
    "\n",
    "for f in range(X.shape[1]):\n",
    "    print(\"%d. feature %d (%f)\" % (f + 1, indices[f], importances[indices[f]]))\n",
    "\n",
    "plt.figure()\n",
    "plt.title(\"Feature importances\")\n",
    "plt.bar(range(X.shape[1]), importances[indices],\n",
    "       color=\"r\", yerr=std[indices], align=\"center\")\n",
    "plt.xticks(range(X.shape[1]), indices)\n",
    "plt.xlim([-1, X.shape[1]])\n",
    "plt.show()"
   ]
  },
  {
   "cell_type": "code",
   "execution_count": null,
   "id": "9c5a1316",
   "metadata": {},
   "outputs": [],
   "source": []
  },
  {
   "cell_type": "code",
   "execution_count": null,
   "id": "e01de606",
   "metadata": {},
   "outputs": [],
   "source": []
  }
 ],
 "metadata": {
  "kernelspec": {
   "display_name": "Python 3",
   "language": "python",
   "name": "python3"
  },
  "language_info": {
   "codemirror_mode": {
    "name": "ipython",
    "version": 3
   },
   "file_extension": ".py",
   "mimetype": "text/x-python",
   "name": "python",
   "nbconvert_exporter": "python",
   "pygments_lexer": "ipython3",
   "version": "3.8.5"
  }
 },
 "nbformat": 4,
 "nbformat_minor": 5
}
