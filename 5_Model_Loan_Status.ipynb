{
 "metadata": {
  "language_info": {
   "codemirror_mode": {
    "name": "ipython",
    "version": 3
   },
   "file_extension": ".py",
   "mimetype": "text/x-python",
   "name": "python",
   "nbconvert_exporter": "python",
   "pygments_lexer": "ipython3",
   "version": "3.8.5"
  },
  "orig_nbformat": 4,
  "kernelspec": {
   "name": "python3",
   "display_name": "Python 3.8.5 64-bit ('.venv': venv)"
  },
  "interpreter": {
   "hash": "f65652939e43b240251679cd6b44d012c40ee3e672c80ac5c3588dc23d5ebd80"
  }
 },
 "nbformat": 4,
 "nbformat_minor": 2,
 "cells": [
  {
   "cell_type": "code",
   "execution_count": 8,
   "metadata": {},
   "outputs": [],
   "source": [
    "%store -r X_train X_test y_loan_status_train y_loan_status_test\n",
    "\n",
    "y_train = y_loan_status_train\n",
    "y_test = y_loan_status_test"
   ]
  },
  {
   "cell_type": "code",
   "execution_count": 9,
   "metadata": {},
   "outputs": [],
   "source": [
    "import pandas as pd\n",
    "import numpy as np\n",
    "\n",
    "import matplotlib.pyplot as plt\n",
    "import seaborn as sns\n",
    "from sklearn import svm\n",
    "\n",
    "from sklearn.ensemble import RandomForestClassifier\n",
    "from sklearn.tree import DecisionTreeClassifier\n",
    "from sklearn.svm import LinearSVC\n",
    "from sklearn.neighbors import KNeighborsClassifier\n",
    "from sklearn.linear_model import LogisticRegression\n",
    "from sklearn.preprocessing import StandardScaler\n",
    "from sklearn.model_selection import train_test_split\n",
    "from sklearn.metrics import confusion_matrix, accuracy_score, precision_score, recall_score, classification_report, roc_auc_score\n"
   ]
  },
  {
   "cell_type": "code",
   "execution_count": 10,
   "metadata": {},
   "outputs": [],
   "source": [
    "##### Funktion to printe the scores\n",
    "def score_print(y,y_pred):\n",
    "    \n",
    "    cm = confusion_matrix(y,y_pred)\n",
    "    print(cm)\n",
    "    cp= classification_report(y,y_pred)\n",
    "    print(cp)\n",
    "    roc = roc_auc_score(y, y_pred)\n",
    "    print(roc)\n",
    "    "
   ]
  },
  {
   "cell_type": "code",
   "execution_count": 11,
   "metadata": {},
   "outputs": [
    {
     "output_type": "stream",
     "name": "stdout",
     "text": [
      "Total number of records: 114128\nIndividuals with Charged Off: 57064\nIndividuals percent of Charged Off: 50.00%\n"
     ]
    }
   ],
   "source": [
    "###### Naiv-estimator\n",
    "\n",
    "# TODO: Total number of records\n",
    "n_records = len(y_train)\n",
    "\n",
    "# TODO: People with Charged off\n",
    "charged_off = sum(y_train == 1)\n",
    "\n",
    "# TODO: Percentage of individuals with Charged Off\n",
    "percent = float(100 * charged_off / n_records)\n",
    "\n",
    "# Print the results\n",
    "print (\"Total number of records: {}\".format(n_records))\n",
    "print (\"Individuals with Charged Off: {}\".format(charged_off))\n",
    "print (\"Individuals percent of Charged Off: {:.2f}%\".format(percent))"
   ]
  },
  {
   "cell_type": "code",
   "execution_count": null,
   "metadata": {},
   "outputs": [],
   "source": []
  },
  {
   "cell_type": "code",
   "execution_count": 12,
   "metadata": {},
   "outputs": [
    {
     "output_type": "stream",
     "name": "stdout",
     "text": [
      "[[6164 2864]\n [ 813  602]]\n              precision    recall  f1-score   support\n\n           0       0.88      0.68      0.77      9028\n           1       0.17      0.43      0.25      1415\n\n    accuracy                           0.65     10443\n   macro avg       0.53      0.55      0.51     10443\nweighted avg       0.79      0.65      0.70     10443\n\n0.554103214029067\n"
     ]
    }
   ],
   "source": [
    "####fit von log reg\n",
    "\n",
    "lr = LogisticRegression(max_iter=10000, C = 2.0, random_state=70)\n",
    "lr.fit(X_train, y_train)\n",
    "lr.score(X_train, y_train)\n",
    "y_pred = lr.predict(X_test)\n",
    "score_print(y_test,y_pred)"
   ]
  },
  {
   "cell_type": "code",
   "execution_count": 13,
   "metadata": {},
   "outputs": [
    {
     "output_type": "stream",
     "name": "stdout",
     "text": [
      "[[37085 19979]\n",
      " [18522 38542]]\n",
      "              precision    recall  f1-score   support\n",
      "\n",
      "           0       0.67      0.65      0.66     57064\n",
      "           1       0.66      0.68      0.67     57064\n",
      "\n",
      "    accuracy                           0.66    114128\n",
      "   macro avg       0.66      0.66      0.66    114128\n",
      "weighted avg       0.66      0.66      0.66    114128\n",
      "\n",
      "0.6626507079770083\n"
     ]
    }
   ],
   "source": [
    "########## score auf unsere trainingdaten\n",
    "\n",
    "score_print(y_train,lr.predict(X_train))"
   ]
  },
  {
   "cell_type": "code",
   "execution_count": 14,
   "metadata": {},
   "outputs": [],
   "source": [
    "%store -r y_grade_pred_lr_train y_grade_pred_lr_test"
   ]
  },
  {
   "cell_type": "code",
   "execution_count": 15,
   "metadata": {},
   "outputs": [
    {
     "output_type": "stream",
     "name": "stdout",
     "text": [
      "[[1751  656]\n",
      " [  97   51]]\n",
      "              precision    recall  f1-score   support\n",
      "\n",
      "           0       0.95      0.73      0.82      2407\n",
      "           1       0.07      0.34      0.12       148\n",
      "\n",
      "    accuracy                           0.71      2555\n",
      "   macro avg       0.51      0.54      0.47      2555\n",
      "weighted avg       0.90      0.71      0.78      2555\n",
      "\n",
      "0.536028082507102\n",
      "[[1817  821]\n",
      " [ 199  157]]\n",
      "              precision    recall  f1-score   support\n",
      "\n",
      "           0       0.90      0.69      0.78      2638\n",
      "           1       0.16      0.44      0.24       356\n",
      "\n",
      "    accuracy                           0.66      2994\n",
      "   macro avg       0.53      0.56      0.51      2994\n",
      "weighted avg       0.81      0.66      0.72      2994\n",
      "\n",
      "0.5648953071359815\n",
      "[[1254  587]\n",
      " [ 193  150]]\n",
      "              precision    recall  f1-score   support\n",
      "\n",
      "           0       0.87      0.68      0.76      1841\n",
      "           1       0.20      0.44      0.28       343\n",
      "\n",
      "    accuracy                           0.64      2184\n",
      "   macro avg       0.54      0.56      0.52      2184\n",
      "weighted avg       0.76      0.64      0.69      2184\n",
      "\n",
      "0.55923466616413\n",
      "[[830 360]\n",
      " [164 111]]\n",
      "              precision    recall  f1-score   support\n",
      "\n",
      "           0       0.84      0.70      0.76      1190\n",
      "           1       0.24      0.40      0.30       275\n",
      "\n",
      "    accuracy                           0.64      1465\n",
      "   macro avg       0.54      0.55      0.53      1465\n",
      "weighted avg       0.72      0.64      0.67      1465\n",
      "\n",
      "0.5505576776165011\n",
      "[[411 195]\n",
      " [ 94  72]]\n",
      "              precision    recall  f1-score   support\n",
      "\n",
      "           0       0.81      0.68      0.74       606\n",
      "           1       0.27      0.43      0.33       166\n",
      "\n",
      "    accuracy                           0.63       772\n",
      "   macro avg       0.54      0.56      0.54       772\n",
      "weighted avg       0.70      0.63      0.65       772\n",
      "\n",
      "0.5559763807706072\n",
      "[[163 101]\n",
      " [ 46  46]]\n",
      "              precision    recall  f1-score   support\n",
      "\n",
      "           0       0.78      0.62      0.69       264\n",
      "           1       0.31      0.50      0.38        92\n",
      "\n",
      "    accuracy                           0.59       356\n",
      "   macro avg       0.55      0.56      0.54       356\n",
      "weighted avg       0.66      0.59      0.61       356\n",
      "\n",
      "0.5587121212121212\n",
      "[[63 19]\n",
      " [18 17]]\n",
      "              precision    recall  f1-score   support\n",
      "\n",
      "           0       0.78      0.77      0.77        82\n",
      "           1       0.47      0.49      0.48        35\n",
      "\n",
      "    accuracy                           0.68       117\n",
      "   macro avg       0.62      0.63      0.63       117\n",
      "weighted avg       0.69      0.68      0.69       117\n",
      "\n",
      "0.6270034843205575\n"
     ]
    }
   ],
   "source": [
    "for grade in [\"A\", \"B\", \"C\", \"D\", \"E\", \"F\", \"G\"]:\n",
    "#for grade in [\"A\", \"B\"]:\n",
    "    mask_train = y_grade_pred_lr_train == grade\n",
    "    mask_test = y_grade_pred_lr_test == grade\n",
    "\n",
    "    X_train_masked, y_train_masked = X_train[mask_train], y_train[mask_train]\n",
    "    X_test_masked, y_test_masked = X_test[mask_test], y_test[mask_test]\n",
    "\n",
    "    lr.fit(X_train_masked, y_train_masked)\n",
    "    lr.score(X_train_masked, y_train_masked)\n",
    "\n",
    "    y_loan_status_pred_lr_test = lr.predict(X_test_masked)\n",
    "    score_print(y_test_masked,y_loan_status_pred_lr_test)"
   ]
  },
  {
   "cell_type": "code",
   "execution_count": null,
   "metadata": {},
   "outputs": [],
   "source": []
  },
  {
   "cell_type": "code",
   "execution_count": null,
   "metadata": {},
   "outputs": [],
   "source": []
  },
  {
   "cell_type": "code",
   "execution_count": 16,
   "metadata": {},
   "outputs": [
    {
     "output_type": "stream",
     "name": "stdout",
     "text": [
      "[[6556 2472]\n [ 860  555]]\n              precision    recall  f1-score   support\n\n           0       0.88      0.73      0.80      9028\n           1       0.18      0.39      0.25      1415\n\n    accuracy                           0.68     10443\n   macro avg       0.53      0.56      0.52     10443\nweighted avg       0.79      0.68      0.72     10443\n\n0.5592056750024659\n"
     ]
    }
   ],
   "source": [
    "######## DecisionTree\n",
    "\n",
    "dtc = DecisionTreeClassifier(max_depth=10, min_samples_split=5, random_state=70)\n",
    "dtc.fit(X_train,y_train)\n",
    "y_pred_dtc=dtc.predict(X_test)\n",
    "score_print(y_test,y_pred_dtc)"
   ]
  },
  {
   "cell_type": "code",
   "execution_count": 17,
   "metadata": {},
   "outputs": [
    {
     "output_type": "stream",
     "name": "stdout",
     "text": [
      "[[39841 17223]\n",
      " [15065 41999]]\n",
      "              precision    recall  f1-score   support\n",
      "\n",
      "           0       0.73      0.70      0.71     57064\n",
      "           1       0.71      0.74      0.72     57064\n",
      "\n",
      "    accuracy                           0.72    114128\n",
      "   macro avg       0.72      0.72      0.72    114128\n",
      "weighted avg       0.72      0.72      0.72    114128\n",
      "\n",
      "0.7170895836254031\n"
     ]
    }
   ],
   "source": [
    "########## score auf unsere trainingdaten\n",
    " \n",
    "score_print(y_train,dtc.predict(X_train))"
   ]
  },
  {
   "cell_type": "code",
   "execution_count": 18,
   "metadata": {},
   "outputs": [],
   "source": [
    "%store -r y_grade_pred_dtc_train y_grade_pred_dtc_test"
   ]
  },
  {
   "cell_type": "code",
   "execution_count": 19,
   "metadata": {},
   "outputs": [
    {
     "output_type": "stream",
     "name": "stdout",
     "text": [
      "[[1909  498]\n",
      " [ 101   47]]\n",
      "              precision    recall  f1-score   support\n",
      "\n",
      "           0       0.95      0.79      0.86      2407\n",
      "           1       0.09      0.32      0.14       148\n",
      "\n",
      "    accuracy                           0.77      2555\n",
      "   macro avg       0.52      0.56      0.50      2555\n",
      "weighted avg       0.90      0.77      0.82      2555\n",
      "\n",
      "0.5553355079217148\n",
      "[[1659  979]\n",
      " [ 217  139]]\n",
      "              precision    recall  f1-score   support\n",
      "\n",
      "           0       0.88      0.63      0.74      2638\n",
      "           1       0.12      0.39      0.19       356\n",
      "\n",
      "    accuracy                           0.60      2994\n",
      "   macro avg       0.50      0.51      0.46      2994\n",
      "weighted avg       0.79      0.60      0.67      2994\n",
      "\n",
      "0.5096674787675375\n",
      "[[1042  799]\n",
      " [ 174  169]]\n",
      "              precision    recall  f1-score   support\n",
      "\n",
      "           0       0.86      0.57      0.68      1841\n",
      "           1       0.17      0.49      0.26       343\n",
      "\n",
      "    accuracy                           0.55      2184\n",
      "   macro avg       0.52      0.53      0.47      2184\n",
      "weighted avg       0.75      0.55      0.62      2184\n",
      "\n",
      "0.5293540555820373\n",
      "[[826 364]\n",
      " [155 120]]\n",
      "              precision    recall  f1-score   support\n",
      "\n",
      "           0       0.84      0.69      0.76      1190\n",
      "           1       0.25      0.44      0.32       275\n",
      "\n",
      "    accuracy                           0.65      1465\n",
      "   macro avg       0.54      0.57      0.54      1465\n",
      "weighted avg       0.73      0.65      0.68      1465\n",
      "\n",
      "0.5652406417112299\n",
      "[[339 267]\n",
      " [ 89  77]]\n",
      "              precision    recall  f1-score   support\n",
      "\n",
      "           0       0.79      0.56      0.66       606\n",
      "           1       0.22      0.46      0.30       166\n",
      "\n",
      "    accuracy                           0.54       772\n",
      "   macro avg       0.51      0.51      0.48       772\n",
      "weighted avg       0.67      0.54      0.58       772\n",
      "\n",
      "0.5116306811404032\n",
      "[[144 120]\n",
      " [ 44  48]]\n",
      "              precision    recall  f1-score   support\n",
      "\n",
      "           0       0.77      0.55      0.64       264\n",
      "           1       0.29      0.52      0.37        92\n",
      "\n",
      "    accuracy                           0.54       356\n",
      "   macro avg       0.53      0.53      0.50       356\n",
      "weighted avg       0.64      0.54      0.57       356\n",
      "\n",
      "0.5335968379446641\n",
      "[[62 20]\n",
      " [16 19]]\n",
      "              precision    recall  f1-score   support\n",
      "\n",
      "           0       0.79      0.76      0.77        82\n",
      "           1       0.49      0.54      0.51        35\n",
      "\n",
      "    accuracy                           0.69       117\n",
      "   macro avg       0.64      0.65      0.64       117\n",
      "weighted avg       0.70      0.69      0.70       117\n",
      "\n",
      "0.6494773519163762\n"
     ]
    }
   ],
   "source": [
    "for grade in [\"A\", \"B\", \"C\", \"D\", \"E\", \"F\", \"G\"]:\n",
    "#for grade in [\"A\", \"B\"]:\n",
    "    mask_train = y_grade_pred_lr_train == grade\n",
    "    mask_test = y_grade_pred_lr_test == grade\n",
    "\n",
    "    X_train_masked, y_train_masked = X_train[mask_train], y_train[mask_train]\n",
    "    X_test_masked, y_test_masked = X_test[mask_test], y_test[mask_test]\n",
    "\n",
    "    dtc.fit(X_train_masked, y_train_masked)\n",
    "\n",
    "    y_loan_status_pred_dtc_test = dtc.predict(X_test_masked)\n",
    "    score_print(y_test_masked,y_loan_status_pred_dtc_test)"
   ]
  },
  {
   "cell_type": "code",
   "execution_count": null,
   "metadata": {},
   "outputs": [],
   "source": []
  },
  {
   "cell_type": "code",
   "execution_count": 20,
   "metadata": {},
   "outputs": [
    {
     "output_type": "stream",
     "name": "stdout",
     "text": [
      "[[6834 2194]\n [ 850  565]]\n              precision    recall  f1-score   support\n\n           0       0.89      0.76      0.82      9028\n           1       0.20      0.40      0.27      1415\n\n    accuracy                           0.71     10443\n   macro avg       0.55      0.58      0.54     10443\nweighted avg       0.80      0.71      0.74     10443\n\n0.5781357879921282\n"
     ]
    }
   ],
   "source": [
    "##### RandomForestClassifier\n",
    "\n",
    "rfc= RandomForestClassifier(max_depth=10,min_samples_split=7)\n",
    "rfc.fit(X_train,y_train)\n",
    "y_pred_rfc=rfc.predict(X_test)\n",
    "score_print(y_test,y_pred_rfc)"
   ]
  },
  {
   "cell_type": "code",
   "execution_count": 21,
   "metadata": {},
   "outputs": [
    {
     "output_type": "stream",
     "name": "stdout",
     "text": [
      "[[41352 15712]\n [14190 42874]]\n              precision    recall  f1-score   support\n\n           0       0.74      0.72      0.73     57064\n           1       0.73      0.75      0.74     57064\n\n    accuracy                           0.74    114128\n   macro avg       0.74      0.74      0.74    114128\nweighted avg       0.74      0.74      0.74    114128\n\n0.7379959343894575\n"
     ]
    }
   ],
   "source": [
    "########## score auf unsere trainingdaten\n",
    "\n",
    "score_print(y_train,rfc.predict(X_train))"
   ]
  },
  {
   "cell_type": "code",
   "execution_count": 22,
   "metadata": {},
   "outputs": [],
   "source": [
    "%store -r y_grade_pred_rfc_train y_grade_pred_rfc_test"
   ]
  },
  {
   "cell_type": "code",
   "execution_count": 23,
   "metadata": {},
   "outputs": [
    {
     "output_type": "stream",
     "name": "stdout",
     "text": [
      "[[1952  455]\n",
      " [ 107   41]]\n",
      "              precision    recall  f1-score   support\n",
      "\n",
      "           0       0.95      0.81      0.87      2407\n",
      "           1       0.08      0.28      0.13       148\n",
      "\n",
      "    accuracy                           0.78      2555\n",
      "   macro avg       0.52      0.54      0.50      2555\n",
      "weighted avg       0.90      0.78      0.83      2555\n",
      "\n",
      "0.5439975184989726\n",
      "[[1860  778]\n",
      " [ 211  145]]\n",
      "              precision    recall  f1-score   support\n",
      "\n",
      "           0       0.90      0.71      0.79      2638\n",
      "           1       0.16      0.41      0.23       356\n",
      "\n",
      "    accuracy                           0.67      2994\n",
      "   macro avg       0.53      0.56      0.51      2994\n",
      "weighted avg       0.81      0.67      0.72      2994\n",
      "\n",
      "0.5561914882742288\n",
      "[[1491  350]\n",
      " [ 242  101]]\n",
      "              precision    recall  f1-score   support\n",
      "\n",
      "           0       0.86      0.81      0.83      1841\n",
      "           1       0.22      0.29      0.25       343\n",
      "\n",
      "    accuracy                           0.73      2184\n",
      "   macro avg       0.54      0.55      0.54      2184\n",
      "weighted avg       0.76      0.73      0.74      2184\n",
      "\n",
      "0.5521732864791762\n",
      "[[930 260]\n",
      " [185  90]]\n",
      "              precision    recall  f1-score   support\n",
      "\n",
      "           0       0.83      0.78      0.81      1190\n",
      "           1       0.26      0.33      0.29       275\n",
      "\n",
      "    accuracy                           0.70      1465\n",
      "   macro avg       0.55      0.55      0.55      1465\n",
      "weighted avg       0.73      0.70      0.71      1465\n",
      "\n",
      "0.554392666157372\n",
      "[[413 193]\n",
      " [101  65]]\n",
      "              precision    recall  f1-score   support\n",
      "\n",
      "           0       0.80      0.68      0.74       606\n",
      "           1       0.25      0.39      0.31       166\n",
      "\n",
      "    accuracy                           0.62       772\n",
      "   macro avg       0.53      0.54      0.52       772\n",
      "weighted avg       0.68      0.62      0.64       772\n",
      "\n",
      "0.5365422084377112\n",
      "[[172  92]\n",
      " [ 53  39]]\n",
      "              precision    recall  f1-score   support\n",
      "\n",
      "           0       0.76      0.65      0.70       264\n",
      "           1       0.30      0.42      0.35        92\n",
      "\n",
      "    accuracy                           0.59       356\n",
      "   macro avg       0.53      0.54      0.53       356\n",
      "weighted avg       0.64      0.59      0.61       356\n",
      "\n",
      "0.5377140974967062\n",
      "[[61 21]\n",
      " [16 19]]\n",
      "              precision    recall  f1-score   support\n",
      "\n",
      "           0       0.79      0.74      0.77        82\n",
      "           1       0.47      0.54      0.51        35\n",
      "\n",
      "    accuracy                           0.68       117\n",
      "   macro avg       0.63      0.64      0.64       117\n",
      "weighted avg       0.70      0.68      0.69       117\n",
      "\n",
      "0.6433797909407665\n"
     ]
    }
   ],
   "source": [
    "for grade in [\"A\", \"B\", \"C\", \"D\", \"E\", \"F\", \"G\"]:\n",
    "#for grade in [\"A\", \"B\"]:\n",
    "    mask_train = y_grade_pred_lr_train == grade\n",
    "    mask_test = y_grade_pred_lr_test == grade\n",
    "\n",
    "    X_train_masked, y_train_masked = X_train[mask_train], y_train[mask_train]\n",
    "    X_test_masked, y_test_masked = X_test[mask_test], y_test[mask_test]\n",
    "\n",
    "    rfc.fit(X_train_masked, y_train_masked)\n",
    "\n",
    "    y_loan_status_pred_rfc_test = rfc.predict(X_test_masked)\n",
    "    score_print(y_test_masked,y_loan_status_pred_rfc_test)"
   ]
  },
  {
   "cell_type": "code",
   "execution_count": null,
   "metadata": {},
   "outputs": [],
   "source": []
  },
  {
   "cell_type": "code",
   "execution_count": null,
   "metadata": {},
   "outputs": [],
   "source": []
  },
  {
   "cell_type": "code",
   "execution_count": null,
   "metadata": {},
   "outputs": [],
   "source": []
  }
 ]
}