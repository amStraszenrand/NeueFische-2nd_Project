{
 "metadata": {
  "language_info": {
   "codemirror_mode": {
    "name": "ipython",
    "version": 3
   },
   "file_extension": ".py",
   "mimetype": "text/x-python",
   "name": "python",
   "nbconvert_exporter": "python",
   "pygments_lexer": "ipython3",
   "version": "3.8.5"
  },
  "orig_nbformat": 4,
  "kernelspec": {
   "name": "python3",
   "display_name": "Python 3.8.5 64-bit ('.venv')"
  },
  "interpreter": {
   "hash": "f65652939e43b240251679cd6b44d012c40ee3e672c80ac5c3588dc23d5ebd80"
  }
 },
 "nbformat": 4,
 "nbformat_minor": 2,
 "cells": [
  {
   "cell_type": "code",
   "execution_count": 7,
   "metadata": {},
   "outputs": [],
   "source": [
    "%store -r X_train X_test y_loan_status_train y_loan_status_test\n",
    "\n",
    "y_train = y_loan_status_train\n",
    "y_test = y_loan_status_test"
   ]
  },
  {
   "cell_type": "code",
   "execution_count": 8,
   "metadata": {},
   "outputs": [],
   "source": [
    "import pandas as pd\n",
    "import numpy as np\n",
    "\n",
    "import matplotlib.pyplot as plt\n",
    "import seaborn as sns\n",
    "from sklearn import svm\n",
    "\n",
    "from sklearn.ensemble import RandomForestClassifier\n",
    "from sklearn.tree import DecisionTreeClassifier\n",
    "from sklearn.svm import LinearSVC\n",
    "from sklearn.neighbors import KNeighborsClassifier\n",
    "from sklearn.linear_model import LogisticRegression\n",
    "from sklearn.preprocessing import StandardScaler\n",
    "from sklearn.model_selection import train_test_split\n",
    "from sklearn.metrics import confusion_matrix, accuracy_score, precision_score, recall_score, classification_report, roc_auc_score\n"
   ]
  },
  {
   "cell_type": "code",
   "execution_count": 9,
   "metadata": {},
   "outputs": [],
   "source": [
    "##### Funktion to printe the scores\n",
    "def score_print(y,y_pred):\n",
    "    \n",
    "    cm = confusion_matrix(y,y_pred)\n",
    "    print(cm)\n",
    "    cp= classification_report(y,y_pred)\n",
    "    print(cp)\n",
    "    roc = roc_auc_score(y, y_pred)\n",
    "    print(roc)\n",
    "    "
   ]
  },
  {
   "cell_type": "code",
   "execution_count": 10,
   "metadata": {},
   "outputs": [
    {
     "output_type": "stream",
     "name": "stdout",
     "text": [
      "Total number of records: 108122\nIndividuals with Charged Off: 54061\nIndividuals percent of Charged Off: 50.00%\n"
     ]
    }
   ],
   "source": [
    "###### Naiv-estimator\n",
    "\n",
    "# TODO: Total number of records\n",
    "n_records = len(y_train)\n",
    "\n",
    "# TODO: People with Charged off\n",
    "charged_off = sum(y_train == 1)\n",
    "\n",
    "# TODO: Percentage of individuals with Charged Off\n",
    "percent = float(100 * charged_off / n_records)\n",
    "\n",
    "# Print the results\n",
    "print (\"Total number of records: {}\".format(n_records))\n",
    "print (\"Individuals with Charged Off: {}\".format(charged_off))\n",
    "print (\"Individuals percent of Charged Off: {:.2f}%\".format(percent))"
   ]
  },
  {
   "cell_type": "code",
   "execution_count": null,
   "metadata": {},
   "outputs": [],
   "source": []
  },
  {
   "cell_type": "code",
   "execution_count": 11,
   "metadata": {},
   "outputs": [
    {
     "output_type": "stream",
     "name": "stdout",
     "text": [
      "[[5785 2499]\n [ 881  527]]\n              precision    recall  f1-score   support\n\n           0       0.87      0.70      0.77      8284\n           1       0.17      0.37      0.24      1408\n\n    accuracy                           0.65      9692\n   macro avg       0.52      0.54      0.51      9692\nweighted avg       0.77      0.65      0.70      9692\n\n0.5363119554124051\n"
     ]
    }
   ],
   "source": [
    "####fit von log reg\n",
    "\n",
    "lr = LogisticRegression(max_iter=10000, C = 2.0, random_state=70)\n",
    "lr.fit(X_train, y_train)\n",
    "lr.score(X_train, y_train)\n",
    "y_pred = lr.predict(X_test)\n",
    "score_print(y_test,y_pred)"
   ]
  },
  {
   "cell_type": "code",
   "execution_count": 12,
   "metadata": {},
   "outputs": [
    {
     "output_type": "stream",
     "name": "stdout",
     "text": [
      "[[34896 19165]\n",
      " [19707 34354]]\n",
      "              precision    recall  f1-score   support\n",
      "\n",
      "           0       0.64      0.65      0.64     54061\n",
      "           1       0.64      0.64      0.64     54061\n",
      "\n",
      "    accuracy                           0.64    108122\n",
      "   macro avg       0.64      0.64      0.64    108122\n",
      "weighted avg       0.64      0.64      0.64    108122\n",
      "\n",
      "0.6404801982945192\n"
     ]
    }
   ],
   "source": [
    "########## score auf unsere trainingdaten\n",
    "\n",
    "score_print(y_train,lr.predict(X_train))"
   ]
  },
  {
   "cell_type": "code",
   "execution_count": 13,
   "metadata": {},
   "outputs": [],
   "source": [
    "%store -r y_grade_pred_lr_train y_grade_pred_lr_test"
   ]
  },
  {
   "cell_type": "code",
   "execution_count": 14,
   "metadata": {},
   "outputs": [
    {
     "output_type": "stream",
     "name": "stdout",
     "text": [
      "[[1837  578]\n",
      " [ 107   48]]\n",
      "              precision    recall  f1-score   support\n",
      "\n",
      "           0       0.94      0.76      0.84      2415\n",
      "           1       0.08      0.31      0.12       155\n",
      "\n",
      "    accuracy                           0.73      2570\n",
      "   macro avg       0.51      0.54      0.48      2570\n",
      "weighted avg       0.89      0.73      0.80      2570\n",
      "\n",
      "0.5351699726173779\n",
      "[[1700  758]\n",
      " [ 185  168]]\n",
      "              precision    recall  f1-score   support\n",
      "\n",
      "           0       0.90      0.69      0.78      2458\n",
      "           1       0.18      0.48      0.26       353\n",
      "\n",
      "    accuracy                           0.66      2811\n",
      "   macro avg       0.54      0.58      0.52      2811\n",
      "weighted avg       0.81      0.66      0.72      2811\n",
      "\n",
      "0.5837699412452142\n",
      "[[1107  504]\n",
      " [ 188  135]]\n",
      "              precision    recall  f1-score   support\n",
      "\n",
      "           0       0.85      0.69      0.76      1611\n",
      "           1       0.21      0.42      0.28       323\n",
      "\n",
      "    accuracy                           0.64      1934\n",
      "   macro avg       0.53      0.55      0.52      1934\n",
      "weighted avg       0.75      0.64      0.68      1934\n",
      "\n",
      "0.552553747167788\n",
      "[[770 306]\n",
      " [182 102]]\n",
      "              precision    recall  f1-score   support\n",
      "\n",
      "           0       0.81      0.72      0.76      1076\n",
      "           1       0.25      0.36      0.29       284\n",
      "\n",
      "    accuracy                           0.64      1360\n",
      "   macro avg       0.53      0.54      0.53      1360\n",
      "weighted avg       0.69      0.64      0.66      1360\n",
      "\n",
      "0.5373841562385465\n",
      "[[328 168]\n",
      " [109  62]]\n",
      "              precision    recall  f1-score   support\n",
      "\n",
      "           0       0.75      0.66      0.70       496\n",
      "           1       0.27      0.36      0.31       171\n",
      "\n",
      "    accuracy                           0.58       667\n",
      "   macro avg       0.51      0.51      0.51       667\n",
      "weighted avg       0.63      0.58      0.60       667\n",
      "\n",
      "0.511931710997925\n",
      "[[121  51]\n",
      " [ 61  25]]\n",
      "              precision    recall  f1-score   support\n",
      "\n",
      "           0       0.66      0.70      0.68       172\n",
      "           1       0.33      0.29      0.31        86\n",
      "\n",
      "    accuracy                           0.57       258\n",
      "   macro avg       0.50      0.50      0.50       258\n",
      "weighted avg       0.55      0.57      0.56       258\n",
      "\n",
      "0.49709302325581395\n",
      "[[37 19]\n",
      " [21 15]]\n",
      "              precision    recall  f1-score   support\n",
      "\n",
      "           0       0.64      0.66      0.65        56\n",
      "           1       0.44      0.42      0.43        36\n",
      "\n",
      "    accuracy                           0.57        92\n",
      "   macro avg       0.54      0.54      0.54        92\n",
      "weighted avg       0.56      0.57      0.56        92\n",
      "\n",
      "0.5386904761904762\n"
     ]
    }
   ],
   "source": [
    "for grade in [\"A\", \"B\", \"C\", \"D\", \"E\", \"F\", \"G\"]:\n",
    "#for grade in [\"A\", \"B\"]:\n",
    "    mask_train = y_grade_pred_lr_train == grade\n",
    "    mask_test = y_grade_pred_lr_test == grade\n",
    "\n",
    "    X_train_masked, y_train_masked = X_train[mask_train], y_train[mask_train]\n",
    "    X_test_masked, y_test_masked = X_test[mask_test], y_test[mask_test]\n",
    "\n",
    "    lr.fit(X_train_masked, y_train_masked)\n",
    "    lr.score(X_train_masked, y_train_masked)\n",
    "\n",
    "    y_loan_status_pred_lr_test = lr.predict(X_test_masked)\n",
    "    score_print(y_test_masked,y_loan_status_pred_lr_test)"
   ]
  },
  {
   "cell_type": "code",
   "execution_count": null,
   "metadata": {},
   "outputs": [],
   "source": []
  },
  {
   "cell_type": "code",
   "execution_count": null,
   "metadata": {},
   "outputs": [],
   "source": []
  },
  {
   "cell_type": "code",
   "execution_count": 15,
   "metadata": {},
   "outputs": [
    {
     "output_type": "stream",
     "name": "stdout",
     "text": [
      "[[5589 2695]\n [ 785  623]]\n              precision    recall  f1-score   support\n\n           0       0.88      0.67      0.76      8284\n           1       0.19      0.44      0.26      1408\n\n    accuracy                           0.64      9692\n   macro avg       0.53      0.56      0.51      9692\nweighted avg       0.78      0.64      0.69      9692\n\n0.5585728307032176\n"
     ]
    }
   ],
   "source": [
    "######## DecisionTree\n",
    "\n",
    "dtc = DecisionTreeClassifier(max_depth=10, min_samples_split=5, random_state=70)\n",
    "dtc.fit(X_train,y_train)\n",
    "y_pred_dtc=dtc.predict(X_test)\n",
    "score_print(y_test,y_pred_dtc)"
   ]
  },
  {
   "cell_type": "code",
   "execution_count": 16,
   "metadata": {},
   "outputs": [
    {
     "output_type": "stream",
     "name": "stdout",
     "text": [
      "[[36504 17557]\n",
      " [13788 40273]]\n",
      "              precision    recall  f1-score   support\n",
      "\n",
      "           0       0.73      0.68      0.70     54061\n",
      "           1       0.70      0.74      0.72     54061\n",
      "\n",
      "    accuracy                           0.71    108122\n",
      "   macro avg       0.71      0.71      0.71    108122\n",
      "weighted avg       0.71      0.71      0.71    108122\n",
      "\n",
      "0.7100960026636577\n"
     ]
    }
   ],
   "source": [
    "########## score auf unsere trainingdaten\n",
    " \n",
    "score_print(y_train,dtc.predict(X_train))"
   ]
  },
  {
   "cell_type": "code",
   "execution_count": 17,
   "metadata": {},
   "outputs": [],
   "source": [
    "%store -r y_grade_pred_dtc_train y_grade_pred_dtc_test"
   ]
  },
  {
   "cell_type": "code",
   "execution_count": 18,
   "metadata": {},
   "outputs": [
    {
     "output_type": "stream",
     "name": "stdout",
     "text": [
      "[[1783  632]\n",
      " [ 103   52]]\n",
      "              precision    recall  f1-score   support\n",
      "\n",
      "           0       0.95      0.74      0.83      2415\n",
      "           1       0.08      0.34      0.12       155\n",
      "\n",
      "    accuracy                           0.71      2570\n",
      "   macro avg       0.51      0.54      0.48      2570\n",
      "weighted avg       0.89      0.71      0.79      2570\n",
      "\n",
      "0.536893074200227\n",
      "[[1672  786]\n",
      " [ 194  159]]\n",
      "              precision    recall  f1-score   support\n",
      "\n",
      "           0       0.90      0.68      0.77      2458\n",
      "           1       0.17      0.45      0.24       353\n",
      "\n",
      "    accuracy                           0.65      2811\n",
      "   macro avg       0.53      0.57      0.51      2811\n",
      "weighted avg       0.80      0.65      0.71      2811\n",
      "\n",
      "0.5653263783402522\n",
      "[[1209  402]\n",
      " [ 211  112]]\n",
      "              precision    recall  f1-score   support\n",
      "\n",
      "           0       0.85      0.75      0.80      1611\n",
      "           1       0.22      0.35      0.27       323\n",
      "\n",
      "    accuracy                           0.68      1934\n",
      "   macro avg       0.53      0.55      0.53      1934\n",
      "weighted avg       0.75      0.68      0.71      1934\n",
      "\n",
      "0.5486073876772115\n",
      "[[781 295]\n",
      " [181 103]]\n",
      "              precision    recall  f1-score   support\n",
      "\n",
      "           0       0.81      0.73      0.77      1076\n",
      "           1       0.26      0.36      0.30       284\n",
      "\n",
      "    accuracy                           0.65      1360\n",
      "   macro avg       0.54      0.54      0.53      1360\n",
      "weighted avg       0.70      0.65      0.67      1360\n",
      "\n",
      "0.544256243782397\n",
      "[[294 202]\n",
      " [ 90  81]]\n",
      "              precision    recall  f1-score   support\n",
      "\n",
      "           0       0.77      0.59      0.67       496\n",
      "           1       0.29      0.47      0.36       171\n",
      "\n",
      "    accuracy                           0.56       667\n",
      "   macro avg       0.53      0.53      0.51       667\n",
      "weighted avg       0.64      0.56      0.59       667\n",
      "\n",
      "0.5332130730050934\n",
      "[[102  70]\n",
      " [ 32  54]]\n",
      "              precision    recall  f1-score   support\n",
      "\n",
      "           0       0.76      0.59      0.67       172\n",
      "           1       0.44      0.63      0.51        86\n",
      "\n",
      "    accuracy                           0.60       258\n",
      "   macro avg       0.60      0.61      0.59       258\n",
      "weighted avg       0.65      0.60      0.62       258\n",
      "\n",
      "0.6104651162790697\n",
      "[[25 31]\n",
      " [12 24]]\n",
      "              precision    recall  f1-score   support\n",
      "\n",
      "           0       0.68      0.45      0.54        56\n",
      "           1       0.44      0.67      0.53        36\n",
      "\n",
      "    accuracy                           0.53        92\n",
      "   macro avg       0.56      0.56      0.53        92\n",
      "weighted avg       0.58      0.53      0.53        92\n",
      "\n",
      "0.5565476190476191\n"
     ]
    }
   ],
   "source": [
    "for grade in [\"A\", \"B\", \"C\", \"D\", \"E\", \"F\", \"G\"]:\n",
    "#for grade in [\"A\", \"B\"]:\n",
    "    mask_train = y_grade_pred_lr_train == grade\n",
    "    mask_test = y_grade_pred_lr_test == grade\n",
    "\n",
    "    X_train_masked, y_train_masked = X_train[mask_train], y_train[mask_train]\n",
    "    X_test_masked, y_test_masked = X_test[mask_test], y_test[mask_test]\n",
    "\n",
    "    dtc.fit(X_train_masked, y_train_masked)\n",
    "\n",
    "    y_loan_status_pred_dtc_test = dtc.predict(X_test_masked)\n",
    "    score_print(y_test_masked,y_loan_status_pred_dtc_test)"
   ]
  },
  {
   "cell_type": "code",
   "execution_count": null,
   "metadata": {},
   "outputs": [],
   "source": []
  },
  {
   "cell_type": "code",
   "execution_count": 23,
   "metadata": {},
   "outputs": [
    {
     "output_type": "stream",
     "name": "stdout",
     "text": [
      "[[6251 2033]\n [ 838  570]]\n              precision    recall  f1-score   support\n\n           0       0.88      0.75      0.81      8284\n           1       0.22      0.40      0.28      1408\n\n    accuracy                           0.70      9692\n   macro avg       0.55      0.58      0.55      9692\nweighted avg       0.79      0.70      0.74      9692\n\n0.579708350708924\n"
     ]
    }
   ],
   "source": [
    "##### RandomForestClassifier\n",
    "\n",
    "rfc= RandomForestClassifier(n_estimators=200, max_depth=10,min_samples_split=7)\n",
    "rfc.fit(X_train,y_train)\n",
    "y_pred_rfc=rfc.predict(X_test)\n",
    "score_print(y_test,y_pred_rfc)"
   ]
  },
  {
   "cell_type": "code",
   "execution_count": 20,
   "metadata": {},
   "outputs": [
    {
     "output_type": "stream",
     "name": "stdout",
     "text": [
      "[[39505 14556]\n [13299 40762]]\n              precision    recall  f1-score   support\n\n           0       0.75      0.73      0.74     54061\n           1       0.74      0.75      0.75     54061\n\n    accuracy                           0.74    108122\n   macro avg       0.74      0.74      0.74    108122\nweighted avg       0.74      0.74      0.74    108122\n\n0.7423743548953959\n"
     ]
    }
   ],
   "source": [
    "########## score auf unsere trainingdaten\n",
    "\n",
    "score_print(y_train,rfc.predict(X_train))"
   ]
  },
  {
   "cell_type": "code",
   "execution_count": 21,
   "metadata": {},
   "outputs": [],
   "source": [
    "%store -r y_grade_pred_rfc_train y_grade_pred_rfc_test"
   ]
  },
  {
   "cell_type": "code",
   "execution_count": 22,
   "metadata": {},
   "outputs": [
    {
     "output_type": "stream",
     "name": "stdout",
     "text": [
      "[[1956  459]\n",
      " [ 118   37]]\n",
      "              precision    recall  f1-score   support\n",
      "\n",
      "           0       0.94      0.81      0.87      2415\n",
      "           1       0.07      0.24      0.11       155\n",
      "\n",
      "    accuracy                           0.78      2570\n",
      "   macro avg       0.51      0.52      0.49      2570\n",
      "weighted avg       0.89      0.78      0.83      2570\n",
      "\n",
      "0.5243237828090563\n",
      "[[1838  620]\n",
      " [ 216  137]]\n",
      "              precision    recall  f1-score   support\n",
      "\n",
      "           0       0.89      0.75      0.81      2458\n",
      "           1       0.18      0.39      0.25       353\n",
      "\n",
      "    accuracy                           0.70      2811\n",
      "   macro avg       0.54      0.57      0.53      2811\n",
      "weighted avg       0.81      0.70      0.74      2811\n",
      "\n",
      "0.5679321957324986\n",
      "[[1308  303]\n",
      " [ 223  100]]\n",
      "              precision    recall  f1-score   support\n",
      "\n",
      "           0       0.85      0.81      0.83      1611\n",
      "           1       0.25      0.31      0.28       323\n",
      "\n",
      "    accuracy                           0.73      1934\n",
      "   macro avg       0.55      0.56      0.55      1934\n",
      "weighted avg       0.75      0.73      0.74      1934\n",
      "\n",
      "0.5607577932672628\n",
      "[[861 215]\n",
      " [205  79]]\n",
      "              precision    recall  f1-score   support\n",
      "\n",
      "           0       0.81      0.80      0.80      1076\n",
      "           1       0.27      0.28      0.27       284\n",
      "\n",
      "    accuracy                           0.69      1360\n",
      "   macro avg       0.54      0.54      0.54      1360\n",
      "weighted avg       0.70      0.69      0.69      1360\n",
      "\n",
      "0.5391774438452275\n",
      "[[339 157]\n",
      " [107  64]]\n",
      "              precision    recall  f1-score   support\n",
      "\n",
      "           0       0.76      0.68      0.72       496\n",
      "           1       0.29      0.37      0.33       171\n",
      "\n",
      "    accuracy                           0.60       667\n",
      "   macro avg       0.52      0.53      0.52       667\n",
      "weighted avg       0.64      0.60      0.62       667\n",
      "\n",
      "0.5288683738917185\n",
      "[[126  46]\n",
      " [ 50  36]]\n",
      "              precision    recall  f1-score   support\n",
      "\n",
      "           0       0.72      0.73      0.72       172\n",
      "           1       0.44      0.42      0.43        86\n",
      "\n",
      "    accuracy                           0.63       258\n",
      "   macro avg       0.58      0.58      0.58       258\n",
      "weighted avg       0.62      0.63      0.63       258\n",
      "\n",
      "0.5755813953488372\n",
      "[[24 32]\n",
      " [15 21]]\n",
      "              precision    recall  f1-score   support\n",
      "\n",
      "           0       0.62      0.43      0.51        56\n",
      "           1       0.40      0.58      0.47        36\n",
      "\n",
      "    accuracy                           0.49        92\n",
      "   macro avg       0.51      0.51      0.49        92\n",
      "weighted avg       0.53      0.49      0.49        92\n",
      "\n",
      "0.505952380952381\n"
     ]
    }
   ],
   "source": [
    "for grade in [\"A\", \"B\", \"C\", \"D\", \"E\", \"F\", \"G\"]:\n",
    "#for grade in [\"A\", \"B\"]:\n",
    "    mask_train = y_grade_pred_lr_train == grade\n",
    "    mask_test = y_grade_pred_lr_test == grade\n",
    "\n",
    "    X_train_masked, y_train_masked = X_train[mask_train], y_train[mask_train]\n",
    "    X_test_masked, y_test_masked = X_test[mask_test], y_test[mask_test]\n",
    "\n",
    "    rfc.fit(X_train_masked, y_train_masked)\n",
    "\n",
    "    y_loan_status_pred_rfc_test = rfc.predict(X_test_masked)\n",
    "    score_print(y_test_masked,y_loan_status_pred_rfc_test)"
   ]
  },
  {
   "cell_type": "code",
   "execution_count": null,
   "metadata": {},
   "outputs": [],
   "source": []
  },
  {
   "cell_type": "code",
   "execution_count": null,
   "metadata": {},
   "outputs": [],
   "source": []
  },
  {
   "cell_type": "code",
   "execution_count": null,
   "metadata": {},
   "outputs": [],
   "source": []
  }
 ]
}