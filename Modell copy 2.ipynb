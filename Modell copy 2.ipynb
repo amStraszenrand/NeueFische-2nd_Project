{
 "cells": [
  {
   "cell_type": "code",
   "execution_count": 17,
   "id": "343375cd",
   "metadata": {},
   "outputs": [
    {
     "output_type": "execute_result",
     "data": {
      "text/plain": [
       "          loan_amnt       term   int_rate  installment    annual_inc  issue_d  \\\n",
       "0       5000.000000  36.000000  10.650000   162.870000  24000.000000   734472   \n",
       "1       2500.000000  60.000000  15.270000    59.830000  30000.000000   734472   \n",
       "2       2400.000000  36.000000  15.960000    84.330000  12252.000000   734472   \n",
       "3      10000.000000  36.000000  13.490000   339.310000  49200.000000   734472   \n",
       "4       3000.000000  60.000000  12.690000    67.790000  80000.000000   734472   \n",
       "...             ...        ...        ...          ...           ...      ...   \n",
       "72221  15000.000000  51.199318  10.111371   373.444459  43860.051160   733764   \n",
       "72222   2538.877576  41.555103  17.318447    83.355886  30922.244848   734312   \n",
       "72223  14115.713547  36.000000  14.379711   486.081659  90263.266361   734145   \n",
       "72224  15790.018128  36.000000  15.600163   553.170729  95125.989123   734343   \n",
       "72225   2500.000000  36.000000   9.945049    80.642027  22979.160821   733007   \n",
       "\n",
       "             dti   open_acc     revol_bal  pub_rec_bankruptcies  ...  \\\n",
       "0      27.650000   3.000000  13648.000000              0.000000  ...   \n",
       "1       1.000000   3.000000   1687.000000              0.000000  ...   \n",
       "2       8.720000   2.000000   2956.000000              0.000000  ...   \n",
       "3      20.000000  10.000000   5598.000000              0.000000  ...   \n",
       "4      17.940000  15.000000  27783.000000              0.000000  ...   \n",
       "...          ...        ...           ...                   ...  ...   \n",
       "72221   1.171674   3.633305   1039.094577              0.366695  ...   \n",
       "72222  10.182370   4.462925   5090.705438              0.000000  ...   \n",
       "72223  10.503972   3.368367   1129.721794              0.000000  ...   \n",
       "72224  18.851984   8.049909   9160.507093              0.000000  ...   \n",
       "72225   2.107975   2.456592    965.620729              0.000000  ...   \n",
       "\n",
       "       purpose_home_improvement  purpose_house  purpose_major_purchase  \\\n",
       "0                             0              0                       0   \n",
       "1                             0              0                       0   \n",
       "2                             0              0                       0   \n",
       "3                             0              0                       0   \n",
       "4                             0              0                       0   \n",
       "...                         ...            ...                     ...   \n",
       "72221                         0              0                       0   \n",
       "72222                         0              0                       0   \n",
       "72223                         0              0                       0   \n",
       "72224                         0              0                       0   \n",
       "72225                         0              0                       0   \n",
       "\n",
       "       purpose_medical  purpose_moving  purpose_other  \\\n",
       "0                    0               0              0   \n",
       "1                    0               0              0   \n",
       "2                    0               0              0   \n",
       "3                    0               0              1   \n",
       "4                    0               0              1   \n",
       "...                ...             ...            ...   \n",
       "72221                0               0              0   \n",
       "72222                0               0              0   \n",
       "72223                0               0              0   \n",
       "72224                0               0              0   \n",
       "72225                0               0              0   \n",
       "\n",
       "       purpose_renewable_energy  purpose_small_business  purpose_vacation  \\\n",
       "0                             0                       0                 0   \n",
       "1                             0                       0                 0   \n",
       "2                             0                       1                 0   \n",
       "3                             0                       0                 0   \n",
       "4                             0                       0                 0   \n",
       "...                         ...                     ...               ...   \n",
       "72221                         0                       0                 0   \n",
       "72222                         0                       0                 0   \n",
       "72223                         0                       0                 0   \n",
       "72224                         0                       0                 0   \n",
       "72225                         0                       0                 0   \n",
       "\n",
       "       purpose_wedding  \n",
       "0                    0  \n",
       "1                    0  \n",
       "2                    0  \n",
       "3                    0  \n",
       "4                    0  \n",
       "...                ...  \n",
       "72221                0  \n",
       "72222                0  \n",
       "72223                0  \n",
       "72224                0  \n",
       "72225                0  \n",
       "\n",
       "[72226 rows x 40 columns]"
      ],
      "text/html": "<div>\n<style scoped>\n    .dataframe tbody tr th:only-of-type {\n        vertical-align: middle;\n    }\n\n    .dataframe tbody tr th {\n        vertical-align: top;\n    }\n\n    .dataframe thead th {\n        text-align: right;\n    }\n</style>\n<table border=\"1\" class=\"dataframe\">\n  <thead>\n    <tr style=\"text-align: right;\">\n      <th></th>\n      <th>loan_amnt</th>\n      <th>term</th>\n      <th>int_rate</th>\n      <th>installment</th>\n      <th>annual_inc</th>\n      <th>issue_d</th>\n      <th>dti</th>\n      <th>open_acc</th>\n      <th>revol_bal</th>\n      <th>pub_rec_bankruptcies</th>\n      <th>...</th>\n      <th>purpose_home_improvement</th>\n      <th>purpose_house</th>\n      <th>purpose_major_purchase</th>\n      <th>purpose_medical</th>\n      <th>purpose_moving</th>\n      <th>purpose_other</th>\n      <th>purpose_renewable_energy</th>\n      <th>purpose_small_business</th>\n      <th>purpose_vacation</th>\n      <th>purpose_wedding</th>\n    </tr>\n  </thead>\n  <tbody>\n    <tr>\n      <th>0</th>\n      <td>5000.000000</td>\n      <td>36.000000</td>\n      <td>10.650000</td>\n      <td>162.870000</td>\n      <td>24000.000000</td>\n      <td>734472</td>\n      <td>27.650000</td>\n      <td>3.000000</td>\n      <td>13648.000000</td>\n      <td>0.000000</td>\n      <td>...</td>\n      <td>0</td>\n      <td>0</td>\n      <td>0</td>\n      <td>0</td>\n      <td>0</td>\n      <td>0</td>\n      <td>0</td>\n      <td>0</td>\n      <td>0</td>\n      <td>0</td>\n    </tr>\n    <tr>\n      <th>1</th>\n      <td>2500.000000</td>\n      <td>60.000000</td>\n      <td>15.270000</td>\n      <td>59.830000</td>\n      <td>30000.000000</td>\n      <td>734472</td>\n      <td>1.000000</td>\n      <td>3.000000</td>\n      <td>1687.000000</td>\n      <td>0.000000</td>\n      <td>...</td>\n      <td>0</td>\n      <td>0</td>\n      <td>0</td>\n      <td>0</td>\n      <td>0</td>\n      <td>0</td>\n      <td>0</td>\n      <td>0</td>\n      <td>0</td>\n      <td>0</td>\n    </tr>\n    <tr>\n      <th>2</th>\n      <td>2400.000000</td>\n      <td>36.000000</td>\n      <td>15.960000</td>\n      <td>84.330000</td>\n      <td>12252.000000</td>\n      <td>734472</td>\n      <td>8.720000</td>\n      <td>2.000000</td>\n      <td>2956.000000</td>\n      <td>0.000000</td>\n      <td>...</td>\n      <td>0</td>\n      <td>0</td>\n      <td>0</td>\n      <td>0</td>\n      <td>0</td>\n      <td>0</td>\n      <td>0</td>\n      <td>1</td>\n      <td>0</td>\n      <td>0</td>\n    </tr>\n    <tr>\n      <th>3</th>\n      <td>10000.000000</td>\n      <td>36.000000</td>\n      <td>13.490000</td>\n      <td>339.310000</td>\n      <td>49200.000000</td>\n      <td>734472</td>\n      <td>20.000000</td>\n      <td>10.000000</td>\n      <td>5598.000000</td>\n      <td>0.000000</td>\n      <td>...</td>\n      <td>0</td>\n      <td>0</td>\n      <td>0</td>\n      <td>0</td>\n      <td>0</td>\n      <td>1</td>\n      <td>0</td>\n      <td>0</td>\n      <td>0</td>\n      <td>0</td>\n    </tr>\n    <tr>\n      <th>4</th>\n      <td>3000.000000</td>\n      <td>60.000000</td>\n      <td>12.690000</td>\n      <td>67.790000</td>\n      <td>80000.000000</td>\n      <td>734472</td>\n      <td>17.940000</td>\n      <td>15.000000</td>\n      <td>27783.000000</td>\n      <td>0.000000</td>\n      <td>...</td>\n      <td>0</td>\n      <td>0</td>\n      <td>0</td>\n      <td>0</td>\n      <td>0</td>\n      <td>1</td>\n      <td>0</td>\n      <td>0</td>\n      <td>0</td>\n      <td>0</td>\n    </tr>\n    <tr>\n      <th>...</th>\n      <td>...</td>\n      <td>...</td>\n      <td>...</td>\n      <td>...</td>\n      <td>...</td>\n      <td>...</td>\n      <td>...</td>\n      <td>...</td>\n      <td>...</td>\n      <td>...</td>\n      <td>...</td>\n      <td>...</td>\n      <td>...</td>\n      <td>...</td>\n      <td>...</td>\n      <td>...</td>\n      <td>...</td>\n      <td>...</td>\n      <td>...</td>\n      <td>...</td>\n      <td>...</td>\n    </tr>\n    <tr>\n      <th>72221</th>\n      <td>15000.000000</td>\n      <td>51.199318</td>\n      <td>10.111371</td>\n      <td>373.444459</td>\n      <td>43860.051160</td>\n      <td>733764</td>\n      <td>1.171674</td>\n      <td>3.633305</td>\n      <td>1039.094577</td>\n      <td>0.366695</td>\n      <td>...</td>\n      <td>0</td>\n      <td>0</td>\n      <td>0</td>\n      <td>0</td>\n      <td>0</td>\n      <td>0</td>\n      <td>0</td>\n      <td>0</td>\n      <td>0</td>\n      <td>0</td>\n    </tr>\n    <tr>\n      <th>72222</th>\n      <td>2538.877576</td>\n      <td>41.555103</td>\n      <td>17.318447</td>\n      <td>83.355886</td>\n      <td>30922.244848</td>\n      <td>734312</td>\n      <td>10.182370</td>\n      <td>4.462925</td>\n      <td>5090.705438</td>\n      <td>0.000000</td>\n      <td>...</td>\n      <td>0</td>\n      <td>0</td>\n      <td>0</td>\n      <td>0</td>\n      <td>0</td>\n      <td>0</td>\n      <td>0</td>\n      <td>0</td>\n      <td>0</td>\n      <td>0</td>\n    </tr>\n    <tr>\n      <th>72223</th>\n      <td>14115.713547</td>\n      <td>36.000000</td>\n      <td>14.379711</td>\n      <td>486.081659</td>\n      <td>90263.266361</td>\n      <td>734145</td>\n      <td>10.503972</td>\n      <td>3.368367</td>\n      <td>1129.721794</td>\n      <td>0.000000</td>\n      <td>...</td>\n      <td>0</td>\n      <td>0</td>\n      <td>0</td>\n      <td>0</td>\n      <td>0</td>\n      <td>0</td>\n      <td>0</td>\n      <td>0</td>\n      <td>0</td>\n      <td>0</td>\n    </tr>\n    <tr>\n      <th>72224</th>\n      <td>15790.018128</td>\n      <td>36.000000</td>\n      <td>15.600163</td>\n      <td>553.170729</td>\n      <td>95125.989123</td>\n      <td>734343</td>\n      <td>18.851984</td>\n      <td>8.049909</td>\n      <td>9160.507093</td>\n      <td>0.000000</td>\n      <td>...</td>\n      <td>0</td>\n      <td>0</td>\n      <td>0</td>\n      <td>0</td>\n      <td>0</td>\n      <td>0</td>\n      <td>0</td>\n      <td>0</td>\n      <td>0</td>\n      <td>0</td>\n    </tr>\n    <tr>\n      <th>72225</th>\n      <td>2500.000000</td>\n      <td>36.000000</td>\n      <td>9.945049</td>\n      <td>80.642027</td>\n      <td>22979.160821</td>\n      <td>733007</td>\n      <td>2.107975</td>\n      <td>2.456592</td>\n      <td>965.620729</td>\n      <td>0.000000</td>\n      <td>...</td>\n      <td>0</td>\n      <td>0</td>\n      <td>0</td>\n      <td>0</td>\n      <td>0</td>\n      <td>0</td>\n      <td>0</td>\n      <td>0</td>\n      <td>0</td>\n      <td>0</td>\n    </tr>\n  </tbody>\n</table>\n<p>72226 rows × 40 columns</p>\n</div>"
     },
     "metadata": {},
     "execution_count": 17
    }
   ],
   "source": [
    "import pandas as pd\n",
    "import numpy as np\n",
    "\n",
    "import matplotlib.pyplot as plt\n",
    "import seaborn as sns\n",
    "from sklearn import svm\n",
    "\n",
    "\n",
    "\n",
    "from sklearn.ensemble import RandomForestClassifier\n",
    "from sklearn.tree import DecisionTreeClassifier\n",
    "from sklearn.svm import LinearSVC\n",
    "from sklearn.neighbors import KNeighborsClassifier\n",
    "from sklearn.linear_model import LogisticRegression\n",
    "from sklearn.preprocessing import StandardScaler\n",
    "from sklearn.model_selection import train_test_split\n",
    "from sklearn.metrics import confusion_matrix, accuracy_score, precision_score, recall_score, classification_report\n",
    "\n",
    "%store -r X y\n",
    "X"
   ]
  },
  {
   "cell_type": "code",
   "execution_count": 18,
   "id": "307f9ef1",
   "metadata": {},
   "outputs": [],
   "source": [
    "##### Funktion scor\n",
    "\n",
    "\n",
    "def score_print(y,y_pred):\n",
    "    \n",
    "    cm = confusion_matrix(y,y_pred)\n",
    "    print(cm)\n",
    "    cp= classification_report(y,y_pred)\n",
    "    print(cp)\n",
    "    "
   ]
  },
  {
   "cell_type": "code",
   "execution_count": 20,
   "id": "f7706530",
   "metadata": {},
   "outputs": [
    {
     "output_type": "stream",
     "name": "stdout",
     "text": [
      "Total number of records: 72226\nIndividuals has paid her credit fully: 36113\nIndividuals hasn't paid her credit: 36113\nPercentage of individuals that paid ther credit: 50.00%\n"
     ]
    }
   ],
   "source": [
    "###### Naiv-estimator\n",
    "\n",
    "\n",
    "# TODO: Total number of records\n",
    "n_records = len(X)\n",
    "\n",
    "# TODO: Number of records where individual's income is more than $50,000\n",
    "fully_paid = sum(y==1)\n",
    "\n",
    "# TODO: Number of records where individual's income is at most $50,000\n",
    "charged_off = n_records - fully_paid\n",
    "\n",
    "# TODO: Percentage of individuals whose income is more than $50,000\n",
    "greater_percent = 100 * fully_paid / n_records\n",
    "\n",
    "# Print the results\n",
    "print (\"Total number of records: {}\".format(n_records))\n",
    "print (\"Individuals has paid her credit fully: {}\".format(fully_paid))\n",
    "print (\"Individuals hasn't paid her credit: {}\".format(charged_off))\n",
    "print (\"Percentage of individuals that paid ther credit: {:.2f}%\".format(greater_percent))"
   ]
  },
  {
   "cell_type": "code",
   "execution_count": 21,
   "id": "060e0415",
   "metadata": {},
   "outputs": [
    {
     "output_type": "stream",
     "name": "stdout",
     "text": [
      "Training set has 43335 samples.\nTesting set has 28891 samples.\n"
     ]
    }
   ],
   "source": [
    "#Split into train and test\n",
    "\n",
    "X_train, X_test, y_train, y_test= train_test_split(X, y, test_size = 0.4, random_state = 70, stratify= y)\n",
    "\n",
    "# Show the results of the split\n",
    "print (\"Training set has {} samples.\".format(X_train.shape[0]))\n",
    "print (\"Testing set has {} samples.\".format(X_test.shape[0]))"
   ]
  },
  {
   "cell_type": "code",
   "execution_count": 22,
   "metadata": {},
   "outputs": [
    {
     "output_type": "execute_result",
     "data": {
      "text/plain": [
       "['loan_amnt',\n",
       " 'term',\n",
       " 'int_rate',\n",
       " 'installment',\n",
       " 'annual_inc',\n",
       " 'dti',\n",
       " 'open_acc',\n",
       " 'revol_bal',\n",
       " 'pub_rec_bankruptcies']"
      ]
     },
     "metadata": {},
     "execution_count": 22
    }
   ],
   "source": [
    "numerical = [col for col in X if X.dtypes[col] == \"float64\"]\n",
    "numerical"
   ]
  },
  {
   "cell_type": "code",
   "execution_count": 23,
   "id": "fb492da1",
   "metadata": {},
   "outputs": [
    {
     "output_type": "stream",
     "name": "stderr",
     "text": [
      "/Users/kli/neuefische/13_Decision_trees/ds-ensemble-methods/.venv/lib/python3.8/site-packages/pandas/core/indexing.py:1738: SettingWithCopyWarning: \nA value is trying to be set on a copy of a slice from a DataFrame.\nTry using .loc[row_indexer,col_indexer] = value instead\n\nSee the caveats in the documentation: https://pandas.pydata.org/pandas-docs/stable/user_guide/indexing.html#returning-a-view-versus-a-copy\n  self._setitem_single_column(loc, value[:, i].tolist(), pi)\n/Users/kli/neuefische/13_Decision_trees/ds-ensemble-methods/.venv/lib/python3.8/site-packages/pandas/core/indexing.py:1738: SettingWithCopyWarning: \nA value is trying to be set on a copy of a slice from a DataFrame.\nTry using .loc[row_indexer,col_indexer] = value instead\n\nSee the caveats in the documentation: https://pandas.pydata.org/pandas-docs/stable/user_guide/indexing.html#returning-a-view-versus-a-copy\n  self._setitem_single_column(loc, value[:, i].tolist(), pi)\n"
     ]
    }
   ],
   "source": [
    "#### skalieren\n",
    "from sklearn.preprocessing import MinMaxScaler\n",
    "\n",
    "\n",
    "# Initialize a scaler, then apply it to the features\n",
    "scaler = MinMaxScaler()\n",
    "#numerical = ['loan_amnt', 'term', 'int_rate', 'installment', 'annual_inc',\"issue_d\",\"dti\",\"open_acc\",\"revol_bal\",\"pub_rec_bankruptcies\" ]\n",
    "numerical = [col for col in X if X.dtypes[col] == \"float64\"]\n",
    "X_train.loc[:,numerical] = scaler.fit_transform(X_train[numerical])\n",
    "X_test.loc[:,numerical] = scaler.transform(X_test[numerical])\n",
    "\n"
   ]
  },
  {
   "cell_type": "code",
   "execution_count": 24,
   "metadata": {},
   "outputs": [
    {
     "output_type": "execute_result",
     "data": {
      "text/plain": [
       "loan_amnt                              0\n",
       "term                                   0\n",
       "int_rate                               0\n",
       "installment                            0\n",
       "annual_inc                             0\n",
       "issue_d                                0\n",
       "dti                                    0\n",
       "open_acc                               0\n",
       "revol_bal                              0\n",
       "pub_rec_bankruptcies                   0\n",
       "emp_length_10+ years                   0\n",
       "emp_length_2 years                     0\n",
       "emp_length_3 years                     0\n",
       "emp_length_4 years                     0\n",
       "emp_length_5 years                     0\n",
       "emp_length_6 years                     0\n",
       "emp_length_7 years                     0\n",
       "emp_length_8 years                     0\n",
       "emp_length_9 years                     0\n",
       "emp_length_< 1 year                    0\n",
       "emp_length_no info at all              0\n",
       "home_ownership_NONE                    0\n",
       "home_ownership_OTHER                   0\n",
       "home_ownership_OWN                     0\n",
       "home_ownership_RENT                    0\n",
       "verification_status_Source Verified    0\n",
       "verification_status_Verified           0\n",
       "purpose_credit_card                    0\n",
       "purpose_debt_consolidation             0\n",
       "purpose_educational                    0\n",
       "purpose_home_improvement               0\n",
       "purpose_house                          0\n",
       "purpose_major_purchase                 0\n",
       "purpose_medical                        0\n",
       "purpose_moving                         0\n",
       "purpose_other                          0\n",
       "purpose_renewable_energy               0\n",
       "purpose_small_business                 0\n",
       "purpose_vacation                       0\n",
       "purpose_wedding                        0\n",
       "dtype: int64"
      ]
     },
     "metadata": {},
     "execution_count": 24
    }
   ],
   "source": [
    "X_train.isna().sum()"
   ]
  },
  {
   "cell_type": "code",
   "execution_count": 25,
   "id": "428193f2",
   "metadata": {},
   "outputs": [
    {
     "output_type": "execute_result",
     "data": {
      "text/plain": [
       "0.5000115380177685"
      ]
     },
     "metadata": {},
     "execution_count": 25
    }
   ],
   "source": [
    "####fit von log reg\n",
    "\n",
    "lr = LogisticRegression(max_iter=10000,random_state=70)\n",
    "lr.fit(X_train, y_train)\n",
    "lr.score(X_train,y_train)"
   ]
  },
  {
   "cell_type": "code",
   "execution_count": 26,
   "id": "1c060d42",
   "metadata": {},
   "outputs": [],
   "source": [
    "### predic\n",
    "\n",
    "y_pred = lr.predict(X_test)"
   ]
  },
  {
   "cell_type": "code",
   "execution_count": 27,
   "id": "079011ae",
   "metadata": {},
   "outputs": [
    {
     "output_type": "stream",
     "name": "stdout",
     "text": [
      "[[    0 21667]\n",
      " [    0 21668]]\n",
      "              precision    recall  f1-score   support\n",
      "\n",
      "           0       0.00      0.00      0.00     21667\n",
      "           1       0.50      1.00      0.67     21668\n",
      "\n",
      "    accuracy                           0.50     43335\n",
      "   macro avg       0.25      0.50      0.33     43335\n",
      "weighted avg       0.25      0.50      0.33     43335\n",
      "\n",
      "/Users/kli/neuefische/13_Decision_trees/ds-ensemble-methods/.venv/lib/python3.8/site-packages/sklearn/metrics/_classification.py:1248: UndefinedMetricWarning: Precision and F-score are ill-defined and being set to 0.0 in labels with no predicted samples. Use `zero_division` parameter to control this behavior.\n",
      "  _warn_prf(average, modifier, msg_start, len(result))\n",
      "/Users/kli/neuefische/13_Decision_trees/ds-ensemble-methods/.venv/lib/python3.8/site-packages/sklearn/metrics/_classification.py:1248: UndefinedMetricWarning: Precision and F-score are ill-defined and being set to 0.0 in labels with no predicted samples. Use `zero_division` parameter to control this behavior.\n",
      "  _warn_prf(average, modifier, msg_start, len(result))\n",
      "/Users/kli/neuefische/13_Decision_trees/ds-ensemble-methods/.venv/lib/python3.8/site-packages/sklearn/metrics/_classification.py:1248: UndefinedMetricWarning: Precision and F-score are ill-defined and being set to 0.0 in labels with no predicted samples. Use `zero_division` parameter to control this behavior.\n",
      "  _warn_prf(average, modifier, msg_start, len(result))\n"
     ]
    }
   ],
   "source": [
    "### score für unsere trainingsdaten\n",
    "\n",
    "score_print(y_train,lr.predict(X_train))"
   ]
  },
  {
   "cell_type": "code",
   "execution_count": 28,
   "id": "e171b644",
   "metadata": {},
   "outputs": [
    {
     "output_type": "stream",
     "name": "stdout",
     "text": [
      "[[    0 14446]\n",
      " [    0 14445]]\n",
      "              precision    recall  f1-score   support\n",
      "\n",
      "           0       0.00      0.00      0.00     14446\n",
      "           1       0.50      1.00      0.67     14445\n",
      "\n",
      "    accuracy                           0.50     28891\n",
      "   macro avg       0.25      0.50      0.33     28891\n",
      "weighted avg       0.25      0.50      0.33     28891\n",
      "\n",
      "/Users/kli/neuefische/13_Decision_trees/ds-ensemble-methods/.venv/lib/python3.8/site-packages/sklearn/metrics/_classification.py:1248: UndefinedMetricWarning: Precision and F-score are ill-defined and being set to 0.0 in labels with no predicted samples. Use `zero_division` parameter to control this behavior.\n",
      "  _warn_prf(average, modifier, msg_start, len(result))\n",
      "/Users/kli/neuefische/13_Decision_trees/ds-ensemble-methods/.venv/lib/python3.8/site-packages/sklearn/metrics/_classification.py:1248: UndefinedMetricWarning: Precision and F-score are ill-defined and being set to 0.0 in labels with no predicted samples. Use `zero_division` parameter to control this behavior.\n",
      "  _warn_prf(average, modifier, msg_start, len(result))\n",
      "/Users/kli/neuefische/13_Decision_trees/ds-ensemble-methods/.venv/lib/python3.8/site-packages/sklearn/metrics/_classification.py:1248: UndefinedMetricWarning: Precision and F-score are ill-defined and being set to 0.0 in labels with no predicted samples. Use `zero_division` parameter to control this behavior.\n",
      "  _warn_prf(average, modifier, msg_start, len(result))\n"
     ]
    }
   ],
   "source": [
    "#####evu\n",
    "\n",
    "score_print(y_test,y_pred)"
   ]
  },
  {
   "cell_type": "code",
   "execution_count": 29,
   "id": "c98e157a",
   "metadata": {},
   "outputs": [
    {
     "output_type": "stream",
     "name": "stdout",
     "text": [
      "[[12166  2280]\n [ 3028 11417]]\n              precision    recall  f1-score   support\n\n           0       0.80      0.84      0.82     14446\n           1       0.83      0.79      0.81     14445\n\n    accuracy                           0.82     28891\n   macro avg       0.82      0.82      0.82     28891\nweighted avg       0.82      0.82      0.82     28891\n\n"
     ]
    }
   ],
   "source": [
    "######## DecisionTree\n",
    "dtc = DecisionTreeClassifier(max_depth=10, min_samples_split=5, random_state=70)\n",
    "dtc.fit(X_train,y_train)\n",
    "y_pred_dtc=dtc.predict(X_test)\n",
    "score_print(y_test,y_pred_dtc)"
   ]
  },
  {
   "cell_type": "code",
   "execution_count": 30,
   "id": "c4592ac9",
   "metadata": {},
   "outputs": [
    {
     "output_type": "stream",
     "name": "stdout",
     "text": [
      "[[18711  2956]\n [ 4042 17626]]\n              precision    recall  f1-score   support\n\n           0       0.82      0.86      0.84     21667\n           1       0.86      0.81      0.83     21668\n\n    accuracy                           0.84     43335\n   macro avg       0.84      0.84      0.84     43335\nweighted avg       0.84      0.84      0.84     43335\n\n"
     ]
    }
   ],
   "source": [
    "### score auf unsere trainingdaten\n",
    "\n",
    "\n",
    "score_print(y_train,dtc.predict(X_train))"
   ]
  },
  {
   "cell_type": "code",
   "execution_count": 31,
   "id": "0d5ac6e2",
   "metadata": {},
   "outputs": [
    {
     "output_type": "execute_result",
     "data": {
      "text/plain": [
       "(43335, 40)"
      ]
     },
     "metadata": {},
     "execution_count": 31
    }
   ],
   "source": [
    "X_train.shape"
   ]
  },
  {
   "cell_type": "code",
   "execution_count": 32,
   "id": "2423c8a5",
   "metadata": {},
   "outputs": [
    {
     "output_type": "execute_result",
     "data": {
      "text/plain": [
       "(43335,)"
      ]
     },
     "metadata": {},
     "execution_count": 32
    }
   ],
   "source": [
    "y_train.shape"
   ]
  },
  {
   "cell_type": "code",
   "execution_count": 33,
   "id": "3d5c4ccd",
   "metadata": {},
   "outputs": [],
   "source": [
    "####LinearSVC"
   ]
  },
  {
   "cell_type": "code",
   "execution_count": 34,
   "id": "9cba9b53",
   "metadata": {},
   "outputs": [
    {
     "output_type": "stream",
     "name": "stdout",
     "text": [
      "[[12166  2280]\n",
      " [ 3028 11417]]\n",
      "              precision    recall  f1-score   support\n",
      "\n",
      "           0       0.80      0.84      0.82     14446\n",
      "           1       0.83      0.79      0.81     14445\n",
      "\n",
      "    accuracy                           0.82     28891\n",
      "   macro avg       0.82      0.82      0.82     28891\n",
      "weighted avg       0.82      0.82      0.82     28891\n",
      "\n",
      "/Users/kli/neuefische/13_Decision_trees/ds-ensemble-methods/.venv/lib/python3.8/site-packages/sklearn/svm/_base.py:985: ConvergenceWarning: Liblinear failed to converge, increase the number of iterations.\n",
      "  warnings.warn(\"Liblinear failed to converge, increase \"\n"
     ]
    }
   ],
   "source": [
    "svc= LinearSVC(random_state=70)\n",
    "svc.fit(X_train,y_train)\n",
    "y_pred_svc=dtc.predict(X_test)\n",
    "score_print(y_test,y_pred_svc)"
   ]
  },
  {
   "cell_type": "code",
   "execution_count": 35,
   "id": "b6495bc6",
   "metadata": {},
   "outputs": [
    {
     "output_type": "stream",
     "name": "stdout",
     "text": [
      "[[    0 21667]\n",
      " [    0 21668]]\n",
      "              precision    recall  f1-score   support\n",
      "\n",
      "           0       0.00      0.00      0.00     21667\n",
      "           1       0.50      1.00      0.67     21668\n",
      "\n",
      "    accuracy                           0.50     43335\n",
      "   macro avg       0.25      0.50      0.33     43335\n",
      "weighted avg       0.25      0.50      0.33     43335\n",
      "\n",
      "/Users/kli/neuefische/13_Decision_trees/ds-ensemble-methods/.venv/lib/python3.8/site-packages/sklearn/metrics/_classification.py:1248: UndefinedMetricWarning: Precision and F-score are ill-defined and being set to 0.0 in labels with no predicted samples. Use `zero_division` parameter to control this behavior.\n",
      "  _warn_prf(average, modifier, msg_start, len(result))\n",
      "/Users/kli/neuefische/13_Decision_trees/ds-ensemble-methods/.venv/lib/python3.8/site-packages/sklearn/metrics/_classification.py:1248: UndefinedMetricWarning: Precision and F-score are ill-defined and being set to 0.0 in labels with no predicted samples. Use `zero_division` parameter to control this behavior.\n",
      "  _warn_prf(average, modifier, msg_start, len(result))\n",
      "/Users/kli/neuefische/13_Decision_trees/ds-ensemble-methods/.venv/lib/python3.8/site-packages/sklearn/metrics/_classification.py:1248: UndefinedMetricWarning: Precision and F-score are ill-defined and being set to 0.0 in labels with no predicted samples. Use `zero_division` parameter to control this behavior.\n",
      "  _warn_prf(average, modifier, msg_start, len(result))\n"
     ]
    }
   ],
   "source": [
    "########## score auf unsere trainingdaten\n",
    "\n",
    "\n",
    "score_print(y_train,svc.predict(X_train))"
   ]
  },
  {
   "cell_type": "code",
   "execution_count": 36,
   "id": "0b0805c6",
   "metadata": {},
   "outputs": [],
   "source": [
    "#######   KNeighborsClassifier"
   ]
  },
  {
   "cell_type": "code",
   "execution_count": 37,
   "id": "07d2914a",
   "metadata": {},
   "outputs": [
    {
     "output_type": "stream",
     "name": "stdout",
     "text": [
      "[[13290  1156]\n [ 2562 11883]]\n              precision    recall  f1-score   support\n\n           0       0.84      0.92      0.88     14446\n           1       0.91      0.82      0.86     14445\n\n    accuracy                           0.87     28891\n   macro avg       0.87      0.87      0.87     28891\nweighted avg       0.87      0.87      0.87     28891\n\n"
     ]
    }
   ],
   "source": [
    "knn=KNeighborsClassifier(n_neighbors=5)\n",
    "\n",
    "knn.fit(X_train,y_train)\n",
    "y_pred_knn=knn.predict(X_test)\n",
    "score_print(y_test,y_pred_knn)"
   ]
  },
  {
   "cell_type": "code",
   "execution_count": 38,
   "id": "fdac6d9a",
   "metadata": {},
   "outputs": [
    {
     "output_type": "stream",
     "name": "stdout",
     "text": [
      "[[20722   945]\n [ 3140 18528]]\n              precision    recall  f1-score   support\n\n           0       0.87      0.96      0.91     21667\n           1       0.95      0.86      0.90     21668\n\n    accuracy                           0.91     43335\n   macro avg       0.91      0.91      0.91     43335\nweighted avg       0.91      0.91      0.91     43335\n\n"
     ]
    }
   ],
   "source": [
    "########## score auf unsere trainingdaten\n",
    "\n",
    "\n",
    "score_print(y_train,knn.predict(X_train))"
   ]
  },
  {
   "cell_type": "code",
   "execution_count": 39,
   "id": "3f0514a7",
   "metadata": {},
   "outputs": [],
   "source": [
    "###### svm\n",
    "\n",
    "clf = svm.SVC(kernel='rbf')\n",
    "#clf.fit(X_train,y_train)\n",
    "#y_pred_clf=clf.predict(X_test)\n",
    "#score_print(y_test,y_pred_clf)"
   ]
  },
  {
   "cell_type": "code",
   "execution_count": 40,
   "id": "94fa728c",
   "metadata": {},
   "outputs": [],
   "source": [
    "########## score auf unsere trainingdaten\n",
    "\n",
    "\n",
    "#score_print(y_train,clf.predict(X_train))"
   ]
  },
  {
   "cell_type": "code",
   "execution_count": 41,
   "id": "b70e75df",
   "metadata": {},
   "outputs": [
    {
     "output_type": "stream",
     "name": "stdout",
     "text": [
      "[[11764  2682]\n [ 2951 11494]]\n              precision    recall  f1-score   support\n\n           0       0.80      0.81      0.81     14446\n           1       0.81      0.80      0.80     14445\n\n    accuracy                           0.81     28891\n   macro avg       0.81      0.81      0.81     28891\nweighted avg       0.81      0.81      0.81     28891\n\n"
     ]
    }
   ],
   "source": [
    "##### RandomForestClassifier\n",
    "\n",
    "rfc= RandomForestClassifier(max_depth=5,min_samples_split=20)\n",
    "rfc.fit(X_train,y_train)\n",
    "y_pred_rfc=rfc.predict(X_test)\n",
    "score_print(y_test,y_pred_rfc)"
   ]
  },
  {
   "cell_type": "code",
   "execution_count": 42,
   "id": "fb71d4e6",
   "metadata": {},
   "outputs": [
    {
     "output_type": "stream",
     "name": "stdout",
     "text": [
      "[[17709  3958]\n [ 4320 17348]]\n              precision    recall  f1-score   support\n\n           0       0.80      0.82      0.81     21667\n           1       0.81      0.80      0.81     21668\n\n    accuracy                           0.81     43335\n   macro avg       0.81      0.81      0.81     43335\nweighted avg       0.81      0.81      0.81     43335\n\n"
     ]
    }
   ],
   "source": [
    "########## score auf unsere trainingdaten\n",
    "\n",
    "\n",
    "score_print(y_train,rfc.predict(X_train))"
   ]
  },
  {
   "cell_type": "code",
   "execution_count": 43,
   "id": "847d1a31",
   "metadata": {},
   "outputs": [
    {
     "output_type": "stream",
     "name": "stdout",
     "text": [
      "Stored 'X_train' (DataFrame)\nStored 'X_test' (DataFrame)\nStored 'y_test' (Series)\nStored 'y_train' (Series)\nWarning:score_print is <function score_print at 0x12b220f70>\nProper storage of interactively declared classes (or instances\nof those classes) is not possible! Only instances\nof classes in real modules on file system can be %store'd.\n\n"
     ]
    }
   ],
   "source": [
    "%store X_train X_test y_test y_train score_print"
   ]
  },
  {
   "cell_type": "code",
   "execution_count": null,
   "id": "f2eeafe3",
   "metadata": {},
   "outputs": [],
   "source": []
  },
  {
   "cell_type": "code",
   "execution_count": null,
   "metadata": {},
   "outputs": [],
   "source": []
  },
  {
   "cell_type": "code",
   "execution_count": null,
   "metadata": {},
   "outputs": [],
   "source": []
  },
  {
   "cell_type": "code",
   "execution_count": null,
   "metadata": {},
   "outputs": [],
   "source": []
  }
 ],
 "metadata": {
  "kernelspec": {
   "name": "python3",
   "display_name": "Python 3.8.5 64-bit"
  },
  "language_info": {
   "codemirror_mode": {
    "name": "ipython",
    "version": 3
   },
   "file_extension": ".py",
   "mimetype": "text/x-python",
   "name": "python",
   "nbconvert_exporter": "python",
   "pygments_lexer": "ipython3",
   "version": "3.8.5"
  },
  "interpreter": {
   "hash": "1e14aed01f57e2f30c4ad33bfe147e3add576437b8baa5fa8c8b958544bcab44"
  }
 },
 "nbformat": 4,
 "nbformat_minor": 5
}