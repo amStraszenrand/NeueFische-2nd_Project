{
 "metadata": {
  "language_info": {
   "codemirror_mode": {
    "name": "ipython",
    "version": 3
   },
   "file_extension": ".py",
   "mimetype": "text/x-python",
   "name": "python",
   "nbconvert_exporter": "python",
   "pygments_lexer": "ipython3",
   "version": "3.8.5"
  },
  "orig_nbformat": 4,
  "kernelspec": {
   "name": "python3",
   "display_name": "Python 3.8.5 64-bit ('.venv': venv)"
  },
  "interpreter": {
   "hash": "f65652939e43b240251679cd6b44d012c40ee3e672c80ac5c3588dc23d5ebd80"
  }
 },
 "nbformat": 4,
 "nbformat_minor": 2,
 "cells": [
  {
   "cell_type": "code",
   "execution_count": 39,
   "metadata": {},
   "outputs": [],
   "source": [
    "%store -r df y_target"
   ]
  },
  {
   "cell_type": "code",
   "execution_count": 40,
   "metadata": {},
   "outputs": [],
   "source": [
    "import pandas as pd\n",
    "import numpy as np\n",
    "import matplotlib.pyplot as plt\n",
    "import seaborn as sns\n",
    "import plotly.express as plx\n",
    "\n",
    "from sklearn.model_selection import train_test_split\n"
   ]
  },
  {
   "cell_type": "code",
   "execution_count": null,
   "metadata": {},
   "outputs": [],
   "source": []
  },
  {
   "cell_type": "code",
   "execution_count": 41,
   "metadata": {},
   "outputs": [],
   "source": [
    "# Define X as one hot encoding\n",
    "\n",
    "X = pd.get_dummies(df, drop_first=True)"
   ]
  },
  {
   "cell_type": "code",
   "execution_count": 42,
   "metadata": {},
   "outputs": [],
   "source": [
    "# Prepare y to be good predictable\n",
    "\n",
    "y_values = y_target[\"loan_status\"].value_counts()\n",
    "y_fully_paid, fully_paid_val, fully_paid_str = list(y_values.index[[0,2,3,6,7]]), 0, \"Fully Paid\"\n",
    "#y_delay, delay_val = list(y_values.index[[5,6,7]]), \"charged_off\"\n",
    "y_charged_off, charged_off_val, charged_off_str = list(y_values.index[[1,4,5,8]]), 1, \"Charged Off\"\n",
    "\n",
    "y_target[\"loan_status_int\"] = y_target[\"loan_status\"]\n",
    "y_target[\"loan_status_int\"] = y_target[\"loan_status_int\"].apply(lambda x : fully_paid_val if x in y_fully_paid else x)\n",
    "#y_target[\"loan_status_int\"] = y_target[\"loan_status_int\"].apply(lambda x : delay_val if x in y_delay else x)\n",
    "y_target[\"loan_status_int\"] = y_target[\"loan_status_int\"].apply(lambda x : charged_off_val if x in y_charged_off else x)\n",
    "y_target[\"loan_status_str\"] = y_target[\"loan_status_int\"].apply(lambda x : fully_paid_str if x == fully_paid_val else charged_off_str)\n",
    "\n",
    "y_values = y_target[\"grade\"].value_counts()\n",
    "\n",
    "y_grade_AB, grade_AB_val = list(y_values.index[[0,1]]), 0\n",
    "y_grade_CDEFG, grade_CDEFG_val = list(y_values.index[[2,3,4,5,6]]), 1\n",
    "\n",
    "y_target[\"grade_int\"] = y_target[\"grade\"]\n",
    "y_target[\"grade_int\"] = y_target[\"grade_int\"].apply(lambda x : grade_AB_val if x in y_grade_AB else x)\n",
    "y_target[\"grade_int\"] = y_target[\"grade_int\"].apply(lambda x : grade_CDEFG_val if x in y_grade_CDEFG else x)\n",
    "\n",
    "y_int_10, int_10_val = [5,6,7,8,9,10], 10\n",
    "y_int_15, int_15_val = [11,12,13,14,15], 15\n",
    "y_int_20, int_20_val = [16,17,18,19,20], 20\n",
    "y_int_25, int_25_val = [21,22,23,24,25], 25\n",
    "\n",
    "\n",
    "y_target[\"int_rate_int\"] = df[\"int_rate\"].astype(\"int\")\n",
    "y_target[\"int_rate_int\"] = y_target[\"int_rate_int\"].apply(lambda x : int_10_val if x in y_int_10 else x)\n",
    "y_target[\"int_rate_int\"] = y_target[\"int_rate_int\"].apply(lambda x : int_15_val if x in y_int_15 else x)\n",
    "y_target[\"int_rate_int\"] = y_target[\"int_rate_int\"].apply(lambda x : int_20_val if x in y_int_20 else x)\n",
    "y_target[\"int_rate_int\"] = y_target[\"int_rate_int\"].apply(lambda x : int_25_val if x in y_int_25 else x)"
   ]
  },
  {
   "cell_type": "code",
   "execution_count": 14,
   "metadata": {},
   "outputs": [
    {
     "output_type": "execute_result",
     "data": {
      "text/plain": [
       "0        0\n",
       "1        1\n",
       "2        0\n",
       "3        0\n",
       "4        0\n",
       "        ..\n",
       "42531    0\n",
       "42532    0\n",
       "42533    0\n",
       "42534    0\n",
       "42535    0\n",
       "Name: loan_status_int, Length: 42535, dtype: int64"
      ]
     },
     "metadata": {},
     "execution_count": 14
    }
   ],
   "source": []
  },
  {
   "cell_type": "code",
   "execution_count": 43,
   "metadata": {},
   "outputs": [
    {
     "output_type": "stream",
     "name": "stdout",
     "text": [
      "Training set has 31901 samples.\nTesting set has 10634 samples.\n\nTraining set has values:\n 0B    8153\n0A    7180\n0C    5428\n0D    3518\n0E    1886\n1B    1138\n1C    1126\n1D     994\n0F     665\n1E     659\n1A     458\n1F     311\n0G     254\n1G     131\ndtype: int64\nTesting set has values:\n 0B    2718\n0A    2393\n0C    1810\n0D    1173\n0E     629\n1B     380\n1C     376\n1D     331\n0F     222\n1E     220\n1A     152\n1F     103\n0G      84\n1G      43\ndtype: int64\n"
     ]
    }
   ],
   "source": [
    "#Split into train and test\n",
    "\n",
    "y_stratify = y_target[\"loan_status_int\"].astype(str) + y_target[\"grade\"]\n",
    "\n",
    "X_train, X_test, y_stratify_train, y_stratify_test = train_test_split(X, y_stratify, test_size = 0.25, random_state = 70, stratify= y_stratify)\n",
    "\n",
    "# Show the results of the split\n",
    "print (\"Training set has {} samples.\".format(X_train.shape[0]))\n",
    "print (\"Testing set has {} samples.\".format(X_test.shape[0]))\n",
    "print()\n",
    "print (f\"Training set has values:\\n {format(y_stratify_train.value_counts())}\")\n",
    "print (f\"Testing set has values:\\n {format(y_stratify_test.value_counts())}\")"
   ]
  },
  {
   "cell_type": "code",
   "execution_count": 44,
   "metadata": {},
   "outputs": [
    {
     "output_type": "execute_result",
     "data": {
      "text/plain": [
       "0        0B\n",
       "1        1C\n",
       "2        0C\n",
       "3        0C\n",
       "4        0B\n",
       "         ..\n",
       "42531    0C\n",
       "42532    0B\n",
       "42533    0B\n",
       "42534    0A\n",
       "42535    0A\n",
       "Length: 42535, dtype: object"
      ]
     },
     "metadata": {},
     "execution_count": 44
    }
   ],
   "source": [
    "y_stratify"
   ]
  },
  {
   "cell_type": "code",
   "execution_count": 45,
   "metadata": {},
   "outputs": [
    {
     "output_type": "stream",
     "name": "stderr",
     "text": [
      "/Users/kli/neuefische/14_Second_Project/NeueFische-2nd_Project/.venv/lib/python3.8/site-packages/pandas/core/series.py:4463: SettingWithCopyWarning: \nA value is trying to be set on a copy of a slice from a DataFrame\n\nSee the caveats in the documentation: https://pandas.pydata.org/pandas-docs/stable/user_guide/indexing.html#returning-a-view-versus-a-copy\n  return super().fillna(\n/Users/kli/neuefische/14_Second_Project/NeueFische-2nd_Project/.venv/lib/python3.8/site-packages/pandas/core/series.py:4463: SettingWithCopyWarning: \nA value is trying to be set on a copy of a slice from a DataFrame\n\nSee the caveats in the documentation: https://pandas.pydata.org/pandas-docs/stable/user_guide/indexing.html#returning-a-view-versus-a-copy\n  return super().fillna(\n/Users/kli/neuefische/14_Second_Project/NeueFische-2nd_Project/.venv/lib/python3.8/site-packages/pandas/core/series.py:4463: SettingWithCopyWarning: \nA value is trying to be set on a copy of a slice from a DataFrame\n\nSee the caveats in the documentation: https://pandas.pydata.org/pandas-docs/stable/user_guide/indexing.html#returning-a-view-versus-a-copy\n  return super().fillna(\n/Users/kli/neuefische/14_Second_Project/NeueFische-2nd_Project/.venv/lib/python3.8/site-packages/pandas/core/series.py:4463: SettingWithCopyWarning: \nA value is trying to be set on a copy of a slice from a DataFrame\n\nSee the caveats in the documentation: https://pandas.pydata.org/pandas-docs/stable/user_guide/indexing.html#returning-a-view-versus-a-copy\n  return super().fillna(\n"
     ]
    }
   ],
   "source": [
    "# hier werden fehlende daten durch wahrscheinliche daten ersetzt (mean,median,blaa)\n",
    "# Attention: X_train und X_test sepparat behandeln\n",
    "\n",
    "X_train[\"open_acc\"].fillna(X_train[\"open_acc\"].median(),inplace=True)\n",
    "X_train[\"annual_inc\"].fillna(X_train[\"annual_inc\"].median().round(2),inplace=True)\n",
    "\n",
    "X_test[\"open_acc\"].fillna(X_test[\"open_acc\"].median(),inplace=True)\n",
    "X_test[\"annual_inc\"].fillna(X_test[\"annual_inc\"].median().round(2),inplace=True)\n"
   ]
  },
  {
   "cell_type": "code",
   "execution_count": 46,
   "metadata": {},
   "outputs": [
    {
     "output_type": "stream",
     "name": "stderr",
     "text": [
      "/Users/kli/neuefische/14_Second_Project/NeueFische-2nd_Project/.venv/lib/python3.8/site-packages/pandas/core/indexing.py:1738: SettingWithCopyWarning: \nA value is trying to be set on a copy of a slice from a DataFrame.\nTry using .loc[row_indexer,col_indexer] = value instead\n\nSee the caveats in the documentation: https://pandas.pydata.org/pandas-docs/stable/user_guide/indexing.html#returning-a-view-versus-a-copy\n  self._setitem_single_column(loc, value[:, i].tolist(), pi)\n/Users/kli/neuefische/14_Second_Project/NeueFische-2nd_Project/.venv/lib/python3.8/site-packages/pandas/core/indexing.py:1738: SettingWithCopyWarning: \nA value is trying to be set on a copy of a slice from a DataFrame.\nTry using .loc[row_indexer,col_indexer] = value instead\n\nSee the caveats in the documentation: https://pandas.pydata.org/pandas-docs/stable/user_guide/indexing.html#returning-a-view-versus-a-copy\n  self._setitem_single_column(loc, value[:, i].tolist(), pi)\n"
     ]
    }
   ],
   "source": [
    "#### skalieren\n",
    "from sklearn.preprocessing import MinMaxScaler\n",
    "\n",
    "# Initialize a scaler, then apply it to the features\n",
    "scaler = MinMaxScaler()\n",
    "\n",
    "numerical = [col for col in X if X.dtypes[col] == \"float64\"]\n",
    "X_train.loc[:,numerical] = scaler.fit_transform(X_train[numerical])\n",
    "X_test.loc[:,numerical] = scaler.transform(X_test[numerical])"
   ]
  },
  {
   "cell_type": "code",
   "execution_count": 47,
   "metadata": {},
   "outputs": [],
   "source": [
    "# Handle imbalanced classes\n",
    "from imblearn.over_sampling import SMOTE\n",
    "\n",
    "smote = SMOTE()\n",
    "\n",
    "# fit predictor and target variable\n",
    "X_train, y_stratify_train = smote.fit_resample(X_train, y_stratify_train)\n"
   ]
  },
  {
   "cell_type": "code",
   "execution_count": 48,
   "metadata": {},
   "outputs": [],
   "source": [
    "y_loan_status_train = y_stratify_train.apply(lambda x: int(x[0]))\n",
    "y_grade_train = y_stratify_train.apply(lambda x: x[1])\n",
    "\n",
    "y_loan_status_test = y_stratify_test.apply(lambda x: int(x[0]))\n",
    "y_grade_test = y_stratify_test.apply(lambda x: x[1])\n",
    "\n",
    "y_loan_status_str_train = y_loan_status_train.apply(lambda x : fully_paid_str if x == fully_paid_val else charged_off_str)\n",
    "y_loan_status_str_test = y_loan_status_test.apply(lambda x : fully_paid_str if x == fully_paid_val else charged_off_str)"
   ]
  },
  {
   "cell_type": "code",
   "execution_count": 49,
   "metadata": {},
   "outputs": [
    {
     "output_type": "stream",
     "name": "stdout",
     "text": [
      "Stored 'X_train' (DataFrame)\nStored 'X_test' (DataFrame)\nStored 'y_loan_status_train' (Series)\nStored 'y_loan_status_test' (Series)\nStored 'y_loan_status_str_train' (Series)\nStored 'y_loan_status_str_test' (Series)\nStored 'y_grade_train' (Series)\nStored 'y_grade_test' (Series)\n"
     ]
    }
   ],
   "source": [
    "%store X_train X_test y_loan_status_train y_loan_status_test y_loan_status_str_train y_loan_status_str_test y_grade_train y_grade_test\n"
   ]
  }
 ]
}